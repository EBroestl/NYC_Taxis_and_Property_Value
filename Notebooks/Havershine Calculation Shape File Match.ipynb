{
 "cells": [
  {
   "cell_type": "code",
   "execution_count": 1,
   "id": "a36475ce",
   "metadata": {
    "scrolled": true
   },
   "outputs": [],
   "source": [
    "from shapely.geometry import Point\n",
    "import numpy as np\n",
    "import pandas as pd\n",
    "import geopandas as gpd\n",
    "import matplotlib.pyplot as plt\n",
    "import folium\n",
    "from folium.plugins import MarkerCluster\n",
    "from folium.plugins import FastMarkerCluster\n",
    "import xlrd\n",
    "import time\n",
    "from IPython.display import Audio\n",
    "import dask.dataframe as dd\n",
    "import fastparquet\n",
    "from shapely.ops import nearest_points"
   ]
  },
  {
   "cell_type": "code",
   "execution_count": 59,
   "id": "faf298e0",
   "metadata": {},
   "outputs": [],
   "source": [
    "#finish indicator\n",
    "wow = '../../Data/Wow.mp3'\n",
    "finished=Audio(url = wow, autoplay = True) \n",
    "\n",
    "#finish indicator\n",
    "wow = '../../Data/Hugo Good Job.mp3'\n",
    "complete=Audio(url = wow, autoplay = True) "
   ]
  },
  {
   "cell_type": "code",
   "execution_count": 3,
   "id": "7d314f13",
   "metadata": {},
   "outputs": [
    {
     "data": {
      "text/html": [
       "\n",
       "                <audio  controls=\"controls\" autoplay=\"autoplay\">\n",
       "                    <source src=\"../../Data/Hugo Good Job.mp3\" type=\"audio/mpeg\" />\n",
       "                    Your browser does not support the audio element.\n",
       "                </audio>\n",
       "              "
      ],
      "text/plain": [
       "<IPython.lib.display.Audio object>"
      ]
     },
     "execution_count": 3,
     "metadata": {},
     "output_type": "execute_result"
    }
   ],
   "source": [
    "taxi_zone = gpd.read_file('../../Data/Taxi Zones Shape/taxi_zones.shp')#.to_crs('epsg:4326')\n",
    "taxi_zone = taxi_zone.drop(['Shape_Area', 'Shape_Leng', 'OBJECTID'], axis=1)\n",
    "\n",
    "\n",
    "complete"
   ]
  },
  {
   "cell_type": "markdown",
   "id": "f2d3ad9c",
   "metadata": {
    "scrolled": true
   },
   "source": [
    "zip_code = gpd.read_file('../../Data/ZIP CODES SHAPE/ZIP_CODE_040114.shp')#.to_crs('epsg:4326')\n",
    "gpd.sjoin(gpd.GeoDataFrame(crs='epsg:4326',\n",
    "    geometry=[Point(-73.966, 40.78)]), \n",
    "    zip_code, how='left', op='within')\n",
    "\n",
    "complete"
   ]
  },
  {
   "cell_type": "code",
   "execution_count": 4,
   "id": "b40194d6",
   "metadata": {},
   "outputs": [
    {
     "data": {
      "text/html": [
       "\n",
       "                <audio  controls=\"controls\" autoplay=\"autoplay\">\n",
       "                    <source src=\"../../Data/Hugo Good Job.mp3\" type=\"audio/mpeg\" />\n",
       "                    Your browser does not support the audio element.\n",
       "                </audio>\n",
       "              "
      ],
      "text/plain": [
       "<IPython.lib.display.Audio object>"
      ]
     },
     "execution_count": 4,
     "metadata": {},
     "output_type": "execute_result"
    }
   ],
   "source": [
    "zip_code = gpd.read_file('../../Data/ZIP CODES SHAPE/ZIP_CODE_040114.shp')#.to_crs('epsg:4326')\n",
    "\n",
    "complete"
   ]
  },
  {
   "cell_type": "code",
   "execution_count": 5,
   "id": "37a7748e",
   "metadata": {
    "scrolled": true
   },
   "outputs": [
    {
     "data": {
      "text/html": [
       "<div>\n",
       "<style scoped>\n",
       "    .dataframe tbody tr th:only-of-type {\n",
       "        vertical-align: middle;\n",
       "    }\n",
       "\n",
       "    .dataframe tbody tr th {\n",
       "        vertical-align: top;\n",
       "    }\n",
       "\n",
       "    .dataframe thead th {\n",
       "        text-align: right;\n",
       "    }\n",
       "</style>\n",
       "<table border=\"1\" class=\"dataframe\">\n",
       "  <thead>\n",
       "    <tr style=\"text-align: right;\">\n",
       "      <th></th>\n",
       "      <th>ZIPCODE</th>\n",
       "      <th>BLDGZIP</th>\n",
       "      <th>PO_NAME</th>\n",
       "      <th>POPULATION</th>\n",
       "      <th>AREA</th>\n",
       "      <th>STATE</th>\n",
       "      <th>COUNTY</th>\n",
       "      <th>ST_FIPS</th>\n",
       "      <th>CTY_FIPS</th>\n",
       "      <th>URL</th>\n",
       "      <th>SHAPE_AREA</th>\n",
       "      <th>SHAPE_LEN</th>\n",
       "      <th>geometry</th>\n",
       "    </tr>\n",
       "  </thead>\n",
       "  <tbody>\n",
       "    <tr>\n",
       "      <th>0</th>\n",
       "      <td>11436</td>\n",
       "      <td>0</td>\n",
       "      <td>Jamaica</td>\n",
       "      <td>18681.0</td>\n",
       "      <td>2.269930e+07</td>\n",
       "      <td>NY</td>\n",
       "      <td>Queens</td>\n",
       "      <td>36</td>\n",
       "      <td>081</td>\n",
       "      <td>http://www.usps.com/</td>\n",
       "      <td>0.0</td>\n",
       "      <td>0.0</td>\n",
       "      <td>POLYGON ((1038098.252 188138.380, 1038141.936 ...</td>\n",
       "    </tr>\n",
       "    <tr>\n",
       "      <th>1</th>\n",
       "      <td>11213</td>\n",
       "      <td>0</td>\n",
       "      <td>Brooklyn</td>\n",
       "      <td>62426.0</td>\n",
       "      <td>2.963100e+07</td>\n",
       "      <td>NY</td>\n",
       "      <td>Kings</td>\n",
       "      <td>36</td>\n",
       "      <td>047</td>\n",
       "      <td>http://www.usps.com/</td>\n",
       "      <td>0.0</td>\n",
       "      <td>0.0</td>\n",
       "      <td>POLYGON ((1001613.713 186926.440, 1002314.243 ...</td>\n",
       "    </tr>\n",
       "    <tr>\n",
       "      <th>2</th>\n",
       "      <td>11212</td>\n",
       "      <td>0</td>\n",
       "      <td>Brooklyn</td>\n",
       "      <td>83866.0</td>\n",
       "      <td>4.197210e+07</td>\n",
       "      <td>NY</td>\n",
       "      <td>Kings</td>\n",
       "      <td>36</td>\n",
       "      <td>047</td>\n",
       "      <td>http://www.usps.com/</td>\n",
       "      <td>0.0</td>\n",
       "      <td>0.0</td>\n",
       "      <td>POLYGON ((1011174.276 183696.338, 1011373.584 ...</td>\n",
       "    </tr>\n",
       "    <tr>\n",
       "      <th>3</th>\n",
       "      <td>11225</td>\n",
       "      <td>0</td>\n",
       "      <td>Brooklyn</td>\n",
       "      <td>56527.0</td>\n",
       "      <td>2.369863e+07</td>\n",
       "      <td>NY</td>\n",
       "      <td>Kings</td>\n",
       "      <td>36</td>\n",
       "      <td>047</td>\n",
       "      <td>http://www.usps.com/</td>\n",
       "      <td>0.0</td>\n",
       "      <td>0.0</td>\n",
       "      <td>POLYGON ((995908.365 183617.613, 996522.848 18...</td>\n",
       "    </tr>\n",
       "    <tr>\n",
       "      <th>4</th>\n",
       "      <td>11218</td>\n",
       "      <td>0</td>\n",
       "      <td>Brooklyn</td>\n",
       "      <td>72280.0</td>\n",
       "      <td>3.686880e+07</td>\n",
       "      <td>NY</td>\n",
       "      <td>Kings</td>\n",
       "      <td>36</td>\n",
       "      <td>047</td>\n",
       "      <td>http://www.usps.com/</td>\n",
       "      <td>0.0</td>\n",
       "      <td>0.0</td>\n",
       "      <td>POLYGON ((991997.113 176307.496, 992042.798 17...</td>\n",
       "    </tr>\n",
       "    <tr>\n",
       "      <th>...</th>\n",
       "      <td>...</td>\n",
       "      <td>...</td>\n",
       "      <td>...</td>\n",
       "      <td>...</td>\n",
       "      <td>...</td>\n",
       "      <td>...</td>\n",
       "      <td>...</td>\n",
       "      <td>...</td>\n",
       "      <td>...</td>\n",
       "      <td>...</td>\n",
       "      <td>...</td>\n",
       "      <td>...</td>\n",
       "      <td>...</td>\n",
       "    </tr>\n",
       "    <tr>\n",
       "      <th>258</th>\n",
       "      <td>10310</td>\n",
       "      <td>0</td>\n",
       "      <td>Staten Island</td>\n",
       "      <td>25003.0</td>\n",
       "      <td>5.346328e+07</td>\n",
       "      <td>NY</td>\n",
       "      <td>Richmond</td>\n",
       "      <td>36</td>\n",
       "      <td>085</td>\n",
       "      <td>http://www.usps.com/</td>\n",
       "      <td>0.0</td>\n",
       "      <td>0.0</td>\n",
       "      <td>POLYGON ((950767.507 172848.969, 950787.510 17...</td>\n",
       "    </tr>\n",
       "    <tr>\n",
       "      <th>259</th>\n",
       "      <td>11693</td>\n",
       "      <td>0</td>\n",
       "      <td>Far Rockaway</td>\n",
       "      <td>11052.0</td>\n",
       "      <td>3.497516e+06</td>\n",
       "      <td>NY</td>\n",
       "      <td>Kings</td>\n",
       "      <td>36</td>\n",
       "      <td>047</td>\n",
       "      <td>http://www.usps.com/</td>\n",
       "      <td>0.0</td>\n",
       "      <td>0.0</td>\n",
       "      <td>POLYGON ((1028453.995 167153.410, 1027813.010 ...</td>\n",
       "    </tr>\n",
       "    <tr>\n",
       "      <th>260</th>\n",
       "      <td>11249</td>\n",
       "      <td>0</td>\n",
       "      <td>Brooklyn</td>\n",
       "      <td>28481.0</td>\n",
       "      <td>1.777221e+07</td>\n",
       "      <td>NY</td>\n",
       "      <td>Kings</td>\n",
       "      <td>36</td>\n",
       "      <td>047</td>\n",
       "      <td>http://www.usps.com/</td>\n",
       "      <td>0.0</td>\n",
       "      <td>0.0</td>\n",
       "      <td>POLYGON ((995877.318 203206.075, 995968.511 20...</td>\n",
       "    </tr>\n",
       "    <tr>\n",
       "      <th>261</th>\n",
       "      <td>10162</td>\n",
       "      <td>1</td>\n",
       "      <td>New York</td>\n",
       "      <td>0.0</td>\n",
       "      <td>2.103489e+04</td>\n",
       "      <td>NY</td>\n",
       "      <td>New York</td>\n",
       "      <td>36</td>\n",
       "      <td>061</td>\n",
       "      <td>http://www.usps.com/</td>\n",
       "      <td>0.0</td>\n",
       "      <td>0.0</td>\n",
       "      <td>POLYGON ((997731.761 219560.922, 997641.948 21...</td>\n",
       "    </tr>\n",
       "    <tr>\n",
       "      <th>262</th>\n",
       "      <td>10119</td>\n",
       "      <td>1</td>\n",
       "      <td>New York</td>\n",
       "      <td>0.0</td>\n",
       "      <td>1.263930e+05</td>\n",
       "      <td>NY</td>\n",
       "      <td>New York</td>\n",
       "      <td>36</td>\n",
       "      <td>061</td>\n",
       "      <td>http://www.usps.com/</td>\n",
       "      <td>0.0</td>\n",
       "      <td>0.0</td>\n",
       "      <td>POLYGON ((986038.661 213051.063, 986135.314 21...</td>\n",
       "    </tr>\n",
       "  </tbody>\n",
       "</table>\n",
       "<p>263 rows × 13 columns</p>\n",
       "</div>"
      ],
      "text/plain": [
       "    ZIPCODE BLDGZIP        PO_NAME  POPULATION          AREA STATE    COUNTY  \\\n",
       "0     11436       0        Jamaica     18681.0  2.269930e+07    NY    Queens   \n",
       "1     11213       0       Brooklyn     62426.0  2.963100e+07    NY     Kings   \n",
       "2     11212       0       Brooklyn     83866.0  4.197210e+07    NY     Kings   \n",
       "3     11225       0       Brooklyn     56527.0  2.369863e+07    NY     Kings   \n",
       "4     11218       0       Brooklyn     72280.0  3.686880e+07    NY     Kings   \n",
       "..      ...     ...            ...         ...           ...   ...       ...   \n",
       "258   10310       0  Staten Island     25003.0  5.346328e+07    NY  Richmond   \n",
       "259   11693       0   Far Rockaway     11052.0  3.497516e+06    NY     Kings   \n",
       "260   11249       0       Brooklyn     28481.0  1.777221e+07    NY     Kings   \n",
       "261   10162       1       New York         0.0  2.103489e+04    NY  New York   \n",
       "262   10119       1       New York         0.0  1.263930e+05    NY  New York   \n",
       "\n",
       "    ST_FIPS CTY_FIPS                   URL  SHAPE_AREA  SHAPE_LEN  \\\n",
       "0        36      081  http://www.usps.com/         0.0        0.0   \n",
       "1        36      047  http://www.usps.com/         0.0        0.0   \n",
       "2        36      047  http://www.usps.com/         0.0        0.0   \n",
       "3        36      047  http://www.usps.com/         0.0        0.0   \n",
       "4        36      047  http://www.usps.com/         0.0        0.0   \n",
       "..      ...      ...                   ...         ...        ...   \n",
       "258      36      085  http://www.usps.com/         0.0        0.0   \n",
       "259      36      047  http://www.usps.com/         0.0        0.0   \n",
       "260      36      047  http://www.usps.com/         0.0        0.0   \n",
       "261      36      061  http://www.usps.com/         0.0        0.0   \n",
       "262      36      061  http://www.usps.com/         0.0        0.0   \n",
       "\n",
       "                                              geometry  \n",
       "0    POLYGON ((1038098.252 188138.380, 1038141.936 ...  \n",
       "1    POLYGON ((1001613.713 186926.440, 1002314.243 ...  \n",
       "2    POLYGON ((1011174.276 183696.338, 1011373.584 ...  \n",
       "3    POLYGON ((995908.365 183617.613, 996522.848 18...  \n",
       "4    POLYGON ((991997.113 176307.496, 992042.798 17...  \n",
       "..                                                 ...  \n",
       "258  POLYGON ((950767.507 172848.969, 950787.510 17...  \n",
       "259  POLYGON ((1028453.995 167153.410, 1027813.010 ...  \n",
       "260  POLYGON ((995877.318 203206.075, 995968.511 20...  \n",
       "261  POLYGON ((997731.761 219560.922, 997641.948 21...  \n",
       "262  POLYGON ((986038.661 213051.063, 986135.314 21...  \n",
       "\n",
       "[263 rows x 13 columns]"
      ]
     },
     "execution_count": 5,
     "metadata": {},
     "output_type": "execute_result"
    }
   ],
   "source": [
    "zip_code"
   ]
  },
  {
   "cell_type": "code",
   "execution_count": 6,
   "id": "fce7b084",
   "metadata": {},
   "outputs": [],
   "source": [
    "zip_points = zip_code.copy()\n",
    "zip_points['geometry'] = zip_points['geometry'].centroid"
   ]
  },
  {
   "cell_type": "code",
   "execution_count": 7,
   "id": "862524a8",
   "metadata": {
    "scrolled": true
   },
   "outputs": [],
   "source": [
    "taxi_points = taxi_zone.copy()\n",
    "taxi_points['geometry'] = taxi_points['geometry'].centroid"
   ]
  },
  {
   "cell_type": "code",
   "execution_count": 8,
   "id": "63c00b1a",
   "metadata": {
    "scrolled": true
   },
   "outputs": [],
   "source": [
    "taxi_points=taxi_points.to_crs('epsg:4326')\n",
    "zip_points=zip_points.to_crs('epsg:4326')"
   ]
  },
  {
   "cell_type": "code",
   "execution_count": 9,
   "id": "4df9fcc3",
   "metadata": {
    "scrolled": true
   },
   "outputs": [
    {
     "data": {
      "text/html": [
       "<div>\n",
       "<style scoped>\n",
       "    .dataframe tbody tr th:only-of-type {\n",
       "        vertical-align: middle;\n",
       "    }\n",
       "\n",
       "    .dataframe tbody tr th {\n",
       "        vertical-align: top;\n",
       "    }\n",
       "\n",
       "    .dataframe thead th {\n",
       "        text-align: right;\n",
       "    }\n",
       "</style>\n",
       "<table border=\"1\" class=\"dataframe\">\n",
       "  <thead>\n",
       "    <tr style=\"text-align: right;\">\n",
       "      <th></th>\n",
       "      <th>zone</th>\n",
       "      <th>LocationID</th>\n",
       "      <th>borough</th>\n",
       "      <th>geometry</th>\n",
       "    </tr>\n",
       "  </thead>\n",
       "  <tbody>\n",
       "    <tr>\n",
       "      <th>0</th>\n",
       "      <td>Newark Airport</td>\n",
       "      <td>1</td>\n",
       "      <td>EWR</td>\n",
       "      <td>POINT (-74.17400 40.69183)</td>\n",
       "    </tr>\n",
       "    <tr>\n",
       "      <th>1</th>\n",
       "      <td>Jamaica Bay</td>\n",
       "      <td>2</td>\n",
       "      <td>Queens</td>\n",
       "      <td>POINT (-73.83130 40.61675)</td>\n",
       "    </tr>\n",
       "    <tr>\n",
       "      <th>2</th>\n",
       "      <td>Allerton/Pelham Gardens</td>\n",
       "      <td>3</td>\n",
       "      <td>Bronx</td>\n",
       "      <td>POINT (-73.84742 40.86447)</td>\n",
       "    </tr>\n",
       "    <tr>\n",
       "      <th>3</th>\n",
       "      <td>Alphabet City</td>\n",
       "      <td>4</td>\n",
       "      <td>Manhattan</td>\n",
       "      <td>POINT (-73.97697 40.72375)</td>\n",
       "    </tr>\n",
       "    <tr>\n",
       "      <th>4</th>\n",
       "      <td>Arden Heights</td>\n",
       "      <td>5</td>\n",
       "      <td>Staten Island</td>\n",
       "      <td>POINT (-74.18849 40.55266)</td>\n",
       "    </tr>\n",
       "    <tr>\n",
       "      <th>...</th>\n",
       "      <td>...</td>\n",
       "      <td>...</td>\n",
       "      <td>...</td>\n",
       "      <td>...</td>\n",
       "    </tr>\n",
       "    <tr>\n",
       "      <th>258</th>\n",
       "      <td>Woodlawn/Wakefield</td>\n",
       "      <td>259</td>\n",
       "      <td>Bronx</td>\n",
       "      <td>POINT (-73.85222 40.89793)</td>\n",
       "    </tr>\n",
       "    <tr>\n",
       "      <th>259</th>\n",
       "      <td>Woodside</td>\n",
       "      <td>260</td>\n",
       "      <td>Queens</td>\n",
       "      <td>POINT (-73.90631 40.74423)</td>\n",
       "    </tr>\n",
       "    <tr>\n",
       "      <th>260</th>\n",
       "      <td>World Trade Center</td>\n",
       "      <td>261</td>\n",
       "      <td>Manhattan</td>\n",
       "      <td>POINT (-74.01302 40.70914)</td>\n",
       "    </tr>\n",
       "    <tr>\n",
       "      <th>261</th>\n",
       "      <td>Yorkville East</td>\n",
       "      <td>262</td>\n",
       "      <td>Manhattan</td>\n",
       "      <td>POINT (-73.94651 40.77593)</td>\n",
       "    </tr>\n",
       "    <tr>\n",
       "      <th>262</th>\n",
       "      <td>Yorkville West</td>\n",
       "      <td>263</td>\n",
       "      <td>Manhattan</td>\n",
       "      <td>POINT (-73.95101 40.77877)</td>\n",
       "    </tr>\n",
       "  </tbody>\n",
       "</table>\n",
       "<p>263 rows × 4 columns</p>\n",
       "</div>"
      ],
      "text/plain": [
       "                        zone  LocationID        borough  \\\n",
       "0             Newark Airport           1            EWR   \n",
       "1                Jamaica Bay           2         Queens   \n",
       "2    Allerton/Pelham Gardens           3          Bronx   \n",
       "3              Alphabet City           4      Manhattan   \n",
       "4              Arden Heights           5  Staten Island   \n",
       "..                       ...         ...            ...   \n",
       "258       Woodlawn/Wakefield         259          Bronx   \n",
       "259                 Woodside         260         Queens   \n",
       "260       World Trade Center         261      Manhattan   \n",
       "261           Yorkville East         262      Manhattan   \n",
       "262           Yorkville West         263      Manhattan   \n",
       "\n",
       "                       geometry  \n",
       "0    POINT (-74.17400 40.69183)  \n",
       "1    POINT (-73.83130 40.61675)  \n",
       "2    POINT (-73.84742 40.86447)  \n",
       "3    POINT (-73.97697 40.72375)  \n",
       "4    POINT (-74.18849 40.55266)  \n",
       "..                          ...  \n",
       "258  POINT (-73.85222 40.89793)  \n",
       "259  POINT (-73.90631 40.74423)  \n",
       "260  POINT (-74.01302 40.70914)  \n",
       "261  POINT (-73.94651 40.77593)  \n",
       "262  POINT (-73.95101 40.77877)  \n",
       "\n",
       "[263 rows x 4 columns]"
      ]
     },
     "execution_count": 9,
     "metadata": {},
     "output_type": "execute_result"
    }
   ],
   "source": [
    "taxi_points"
   ]
  },
  {
   "cell_type": "code",
   "execution_count": 10,
   "id": "921b5487",
   "metadata": {},
   "outputs": [],
   "source": [
    "taxi_points['lat_lng']=taxi_points['geometry']"
   ]
  },
  {
   "cell_type": "code",
   "execution_count": 11,
   "id": "d9cef37d",
   "metadata": {},
   "outputs": [],
   "source": [
    "zip_points['lat_lng']=zip_points['geometry']"
   ]
  },
  {
   "cell_type": "code",
   "execution_count": 12,
   "id": "a82bb904",
   "metadata": {
    "scrolled": true
   },
   "outputs": [],
   "source": [
    "taxi_points['lat_lng']=taxi_points['lat_lng'].astype(str)"
   ]
  },
  {
   "cell_type": "code",
   "execution_count": 13,
   "id": "54272d22",
   "metadata": {},
   "outputs": [],
   "source": [
    "zip_points['lat_lng']=zip_points['lat_lng'].astype(str)"
   ]
  },
  {
   "cell_type": "code",
   "execution_count": 14,
   "id": "256d844c",
   "metadata": {
    "scrolled": true
   },
   "outputs": [],
   "source": [
    "taxi_points_split=taxi_points['lat_lng'].str.strip('POINT(') \\\n",
    "                      .str.strip('(') \\\n",
    "                      .str.strip(')') \\\n",
    "                      .str.split(' ', expand=True)                   \\\n",
    "                     .rename(columns={1:'lat', 2:'lon'}) "
   ]
  },
  {
   "cell_type": "code",
   "execution_count": 15,
   "id": "89565634",
   "metadata": {},
   "outputs": [],
   "source": [
    "zip_points_split=zip_points['lat_lng'].str.strip('POINT(') \\\n",
    "                      .str.strip('(') \\\n",
    "                      .str.strip(')') \\\n",
    "                      .str.split(' ', expand=True)                   \\\n",
    "                     .rename(columns={1:'lat', 2:'lon'}) "
   ]
  },
  {
   "cell_type": "code",
   "execution_count": 16,
   "id": "1dcfa02c",
   "metadata": {},
   "outputs": [],
   "source": [
    "taxi_points=taxi_points.join(taxi_points_split)"
   ]
  },
  {
   "cell_type": "code",
   "execution_count": 17,
   "id": "b8e16b93",
   "metadata": {},
   "outputs": [],
   "source": [
    "zip_points=zip_points.join(taxi_points_split)"
   ]
  },
  {
   "cell_type": "code",
   "execution_count": 18,
   "id": "11705137",
   "metadata": {},
   "outputs": [],
   "source": [
    "taxi_points['lat']=taxi_points['lat'].str.strip('(')"
   ]
  },
  {
   "cell_type": "code",
   "execution_count": 19,
   "id": "5b442ed0",
   "metadata": {},
   "outputs": [],
   "source": [
    "zip_points['lat']=zip_points['lat'].str.strip('(')"
   ]
  },
  {
   "cell_type": "code",
   "execution_count": 20,
   "id": "3e74f271",
   "metadata": {},
   "outputs": [],
   "source": [
    "taxi_points=taxi_points[['zone','LocationID','borough','geometry','lat','lon']]"
   ]
  },
  {
   "cell_type": "code",
   "execution_count": 21,
   "id": "e5cae762",
   "metadata": {},
   "outputs": [],
   "source": [
    "zip_points=zip_points[['ZIPCODE','PO_NAME','COUNTY','geometry','lat','lon']]"
   ]
  },
  {
   "cell_type": "code",
   "execution_count": 22,
   "id": "297f1cd5",
   "metadata": {},
   "outputs": [
    {
     "data": {
      "text/html": [
       "<div>\n",
       "<style scoped>\n",
       "    .dataframe tbody tr th:only-of-type {\n",
       "        vertical-align: middle;\n",
       "    }\n",
       "\n",
       "    .dataframe tbody tr th {\n",
       "        vertical-align: top;\n",
       "    }\n",
       "\n",
       "    .dataframe thead th {\n",
       "        text-align: right;\n",
       "    }\n",
       "</style>\n",
       "<table border=\"1\" class=\"dataframe\">\n",
       "  <thead>\n",
       "    <tr style=\"text-align: right;\">\n",
       "      <th></th>\n",
       "      <th>zone</th>\n",
       "      <th>LocationID</th>\n",
       "      <th>borough</th>\n",
       "      <th>geometry</th>\n",
       "      <th>lat</th>\n",
       "      <th>lon</th>\n",
       "    </tr>\n",
       "  </thead>\n",
       "  <tbody>\n",
       "    <tr>\n",
       "      <th>0</th>\n",
       "      <td>Newark Airport</td>\n",
       "      <td>1</td>\n",
       "      <td>EWR</td>\n",
       "      <td>POINT (-74.17400 40.69183)</td>\n",
       "      <td>-74.17400137278653</td>\n",
       "      <td>40.69183011107549</td>\n",
       "    </tr>\n",
       "    <tr>\n",
       "      <th>1</th>\n",
       "      <td>Jamaica Bay</td>\n",
       "      <td>2</td>\n",
       "      <td>Queens</td>\n",
       "      <td>POINT (-73.83130 40.61675)</td>\n",
       "      <td>-73.83130005002184</td>\n",
       "      <td>40.61674557260063</td>\n",
       "    </tr>\n",
       "    <tr>\n",
       "      <th>2</th>\n",
       "      <td>Allerton/Pelham Gardens</td>\n",
       "      <td>3</td>\n",
       "      <td>Bronx</td>\n",
       "      <td>POINT (-73.84742 40.86447)</td>\n",
       "      <td>-73.84742177366226</td>\n",
       "      <td>40.86447318881057</td>\n",
       "    </tr>\n",
       "    <tr>\n",
       "      <th>3</th>\n",
       "      <td>Alphabet City</td>\n",
       "      <td>4</td>\n",
       "      <td>Manhattan</td>\n",
       "      <td>POINT (-73.97697 40.72375)</td>\n",
       "      <td>-73.97696810617441</td>\n",
       "      <td>40.72375155202172</td>\n",
       "    </tr>\n",
       "    <tr>\n",
       "      <th>4</th>\n",
       "      <td>Arden Heights</td>\n",
       "      <td>5</td>\n",
       "      <td>Staten Island</td>\n",
       "      <td>POINT (-74.18849 40.55266)</td>\n",
       "      <td>-74.18848505675093</td>\n",
       "      <td>40.55265861459782</td>\n",
       "    </tr>\n",
       "    <tr>\n",
       "      <th>...</th>\n",
       "      <td>...</td>\n",
       "      <td>...</td>\n",
       "      <td>...</td>\n",
       "      <td>...</td>\n",
       "      <td>...</td>\n",
       "      <td>...</td>\n",
       "    </tr>\n",
       "    <tr>\n",
       "      <th>258</th>\n",
       "      <td>Woodlawn/Wakefield</td>\n",
       "      <td>259</td>\n",
       "      <td>Bronx</td>\n",
       "      <td>POINT (-73.85222 40.89793)</td>\n",
       "      <td>-73.85221508361175</td>\n",
       "      <td>40.89793162840499</td>\n",
       "    </tr>\n",
       "    <tr>\n",
       "      <th>259</th>\n",
       "      <td>Woodside</td>\n",
       "      <td>260</td>\n",
       "      <td>Queens</td>\n",
       "      <td>POINT (-73.90631 40.74423)</td>\n",
       "      <td>-73.90630713230253</td>\n",
       "      <td>40.74423296307197</td>\n",
       "    </tr>\n",
       "    <tr>\n",
       "      <th>260</th>\n",
       "      <td>World Trade Center</td>\n",
       "      <td>261</td>\n",
       "      <td>Manhattan</td>\n",
       "      <td>POINT (-74.01302 40.70914)</td>\n",
       "      <td>-74.01302265094951</td>\n",
       "      <td>40.70913843565989</td>\n",
       "    </tr>\n",
       "    <tr>\n",
       "      <th>261</th>\n",
       "      <td>Yorkville East</td>\n",
       "      <td>262</td>\n",
       "      <td>Manhattan</td>\n",
       "      <td>POINT (-73.94651 40.77593)</td>\n",
       "      <td>-73.94651031378342</td>\n",
       "      <td>40.77593173933266</td>\n",
       "    </tr>\n",
       "    <tr>\n",
       "      <th>262</th>\n",
       "      <td>Yorkville West</td>\n",
       "      <td>263</td>\n",
       "      <td>Manhattan</td>\n",
       "      <td>POINT (-73.95101 40.77877)</td>\n",
       "      <td>-73.95100989115144</td>\n",
       "      <td>40.77876518813074</td>\n",
       "    </tr>\n",
       "  </tbody>\n",
       "</table>\n",
       "<p>263 rows × 6 columns</p>\n",
       "</div>"
      ],
      "text/plain": [
       "                        zone  LocationID        borough  \\\n",
       "0             Newark Airport           1            EWR   \n",
       "1                Jamaica Bay           2         Queens   \n",
       "2    Allerton/Pelham Gardens           3          Bronx   \n",
       "3              Alphabet City           4      Manhattan   \n",
       "4              Arden Heights           5  Staten Island   \n",
       "..                       ...         ...            ...   \n",
       "258       Woodlawn/Wakefield         259          Bronx   \n",
       "259                 Woodside         260         Queens   \n",
       "260       World Trade Center         261      Manhattan   \n",
       "261           Yorkville East         262      Manhattan   \n",
       "262           Yorkville West         263      Manhattan   \n",
       "\n",
       "                       geometry                 lat                lon  \n",
       "0    POINT (-74.17400 40.69183)  -74.17400137278653  40.69183011107549  \n",
       "1    POINT (-73.83130 40.61675)  -73.83130005002184  40.61674557260063  \n",
       "2    POINT (-73.84742 40.86447)  -73.84742177366226  40.86447318881057  \n",
       "3    POINT (-73.97697 40.72375)  -73.97696810617441  40.72375155202172  \n",
       "4    POINT (-74.18849 40.55266)  -74.18848505675093  40.55265861459782  \n",
       "..                          ...                 ...                ...  \n",
       "258  POINT (-73.85222 40.89793)  -73.85221508361175  40.89793162840499  \n",
       "259  POINT (-73.90631 40.74423)  -73.90630713230253  40.74423296307197  \n",
       "260  POINT (-74.01302 40.70914)  -74.01302265094951  40.70913843565989  \n",
       "261  POINT (-73.94651 40.77593)  -73.94651031378342  40.77593173933266  \n",
       "262  POINT (-73.95101 40.77877)  -73.95100989115144  40.77876518813074  \n",
       "\n",
       "[263 rows x 6 columns]"
      ]
     },
     "execution_count": 22,
     "metadata": {},
     "output_type": "execute_result"
    }
   ],
   "source": [
    "taxi_points"
   ]
  },
  {
   "cell_type": "code",
   "execution_count": 23,
   "id": "0784b3eb",
   "metadata": {},
   "outputs": [
    {
     "name": "stdout",
     "output_type": "stream",
     "text": [
      "<class 'geopandas.geodataframe.GeoDataFrame'>\n",
      "RangeIndex: 263 entries, 0 to 262\n",
      "Data columns (total 6 columns):\n",
      " #   Column    Non-Null Count  Dtype   \n",
      "---  ------    --------------  -----   \n",
      " 0   ZIPCODE   263 non-null    object  \n",
      " 1   PO_NAME   263 non-null    object  \n",
      " 2   COUNTY    263 non-null    object  \n",
      " 3   geometry  263 non-null    geometry\n",
      " 4   lat       263 non-null    object  \n",
      " 5   lon       263 non-null    object  \n",
      "dtypes: geometry(1), object(5)\n",
      "memory usage: 12.5+ KB\n"
     ]
    }
   ],
   "source": [
    "zip_points.info()"
   ]
  },
  {
   "cell_type": "code",
   "execution_count": 24,
   "id": "aac905db",
   "metadata": {},
   "outputs": [],
   "source": [
    "taxi_points=taxi_points.rename(columns = {'lat1':'lat','lon1':'lon'})"
   ]
  },
  {
   "cell_type": "code",
   "execution_count": 25,
   "id": "d6503780",
   "metadata": {},
   "outputs": [],
   "source": [
    "zip_points=zip_points.rename(columns = {'lat2':'lat','lon2':'lon'})"
   ]
  },
  {
   "cell_type": "code",
   "execution_count": 26,
   "id": "848fd108",
   "metadata": {},
   "outputs": [
    {
     "data": {
      "text/plain": [
       "Index(['ZIPCODE', 'PO_NAME', 'COUNTY', 'geometry', 'lat', 'lon'], dtype='object')"
      ]
     },
     "execution_count": 26,
     "metadata": {},
     "output_type": "execute_result"
    }
   ],
   "source": [
    "zip_points.columns"
   ]
  },
  {
   "cell_type": "code",
   "execution_count": 27,
   "id": "52ac9613",
   "metadata": {
    "scrolled": false
   },
   "outputs": [],
   "source": [
    "taxi_points[['lat','lon']]=taxi_points[['lat','lon']].astype(float)"
   ]
  },
  {
   "cell_type": "code",
   "execution_count": 28,
   "id": "7e6e9156",
   "metadata": {},
   "outputs": [],
   "source": [
    "zip_points[['lat','lon']]=zip_points[['lat','lon']].astype(float)"
   ]
  },
  {
   "cell_type": "code",
   "execution_count": 29,
   "id": "f580363a",
   "metadata": {},
   "outputs": [],
   "source": [
    "def dist(lon1, lat1, lon2, lat2):\n",
    "    \"\"\"\n",
    "    Calculate the great circle distance between two points\n",
    "    on the earth (specified in decimal degrees)\n",
    "\n",
    "    All args must be of equal length.    \n",
    "\n",
    "    \"\"\"\n",
    "    lon1, lat1, lon2, lat2 = map(np.radians, [lon1, lat1, lon2, lat2])\n",
    "\n",
    "    dlon = lon2 - lon1\n",
    "    dlat = lat2 - lat1\n",
    "\n",
    "    a = np.sin(dlat/2.0)**2 + np.cos(lat1) * np.cos(lat2) * np.sin(dlon/2.0)**2\n",
    "\n",
    "    c = 2 * np.arcsin(np.sqrt(a))\n",
    "    km = 6367 * c\n",
    "    return km"
   ]
  },
  {
   "cell_type": "code",
   "execution_count": 30,
   "id": "4784f648",
   "metadata": {},
   "outputs": [],
   "source": [
    "def find_nearest(lat, lon):\n",
    "    distances = zip_points.apply(\n",
    "        lambda row: dist(lat, lon, row['lat'], row['lon']), \n",
    "        axis=1)\n",
    "    return zip_points.loc[distances.idxmin(), 'ZIPCODE']"
   ]
  },
  {
   "cell_type": "code",
   "execution_count": 31,
   "id": "59ea0b7a",
   "metadata": {},
   "outputs": [
    {
     "data": {
      "text/html": [
       "<div>\n",
       "<style scoped>\n",
       "    .dataframe tbody tr th:only-of-type {\n",
       "        vertical-align: middle;\n",
       "    }\n",
       "\n",
       "    .dataframe tbody tr th {\n",
       "        vertical-align: top;\n",
       "    }\n",
       "\n",
       "    .dataframe thead th {\n",
       "        text-align: right;\n",
       "    }\n",
       "</style>\n",
       "<table border=\"1\" class=\"dataframe\">\n",
       "  <thead>\n",
       "    <tr style=\"text-align: right;\">\n",
       "      <th></th>\n",
       "      <th>zone</th>\n",
       "      <th>LocationID</th>\n",
       "      <th>borough</th>\n",
       "      <th>geometry</th>\n",
       "      <th>lat</th>\n",
       "      <th>lon</th>\n",
       "      <th>ZIPCODE</th>\n",
       "    </tr>\n",
       "  </thead>\n",
       "  <tbody>\n",
       "    <tr>\n",
       "      <th>0</th>\n",
       "      <td>Newark Airport</td>\n",
       "      <td>1</td>\n",
       "      <td>EWR</td>\n",
       "      <td>POINT (-74.17400 40.69183)</td>\n",
       "      <td>-74.174001</td>\n",
       "      <td>40.691830</td>\n",
       "      <td>11436</td>\n",
       "    </tr>\n",
       "    <tr>\n",
       "      <th>1</th>\n",
       "      <td>Jamaica Bay</td>\n",
       "      <td>2</td>\n",
       "      <td>Queens</td>\n",
       "      <td>POINT (-73.83130 40.61675)</td>\n",
       "      <td>-73.831300</td>\n",
       "      <td>40.616746</td>\n",
       "      <td>11213</td>\n",
       "    </tr>\n",
       "    <tr>\n",
       "      <th>2</th>\n",
       "      <td>Allerton/Pelham Gardens</td>\n",
       "      <td>3</td>\n",
       "      <td>Bronx</td>\n",
       "      <td>POINT (-73.84742 40.86447)</td>\n",
       "      <td>-73.847422</td>\n",
       "      <td>40.864473</td>\n",
       "      <td>11212</td>\n",
       "    </tr>\n",
       "    <tr>\n",
       "      <th>3</th>\n",
       "      <td>Alphabet City</td>\n",
       "      <td>4</td>\n",
       "      <td>Manhattan</td>\n",
       "      <td>POINT (-73.97697 40.72375)</td>\n",
       "      <td>-73.976968</td>\n",
       "      <td>40.723752</td>\n",
       "      <td>11225</td>\n",
       "    </tr>\n",
       "    <tr>\n",
       "      <th>4</th>\n",
       "      <td>Arden Heights</td>\n",
       "      <td>5</td>\n",
       "      <td>Staten Island</td>\n",
       "      <td>POINT (-74.18849 40.55266)</td>\n",
       "      <td>-74.188485</td>\n",
       "      <td>40.552659</td>\n",
       "      <td>11218</td>\n",
       "    </tr>\n",
       "  </tbody>\n",
       "</table>\n",
       "</div>"
      ],
      "text/plain": [
       "                      zone  LocationID        borough  \\\n",
       "0           Newark Airport           1            EWR   \n",
       "1              Jamaica Bay           2         Queens   \n",
       "2  Allerton/Pelham Gardens           3          Bronx   \n",
       "3            Alphabet City           4      Manhattan   \n",
       "4            Arden Heights           5  Staten Island   \n",
       "\n",
       "                     geometry        lat        lon ZIPCODE  \n",
       "0  POINT (-74.17400 40.69183) -74.174001  40.691830   11436  \n",
       "1  POINT (-73.83130 40.61675) -73.831300  40.616746   11213  \n",
       "2  POINT (-73.84742 40.86447) -73.847422  40.864473   11212  \n",
       "3  POINT (-73.97697 40.72375) -73.976968  40.723752   11225  \n",
       "4  POINT (-74.18849 40.55266) -74.188485  40.552659   11218  "
      ]
     },
     "execution_count": 31,
     "metadata": {},
     "output_type": "execute_result"
    }
   ],
   "source": [
    "taxi_points['ZIPCODE'] = taxi_points.apply(\n",
    "    lambda row: find_nearest(row['lat'], row['lon']), \n",
    "    axis=1)\n",
    "\n",
    "taxi_points.head()"
   ]
  },
  {
   "cell_type": "code",
   "execution_count": 38,
   "id": "ad3d7d47",
   "metadata": {
    "scrolled": true
   },
   "outputs": [
    {
     "data": {
      "text/plain": [
       "248"
      ]
     },
     "execution_count": 38,
     "metadata": {},
     "output_type": "execute_result"
    }
   ],
   "source": [
    "taxi_points['ZIPCODE'].nunique()"
   ]
  },
  {
   "cell_type": "code",
   "execution_count": 40,
   "id": "967feb59",
   "metadata": {},
   "outputs": [
    {
     "data": {
      "text/plain": [
       "260"
      ]
     },
     "execution_count": 40,
     "metadata": {},
     "output_type": "execute_result"
    }
   ],
   "source": [
    "taxi_points['LocationID'].nunique()"
   ]
  },
  {
   "cell_type": "code",
   "execution_count": 42,
   "id": "f6b7b499",
   "metadata": {},
   "outputs": [
    {
     "data": {
      "text/plain": [
       "<Geographic 2D CRS: EPSG:4326>\n",
       "Name: WGS 84\n",
       "Axis Info [ellipsoidal]:\n",
       "- Lat[north]: Geodetic latitude (degree)\n",
       "- Lon[east]: Geodetic longitude (degree)\n",
       "Area of Use:\n",
       "- name: World\n",
       "- bounds: (-180.0, -90.0, 180.0, 90.0)\n",
       "Datum: World Geodetic System 1984\n",
       "- Ellipsoid: WGS 84\n",
       "- Prime Meridian: Greenwich"
      ]
     },
     "execution_count": 42,
     "metadata": {},
     "output_type": "execute_result"
    }
   ],
   "source": [
    "taxi_points.crs"
   ]
  },
  {
   "cell_type": "code",
   "execution_count": 41,
   "id": "6d6d5e8f",
   "metadata": {},
   "outputs": [],
   "source": [
    "taxi_zone_for_join = gpd.read_file('../../Data/Taxi Zones Shape/taxi_zones.shp').to_crs('epsg:4326')"
   ]
  },
  {
   "cell_type": "code",
   "execution_count": 44,
   "id": "860e09ef",
   "metadata": {},
   "outputs": [],
   "source": [
    "taxi_points_for_join = taxi_points[['LocationID','ZIPCODE']]"
   ]
  },
  {
   "cell_type": "code",
   "execution_count": 47,
   "id": "ddbd01bf",
   "metadata": {},
   "outputs": [],
   "source": [
    "merge=taxi_zone_for_join.merge(taxi_points_for_join)"
   ]
  },
  {
   "cell_type": "code",
   "execution_count": 58,
   "id": "5a1e6094",
   "metadata": {},
   "outputs": [],
   "source": [
    "merge.to_file('../../Data/Final_Shape_test3.shp')"
   ]
  },
  {
   "cell_type": "code",
   "execution_count": 56,
   "id": "e058c303",
   "metadata": {
    "scrolled": true
   },
   "outputs": [
    {
     "name": "stdout",
     "output_type": "stream",
     "text": [
      "<class 'geopandas.geodataframe.GeoDataFrame'>\n",
      "Int64Index: 271 entries, 0 to 270\n",
      "Data columns (total 8 columns):\n",
      " #   Column      Non-Null Count  Dtype   \n",
      "---  ------      --------------  -----   \n",
      " 0   OBJECTID    271 non-null    int64   \n",
      " 1   Shape_Leng  271 non-null    float64 \n",
      " 2   Shape_Area  271 non-null    float64 \n",
      " 3   zone        271 non-null    object  \n",
      " 4   LocationID  271 non-null    int64   \n",
      " 5   borough     271 non-null    object  \n",
      " 6   geometry    271 non-null    geometry\n",
      " 7   ZIPCODE     271 non-null    float64 \n",
      "dtypes: float64(3), geometry(1), int64(2), object(2)\n",
      "memory usage: 19.1+ KB\n"
     ]
    }
   ],
   "source": [
    "merge.info()"
   ]
  },
  {
   "cell_type": "code",
   "execution_count": 57,
   "id": "6ae20ddc",
   "metadata": {},
   "outputs": [],
   "source": [
    "merge['ZIPCODE']=merge['ZIPCODE'].astype(int)"
   ]
  },
  {
   "cell_type": "code",
   "execution_count": null,
   "id": "cf221661",
   "metadata": {},
   "outputs": [],
   "source": [
    "taxi_points['closest'] = taxi_points.apply(\n",
    "    lambda row: find_nearest(row['lat'], row['lon']), \n",
    "    axis=1)\n",
    "# To check the data frame if it has a new column of hotel name (for each and every member's location in the list)\n",
    "taxi_points.head()"
   ]
  },
  {
   "cell_type": "code",
   "execution_count": null,
   "id": "9c6020bd",
   "metadata": {},
   "outputs": [],
   "source": [
    "trips= dd.read_csv('../../Data/Taxi Data/yellow_14/yellow_tripdata_2014-01.csv',dtype={' tolls_amount': 'float64'})"
   ]
  },
  {
   "cell_type": "code",
   "execution_count": null,
   "id": "e8cc3748",
   "metadata": {},
   "outputs": [],
   "source": [
    "trips['pickup_taxizone_id'] = trips.map_partitions(\n",
    "    assign_taxi_zones, \" pickup_longitude\", \" pickup_latitude\",\n",
    "    \"pickup_taxizone_id\", meta=('pickup_taxizone_id', np.float64))\n",
    "trips['dropoff_taxizone_id'] = trips.map_partitions(\n",
    "    assign_taxi_zones, \" dropoff_longitude\", \" dropoff_latitude\",\n",
    "    \"dropoff_taxizone_id\", meta=('dropoff_taxizone_id', np.float64))\n",
    "trips[['pickup_taxizone_id', 'dropoff_taxizone_id']].head()\n",
    "\n",
    "#assume_missing=True"
   ]
  },
  {
   "cell_type": "code",
   "execution_count": null,
   "id": "da50eef3",
   "metadata": {},
   "outputs": [],
   "source": [
    "start_time = time.time()\n",
    "\n",
    "df.to_parquet('df_2014-01.parquet', has_nulls=True,\n",
    "     object_encoding='json', compression=\"SNAPPY\")\n",
    "df = dd.read_parquet('df_2014-015.parquet',\n",
    "    columns=['pickup_taxizone_id', 'dropoff_taxizone_id'])\n",
    "\n",
    "print(\"--- %s seconds ---\" % (time.time() - start_time))\n",
    "\n",
    "complete"
   ]
  },
  {
   "cell_type": "code",
   "execution_count": null,
   "id": "4a557094",
   "metadata": {},
   "outputs": [],
   "source": [
    "trips.info()"
   ]
  },
  {
   "cell_type": "code",
   "execution_count": null,
   "id": "5056b33c",
   "metadata": {},
   "outputs": [],
   "source": [
    "trips.describe()"
   ]
  },
  {
   "cell_type": "code",
   "execution_count": null,
   "id": "6bb1c73e",
   "metadata": {},
   "outputs": [],
   "source": [
    "trips2= dd.read_csv('../../Data/Taxi Data/yellow_14/yellow_tripdata_2014-01.csv',dtype={' tolls_amount': 'float64'})"
   ]
  },
  {
   "cell_type": "code",
   "execution_count": null,
   "id": "d013dd08",
   "metadata": {},
   "outputs": [],
   "source": [
    "trips2.tail()"
   ]
  },
  {
   "cell_type": "code",
   "execution_count": null,
   "id": "34b8fd90",
   "metadata": {},
   "outputs": [],
   "source": [
    "trips.tail()"
   ]
  },
  {
   "cell_type": "code",
   "execution_count": null,
   "id": "6c39230d",
   "metadata": {},
   "outputs": [],
   "source": [
    "trips3=trips2.merge(trips2,trips, how=index)"
   ]
  },
  {
   "cell_type": "code",
   "execution_count": null,
   "id": "72aa4779",
   "metadata": {},
   "outputs": [],
   "source": [
    "trips4= pd.read_csv('../../Data/Taxi Data/yellow_14/yellow_tripdata_2014-01.csv',dtype={' tolls_amount': 'float64'})"
   ]
  },
  {
   "cell_type": "code",
   "execution_count": null,
   "id": "e66c68b2",
   "metadata": {},
   "outputs": [],
   "source": [
    "trips3=trips2.merge(trips, how='inner', on=None)"
   ]
  },
  {
   "cell_type": "code",
   "execution_count": null,
   "id": "f9127cde",
   "metadata": {},
   "outputs": [],
   "source": [
    "trips3.head()"
   ]
  },
  {
   "cell_type": "code",
   "execution_count": null,
   "id": "69b5f65b",
   "metadata": {},
   "outputs": [],
   "source": [
    "trips4.info()"
   ]
  },
  {
   "cell_type": "code",
   "execution_count": null,
   "id": "21ebb837",
   "metadata": {},
   "outputs": [],
   "source": []
  }
 ],
 "metadata": {
  "kernelspec": {
   "display_name": "Python 3 (ipykernel)",
   "language": "python",
   "name": "python3"
  },
  "language_info": {
   "codemirror_mode": {
    "name": "ipython",
    "version": 3
   },
   "file_extension": ".py",
   "mimetype": "text/x-python",
   "name": "python",
   "nbconvert_exporter": "python",
   "pygments_lexer": "ipython3",
   "version": "3.8.5"
  }
 },
 "nbformat": 4,
 "nbformat_minor": 5
}
