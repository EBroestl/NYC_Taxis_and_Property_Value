{
 "cells": [
  {
   "cell_type": "code",
   "execution_count": 1,
   "id": "6b43de9a",
   "metadata": {},
   "outputs": [],
   "source": [
    "import pandas as pd\n",
    "import geopandas as gpd\n",
    "from shapely.geometry import Point\n",
    "from shapely.ops import nearest_points\n",
    "from shapely import wkt"
   ]
  },
  {
   "cell_type": "code",
   "execution_count": 2,
   "id": "ba058429",
   "metadata": {},
   "outputs": [],
   "source": [
    "zip=gpd.read_file('../../Data/ZIP CODES SHAPE/ZIP_CODE_040114.shp')#.to_crs('epsg:4326')"
   ]
  },
  {
   "cell_type": "code",
   "execution_count": 6,
   "id": "5975cbfb",
   "metadata": {
    "scrolled": true
   },
   "outputs": [
    {
     "data": {
      "text/plain": [
       "248"
      ]
     },
     "execution_count": 6,
     "metadata": {},
     "output_type": "execute_result"
    }
   ],
   "source": [
    "zip['ZIPCODE'].nunique()"
   ]
  },
  {
   "cell_type": "code",
   "execution_count": null,
   "id": "ff42598d",
   "metadata": {},
   "outputs": [],
   "source": []
  },
  {
   "cell_type": "code",
   "execution_count": 7,
   "id": "9d21b4ca",
   "metadata": {},
   "outputs": [
    {
     "ename": "DriverError",
     "evalue": "../../Data/Taxi Zones Shape/taxi_zones.shp: No such file or directory",
     "output_type": "error",
     "traceback": [
      "\u001b[1;31m---------------------------------------------------------------------------\u001b[0m",
      "\u001b[1;31mCPLE_OpenFailedError\u001b[0m                      Traceback (most recent call last)",
      "\u001b[1;32mfiona/_shim.pyx\u001b[0m in \u001b[0;36mfiona._shim.gdal_open_vector\u001b[1;34m()\u001b[0m\n",
      "\u001b[1;32mfiona/_err.pyx\u001b[0m in \u001b[0;36mfiona._err.exc_wrap_pointer\u001b[1;34m()\u001b[0m\n",
      "\u001b[1;31mCPLE_OpenFailedError\u001b[0m: ../../Data/Taxi Zones Shape/taxi_zones.shp: No such file or directory",
      "\nDuring handling of the above exception, another exception occurred:\n",
      "\u001b[1;31mDriverError\u001b[0m                               Traceback (most recent call last)",
      "\u001b[1;32mC:\\Users\\BROBRO~1\\AppData\\Local\\Temp/ipykernel_10660/2452413340.py\u001b[0m in \u001b[0;36m<module>\u001b[1;34m\u001b[0m\n\u001b[1;32m----> 1\u001b[1;33m \u001b[0mtaxi\u001b[0m \u001b[1;33m=\u001b[0m \u001b[0mgpd\u001b[0m\u001b[1;33m.\u001b[0m\u001b[0mread_file\u001b[0m\u001b[1;33m(\u001b[0m\u001b[1;34m'../../Data/Taxi Zones Shape/taxi_zones.shp'\u001b[0m\u001b[1;33m)\u001b[0m\u001b[1;31m#.to_crs('epsg:4326')\u001b[0m\u001b[1;33m\u001b[0m\u001b[1;33m\u001b[0m\u001b[0m\n\u001b[0m",
      "\u001b[1;32m~\\.conda\\envs\\geospatial\\lib\\site-packages\\geopandas\\io\\file.py\u001b[0m in \u001b[0;36m_read_file\u001b[1;34m(filename, bbox, mask, rows, **kwargs)\u001b[0m\n\u001b[0;32m     94\u001b[0m \u001b[1;33m\u001b[0m\u001b[0m\n\u001b[0;32m     95\u001b[0m     \u001b[1;32mwith\u001b[0m \u001b[0mfiona_env\u001b[0m\u001b[1;33m(\u001b[0m\u001b[1;33m)\u001b[0m\u001b[1;33m:\u001b[0m\u001b[1;33m\u001b[0m\u001b[1;33m\u001b[0m\u001b[0m\n\u001b[1;32m---> 96\u001b[1;33m         \u001b[1;32mwith\u001b[0m \u001b[0mreader\u001b[0m\u001b[1;33m(\u001b[0m\u001b[0mpath_or_bytes\u001b[0m\u001b[1;33m,\u001b[0m \u001b[1;33m**\u001b[0m\u001b[0mkwargs\u001b[0m\u001b[1;33m)\u001b[0m \u001b[1;32mas\u001b[0m \u001b[0mfeatures\u001b[0m\u001b[1;33m:\u001b[0m\u001b[1;33m\u001b[0m\u001b[1;33m\u001b[0m\u001b[0m\n\u001b[0m\u001b[0;32m     97\u001b[0m \u001b[1;33m\u001b[0m\u001b[0m\n\u001b[0;32m     98\u001b[0m             \u001b[1;31m# In a future Fiona release the crs attribute of features will\u001b[0m\u001b[1;33m\u001b[0m\u001b[1;33m\u001b[0m\u001b[1;33m\u001b[0m\u001b[0m\n",
      "\u001b[1;32m~\\.conda\\envs\\geospatial\\lib\\site-packages\\fiona\\env.py\u001b[0m in \u001b[0;36mwrapper\u001b[1;34m(*args, **kwargs)\u001b[0m\n\u001b[0;32m    398\u001b[0m     \u001b[1;32mdef\u001b[0m \u001b[0mwrapper\u001b[0m\u001b[1;33m(\u001b[0m\u001b[1;33m*\u001b[0m\u001b[0margs\u001b[0m\u001b[1;33m,\u001b[0m \u001b[1;33m**\u001b[0m\u001b[0mkwargs\u001b[0m\u001b[1;33m)\u001b[0m\u001b[1;33m:\u001b[0m\u001b[1;33m\u001b[0m\u001b[1;33m\u001b[0m\u001b[0m\n\u001b[0;32m    399\u001b[0m         \u001b[1;32mif\u001b[0m \u001b[0mlocal\u001b[0m\u001b[1;33m.\u001b[0m\u001b[0m_env\u001b[0m\u001b[1;33m:\u001b[0m\u001b[1;33m\u001b[0m\u001b[1;33m\u001b[0m\u001b[0m\n\u001b[1;32m--> 400\u001b[1;33m             \u001b[1;32mreturn\u001b[0m \u001b[0mf\u001b[0m\u001b[1;33m(\u001b[0m\u001b[1;33m*\u001b[0m\u001b[0margs\u001b[0m\u001b[1;33m,\u001b[0m \u001b[1;33m**\u001b[0m\u001b[0mkwargs\u001b[0m\u001b[1;33m)\u001b[0m\u001b[1;33m\u001b[0m\u001b[1;33m\u001b[0m\u001b[0m\n\u001b[0m\u001b[0;32m    401\u001b[0m         \u001b[1;32melse\u001b[0m\u001b[1;33m:\u001b[0m\u001b[1;33m\u001b[0m\u001b[1;33m\u001b[0m\u001b[0m\n\u001b[0;32m    402\u001b[0m             \u001b[1;32mif\u001b[0m \u001b[0misinstance\u001b[0m\u001b[1;33m(\u001b[0m\u001b[0margs\u001b[0m\u001b[1;33m[\u001b[0m\u001b[1;36m0\u001b[0m\u001b[1;33m]\u001b[0m\u001b[1;33m,\u001b[0m \u001b[0mstr\u001b[0m\u001b[1;33m)\u001b[0m\u001b[1;33m:\u001b[0m\u001b[1;33m\u001b[0m\u001b[1;33m\u001b[0m\u001b[0m\n",
      "\u001b[1;32m~\\.conda\\envs\\geospatial\\lib\\site-packages\\fiona\\__init__.py\u001b[0m in \u001b[0;36mopen\u001b[1;34m(fp, mode, driver, schema, crs, encoding, layer, vfs, enabled_drivers, crs_wkt, **kwargs)\u001b[0m\n\u001b[0;32m    254\u001b[0m \u001b[1;33m\u001b[0m\u001b[0m\n\u001b[0;32m    255\u001b[0m         \u001b[1;32mif\u001b[0m \u001b[0mmode\u001b[0m \u001b[1;32min\u001b[0m \u001b[1;33m(\u001b[0m\u001b[1;34m'a'\u001b[0m\u001b[1;33m,\u001b[0m \u001b[1;34m'r'\u001b[0m\u001b[1;33m)\u001b[0m\u001b[1;33m:\u001b[0m\u001b[1;33m\u001b[0m\u001b[1;33m\u001b[0m\u001b[0m\n\u001b[1;32m--> 256\u001b[1;33m             c = Collection(path, mode, driver=driver, encoding=encoding,\n\u001b[0m\u001b[0;32m    257\u001b[0m                            layer=layer, enabled_drivers=enabled_drivers, **kwargs)\n\u001b[0;32m    258\u001b[0m         \u001b[1;32melif\u001b[0m \u001b[0mmode\u001b[0m \u001b[1;33m==\u001b[0m \u001b[1;34m'w'\u001b[0m\u001b[1;33m:\u001b[0m\u001b[1;33m\u001b[0m\u001b[1;33m\u001b[0m\u001b[0m\n",
      "\u001b[1;32m~\\.conda\\envs\\geospatial\\lib\\site-packages\\fiona\\collection.py\u001b[0m in \u001b[0;36m__init__\u001b[1;34m(self, path, mode, driver, schema, crs, encoding, layer, vsi, archive, enabled_drivers, crs_wkt, ignore_fields, ignore_geometry, **kwargs)\u001b[0m\n\u001b[0;32m    162\u001b[0m             \u001b[1;32mif\u001b[0m \u001b[0mself\u001b[0m\u001b[1;33m.\u001b[0m\u001b[0mmode\u001b[0m \u001b[1;33m==\u001b[0m \u001b[1;34m'r'\u001b[0m\u001b[1;33m:\u001b[0m\u001b[1;33m\u001b[0m\u001b[1;33m\u001b[0m\u001b[0m\n\u001b[0;32m    163\u001b[0m                 \u001b[0mself\u001b[0m\u001b[1;33m.\u001b[0m\u001b[0msession\u001b[0m \u001b[1;33m=\u001b[0m \u001b[0mSession\u001b[0m\u001b[1;33m(\u001b[0m\u001b[1;33m)\u001b[0m\u001b[1;33m\u001b[0m\u001b[1;33m\u001b[0m\u001b[0m\n\u001b[1;32m--> 164\u001b[1;33m                 \u001b[0mself\u001b[0m\u001b[1;33m.\u001b[0m\u001b[0msession\u001b[0m\u001b[1;33m.\u001b[0m\u001b[0mstart\u001b[0m\u001b[1;33m(\u001b[0m\u001b[0mself\u001b[0m\u001b[1;33m,\u001b[0m \u001b[1;33m**\u001b[0m\u001b[0mkwargs\u001b[0m\u001b[1;33m)\u001b[0m\u001b[1;33m\u001b[0m\u001b[1;33m\u001b[0m\u001b[0m\n\u001b[0m\u001b[0;32m    165\u001b[0m             \u001b[1;32melif\u001b[0m \u001b[0mself\u001b[0m\u001b[1;33m.\u001b[0m\u001b[0mmode\u001b[0m \u001b[1;32min\u001b[0m \u001b[1;33m(\u001b[0m\u001b[1;34m'a'\u001b[0m\u001b[1;33m,\u001b[0m \u001b[1;34m'w'\u001b[0m\u001b[1;33m)\u001b[0m\u001b[1;33m:\u001b[0m\u001b[1;33m\u001b[0m\u001b[1;33m\u001b[0m\u001b[0m\n\u001b[0;32m    166\u001b[0m                 \u001b[0mself\u001b[0m\u001b[1;33m.\u001b[0m\u001b[0msession\u001b[0m \u001b[1;33m=\u001b[0m \u001b[0mWritingSession\u001b[0m\u001b[1;33m(\u001b[0m\u001b[1;33m)\u001b[0m\u001b[1;33m\u001b[0m\u001b[1;33m\u001b[0m\u001b[0m\n",
      "\u001b[1;32mfiona/ogrext.pyx\u001b[0m in \u001b[0;36mfiona.ogrext.Session.start\u001b[1;34m()\u001b[0m\n",
      "\u001b[1;32mfiona/_shim.pyx\u001b[0m in \u001b[0;36mfiona._shim.gdal_open_vector\u001b[1;34m()\u001b[0m\n",
      "\u001b[1;31mDriverError\u001b[0m: ../../Data/Taxi Zones Shape/taxi_zones.shp: No such file or directory"
     ]
    }
   ],
   "source": [
    "taxi = gpd.read_file('../../Data/Taxi Zones Shape/taxi_zones.shp')#.to_crs('epsg:4326')"
   ]
  },
  {
   "cell_type": "markdown",
   "id": "aba78f98",
   "metadata": {},
   "source": [
    "gdf = gpd.GeoDataFrame(pd.concat([zip,taxi]))"
   ]
  },
  {
   "cell_type": "code",
   "execution_count": 45,
   "id": "af4ec2e5",
   "metadata": {
    "scrolled": true
   },
   "outputs": [
    {
     "data": {
      "text/html": [
       "<div>\n",
       "<style scoped>\n",
       "    .dataframe tbody tr th:only-of-type {\n",
       "        vertical-align: middle;\n",
       "    }\n",
       "\n",
       "    .dataframe tbody tr th {\n",
       "        vertical-align: top;\n",
       "    }\n",
       "\n",
       "    .dataframe thead th {\n",
       "        text-align: right;\n",
       "    }\n",
       "</style>\n",
       "<table border=\"1\" class=\"dataframe\">\n",
       "  <thead>\n",
       "    <tr style=\"text-align: right;\">\n",
       "      <th></th>\n",
       "      <th>ZIPCODE</th>\n",
       "      <th>BLDGZIP</th>\n",
       "      <th>PO_NAME</th>\n",
       "      <th>POPULATION</th>\n",
       "      <th>AREA</th>\n",
       "      <th>STATE</th>\n",
       "      <th>COUNTY</th>\n",
       "      <th>ST_FIPS</th>\n",
       "      <th>CTY_FIPS</th>\n",
       "      <th>URL</th>\n",
       "      <th>SHAPE_AREA</th>\n",
       "      <th>SHAPE_LEN</th>\n",
       "      <th>geometry</th>\n",
       "    </tr>\n",
       "  </thead>\n",
       "  <tbody>\n",
       "    <tr>\n",
       "      <th>0</th>\n",
       "      <td>11436</td>\n",
       "      <td>0</td>\n",
       "      <td>Jamaica</td>\n",
       "      <td>18681.0</td>\n",
       "      <td>2.269930e+07</td>\n",
       "      <td>NY</td>\n",
       "      <td>Queens</td>\n",
       "      <td>36</td>\n",
       "      <td>081</td>\n",
       "      <td>http://www.usps.com/</td>\n",
       "      <td>0.0</td>\n",
       "      <td>0.0</td>\n",
       "      <td>POINT (1040696.262 185580.222)</td>\n",
       "    </tr>\n",
       "    <tr>\n",
       "      <th>1</th>\n",
       "      <td>11213</td>\n",
       "      <td>0</td>\n",
       "      <td>Brooklyn</td>\n",
       "      <td>62426.0</td>\n",
       "      <td>2.963100e+07</td>\n",
       "      <td>NY</td>\n",
       "      <td>Kings</td>\n",
       "      <td>36</td>\n",
       "      <td>047</td>\n",
       "      <td>http://www.usps.com/</td>\n",
       "      <td>0.0</td>\n",
       "      <td>0.0</td>\n",
       "      <td>POINT (1001912.872 183803.113)</td>\n",
       "    </tr>\n",
       "    <tr>\n",
       "      <th>2</th>\n",
       "      <td>11212</td>\n",
       "      <td>0</td>\n",
       "      <td>Brooklyn</td>\n",
       "      <td>83866.0</td>\n",
       "      <td>4.197210e+07</td>\n",
       "      <td>NY</td>\n",
       "      <td>Kings</td>\n",
       "      <td>36</td>\n",
       "      <td>047</td>\n",
       "      <td>http://www.usps.com/</td>\n",
       "      <td>0.0</td>\n",
       "      <td>0.0</td>\n",
       "      <td>POINT (1008365.375 180768.945)</td>\n",
       "    </tr>\n",
       "    <tr>\n",
       "      <th>3</th>\n",
       "      <td>11225</td>\n",
       "      <td>0</td>\n",
       "      <td>Brooklyn</td>\n",
       "      <td>56527.0</td>\n",
       "      <td>2.369863e+07</td>\n",
       "      <td>NY</td>\n",
       "      <td>Kings</td>\n",
       "      <td>36</td>\n",
       "      <td>047</td>\n",
       "      <td>http://www.usps.com/</td>\n",
       "      <td>0.0</td>\n",
       "      <td>0.0</td>\n",
       "      <td>POINT (997023.193 180870.353)</td>\n",
       "    </tr>\n",
       "    <tr>\n",
       "      <th>4</th>\n",
       "      <td>11218</td>\n",
       "      <td>0</td>\n",
       "      <td>Brooklyn</td>\n",
       "      <td>72280.0</td>\n",
       "      <td>3.686880e+07</td>\n",
       "      <td>NY</td>\n",
       "      <td>Kings</td>\n",
       "      <td>36</td>\n",
       "      <td>047</td>\n",
       "      <td>http://www.usps.com/</td>\n",
       "      <td>0.0</td>\n",
       "      <td>0.0</td>\n",
       "      <td>POINT (990785.291 173656.048)</td>\n",
       "    </tr>\n",
       "  </tbody>\n",
       "</table>\n",
       "</div>"
      ],
      "text/plain": [
       "  ZIPCODE BLDGZIP   PO_NAME  POPULATION          AREA STATE  COUNTY ST_FIPS  \\\n",
       "0   11436       0   Jamaica     18681.0  2.269930e+07    NY  Queens      36   \n",
       "1   11213       0  Brooklyn     62426.0  2.963100e+07    NY   Kings      36   \n",
       "2   11212       0  Brooklyn     83866.0  4.197210e+07    NY   Kings      36   \n",
       "3   11225       0  Brooklyn     56527.0  2.369863e+07    NY   Kings      36   \n",
       "4   11218       0  Brooklyn     72280.0  3.686880e+07    NY   Kings      36   \n",
       "\n",
       "  CTY_FIPS                   URL  SHAPE_AREA  SHAPE_LEN  \\\n",
       "0      081  http://www.usps.com/         0.0        0.0   \n",
       "1      047  http://www.usps.com/         0.0        0.0   \n",
       "2      047  http://www.usps.com/         0.0        0.0   \n",
       "3      047  http://www.usps.com/         0.0        0.0   \n",
       "4      047  http://www.usps.com/         0.0        0.0   \n",
       "\n",
       "                         geometry  \n",
       "0  POINT (1040696.262 185580.222)  \n",
       "1  POINT (1001912.872 183803.113)  \n",
       "2  POINT (1008365.375 180768.945)  \n",
       "3   POINT (997023.193 180870.353)  \n",
       "4   POINT (990785.291 173656.048)  "
      ]
     },
     "execution_count": 45,
     "metadata": {},
     "output_type": "execute_result"
    }
   ],
   "source": [
    "# copy GeoDataFrame\n",
    "points = zip.copy()\n",
    "# change geometry \n",
    "points['geometry'] = points['geometry'].centroid\n",
    "points.head()"
   ]
  },
  {
   "cell_type": "code",
   "execution_count": null,
   "id": "63c0f15b",
   "metadata": {},
   "outputs": [],
   "source": [
    "points=points.to_crs('epsg:4326')"
   ]
  },
  {
   "cell_type": "code",
   "execution_count": 49,
   "id": "fd8301fc",
   "metadata": {
    "scrolled": false
   },
   "outputs": [
    {
     "data": {
      "text/plain": [
       "<GeometryArray>\n",
       "[<shapely.geometry.point.Point object at 0x0000026A1F77DD60>,\n",
       " <shapely.geometry.point.Point object at 0x0000026A1F827E80>,\n",
       " <shapely.geometry.point.Point object at 0x0000026A1E31A700>,\n",
       " <shapely.geometry.point.Point object at 0x0000026A1E31A880>,\n",
       " <shapely.geometry.point.Point object at 0x0000026A1F7C3250>,\n",
       " <shapely.geometry.point.Point object at 0x0000026A1F85E4F0>,\n",
       " <shapely.geometry.point.Point object at 0x0000026A1F85E400>,\n",
       " <shapely.geometry.point.Point object at 0x0000026A1F7B2EE0>,\n",
       " <shapely.geometry.point.Point object at 0x0000026A1F7B2D90>,\n",
       " <shapely.geometry.point.Point object at 0x0000026A1F7B2E50>,\n",
       " ...\n",
       " <shapely.geometry.point.Point object at 0x0000026A1F90E370>,\n",
       " <shapely.geometry.point.Point object at 0x0000026A1F90E3D0>,\n",
       " <shapely.geometry.point.Point object at 0x0000026A1F90E430>,\n",
       " <shapely.geometry.point.Point object at 0x0000026A1F90E490>,\n",
       " <shapely.geometry.point.Point object at 0x0000026A1F90E4F0>,\n",
       " <shapely.geometry.point.Point object at 0x0000026A1F90E550>,\n",
       " <shapely.geometry.point.Point object at 0x0000026A1F90E5B0>,\n",
       " <shapely.geometry.point.Point object at 0x0000026A1F90E610>,\n",
       " <shapely.geometry.point.Point object at 0x0000026A1F90E670>,\n",
       " <shapely.geometry.point.Point object at 0x0000026A1F90E6D0>]\n",
       "Length: 262, dtype: geometry"
      ]
     },
     "execution_count": 49,
     "metadata": {},
     "output_type": "execute_result"
    }
   ],
   "source": [
    "points['geometry'].unique()"
   ]
  },
  {
   "cell_type": "code",
   "execution_count": 50,
   "id": "02c0779e",
   "metadata": {},
   "outputs": [
    {
     "data": {
      "text/plain": [
       "<GeometryArray>\n",
       "[          <shapely.geometry.polygon.Polygon object at 0x0000026A1F7B2B80>,\n",
       " <shapely.geometry.multipolygon.MultiPolygon object at 0x0000026A1F7B2790>,\n",
       "           <shapely.geometry.polygon.Polygon object at 0x0000026A1F7B2E20>,\n",
       "           <shapely.geometry.polygon.Polygon object at 0x0000026A1F7B24C0>,\n",
       "           <shapely.geometry.polygon.Polygon object at 0x0000026A1F7B2EB0>,\n",
       "           <shapely.geometry.polygon.Polygon object at 0x0000026A1F7B2A90>,\n",
       "           <shapely.geometry.polygon.Polygon object at 0x0000026A1E31AB50>,\n",
       "           <shapely.geometry.polygon.Polygon object at 0x0000026A1F8A1E20>,\n",
       "           <shapely.geometry.polygon.Polygon object at 0x0000026A1F7195E0>,\n",
       "           <shapely.geometry.polygon.Polygon object at 0x0000026A1F827F70>,\n",
       " ...\n",
       "           <shapely.geometry.polygon.Polygon object at 0x0000026A1F91E850>,\n",
       "           <shapely.geometry.polygon.Polygon object at 0x0000026A1F91E880>,\n",
       "           <shapely.geometry.polygon.Polygon object at 0x0000026A1F91E8B0>,\n",
       "           <shapely.geometry.polygon.Polygon object at 0x0000026A1F91E8E0>,\n",
       "           <shapely.geometry.polygon.Polygon object at 0x0000026A1F91E910>,\n",
       "           <shapely.geometry.polygon.Polygon object at 0x0000026A1F91E940>,\n",
       "           <shapely.geometry.polygon.Polygon object at 0x0000026A1F91E970>,\n",
       "           <shapely.geometry.polygon.Polygon object at 0x0000026A1F91E9A0>,\n",
       " <shapely.geometry.multipolygon.MultiPolygon object at 0x0000026A1F91E9D0>,\n",
       "           <shapely.geometry.polygon.Polygon object at 0x0000026A1F91EA00>]\n",
       "Length: 263, dtype: geometry"
      ]
     },
     "execution_count": 50,
     "metadata": {},
     "output_type": "execute_result"
    }
   ],
   "source": [
    "taxi['geometry'].unique()"
   ]
  },
  {
   "cell_type": "code",
   "execution_count": null,
   "id": "8196d8ea",
   "metadata": {
    "scrolled": true
   },
   "outputs": [],
   "source": [
    "points"
   ]
  },
  {
   "cell_type": "code",
   "execution_count": 61,
   "id": "e061d1b5",
   "metadata": {},
   "outputs": [],
   "source": [
    "combine = gpd.sjoin(zip,taxi, op = 'intersects')"
   ]
  },
  {
   "cell_type": "code",
   "execution_count": 63,
   "id": "f3aeeb6b",
   "metadata": {
    "scrolled": true
   },
   "outputs": [
    {
     "data": {
      "text/html": [
       "<div>\n",
       "<style scoped>\n",
       "    .dataframe tbody tr th:only-of-type {\n",
       "        vertical-align: middle;\n",
       "    }\n",
       "\n",
       "    .dataframe tbody tr th {\n",
       "        vertical-align: top;\n",
       "    }\n",
       "\n",
       "    .dataframe thead th {\n",
       "        text-align: right;\n",
       "    }\n",
       "</style>\n",
       "<table border=\"1\" class=\"dataframe\">\n",
       "  <thead>\n",
       "    <tr style=\"text-align: right;\">\n",
       "      <th></th>\n",
       "      <th>ZIPCODE</th>\n",
       "      <th>BLDGZIP</th>\n",
       "      <th>PO_NAME</th>\n",
       "      <th>POPULATION</th>\n",
       "      <th>AREA</th>\n",
       "      <th>STATE</th>\n",
       "      <th>COUNTY</th>\n",
       "      <th>ST_FIPS</th>\n",
       "      <th>CTY_FIPS</th>\n",
       "      <th>URL</th>\n",
       "      <th>SHAPE_AREA</th>\n",
       "      <th>SHAPE_LEN</th>\n",
       "      <th>geometry</th>\n",
       "      <th>index_right</th>\n",
       "      <th>OBJECTID</th>\n",
       "      <th>Shape_Leng</th>\n",
       "      <th>Shape_Area</th>\n",
       "      <th>zone</th>\n",
       "      <th>LocationID</th>\n",
       "      <th>borough</th>\n",
       "    </tr>\n",
       "  </thead>\n",
       "  <tbody>\n",
       "    <tr>\n",
       "      <th>0</th>\n",
       "      <td>11436</td>\n",
       "      <td>0</td>\n",
       "      <td>Jamaica</td>\n",
       "      <td>18681.0</td>\n",
       "      <td>2.269930e+07</td>\n",
       "      <td>NY</td>\n",
       "      <td>Queens</td>\n",
       "      <td>36</td>\n",
       "      <td>081</td>\n",
       "      <td>http://www.usps.com/</td>\n",
       "      <td>0.0</td>\n",
       "      <td>0.0</td>\n",
       "      <td>POLYGON ((1038098.252 188138.380, 1038141.936 ...</td>\n",
       "      <td>218</td>\n",
       "      <td>219</td>\n",
       "      <td>0.155127</td>\n",
       "      <td>0.000428</td>\n",
       "      <td>Springfield Gardens South</td>\n",
       "      <td>219</td>\n",
       "      <td>Queens</td>\n",
       "    </tr>\n",
       "    <tr>\n",
       "      <th>115</th>\n",
       "      <td>11413</td>\n",
       "      <td>0</td>\n",
       "      <td>Springfield Gardens</td>\n",
       "      <td>39349.0</td>\n",
       "      <td>8.620850e+07</td>\n",
       "      <td>NY</td>\n",
       "      <td>Queens</td>\n",
       "      <td>36</td>\n",
       "      <td>081</td>\n",
       "      <td>http://www.usps.com/</td>\n",
       "      <td>0.0</td>\n",
       "      <td>0.0</td>\n",
       "      <td>POLYGON ((1055125.234 190343.152, 1055862.479 ...</td>\n",
       "      <td>218</td>\n",
       "      <td>219</td>\n",
       "      <td>0.155127</td>\n",
       "      <td>0.000428</td>\n",
       "      <td>Springfield Gardens South</td>\n",
       "      <td>219</td>\n",
       "      <td>Queens</td>\n",
       "    </tr>\n",
       "    <tr>\n",
       "      <th>119</th>\n",
       "      <td>11422</td>\n",
       "      <td>0</td>\n",
       "      <td>Rosedale</td>\n",
       "      <td>30139.0</td>\n",
       "      <td>6.012066e+07</td>\n",
       "      <td>NY</td>\n",
       "      <td>Queens</td>\n",
       "      <td>36</td>\n",
       "      <td>081</td>\n",
       "      <td>http://www.usps.com/</td>\n",
       "      <td>0.0</td>\n",
       "      <td>0.0</td>\n",
       "      <td>POLYGON ((1060642.852 188482.904, 1060648.786 ...</td>\n",
       "      <td>218</td>\n",
       "      <td>219</td>\n",
       "      <td>0.155127</td>\n",
       "      <td>0.000428</td>\n",
       "      <td>Springfield Gardens South</td>\n",
       "      <td>219</td>\n",
       "      <td>Queens</td>\n",
       "    </tr>\n",
       "    <tr>\n",
       "      <th>125</th>\n",
       "      <td>11430</td>\n",
       "      <td>0</td>\n",
       "      <td>Jamaica</td>\n",
       "      <td>16.0</td>\n",
       "      <td>1.999137e+08</td>\n",
       "      <td>NY</td>\n",
       "      <td>Queens</td>\n",
       "      <td>36</td>\n",
       "      <td>081</td>\n",
       "      <td>http://www.usps.com/</td>\n",
       "      <td>0.0</td>\n",
       "      <td>0.0</td>\n",
       "      <td>POLYGON ((1042671.561 182294.722, 1042664.029 ...</td>\n",
       "      <td>218</td>\n",
       "      <td>219</td>\n",
       "      <td>0.155127</td>\n",
       "      <td>0.000428</td>\n",
       "      <td>Springfield Gardens South</td>\n",
       "      <td>219</td>\n",
       "      <td>Queens</td>\n",
       "    </tr>\n",
       "    <tr>\n",
       "      <th>182</th>\n",
       "      <td>11434</td>\n",
       "      <td>0</td>\n",
       "      <td>Jamaica</td>\n",
       "      <td>57989.0</td>\n",
       "      <td>8.737970e+07</td>\n",
       "      <td>NY</td>\n",
       "      <td>Queens</td>\n",
       "      <td>36</td>\n",
       "      <td>081</td>\n",
       "      <td>http://www.usps.com/</td>\n",
       "      <td>0.0</td>\n",
       "      <td>0.0</td>\n",
       "      <td>POLYGON ((1048057.740 193045.403, 1049127.144 ...</td>\n",
       "      <td>218</td>\n",
       "      <td>219</td>\n",
       "      <td>0.155127</td>\n",
       "      <td>0.000428</td>\n",
       "      <td>Springfield Gardens South</td>\n",
       "      <td>219</td>\n",
       "      <td>Queens</td>\n",
       "    </tr>\n",
       "    <tr>\n",
       "      <th>...</th>\n",
       "      <td>...</td>\n",
       "      <td>...</td>\n",
       "      <td>...</td>\n",
       "      <td>...</td>\n",
       "      <td>...</td>\n",
       "      <td>...</td>\n",
       "      <td>...</td>\n",
       "      <td>...</td>\n",
       "      <td>...</td>\n",
       "      <td>...</td>\n",
       "      <td>...</td>\n",
       "      <td>...</td>\n",
       "      <td>...</td>\n",
       "      <td>...</td>\n",
       "      <td>...</td>\n",
       "      <td>...</td>\n",
       "      <td>...</td>\n",
       "      <td>...</td>\n",
       "      <td>...</td>\n",
       "      <td>...</td>\n",
       "    </tr>\n",
       "    <tr>\n",
       "      <th>182</th>\n",
       "      <td>11434</td>\n",
       "      <td>0</td>\n",
       "      <td>Jamaica</td>\n",
       "      <td>57989.0</td>\n",
       "      <td>8.737970e+07</td>\n",
       "      <td>NY</td>\n",
       "      <td>Queens</td>\n",
       "      <td>36</td>\n",
       "      <td>081</td>\n",
       "      <td>http://www.usps.com/</td>\n",
       "      <td>0.0</td>\n",
       "      <td>0.0</td>\n",
       "      <td>POLYGON ((1048057.740 193045.403, 1049127.144 ...</td>\n",
       "      <td>214</td>\n",
       "      <td>215</td>\n",
       "      <td>0.103556</td>\n",
       "      <td>0.000396</td>\n",
       "      <td>South Jamaica</td>\n",
       "      <td>215</td>\n",
       "      <td>Queens</td>\n",
       "    </tr>\n",
       "    <tr>\n",
       "      <th>187</th>\n",
       "      <td>10019</td>\n",
       "      <td>0</td>\n",
       "      <td>New York</td>\n",
       "      <td>41966.0</td>\n",
       "      <td>1.882838e+07</td>\n",
       "      <td>NY</td>\n",
       "      <td>New York</td>\n",
       "      <td>36</td>\n",
       "      <td>061</td>\n",
       "      <td>http://www.usps.com/</td>\n",
       "      <td>0.0</td>\n",
       "      <td>0.0</td>\n",
       "      <td>POLYGON ((986161.713 220802.608, 986480.821 22...</td>\n",
       "      <td>49</td>\n",
       "      <td>50</td>\n",
       "      <td>0.055748</td>\n",
       "      <td>0.000173</td>\n",
       "      <td>Clinton West</td>\n",
       "      <td>50</td>\n",
       "      <td>Manhattan</td>\n",
       "    </tr>\n",
       "    <tr>\n",
       "      <th>256</th>\n",
       "      <td>10036</td>\n",
       "      <td>0</td>\n",
       "      <td>New York</td>\n",
       "      <td>23543.0</td>\n",
       "      <td>1.139511e+07</td>\n",
       "      <td>NY</td>\n",
       "      <td>New York</td>\n",
       "      <td>36</td>\n",
       "      <td>061</td>\n",
       "      <td>http://www.usps.com/</td>\n",
       "      <td>0.0</td>\n",
       "      <td>0.0</td>\n",
       "      <td>POLYGON ((989419.213 215672.088, 989967.295 21...</td>\n",
       "      <td>49</td>\n",
       "      <td>50</td>\n",
       "      <td>0.055748</td>\n",
       "      <td>0.000173</td>\n",
       "      <td>Clinton West</td>\n",
       "      <td>50</td>\n",
       "      <td>Manhattan</td>\n",
       "    </tr>\n",
       "    <tr>\n",
       "      <th>194</th>\n",
       "      <td>11370</td>\n",
       "      <td>0</td>\n",
       "      <td>Bronx</td>\n",
       "      <td>40591.0</td>\n",
       "      <td>1.819021e+07</td>\n",
       "      <td>NY</td>\n",
       "      <td>Bronx</td>\n",
       "      <td>36</td>\n",
       "      <td>005</td>\n",
       "      <td>http://www.usps.com/</td>\n",
       "      <td>0.0</td>\n",
       "      <td>0.0</td>\n",
       "      <td>POLYGON ((1013982.340 228008.359, 1013977.128 ...</td>\n",
       "      <td>198</td>\n",
       "      <td>199</td>\n",
       "      <td>0.077809</td>\n",
       "      <td>0.000289</td>\n",
       "      <td>Rikers Island</td>\n",
       "      <td>199</td>\n",
       "      <td>Bronx</td>\n",
       "    </tr>\n",
       "    <tr>\n",
       "      <th>253</th>\n",
       "      <td>10035</td>\n",
       "      <td>0</td>\n",
       "      <td>New York</td>\n",
       "      <td>34884.0</td>\n",
       "      <td>2.349487e+07</td>\n",
       "      <td>NY</td>\n",
       "      <td>New York</td>\n",
       "      <td>36</td>\n",
       "      <td>061</td>\n",
       "      <td>http://www.usps.com/</td>\n",
       "      <td>0.0</td>\n",
       "      <td>0.0</td>\n",
       "      <td>POLYGON ((1004345.970 230161.749, 1004358.650 ...</td>\n",
       "      <td>193</td>\n",
       "      <td>194</td>\n",
       "      <td>0.081794</td>\n",
       "      <td>0.000273</td>\n",
       "      <td>Randalls Island</td>\n",
       "      <td>194</td>\n",
       "      <td>Manhattan</td>\n",
       "    </tr>\n",
       "  </tbody>\n",
       "</table>\n",
       "<p>1055 rows × 20 columns</p>\n",
       "</div>"
      ],
      "text/plain": [
       "    ZIPCODE BLDGZIP              PO_NAME  POPULATION          AREA STATE  \\\n",
       "0     11436       0              Jamaica     18681.0  2.269930e+07    NY   \n",
       "115   11413       0  Springfield Gardens     39349.0  8.620850e+07    NY   \n",
       "119   11422       0             Rosedale     30139.0  6.012066e+07    NY   \n",
       "125   11430       0              Jamaica        16.0  1.999137e+08    NY   \n",
       "182   11434       0              Jamaica     57989.0  8.737970e+07    NY   \n",
       "..      ...     ...                  ...         ...           ...   ...   \n",
       "182   11434       0              Jamaica     57989.0  8.737970e+07    NY   \n",
       "187   10019       0             New York     41966.0  1.882838e+07    NY   \n",
       "256   10036       0             New York     23543.0  1.139511e+07    NY   \n",
       "194   11370       0                Bronx     40591.0  1.819021e+07    NY   \n",
       "253   10035       0             New York     34884.0  2.349487e+07    NY   \n",
       "\n",
       "       COUNTY ST_FIPS CTY_FIPS                   URL  SHAPE_AREA  SHAPE_LEN  \\\n",
       "0      Queens      36      081  http://www.usps.com/         0.0        0.0   \n",
       "115    Queens      36      081  http://www.usps.com/         0.0        0.0   \n",
       "119    Queens      36      081  http://www.usps.com/         0.0        0.0   \n",
       "125    Queens      36      081  http://www.usps.com/         0.0        0.0   \n",
       "182    Queens      36      081  http://www.usps.com/         0.0        0.0   \n",
       "..        ...     ...      ...                   ...         ...        ...   \n",
       "182    Queens      36      081  http://www.usps.com/         0.0        0.0   \n",
       "187  New York      36      061  http://www.usps.com/         0.0        0.0   \n",
       "256  New York      36      061  http://www.usps.com/         0.0        0.0   \n",
       "194     Bronx      36      005  http://www.usps.com/         0.0        0.0   \n",
       "253  New York      36      061  http://www.usps.com/         0.0        0.0   \n",
       "\n",
       "                                              geometry  index_right  OBJECTID  \\\n",
       "0    POLYGON ((1038098.252 188138.380, 1038141.936 ...          218       219   \n",
       "115  POLYGON ((1055125.234 190343.152, 1055862.479 ...          218       219   \n",
       "119  POLYGON ((1060642.852 188482.904, 1060648.786 ...          218       219   \n",
       "125  POLYGON ((1042671.561 182294.722, 1042664.029 ...          218       219   \n",
       "182  POLYGON ((1048057.740 193045.403, 1049127.144 ...          218       219   \n",
       "..                                                 ...          ...       ...   \n",
       "182  POLYGON ((1048057.740 193045.403, 1049127.144 ...          214       215   \n",
       "187  POLYGON ((986161.713 220802.608, 986480.821 22...           49        50   \n",
       "256  POLYGON ((989419.213 215672.088, 989967.295 21...           49        50   \n",
       "194  POLYGON ((1013982.340 228008.359, 1013977.128 ...          198       199   \n",
       "253  POLYGON ((1004345.970 230161.749, 1004358.650 ...          193       194   \n",
       "\n",
       "     Shape_Leng  Shape_Area                       zone  LocationID    borough  \n",
       "0      0.155127    0.000428  Springfield Gardens South         219     Queens  \n",
       "115    0.155127    0.000428  Springfield Gardens South         219     Queens  \n",
       "119    0.155127    0.000428  Springfield Gardens South         219     Queens  \n",
       "125    0.155127    0.000428  Springfield Gardens South         219     Queens  \n",
       "182    0.155127    0.000428  Springfield Gardens South         219     Queens  \n",
       "..          ...         ...                        ...         ...        ...  \n",
       "182    0.103556    0.000396              South Jamaica         215     Queens  \n",
       "187    0.055748    0.000173               Clinton West          50  Manhattan  \n",
       "256    0.055748    0.000173               Clinton West          50  Manhattan  \n",
       "194    0.077809    0.000289              Rikers Island         199      Bronx  \n",
       "253    0.081794    0.000273            Randalls Island         194  Manhattan  \n",
       "\n",
       "[1055 rows x 20 columns]"
      ]
     },
     "execution_count": 63,
     "metadata": {},
     "output_type": "execute_result"
    }
   ],
   "source": [
    "combine"
   ]
  },
  {
   "cell_type": "code",
   "execution_count": 58,
   "id": "d4276f76",
   "metadata": {},
   "outputs": [
    {
     "data": {
      "text/plain": [
       "167"
      ]
     },
     "execution_count": 58,
     "metadata": {},
     "output_type": "execute_result"
    }
   ],
   "source": [
    "combine['LocationID'].nunique()"
   ]
  },
  {
   "cell_type": "code",
   "execution_count": 41,
   "id": "6a58de6a",
   "metadata": {},
   "outputs": [],
   "source": [
    "combine2 = pd.DataFrame(combine)"
   ]
  },
  {
   "cell_type": "code",
   "execution_count": 42,
   "id": "9f4dea6b",
   "metadata": {
    "scrolled": true
   },
   "outputs": [
    {
     "ename": "KeyError",
     "evalue": "\"['BLDGpostal' '@id' 'longitude' 'latitude'] not found in axis\"",
     "output_type": "error",
     "traceback": [
      "\u001b[1;31m---------------------------------------------------------------------------\u001b[0m",
      "\u001b[1;31mKeyError\u001b[0m                                  Traceback (most recent call last)",
      "\u001b[1;32mC:\\Users\\BROBRO~1\\AppData\\Local\\Temp/ipykernel_24364/2028828437.py\u001b[0m in \u001b[0;36m<module>\u001b[1;34m\u001b[0m\n\u001b[1;32m----> 1\u001b[1;33m \u001b[0mcombine3\u001b[0m\u001b[1;33m=\u001b[0m\u001b[0mcombine2\u001b[0m\u001b[1;33m.\u001b[0m\u001b[0mdrop\u001b[0m\u001b[1;33m(\u001b[0m\u001b[1;33m[\u001b[0m\u001b[1;34m'geometry'\u001b[0m\u001b[1;33m,\u001b[0m\u001b[1;34m'STATE'\u001b[0m\u001b[1;33m,\u001b[0m\u001b[1;34m'ST_FIPS'\u001b[0m\u001b[1;33m,\u001b[0m\u001b[1;34m'BLDGpostal'\u001b[0m\u001b[1;33m,\u001b[0m\u001b[1;34m'@id'\u001b[0m\u001b[1;33m,\u001b[0m\u001b[1;34m'longitude'\u001b[0m\u001b[1;33m,\u001b[0m\u001b[1;34m'latitude'\u001b[0m\u001b[1;33m]\u001b[0m\u001b[1;33m,\u001b[0m\u001b[0maxis\u001b[0m\u001b[1;33m=\u001b[0m\u001b[1;36m1\u001b[0m\u001b[1;33m)\u001b[0m\u001b[1;33m\u001b[0m\u001b[1;33m\u001b[0m\u001b[0m\n\u001b[0m",
      "\u001b[1;32m~\\.conda\\envs\\geospatial\\lib\\site-packages\\pandas\\util\\_decorators.py\u001b[0m in \u001b[0;36mwrapper\u001b[1;34m(*args, **kwargs)\u001b[0m\n\u001b[0;32m    309\u001b[0m                     \u001b[0mstacklevel\u001b[0m\u001b[1;33m=\u001b[0m\u001b[0mstacklevel\u001b[0m\u001b[1;33m,\u001b[0m\u001b[1;33m\u001b[0m\u001b[1;33m\u001b[0m\u001b[0m\n\u001b[0;32m    310\u001b[0m                 )\n\u001b[1;32m--> 311\u001b[1;33m             \u001b[1;32mreturn\u001b[0m \u001b[0mfunc\u001b[0m\u001b[1;33m(\u001b[0m\u001b[1;33m*\u001b[0m\u001b[0margs\u001b[0m\u001b[1;33m,\u001b[0m \u001b[1;33m**\u001b[0m\u001b[0mkwargs\u001b[0m\u001b[1;33m)\u001b[0m\u001b[1;33m\u001b[0m\u001b[1;33m\u001b[0m\u001b[0m\n\u001b[0m\u001b[0;32m    312\u001b[0m \u001b[1;33m\u001b[0m\u001b[0m\n\u001b[0;32m    313\u001b[0m         \u001b[1;32mreturn\u001b[0m \u001b[0mwrapper\u001b[0m\u001b[1;33m\u001b[0m\u001b[1;33m\u001b[0m\u001b[0m\n",
      "\u001b[1;32m~\\.conda\\envs\\geospatial\\lib\\site-packages\\pandas\\core\\frame.py\u001b[0m in \u001b[0;36mdrop\u001b[1;34m(self, labels, axis, index, columns, level, inplace, errors)\u001b[0m\n\u001b[0;32m   4899\u001b[0m                 \u001b[0mweight\u001b[0m  \u001b[1;36m1.0\u001b[0m     \u001b[1;36m0.8\u001b[0m\u001b[1;33m\u001b[0m\u001b[1;33m\u001b[0m\u001b[0m\n\u001b[0;32m   4900\u001b[0m         \"\"\"\n\u001b[1;32m-> 4901\u001b[1;33m         return super().drop(\n\u001b[0m\u001b[0;32m   4902\u001b[0m             \u001b[0mlabels\u001b[0m\u001b[1;33m=\u001b[0m\u001b[0mlabels\u001b[0m\u001b[1;33m,\u001b[0m\u001b[1;33m\u001b[0m\u001b[1;33m\u001b[0m\u001b[0m\n\u001b[0;32m   4903\u001b[0m             \u001b[0maxis\u001b[0m\u001b[1;33m=\u001b[0m\u001b[0maxis\u001b[0m\u001b[1;33m,\u001b[0m\u001b[1;33m\u001b[0m\u001b[1;33m\u001b[0m\u001b[0m\n",
      "\u001b[1;32m~\\.conda\\envs\\geospatial\\lib\\site-packages\\pandas\\core\\generic.py\u001b[0m in \u001b[0;36mdrop\u001b[1;34m(self, labels, axis, index, columns, level, inplace, errors)\u001b[0m\n\u001b[0;32m   4145\u001b[0m         \u001b[1;32mfor\u001b[0m \u001b[0maxis\u001b[0m\u001b[1;33m,\u001b[0m \u001b[0mlabels\u001b[0m \u001b[1;32min\u001b[0m \u001b[0maxes\u001b[0m\u001b[1;33m.\u001b[0m\u001b[0mitems\u001b[0m\u001b[1;33m(\u001b[0m\u001b[1;33m)\u001b[0m\u001b[1;33m:\u001b[0m\u001b[1;33m\u001b[0m\u001b[1;33m\u001b[0m\u001b[0m\n\u001b[0;32m   4146\u001b[0m             \u001b[1;32mif\u001b[0m \u001b[0mlabels\u001b[0m \u001b[1;32mis\u001b[0m \u001b[1;32mnot\u001b[0m \u001b[1;32mNone\u001b[0m\u001b[1;33m:\u001b[0m\u001b[1;33m\u001b[0m\u001b[1;33m\u001b[0m\u001b[0m\n\u001b[1;32m-> 4147\u001b[1;33m                 \u001b[0mobj\u001b[0m \u001b[1;33m=\u001b[0m \u001b[0mobj\u001b[0m\u001b[1;33m.\u001b[0m\u001b[0m_drop_axis\u001b[0m\u001b[1;33m(\u001b[0m\u001b[0mlabels\u001b[0m\u001b[1;33m,\u001b[0m \u001b[0maxis\u001b[0m\u001b[1;33m,\u001b[0m \u001b[0mlevel\u001b[0m\u001b[1;33m=\u001b[0m\u001b[0mlevel\u001b[0m\u001b[1;33m,\u001b[0m \u001b[0merrors\u001b[0m\u001b[1;33m=\u001b[0m\u001b[0merrors\u001b[0m\u001b[1;33m)\u001b[0m\u001b[1;33m\u001b[0m\u001b[1;33m\u001b[0m\u001b[0m\n\u001b[0m\u001b[0;32m   4148\u001b[0m \u001b[1;33m\u001b[0m\u001b[0m\n\u001b[0;32m   4149\u001b[0m         \u001b[1;32mif\u001b[0m \u001b[0minplace\u001b[0m\u001b[1;33m:\u001b[0m\u001b[1;33m\u001b[0m\u001b[1;33m\u001b[0m\u001b[0m\n",
      "\u001b[1;32m~\\.conda\\envs\\geospatial\\lib\\site-packages\\pandas\\core\\generic.py\u001b[0m in \u001b[0;36m_drop_axis\u001b[1;34m(self, labels, axis, level, errors)\u001b[0m\n\u001b[0;32m   4180\u001b[0m                 \u001b[0mnew_axis\u001b[0m \u001b[1;33m=\u001b[0m \u001b[0maxis\u001b[0m\u001b[1;33m.\u001b[0m\u001b[0mdrop\u001b[0m\u001b[1;33m(\u001b[0m\u001b[0mlabels\u001b[0m\u001b[1;33m,\u001b[0m \u001b[0mlevel\u001b[0m\u001b[1;33m=\u001b[0m\u001b[0mlevel\u001b[0m\u001b[1;33m,\u001b[0m \u001b[0merrors\u001b[0m\u001b[1;33m=\u001b[0m\u001b[0merrors\u001b[0m\u001b[1;33m)\u001b[0m\u001b[1;33m\u001b[0m\u001b[1;33m\u001b[0m\u001b[0m\n\u001b[0;32m   4181\u001b[0m             \u001b[1;32melse\u001b[0m\u001b[1;33m:\u001b[0m\u001b[1;33m\u001b[0m\u001b[1;33m\u001b[0m\u001b[0m\n\u001b[1;32m-> 4182\u001b[1;33m                 \u001b[0mnew_axis\u001b[0m \u001b[1;33m=\u001b[0m \u001b[0maxis\u001b[0m\u001b[1;33m.\u001b[0m\u001b[0mdrop\u001b[0m\u001b[1;33m(\u001b[0m\u001b[0mlabels\u001b[0m\u001b[1;33m,\u001b[0m \u001b[0merrors\u001b[0m\u001b[1;33m=\u001b[0m\u001b[0merrors\u001b[0m\u001b[1;33m)\u001b[0m\u001b[1;33m\u001b[0m\u001b[1;33m\u001b[0m\u001b[0m\n\u001b[0m\u001b[0;32m   4183\u001b[0m             \u001b[0mresult\u001b[0m \u001b[1;33m=\u001b[0m \u001b[0mself\u001b[0m\u001b[1;33m.\u001b[0m\u001b[0mreindex\u001b[0m\u001b[1;33m(\u001b[0m\u001b[1;33m**\u001b[0m\u001b[1;33m{\u001b[0m\u001b[0maxis_name\u001b[0m\u001b[1;33m:\u001b[0m \u001b[0mnew_axis\u001b[0m\u001b[1;33m}\u001b[0m\u001b[1;33m)\u001b[0m\u001b[1;33m\u001b[0m\u001b[1;33m\u001b[0m\u001b[0m\n\u001b[0;32m   4184\u001b[0m \u001b[1;33m\u001b[0m\u001b[0m\n",
      "\u001b[1;32m~\\.conda\\envs\\geospatial\\lib\\site-packages\\pandas\\core\\indexes\\base.py\u001b[0m in \u001b[0;36mdrop\u001b[1;34m(self, labels, errors)\u001b[0m\n\u001b[0;32m   6016\u001b[0m         \u001b[1;32mif\u001b[0m \u001b[0mmask\u001b[0m\u001b[1;33m.\u001b[0m\u001b[0many\u001b[0m\u001b[1;33m(\u001b[0m\u001b[1;33m)\u001b[0m\u001b[1;33m:\u001b[0m\u001b[1;33m\u001b[0m\u001b[1;33m\u001b[0m\u001b[0m\n\u001b[0;32m   6017\u001b[0m             \u001b[1;32mif\u001b[0m \u001b[0merrors\u001b[0m \u001b[1;33m!=\u001b[0m \u001b[1;34m\"ignore\"\u001b[0m\u001b[1;33m:\u001b[0m\u001b[1;33m\u001b[0m\u001b[1;33m\u001b[0m\u001b[0m\n\u001b[1;32m-> 6018\u001b[1;33m                 \u001b[1;32mraise\u001b[0m \u001b[0mKeyError\u001b[0m\u001b[1;33m(\u001b[0m\u001b[1;34mf\"{labels[mask]} not found in axis\"\u001b[0m\u001b[1;33m)\u001b[0m\u001b[1;33m\u001b[0m\u001b[1;33m\u001b[0m\u001b[0m\n\u001b[0m\u001b[0;32m   6019\u001b[0m             \u001b[0mindexer\u001b[0m \u001b[1;33m=\u001b[0m \u001b[0mindexer\u001b[0m\u001b[1;33m[\u001b[0m\u001b[1;33m~\u001b[0m\u001b[0mmask\u001b[0m\u001b[1;33m]\u001b[0m\u001b[1;33m\u001b[0m\u001b[1;33m\u001b[0m\u001b[0m\n\u001b[0;32m   6020\u001b[0m         \u001b[1;32mreturn\u001b[0m \u001b[0mself\u001b[0m\u001b[1;33m.\u001b[0m\u001b[0mdelete\u001b[0m\u001b[1;33m(\u001b[0m\u001b[0mindexer\u001b[0m\u001b[1;33m)\u001b[0m\u001b[1;33m\u001b[0m\u001b[1;33m\u001b[0m\u001b[0m\n",
      "\u001b[1;31mKeyError\u001b[0m: \"['BLDGpostal' '@id' 'longitude' 'latitude'] not found in axis\""
     ]
    }
   ],
   "source": [
    "combine3=combine2.drop(['geometry','STATE','ST_FIPS','BLDGpostal','@id','longitude','latitude'],axis=1)"
   ]
  },
  {
   "cell_type": "code",
   "execution_count": 44,
   "id": "cdf97786",
   "metadata": {},
   "outputs": [
    {
     "data": {
      "text/plain": [
       "161    13\n",
       "162    11\n",
       "87     11\n",
       "163     5\n",
       "101     4\n",
       "       ..\n",
       "116     1\n",
       "212     1\n",
       "119     1\n",
       "244     1\n",
       "143     1\n",
       "Name: LocationID, Length: 167, dtype: int64"
      ]
     },
     "execution_count": 44,
     "metadata": {},
     "output_type": "execute_result"
    }
   ],
   "source": [
    "combine3['LocationID'].value_counts()"
   ]
  },
  {
   "cell_type": "code",
   "execution_count": null,
   "id": "82c93448",
   "metadata": {},
   "outputs": [],
   "source": [
    "joined=combine3.merge(taxi.set_index('LocationID'), on='LocationID')"
   ]
  },
  {
   "cell_type": "code",
   "execution_count": null,
   "id": "ddb0578b",
   "metadata": {
    "scrolled": true
   },
   "outputs": [],
   "source": [
    "joined.info()"
   ]
  },
  {
   "cell_type": "code",
   "execution_count": null,
   "id": "7103460d",
   "metadata": {},
   "outputs": [],
   "source": [
    "joined.to_csv('../../Data/combined map test2.csv')"
   ]
  },
  {
   "cell_type": "code",
   "execution_count": 2,
   "id": "970b49e4",
   "metadata": {},
   "outputs": [],
   "source": [
    "joined=pd.read_csv('../../Data/combined map test2.csv')"
   ]
  },
  {
   "cell_type": "code",
   "execution_count": 6,
   "id": "6f809ada",
   "metadata": {},
   "outputs": [],
   "source": [
    "joined['geometry'] = joined['geometry'].apply(wkt.loads)\n",
    "gdf = gpd.GeoDataFrame(joined, crs='epsg:4326')"
   ]
  },
  {
   "cell_type": "code",
   "execution_count": 9,
   "id": "31a46c4e",
   "metadata": {},
   "outputs": [],
   "source": [
    "gdf.to_file('../../Data/combined map test3.shp')"
   ]
  },
  {
   "cell_type": "code",
   "execution_count": 12,
   "id": "a35d4cd9",
   "metadata": {},
   "outputs": [
    {
     "data": {
      "text/plain": [
       "161    13\n",
       "87     11\n",
       "162    11\n",
       "163     5\n",
       "2       4\n",
       "       ..\n",
       "74      1\n",
       "151     1\n",
       "194     1\n",
       "252     1\n",
       "143     1\n",
       "Name: OBJECTID, Length: 170, dtype: int64"
      ]
     },
     "execution_count": 12,
     "metadata": {},
     "output_type": "execute_result"
    }
   ],
   "source": [
    "gdf['OBJECTID'].value_counts()"
   ]
  },
  {
   "cell_type": "code",
   "execution_count": 19,
   "id": "af323938",
   "metadata": {},
   "outputs": [
    {
     "data": {
      "text/plain": [
       "161    13\n",
       "162    11\n",
       "87     11\n",
       "103     6\n",
       "163     5\n",
       "       ..\n",
       "171     1\n",
       "16      1\n",
       "179     1\n",
       "91      1\n",
       "143     1\n",
       "Name: LocationID, Length: 167, dtype: int64"
      ]
     },
     "execution_count": 19,
     "metadata": {},
     "output_type": "execute_result"
    }
   ],
   "source": [
    "joined['LocationID'].value_counts()"
   ]
  },
  {
   "cell_type": "code",
   "execution_count": 18,
   "id": "f23549c1",
   "metadata": {},
   "outputs": [
    {
     "name": "stdout",
     "output_type": "stream",
     "text": [
      "<class 'pandas.core.frame.DataFrame'>\n",
      "RangeIndex: 266 entries, 0 to 265\n",
      "Data columns (total 19 columns):\n",
      " #   Column          Non-Null Count  Dtype   \n",
      "---  ------          --------------  -----   \n",
      " 0   Unnamed: 0      266 non-null    int64   \n",
      " 1   OBJECTID_left   266 non-null    int64   \n",
      " 2   postalCode      266 non-null    int64   \n",
      " 3   PO_NAME         266 non-null    object  \n",
      " 4   borough_left    266 non-null    object  \n",
      " 5   CTY_FIPS        266 non-null    int64   \n",
      " 6   index_right     266 non-null    int64   \n",
      " 7   OBJECTID_right  266 non-null    int64   \n",
      " 8   Shape_Leng_x    266 non-null    float64 \n",
      " 9   Shape_Area_x    266 non-null    float64 \n",
      " 10  zone_x          266 non-null    object  \n",
      " 11  LocationID      266 non-null    int64   \n",
      " 12  borough_right   266 non-null    object  \n",
      " 13  OBJECTID        266 non-null    int64   \n",
      " 14  Shape_Leng_y    266 non-null    float64 \n",
      " 15  Shape_Area_y    266 non-null    float64 \n",
      " 16  zone_y          266 non-null    object  \n",
      " 17  borough         266 non-null    object  \n",
      " 18  geometry        266 non-null    geometry\n",
      "dtypes: float64(4), geometry(1), int64(8), object(6)\n",
      "memory usage: 39.6+ KB\n"
     ]
    }
   ],
   "source": [
    "joined.info()"
   ]
  },
  {
   "cell_type": "code",
   "execution_count": null,
   "id": "19bf3cb5",
   "metadata": {},
   "outputs": [],
   "source": []
  }
 ],
 "metadata": {
  "kernelspec": {
   "display_name": "Python 3 (ipykernel)",
   "language": "python",
   "name": "python3"
  },
  "language_info": {
   "codemirror_mode": {
    "name": "ipython",
    "version": 3
   },
   "file_extension": ".py",
   "mimetype": "text/x-python",
   "name": "python",
   "nbconvert_exporter": "python",
   "pygments_lexer": "ipython3",
   "version": "3.8.5"
  }
 },
 "nbformat": 4,
 "nbformat_minor": 5
}
