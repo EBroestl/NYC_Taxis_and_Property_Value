{
 "cells": [
  {
   "cell_type": "code",
   "execution_count": 2,
   "id": "2f5ddda3",
   "metadata": {},
   "outputs": [
    {
     "ename": "ModuleNotFoundError",
     "evalue": "No module named 'geopy'",
     "output_type": "error",
     "traceback": [
      "\u001b[1;31m---------------------------------------------------------------------------\u001b[0m",
      "\u001b[1;31mModuleNotFoundError\u001b[0m                       Traceback (most recent call last)",
      "\u001b[1;32mC:\\Users\\BROBRO~1\\AppData\\Local\\Temp/ipykernel_2920/2873859257.py\u001b[0m in \u001b[0;36m<module>\u001b[1;34m\u001b[0m\n\u001b[0;32m      2\u001b[0m \u001b[1;32mimport\u001b[0m \u001b[0mrequests\u001b[0m\u001b[1;33m\u001b[0m\u001b[1;33m\u001b[0m\u001b[0m\n\u001b[0;32m      3\u001b[0m \u001b[1;32mimport\u001b[0m \u001b[0mos\u001b[0m\u001b[1;33m\u001b[0m\u001b[1;33m\u001b[0m\u001b[0m\n\u001b[1;32m----> 4\u001b[1;33m \u001b[1;32mfrom\u001b[0m \u001b[0mgeopy\u001b[0m \u001b[1;32mimport\u001b[0m \u001b[0mgeocoders\u001b[0m\u001b[1;33m\u001b[0m\u001b[1;33m\u001b[0m\u001b[0m\n\u001b[0m\u001b[0;32m      5\u001b[0m \u001b[1;32mfrom\u001b[0m \u001b[0mgeopy\u001b[0m\u001b[1;33m.\u001b[0m\u001b[0mgeocoders\u001b[0m \u001b[1;32mimport\u001b[0m \u001b[0mGoogleV3\u001b[0m\u001b[1;33m\u001b[0m\u001b[1;33m\u001b[0m\u001b[0m\n",
      "\u001b[1;31mModuleNotFoundError\u001b[0m: No module named 'geopy'"
     ]
    }
   ],
   "source": [
    "import pandas as pd\n",
    "import requests\n",
    "import os\n",
    "from geopy import geocoders\n",
    "from geopy.geocoders import GoogleV3"
   ]
  },
  {
   "cell_type": "code",
   "execution_count": 3,
   "id": "c9cb0d82",
   "metadata": {},
   "outputs": [
    {
     "name": "stdout",
     "output_type": "stream",
     "text": [
      "Note: you may need to restart the kernel to use updated packages.\n"
     ]
    },
    {
     "name": "stderr",
     "output_type": "stream",
     "text": [
      "'C:\\Users\\Bro' is not recognized as an internal or external command,\n",
      "operable program or batch file.\n"
     ]
    }
   ],
   "source": [
    "pip install geopy"
   ]
  },
  {
   "cell_type": "code",
   "execution_count": null,
   "id": "a1aa596c",
   "metadata": {},
   "outputs": [],
   "source": [
    "df=pd.read_csv('../../Data/Prop Address Test.csv')"
   ]
  },
  {
   "cell_type": "code",
   "execution_count": null,
   "id": "ead66f66",
   "metadata": {},
   "outputs": [],
   "source": [
    "df"
   ]
  },
  {
   "cell_type": "code",
   "execution_count": null,
   "id": "9eba645d",
   "metadata": {},
   "outputs": [],
   "source": [
    "API_KEY = NOT GONNA STEAL MY SECRETS\n",
    "g = GoogleV3(api_key=API_KEY)\n",
    "\n",
    "\n",
    "loc_coordinates = []\n",
    "loc_address = []\n",
    "for x in df['concat address']:\n",
    "    try:\n",
    "        inputAddress = x\n",
    "        location = g.geocode(x, timeout=15)\n",
    "        loc_coordinates.append((location.latitude, location.longitude))\n",
    "        loc_address.append(x)\n",
    "    except Exception as e:\n",
    "        print('Error, skipping address...', e)\n",
    "\n",
    "\n",
    "df_geocodes = pd.DataFrame({'coordinate':loc_coordinates,'address':loc_address})"
   ]
  },
  {
   "cell_type": "code",
   "execution_count": null,
   "id": "7d3a6219",
   "metadata": {},
   "outputs": [],
   "source": [
    "df_geocodes.to_csv('../Data Files/Addresses_and_Lat_Long.csv')"
   ]
  },
  {
   "cell_type": "code",
   "execution_count": null,
   "id": "3d352b34",
   "metadata": {},
   "outputs": [],
   "source": [
    "df['address']=df['concat address']"
   ]
  },
  {
   "cell_type": "code",
   "execution_count": null,
   "id": "2e768721",
   "metadata": {
    "scrolled": true
   },
   "outputs": [],
   "source": [
    "merge_df=df.merge(df_geocodes, how='left', left_on='address', right_on ='address')"
   ]
  },
  {
   "cell_type": "code",
   "execution_count": null,
   "id": "b2b0a53f",
   "metadata": {
    "scrolled": true
   },
   "outputs": [],
   "source": [
    "merge_df.drop(columns=['concat address'],axis=1)"
   ]
  },
  {
   "cell_type": "code",
   "execution_count": null,
   "id": "bbaa4e19",
   "metadata": {},
   "outputs": [],
   "source": [
    "df1.to_csv('../Data Files/NPI_and_addresses_cleaned_geo.csv')"
   ]
  },
  {
   "cell_type": "code",
   "execution_count": null,
   "id": "cbe22b45",
   "metadata": {},
   "outputs": [],
   "source": [
    "merge_df"
   ]
  },
  {
   "cell_type": "code",
   "execution_count": null,
   "id": "bb5c1b7f",
   "metadata": {},
   "outputs": [],
   "source": [
    "split=df1['coordinate'].str.strip('()')                               \\\n",
    "                   .str.split(', ', expand=True)                   \\\n",
    "                   .rename(columns={0:'Latitude', 1:'Longitude'})"
   ]
  },
  {
   "cell_type": "code",
   "execution_count": null,
   "id": "027f5867",
   "metadata": {},
   "outputs": [],
   "source": [
    "df2=df1.join(split)"
   ]
  },
  {
   "cell_type": "code",
   "execution_count": null,
   "id": "afd1a7a0",
   "metadata": {},
   "outputs": [],
   "source": [
    "df2"
   ]
  },
  {
   "cell_type": "code",
   "execution_count": null,
   "id": "29ea43a2",
   "metadata": {},
   "outputs": [],
   "source": [
    "df2=pd.read_csv('../Data Files/NPI_and_addresses_cleaned_geo.csv')"
   ]
  },
  {
   "cell_type": "code",
   "execution_count": null,
   "id": "a076bf57",
   "metadata": {},
   "outputs": [],
   "source": []
  }
 ],
 "metadata": {
  "kernelspec": {
   "display_name": "Python 3 (ipykernel)",
   "language": "python",
   "name": "python3"
  },
  "language_info": {
   "codemirror_mode": {
    "name": "ipython",
    "version": 3
   },
   "file_extension": ".py",
   "mimetype": "text/x-python",
   "name": "python",
   "nbconvert_exporter": "python",
   "pygments_lexer": "ipython3",
   "version": "3.8.5"
  }
 },
 "nbformat": 4,
 "nbformat_minor": 5
}
