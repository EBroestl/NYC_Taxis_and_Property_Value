{
 "cells": [
  {
   "cell_type": "code",
   "execution_count": 1,
   "id": "ff633cd3",
   "metadata": {},
   "outputs": [],
   "source": [
    "from shapely.geometry import Point\n",
    "import pandas as pd\n",
    "import geopandas as gpd\n",
    "import matplotlib.pyplot as plt\n",
    "import folium\n",
    "from folium.plugins import MarkerCluster\n",
    "from folium.plugins import FastMarkerCluster\n",
    "import xlrd\n",
    "import time\n",
    "from IPython.display import Audio"
   ]
  },
  {
   "cell_type": "code",
   "execution_count": 2,
   "id": "d935c92e",
   "metadata": {},
   "outputs": [],
   "source": [
    "#finish indicator\n",
    "wow = '../../Data/Wow.mp3'\n",
    "finished=Audio(url = wow, autoplay = True) "
   ]
  },
  {
   "cell_type": "code",
   "execution_count": 3,
   "id": "8d9b03ba",
   "metadata": {},
   "outputs": [],
   "source": [
    "#notebook complete indicator\n",
    "notebook = '../../Data/Hugo Good Job.mp3'\n",
    "complete=Audio(url = notebook, autoplay = True)"
   ]
  },
  {
   "cell_type": "code",
   "execution_count": 4,
   "id": "bdee617c",
   "metadata": {},
   "outputs": [],
   "source": [
    "map = gpd.read_file('../../Data/NYC_Geo_prayer.json')"
   ]
  },
  {
   "cell_type": "code",
   "execution_count": 5,
   "id": "79c52963",
   "metadata": {},
   "outputs": [],
   "source": [
    "map=map[['postalCode','PO_NAME','borough','geometry']]"
   ]
  },
  {
   "cell_type": "code",
   "execution_count": 6,
   "id": "ca220d6b",
   "metadata": {},
   "outputs": [
    {
     "name": "stderr",
     "output_type": "stream",
     "text": [
      "C:\\Users\\Bro Bro\\.conda\\envs\\geospatial\\lib\\site-packages\\IPython\\core\\interactiveshell.py:3441: DtypeWarning: Columns (8) have mixed types.Specify dtype option on import or set low_memory=False.\n",
      "  exec(code_obj, self.user_global_ns, self.user_ns)\n"
     ]
    }
   ],
   "source": [
    "df=pd.read_csv('../../Data/Taxi Data/yellow_14/yellow_tripdata_2014-12.csv')"
   ]
  },
  {
   "cell_type": "markdown",
   "id": "ec4ca319",
   "metadata": {},
   "source": [
    "df.info()"
   ]
  },
  {
   "cell_type": "markdown",
   "id": "59e78d4d",
   "metadata": {},
   "source": [
    "df2=df.head(100)"
   ]
  },
  {
   "cell_type": "markdown",
   "id": "1df5ff2f",
   "metadata": {},
   "source": [
    "df2.columns"
   ]
  },
  {
   "cell_type": "code",
   "execution_count": 7,
   "id": "235b80e6",
   "metadata": {
    "scrolled": true
   },
   "outputs": [
    {
     "name": "stdout",
     "output_type": "stream",
     "text": [
      "--- 830.0735700130463 seconds ---\n"
     ]
    },
    {
     "data": {
      "text/html": [
       "\n",
       "                <audio  controls=\"controls\" autoplay=\"autoplay\">\n",
       "                    <source src=\"../../Data/Wow.mp3\" type=\"audio/mpeg\" />\n",
       "                    Your browser does not support the audio element.\n",
       "                </audio>\n",
       "              "
      ],
      "text/plain": [
       "<IPython.lib.display.Audio object>"
      ]
     },
     "execution_count": 7,
     "metadata": {},
     "output_type": "execute_result"
    }
   ],
   "source": [
    "start_time = time.time()\n",
    "\n",
    "df['dropoff_geometry'] = df.apply(lambda x: Point((float(x[' dropoff_longitude']), \n",
    "                                             float(x[' dropoff_latitude']))), \n",
    "                                             axis=1)\n",
    "\n",
    "print(\"--- %s seconds ---\" % (time.time() - start_time))\n",
    "finished"
   ]
  },
  {
   "cell_type": "code",
   "execution_count": 8,
   "id": "402b52c8",
   "metadata": {},
   "outputs": [
    {
     "name": "stdout",
     "output_type": "stream",
     "text": [
      "--- 806.7727379798889 seconds ---\n"
     ]
    },
    {
     "data": {
      "text/html": [
       "\n",
       "                <audio  controls=\"controls\" autoplay=\"autoplay\">\n",
       "                    <source src=\"../../Data/Wow.mp3\" type=\"audio/mpeg\" />\n",
       "                    Your browser does not support the audio element.\n",
       "                </audio>\n",
       "              "
      ],
      "text/plain": [
       "<IPython.lib.display.Audio object>"
      ]
     },
     "execution_count": 8,
     "metadata": {},
     "output_type": "execute_result"
    }
   ],
   "source": [
    "start_time = time.time()\n",
    "\n",
    "df['pickup_geometry'] = df.apply(lambda x: Point((float(x[' pickup_longitude']), \n",
    "                                             float(x[' pickup_latitude']))), \n",
    "                                             axis=1)\n",
    "\n",
    "print(\"--- %s seconds ---\" % (time.time() - start_time))\n",
    "finished"
   ]
  },
  {
   "cell_type": "code",
   "execution_count": 9,
   "id": "013ce29f",
   "metadata": {},
   "outputs": [
    {
     "data": {
      "text/html": [
       "<div>\n",
       "<style scoped>\n",
       "    .dataframe tbody tr th:only-of-type {\n",
       "        vertical-align: middle;\n",
       "    }\n",
       "\n",
       "    .dataframe tbody tr th {\n",
       "        vertical-align: top;\n",
       "    }\n",
       "\n",
       "    .dataframe thead th {\n",
       "        text-align: right;\n",
       "    }\n",
       "</style>\n",
       "<table border=\"1\" class=\"dataframe\">\n",
       "  <thead>\n",
       "    <tr style=\"text-align: right;\">\n",
       "      <th></th>\n",
       "      <th>vendor_id</th>\n",
       "      <th>pickup_datetime</th>\n",
       "      <th>dropoff_datetime</th>\n",
       "      <th>passenger_count</th>\n",
       "      <th>trip_distance</th>\n",
       "      <th>pickup_longitude</th>\n",
       "      <th>pickup_latitude</th>\n",
       "      <th>rate_code</th>\n",
       "      <th>store_and_fwd_flag</th>\n",
       "      <th>dropoff_longitude</th>\n",
       "      <th>dropoff_latitude</th>\n",
       "      <th>payment_type</th>\n",
       "      <th>fare_amount</th>\n",
       "      <th>surcharge</th>\n",
       "      <th>mta_tax</th>\n",
       "      <th>tip_amount</th>\n",
       "      <th>tolls_amount</th>\n",
       "      <th>total_amount</th>\n",
       "      <th>dropoff_geometry</th>\n",
       "      <th>pickup_geometry</th>\n",
       "    </tr>\n",
       "  </thead>\n",
       "  <tbody>\n",
       "    <tr>\n",
       "      <th>0</th>\n",
       "      <td>VTS</td>\n",
       "      <td>2014-12-12 18:16:00</td>\n",
       "      <td>2014-12-12 18:35:00</td>\n",
       "      <td>3</td>\n",
       "      <td>4.03</td>\n",
       "      <td>-74.014050</td>\n",
       "      <td>40.711707</td>\n",
       "      <td>1</td>\n",
       "      <td>NaN</td>\n",
       "      <td>-73.995627</td>\n",
       "      <td>40.759462</td>\n",
       "      <td>CSH</td>\n",
       "      <td>16.0</td>\n",
       "      <td>1.0</td>\n",
       "      <td>0.5</td>\n",
       "      <td>0.0</td>\n",
       "      <td>0.0</td>\n",
       "      <td>17.5</td>\n",
       "      <td>POINT (-73.995627 40.759462)</td>\n",
       "      <td>POINT (-74.01404999999998 40.711707)</td>\n",
       "    </tr>\n",
       "    <tr>\n",
       "      <th>1</th>\n",
       "      <td>VTS</td>\n",
       "      <td>2014-12-12 18:18:00</td>\n",
       "      <td>2014-12-12 18:36:00</td>\n",
       "      <td>1</td>\n",
       "      <td>4.10</td>\n",
       "      <td>-73.945877</td>\n",
       "      <td>40.780525</td>\n",
       "      <td>1</td>\n",
       "      <td>NaN</td>\n",
       "      <td>-73.972558</td>\n",
       "      <td>40.740458</td>\n",
       "      <td>CRD</td>\n",
       "      <td>15.0</td>\n",
       "      <td>1.0</td>\n",
       "      <td>0.5</td>\n",
       "      <td>4.0</td>\n",
       "      <td>0.0</td>\n",
       "      <td>20.5</td>\n",
       "      <td>POINT (-73.97255800000001 40.740458)</td>\n",
       "      <td>POINT (-73.94587699999998 40.780525)</td>\n",
       "    </tr>\n",
       "    <tr>\n",
       "      <th>2</th>\n",
       "      <td>VTS</td>\n",
       "      <td>2014-12-12 18:31:00</td>\n",
       "      <td>2014-12-12 18:35:00</td>\n",
       "      <td>1</td>\n",
       "      <td>0.96</td>\n",
       "      <td>-73.961450</td>\n",
       "      <td>40.796260</td>\n",
       "      <td>1</td>\n",
       "      <td>NaN</td>\n",
       "      <td>-73.955630</td>\n",
       "      <td>40.787760</td>\n",
       "      <td>CSH</td>\n",
       "      <td>5.5</td>\n",
       "      <td>1.0</td>\n",
       "      <td>0.5</td>\n",
       "      <td>0.0</td>\n",
       "      <td>0.0</td>\n",
       "      <td>7.0</td>\n",
       "      <td>POINT (-73.95563 40.78776)</td>\n",
       "      <td>POINT (-73.96145 40.79626)</td>\n",
       "    </tr>\n",
       "  </tbody>\n",
       "</table>\n",
       "</div>"
      ],
      "text/plain": [
       "  vendor_id      pickup_datetime     dropoff_datetime   passenger_count  \\\n",
       "0       VTS  2014-12-12 18:16:00  2014-12-12 18:35:00                 3   \n",
       "1       VTS  2014-12-12 18:18:00  2014-12-12 18:36:00                 1   \n",
       "2       VTS  2014-12-12 18:31:00  2014-12-12 18:35:00                 1   \n",
       "\n",
       "    trip_distance   pickup_longitude   pickup_latitude   rate_code  \\\n",
       "0            4.03         -74.014050         40.711707           1   \n",
       "1            4.10         -73.945877         40.780525           1   \n",
       "2            0.96         -73.961450         40.796260           1   \n",
       "\n",
       "   store_and_fwd_flag   dropoff_longitude   dropoff_latitude  payment_type  \\\n",
       "0                 NaN          -73.995627          40.759462           CSH   \n",
       "1                 NaN          -73.972558          40.740458           CRD   \n",
       "2                 NaN          -73.955630          40.787760           CSH   \n",
       "\n",
       "    fare_amount   surcharge   mta_tax   tip_amount   tolls_amount  \\\n",
       "0          16.0         1.0       0.5          0.0            0.0   \n",
       "1          15.0         1.0       0.5          4.0            0.0   \n",
       "2           5.5         1.0       0.5          0.0            0.0   \n",
       "\n",
       "    total_amount                      dropoff_geometry  \\\n",
       "0           17.5          POINT (-73.995627 40.759462)   \n",
       "1           20.5  POINT (-73.97255800000001 40.740458)   \n",
       "2            7.0            POINT (-73.95563 40.78776)   \n",
       "\n",
       "                        pickup_geometry  \n",
       "0  POINT (-74.01404999999998 40.711707)  \n",
       "1  POINT (-73.94587699999998 40.780525)  \n",
       "2            POINT (-73.96145 40.79626)  "
      ]
     },
     "execution_count": 9,
     "metadata": {},
     "output_type": "execute_result"
    }
   ],
   "source": [
    "df.head(3)"
   ]
  },
  {
   "cell_type": "code",
   "execution_count": 10,
   "id": "856b94cf",
   "metadata": {
    "scrolled": false
   },
   "outputs": [],
   "source": [
    "df2_start=df[[' passenger_count',' trip_distance',' fare_amount',' mta_tax',' tip_amount',' tolls_amount','pickup_geometry']]"
   ]
  },
  {
   "cell_type": "code",
   "execution_count": 11,
   "id": "4c35b8b5",
   "metadata": {},
   "outputs": [],
   "source": [
    "df2_end=df[['dropoff_geometry']]"
   ]
  },
  {
   "cell_type": "code",
   "execution_count": 12,
   "id": "1ff0d0d1",
   "metadata": {},
   "outputs": [
    {
     "name": "stdout",
     "output_type": "stream",
     "text": [
      "--- 108.0798089504242 seconds ---\n"
     ]
    },
    {
     "data": {
      "text/html": [
       "\n",
       "                <audio  controls=\"controls\" autoplay=\"autoplay\">\n",
       "                    <source src=\"../../Data/Wow.mp3\" type=\"audio/mpeg\" />\n",
       "                    Your browser does not support the audio element.\n",
       "                </audio>\n",
       "              "
      ],
      "text/plain": [
       "<IPython.lib.display.Audio object>"
      ]
     },
     "execution_count": 12,
     "metadata": {},
     "output_type": "execute_result"
    }
   ],
   "source": [
    "start_time = time.time()\n",
    "df2_start=gpd.GeoDataFrame(df2_start,\n",
    "                     crs=map.crs,\n",
    "                     geometry=df2_start['pickup_geometry'])\n",
    "print(\"--- %s seconds ---\" % (time.time() - start_time))\n",
    "finished"
   ]
  },
  {
   "cell_type": "code",
   "execution_count": 13,
   "id": "94536412",
   "metadata": {},
   "outputs": [
    {
     "name": "stdout",
     "output_type": "stream",
     "text": [
      "--- 107.77568984031677 seconds ---\n"
     ]
    },
    {
     "data": {
      "text/html": [
       "\n",
       "                <audio  controls=\"controls\" autoplay=\"autoplay\">\n",
       "                    <source src=\"../../Data/Wow.mp3\" type=\"audio/mpeg\" />\n",
       "                    Your browser does not support the audio element.\n",
       "                </audio>\n",
       "              "
      ],
      "text/plain": [
       "<IPython.lib.display.Audio object>"
      ]
     },
     "execution_count": 13,
     "metadata": {},
     "output_type": "execute_result"
    }
   ],
   "source": [
    "start_time = time.time()\n",
    "df2_end=gpd.GeoDataFrame(df2_end,\n",
    "                     crs=map.crs,\n",
    "                     geometry=df2_end['dropoff_geometry'])\n",
    "print(\"--- %s seconds ---\" % (time.time() - start_time))\n",
    "finished"
   ]
  },
  {
   "cell_type": "code",
   "execution_count": 14,
   "id": "64ab4ade",
   "metadata": {},
   "outputs": [
    {
     "name": "stdout",
     "output_type": "stream",
     "text": [
      "--- 1121.5685381889343 seconds ---\n"
     ]
    },
    {
     "data": {
      "text/html": [
       "\n",
       "                <audio  controls=\"controls\" autoplay=\"autoplay\">\n",
       "                    <source src=\"../../Data/Wow.mp3\" type=\"audio/mpeg\" />\n",
       "                    Your browser does not support the audio element.\n",
       "                </audio>\n",
       "              "
      ],
      "text/plain": [
       "<IPython.lib.display.Audio object>"
      ]
     },
     "execution_count": 14,
     "metadata": {},
     "output_type": "execute_result"
    }
   ],
   "source": [
    "start_time = time.time()\n",
    "\n",
    "geo_processing_start = gpd.sjoin(df2_start, map, op = 'within')\n",
    "\n",
    "print(\"--- %s seconds ---\" % (time.time() - start_time))\n",
    "finished"
   ]
  },
  {
   "cell_type": "code",
   "execution_count": 15,
   "id": "d5bbac3f",
   "metadata": {},
   "outputs": [
    {
     "name": "stdout",
     "output_type": "stream",
     "text": [
      "--- 1110.1036806106567 seconds ---\n"
     ]
    },
    {
     "data": {
      "text/html": [
       "\n",
       "                <audio  controls=\"controls\" autoplay=\"autoplay\">\n",
       "                    <source src=\"../../Data/Wow.mp3\" type=\"audio/mpeg\" />\n",
       "                    Your browser does not support the audio element.\n",
       "                </audio>\n",
       "              "
      ],
      "text/plain": [
       "<IPython.lib.display.Audio object>"
      ]
     },
     "execution_count": 15,
     "metadata": {},
     "output_type": "execute_result"
    }
   ],
   "source": [
    "start_time = time.time()\n",
    "\n",
    "geo_processing_end = gpd.sjoin(df2_end, map, op = 'within')\n",
    "\n",
    "print(\"--- %s seconds ---\" % (time.time() - start_time))\n",
    "finished"
   ]
  },
  {
   "cell_type": "code",
   "execution_count": 16,
   "id": "85d74cbb",
   "metadata": {},
   "outputs": [],
   "source": [
    "group_start = geo_processing_start.groupby(['postalCode']).describe()"
   ]
  },
  {
   "cell_type": "code",
   "execution_count": 17,
   "id": "7590e530",
   "metadata": {},
   "outputs": [],
   "source": [
    "group_start.columns = ['_'.join(col) for col in group_start.columns.values]"
   ]
  },
  {
   "cell_type": "markdown",
   "id": "027bebf6",
   "metadata": {},
   "source": [
    "group_start.to_csv('../../Data/yellow_tripdata_2014-2-start-processed.csv')"
   ]
  },
  {
   "cell_type": "code",
   "execution_count": 18,
   "id": "a80185ce",
   "metadata": {},
   "outputs": [],
   "source": [
    "group_end = geo_processing_end.value_counts(['postalCode'])"
   ]
  },
  {
   "cell_type": "code",
   "execution_count": 19,
   "id": "8fba6ba2",
   "metadata": {},
   "outputs": [],
   "source": [
    "group_end = pd.DataFrame(group_end,columns=['dropoff_count'])"
   ]
  },
  {
   "cell_type": "markdown",
   "id": "34aeb7c8",
   "metadata": {},
   "source": [
    "group_end.to_csv('../../Data/yellow_tripdata_2014-2-end-processed.csv')"
   ]
  },
  {
   "cell_type": "code",
   "execution_count": 20,
   "id": "dc648f49",
   "metadata": {},
   "outputs": [],
   "source": [
    "merge=group_start.merge(group_end, how='left', on='postalCode')"
   ]
  },
  {
   "cell_type": "code",
   "execution_count": 21,
   "id": "57aa47e8",
   "metadata": {},
   "outputs": [
    {
     "data": {
      "text/html": [
       "\n",
       "                <audio  controls=\"controls\" autoplay=\"autoplay\">\n",
       "                    <source src=\"../../Data/Hugo Good Job.mp3\" type=\"audio/mpeg\" />\n",
       "                    Your browser does not support the audio element.\n",
       "                </audio>\n",
       "              "
      ],
      "text/plain": [
       "<IPython.lib.display.Audio object>"
      ]
     },
     "execution_count": 21,
     "metadata": {},
     "output_type": "execute_result"
    }
   ],
   "source": [
    "#REMEMBER TO RENAME CSV BEFORE START\n",
    "merge.to_csv('../../Data/yellow_tripdata_2014-12-processed.csv')\n",
    "complete"
   ]
  },
  {
   "cell_type": "code",
   "execution_count": 22,
   "id": "f56c788e",
   "metadata": {},
   "outputs": [
    {
     "name": "stdout",
     "output_type": "stream",
     "text": [
      "<class 'pandas.core.frame.DataFrame'>\n",
      "Index: 244 entries, 00083 to 11697\n",
      "Data columns (total 57 columns):\n",
      " #   Column                  Non-Null Count  Dtype  \n",
      "---  ------                  --------------  -----  \n",
      " 0    passenger_count_count  244 non-null    float64\n",
      " 1    passenger_count_mean   244 non-null    float64\n",
      " 2    passenger_count_std    242 non-null    float64\n",
      " 3    passenger_count_min    244 non-null    float64\n",
      " 4    passenger_count_25%    244 non-null    float64\n",
      " 5    passenger_count_50%    244 non-null    float64\n",
      " 6    passenger_count_75%    244 non-null    float64\n",
      " 7    passenger_count_max    244 non-null    float64\n",
      " 8    trip_distance_count    244 non-null    float64\n",
      " 9    trip_distance_mean     244 non-null    float64\n",
      " 10   trip_distance_std      242 non-null    float64\n",
      " 11   trip_distance_min      244 non-null    float64\n",
      " 12   trip_distance_25%      244 non-null    float64\n",
      " 13   trip_distance_50%      244 non-null    float64\n",
      " 14   trip_distance_75%      244 non-null    float64\n",
      " 15   trip_distance_max      244 non-null    float64\n",
      " 16   fare_amount_count      244 non-null    float64\n",
      " 17   fare_amount_mean       244 non-null    float64\n",
      " 18   fare_amount_std        242 non-null    float64\n",
      " 19   fare_amount_min        244 non-null    float64\n",
      " 20   fare_amount_25%        244 non-null    float64\n",
      " 21   fare_amount_50%        244 non-null    float64\n",
      " 22   fare_amount_75%        244 non-null    float64\n",
      " 23   fare_amount_max        244 non-null    float64\n",
      " 24   mta_tax_count          244 non-null    float64\n",
      " 25   mta_tax_mean           244 non-null    float64\n",
      " 26   mta_tax_std            242 non-null    float64\n",
      " 27   mta_tax_min            244 non-null    float64\n",
      " 28   mta_tax_25%            244 non-null    float64\n",
      " 29   mta_tax_50%            244 non-null    float64\n",
      " 30   mta_tax_75%            244 non-null    float64\n",
      " 31   mta_tax_max            244 non-null    float64\n",
      " 32   tip_amount_count       244 non-null    float64\n",
      " 33   tip_amount_mean        244 non-null    float64\n",
      " 34   tip_amount_std         242 non-null    float64\n",
      " 35   tip_amount_min         244 non-null    float64\n",
      " 36   tip_amount_25%         244 non-null    float64\n",
      " 37   tip_amount_50%         244 non-null    float64\n",
      " 38   tip_amount_75%         244 non-null    float64\n",
      " 39   tip_amount_max         244 non-null    float64\n",
      " 40   tolls_amount_count     244 non-null    float64\n",
      " 41   tolls_amount_mean      244 non-null    float64\n",
      " 42   tolls_amount_std       242 non-null    float64\n",
      " 43   tolls_amount_min       244 non-null    float64\n",
      " 44   tolls_amount_25%       244 non-null    float64\n",
      " 45   tolls_amount_50%       244 non-null    float64\n",
      " 46   tolls_amount_75%       244 non-null    float64\n",
      " 47   tolls_amount_max       244 non-null    float64\n",
      " 48  index_right_count       244 non-null    float64\n",
      " 49  index_right_mean        244 non-null    float64\n",
      " 50  index_right_std         242 non-null    float64\n",
      " 51  index_right_min         244 non-null    float64\n",
      " 52  index_right_25%         244 non-null    float64\n",
      " 53  index_right_50%         244 non-null    float64\n",
      " 54  index_right_75%         244 non-null    float64\n",
      " 55  index_right_max         244 non-null    float64\n",
      " 56  dropoff_count           244 non-null    int64  \n",
      "dtypes: float64(56), int64(1)\n",
      "memory usage: 110.6+ KB\n"
     ]
    }
   ],
   "source": [
    "merge.info()"
   ]
  },
  {
   "cell_type": "code",
   "execution_count": 29,
   "id": "c0c9a29c",
   "metadata": {},
   "outputs": [],
   "source": [
    "test=pd.read_csv('../../Data/Taxi Processed/yellow_tripdata_2014-10-processed.csv')"
   ]
  },
  {
   "cell_type": "code",
   "execution_count": 30,
   "id": "c96d7c7f",
   "metadata": {},
   "outputs": [
    {
     "data": {
      "text/html": [
       "<div>\n",
       "<style scoped>\n",
       "    .dataframe tbody tr th:only-of-type {\n",
       "        vertical-align: middle;\n",
       "    }\n",
       "\n",
       "    .dataframe tbody tr th {\n",
       "        vertical-align: top;\n",
       "    }\n",
       "\n",
       "    .dataframe thead th {\n",
       "        text-align: right;\n",
       "    }\n",
       "</style>\n",
       "<table border=\"1\" class=\"dataframe\">\n",
       "  <thead>\n",
       "    <tr style=\"text-align: right;\">\n",
       "      <th></th>\n",
       "      <th>postalCode</th>\n",
       "      <th>passenger_count_count</th>\n",
       "      <th>passenger_count_mean</th>\n",
       "      <th>passenger_count_std</th>\n",
       "      <th>passenger_count_min</th>\n",
       "      <th>passenger_count_25%</th>\n",
       "      <th>passenger_count_50%</th>\n",
       "      <th>passenger_count_75%</th>\n",
       "      <th>passenger_count_max</th>\n",
       "      <th>trip_distance_count</th>\n",
       "      <th>...</th>\n",
       "      <th>tolls_amount_max</th>\n",
       "      <th>index_right_count</th>\n",
       "      <th>index_right_mean</th>\n",
       "      <th>index_right_std</th>\n",
       "      <th>index_right_min</th>\n",
       "      <th>index_right_25%</th>\n",
       "      <th>index_right_50%</th>\n",
       "      <th>index_right_75%</th>\n",
       "      <th>index_right_max</th>\n",
       "      <th>dropoff_count</th>\n",
       "    </tr>\n",
       "  </thead>\n",
       "  <tbody>\n",
       "    <tr>\n",
       "      <th>0</th>\n",
       "      <td>83</td>\n",
       "      <td>188377.0</td>\n",
       "      <td>1.766065</td>\n",
       "      <td>1.405008</td>\n",
       "      <td>0.0</td>\n",
       "      <td>1.0</td>\n",
       "      <td>1.0</td>\n",
       "      <td>2.0</td>\n",
       "      <td>9.0</td>\n",
       "      <td>188377.0</td>\n",
       "      <td>...</td>\n",
       "      <td>18.0</td>\n",
       "      <td>188377.0</td>\n",
       "      <td>82.000000</td>\n",
       "      <td>0.000000</td>\n",
       "      <td>82.0</td>\n",
       "      <td>82.0</td>\n",
       "      <td>82.0</td>\n",
       "      <td>82.0</td>\n",
       "      <td>82.0</td>\n",
       "      <td>172131</td>\n",
       "    </tr>\n",
       "    <tr>\n",
       "      <th>1</th>\n",
       "      <td>10001</td>\n",
       "      <td>895196.0</td>\n",
       "      <td>1.682938</td>\n",
       "      <td>1.339625</td>\n",
       "      <td>0.0</td>\n",
       "      <td>1.0</td>\n",
       "      <td>1.0</td>\n",
       "      <td>2.0</td>\n",
       "      <td>9.0</td>\n",
       "      <td>895196.0</td>\n",
       "      <td>...</td>\n",
       "      <td>20.0</td>\n",
       "      <td>895196.0</td>\n",
       "      <td>113.000000</td>\n",
       "      <td>0.000000</td>\n",
       "      <td>113.0</td>\n",
       "      <td>113.0</td>\n",
       "      <td>113.0</td>\n",
       "      <td>113.0</td>\n",
       "      <td>113.0</td>\n",
       "      <td>826930</td>\n",
       "    </tr>\n",
       "    <tr>\n",
       "      <th>2</th>\n",
       "      <td>10002</td>\n",
       "      <td>270194.0</td>\n",
       "      <td>1.727433</td>\n",
       "      <td>1.346475</td>\n",
       "      <td>0.0</td>\n",
       "      <td>1.0</td>\n",
       "      <td>1.0</td>\n",
       "      <td>2.0</td>\n",
       "      <td>9.0</td>\n",
       "      <td>270194.0</td>\n",
       "      <td>...</td>\n",
       "      <td>20.0</td>\n",
       "      <td>270194.0</td>\n",
       "      <td>123.000000</td>\n",
       "      <td>0.000000</td>\n",
       "      <td>123.0</td>\n",
       "      <td>123.0</td>\n",
       "      <td>123.0</td>\n",
       "      <td>123.0</td>\n",
       "      <td>123.0</td>\n",
       "      <td>241739</td>\n",
       "    </tr>\n",
       "    <tr>\n",
       "      <th>3</th>\n",
       "      <td>10003</td>\n",
       "      <td>784154.0</td>\n",
       "      <td>1.686129</td>\n",
       "      <td>1.343375</td>\n",
       "      <td>0.0</td>\n",
       "      <td>1.0</td>\n",
       "      <td>1.0</td>\n",
       "      <td>2.0</td>\n",
       "      <td>9.0</td>\n",
       "      <td>784154.0</td>\n",
       "      <td>...</td>\n",
       "      <td>20.0</td>\n",
       "      <td>784154.0</td>\n",
       "      <td>121.000000</td>\n",
       "      <td>0.000000</td>\n",
       "      <td>121.0</td>\n",
       "      <td>121.0</td>\n",
       "      <td>121.0</td>\n",
       "      <td>121.0</td>\n",
       "      <td>121.0</td>\n",
       "      <td>634260</td>\n",
       "    </tr>\n",
       "    <tr>\n",
       "      <th>4</th>\n",
       "      <td>10004</td>\n",
       "      <td>63787.0</td>\n",
       "      <td>1.714644</td>\n",
       "      <td>1.343959</td>\n",
       "      <td>0.0</td>\n",
       "      <td>1.0</td>\n",
       "      <td>1.0</td>\n",
       "      <td>2.0</td>\n",
       "      <td>9.0</td>\n",
       "      <td>63787.0</td>\n",
       "      <td>...</td>\n",
       "      <td>18.0</td>\n",
       "      <td>63787.0</td>\n",
       "      <td>138.000862</td>\n",
       "      <td>0.075225</td>\n",
       "      <td>138.0</td>\n",
       "      <td>138.0</td>\n",
       "      <td>138.0</td>\n",
       "      <td>138.0</td>\n",
       "      <td>145.0</td>\n",
       "      <td>79926</td>\n",
       "    </tr>\n",
       "    <tr>\n",
       "      <th>...</th>\n",
       "      <td>...</td>\n",
       "      <td>...</td>\n",
       "      <td>...</td>\n",
       "      <td>...</td>\n",
       "      <td>...</td>\n",
       "      <td>...</td>\n",
       "      <td>...</td>\n",
       "      <td>...</td>\n",
       "      <td>...</td>\n",
       "      <td>...</td>\n",
       "      <td>...</td>\n",
       "      <td>...</td>\n",
       "      <td>...</td>\n",
       "      <td>...</td>\n",
       "      <td>...</td>\n",
       "      <td>...</td>\n",
       "      <td>...</td>\n",
       "      <td>...</td>\n",
       "      <td>...</td>\n",
       "      <td>...</td>\n",
       "      <td>...</td>\n",
       "    </tr>\n",
       "    <tr>\n",
       "      <th>240</th>\n",
       "      <td>11691</td>\n",
       "      <td>11.0</td>\n",
       "      <td>1.545455</td>\n",
       "      <td>1.213560</td>\n",
       "      <td>1.0</td>\n",
       "      <td>1.0</td>\n",
       "      <td>1.0</td>\n",
       "      <td>1.5</td>\n",
       "      <td>5.0</td>\n",
       "      <td>11.0</td>\n",
       "      <td>...</td>\n",
       "      <td>0.0</td>\n",
       "      <td>11.0</td>\n",
       "      <td>178.000000</td>\n",
       "      <td>0.000000</td>\n",
       "      <td>178.0</td>\n",
       "      <td>178.0</td>\n",
       "      <td>178.0</td>\n",
       "      <td>178.0</td>\n",
       "      <td>178.0</td>\n",
       "      <td>568</td>\n",
       "    </tr>\n",
       "    <tr>\n",
       "      <th>241</th>\n",
       "      <td>11692</td>\n",
       "      <td>7.0</td>\n",
       "      <td>1.142857</td>\n",
       "      <td>0.377964</td>\n",
       "      <td>1.0</td>\n",
       "      <td>1.0</td>\n",
       "      <td>1.0</td>\n",
       "      <td>1.0</td>\n",
       "      <td>2.0</td>\n",
       "      <td>7.0</td>\n",
       "      <td>...</td>\n",
       "      <td>4.0</td>\n",
       "      <td>7.0</td>\n",
       "      <td>182.000000</td>\n",
       "      <td>0.000000</td>\n",
       "      <td>182.0</td>\n",
       "      <td>182.0</td>\n",
       "      <td>182.0</td>\n",
       "      <td>182.0</td>\n",
       "      <td>182.0</td>\n",
       "      <td>125</td>\n",
       "    </tr>\n",
       "    <tr>\n",
       "      <th>242</th>\n",
       "      <td>11693</td>\n",
       "      <td>13.0</td>\n",
       "      <td>1.923077</td>\n",
       "      <td>1.382120</td>\n",
       "      <td>1.0</td>\n",
       "      <td>1.0</td>\n",
       "      <td>2.0</td>\n",
       "      <td>2.0</td>\n",
       "      <td>6.0</td>\n",
       "      <td>13.0</td>\n",
       "      <td>...</td>\n",
       "      <td>2.0</td>\n",
       "      <td>13.0</td>\n",
       "      <td>174.153846</td>\n",
       "      <td>8.101915</td>\n",
       "      <td>168.0</td>\n",
       "      <td>168.0</td>\n",
       "      <td>168.0</td>\n",
       "      <td>184.0</td>\n",
       "      <td>184.0</td>\n",
       "      <td>207</td>\n",
       "    </tr>\n",
       "    <tr>\n",
       "      <th>243</th>\n",
       "      <td>11694</td>\n",
       "      <td>9.0</td>\n",
       "      <td>1.333333</td>\n",
       "      <td>0.500000</td>\n",
       "      <td>1.0</td>\n",
       "      <td>1.0</td>\n",
       "      <td>1.0</td>\n",
       "      <td>2.0</td>\n",
       "      <td>2.0</td>\n",
       "      <td>9.0</td>\n",
       "      <td>...</td>\n",
       "      <td>2.0</td>\n",
       "      <td>9.0</td>\n",
       "      <td>186.000000</td>\n",
       "      <td>0.000000</td>\n",
       "      <td>186.0</td>\n",
       "      <td>186.0</td>\n",
       "      <td>186.0</td>\n",
       "      <td>186.0</td>\n",
       "      <td>186.0</td>\n",
       "      <td>396</td>\n",
       "    </tr>\n",
       "    <tr>\n",
       "      <th>244</th>\n",
       "      <td>11697</td>\n",
       "      <td>3.0</td>\n",
       "      <td>1.000000</td>\n",
       "      <td>0.000000</td>\n",
       "      <td>1.0</td>\n",
       "      <td>1.0</td>\n",
       "      <td>1.0</td>\n",
       "      <td>1.0</td>\n",
       "      <td>1.0</td>\n",
       "      <td>3.0</td>\n",
       "      <td>...</td>\n",
       "      <td>2.0</td>\n",
       "      <td>3.0</td>\n",
       "      <td>189.000000</td>\n",
       "      <td>0.000000</td>\n",
       "      <td>189.0</td>\n",
       "      <td>189.0</td>\n",
       "      <td>189.0</td>\n",
       "      <td>189.0</td>\n",
       "      <td>189.0</td>\n",
       "      <td>117</td>\n",
       "    </tr>\n",
       "  </tbody>\n",
       "</table>\n",
       "<p>245 rows × 58 columns</p>\n",
       "</div>"
      ],
      "text/plain": [
       "     postalCode   passenger_count_count   passenger_count_mean  \\\n",
       "0            83                188377.0               1.766065   \n",
       "1         10001                895196.0               1.682938   \n",
       "2         10002                270194.0               1.727433   \n",
       "3         10003                784154.0               1.686129   \n",
       "4         10004                 63787.0               1.714644   \n",
       "..          ...                     ...                    ...   \n",
       "240       11691                    11.0               1.545455   \n",
       "241       11692                     7.0               1.142857   \n",
       "242       11693                    13.0               1.923077   \n",
       "243       11694                     9.0               1.333333   \n",
       "244       11697                     3.0               1.000000   \n",
       "\n",
       "      passenger_count_std   passenger_count_min   passenger_count_25%  \\\n",
       "0                1.405008                   0.0                   1.0   \n",
       "1                1.339625                   0.0                   1.0   \n",
       "2                1.346475                   0.0                   1.0   \n",
       "3                1.343375                   0.0                   1.0   \n",
       "4                1.343959                   0.0                   1.0   \n",
       "..                    ...                   ...                   ...   \n",
       "240              1.213560                   1.0                   1.0   \n",
       "241              0.377964                   1.0                   1.0   \n",
       "242              1.382120                   1.0                   1.0   \n",
       "243              0.500000                   1.0                   1.0   \n",
       "244              0.000000                   1.0                   1.0   \n",
       "\n",
       "      passenger_count_50%   passenger_count_75%   passenger_count_max  \\\n",
       "0                     1.0                   2.0                   9.0   \n",
       "1                     1.0                   2.0                   9.0   \n",
       "2                     1.0                   2.0                   9.0   \n",
       "3                     1.0                   2.0                   9.0   \n",
       "4                     1.0                   2.0                   9.0   \n",
       "..                    ...                   ...                   ...   \n",
       "240                   1.0                   1.5                   5.0   \n",
       "241                   1.0                   1.0                   2.0   \n",
       "242                   2.0                   2.0                   6.0   \n",
       "243                   1.0                   2.0                   2.0   \n",
       "244                   1.0                   1.0                   1.0   \n",
       "\n",
       "      trip_distance_count  ...   tolls_amount_max  index_right_count  \\\n",
       "0                188377.0  ...               18.0           188377.0   \n",
       "1                895196.0  ...               20.0           895196.0   \n",
       "2                270194.0  ...               20.0           270194.0   \n",
       "3                784154.0  ...               20.0           784154.0   \n",
       "4                 63787.0  ...               18.0            63787.0   \n",
       "..                    ...  ...                ...                ...   \n",
       "240                  11.0  ...                0.0               11.0   \n",
       "241                   7.0  ...                4.0                7.0   \n",
       "242                  13.0  ...                2.0               13.0   \n",
       "243                   9.0  ...                2.0                9.0   \n",
       "244                   3.0  ...                2.0                3.0   \n",
       "\n",
       "     index_right_mean  index_right_std  index_right_min  index_right_25%  \\\n",
       "0           82.000000         0.000000             82.0             82.0   \n",
       "1          113.000000         0.000000            113.0            113.0   \n",
       "2          123.000000         0.000000            123.0            123.0   \n",
       "3          121.000000         0.000000            121.0            121.0   \n",
       "4          138.000862         0.075225            138.0            138.0   \n",
       "..                ...              ...              ...              ...   \n",
       "240        178.000000         0.000000            178.0            178.0   \n",
       "241        182.000000         0.000000            182.0            182.0   \n",
       "242        174.153846         8.101915            168.0            168.0   \n",
       "243        186.000000         0.000000            186.0            186.0   \n",
       "244        189.000000         0.000000            189.0            189.0   \n",
       "\n",
       "     index_right_50%  index_right_75%  index_right_max  dropoff_count  \n",
       "0               82.0             82.0             82.0         172131  \n",
       "1              113.0            113.0            113.0         826930  \n",
       "2              123.0            123.0            123.0         241739  \n",
       "3              121.0            121.0            121.0         634260  \n",
       "4              138.0            138.0            145.0          79926  \n",
       "..               ...              ...              ...            ...  \n",
       "240            178.0            178.0            178.0            568  \n",
       "241            182.0            182.0            182.0            125  \n",
       "242            168.0            184.0            184.0            207  \n",
       "243            186.0            186.0            186.0            396  \n",
       "244            189.0            189.0            189.0            117  \n",
       "\n",
       "[245 rows x 58 columns]"
      ]
     },
     "execution_count": 30,
     "metadata": {},
     "output_type": "execute_result"
    }
   ],
   "source": [
    "test"
   ]
  },
  {
   "cell_type": "code",
   "execution_count": null,
   "id": "7682f5f4",
   "metadata": {},
   "outputs": [],
   "source": []
  }
 ],
 "metadata": {
  "kernelspec": {
   "display_name": "Python 3 (ipykernel)",
   "language": "python",
   "name": "python3"
  },
  "language_info": {
   "codemirror_mode": {
    "name": "ipython",
    "version": 3
   },
   "file_extension": ".py",
   "mimetype": "text/x-python",
   "name": "python",
   "nbconvert_exporter": "python",
   "pygments_lexer": "ipython3",
   "version": "3.8.5"
  }
 },
 "nbformat": 4,
 "nbformat_minor": 5
}
