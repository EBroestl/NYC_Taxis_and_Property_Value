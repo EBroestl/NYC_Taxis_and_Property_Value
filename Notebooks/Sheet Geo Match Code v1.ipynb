{
 "cells": [
  {
   "cell_type": "code",
   "execution_count": 1,
   "id": "ff633cd3",
   "metadata": {},
   "outputs": [],
   "source": [
    "from shapely.geometry import Point\n",
    "import pandas as pd\n",
    "import geopandas as gpd\n",
    "import matplotlib.pyplot as plt\n",
    "import folium\n",
    "from folium.plugins import MarkerCluster\n",
    "from folium.plugins import FastMarkerCluster\n",
    "import xlrd\n",
    "import time\n",
    "from IPython.display import Audio"
   ]
  },
  {
   "cell_type": "code",
   "execution_count": 2,
   "id": "d935c92e",
   "metadata": {},
   "outputs": [],
   "source": [
    "#finish indicator\n",
    "wow = '../../Data/Wow.mp3'\n",
    "finished=Audio(url = wow, autoplay = True) "
   ]
  },
  {
   "cell_type": "code",
   "execution_count": 27,
   "id": "bdee617c",
   "metadata": {},
   "outputs": [],
   "source": [
    "map = gpd.read_file('../../Data/NYC_Geo_prayer.json')"
   ]
  },
  {
   "cell_type": "code",
   "execution_count": 28,
   "id": "bfb20ac8",
   "metadata": {},
   "outputs": [],
   "source": [
    "map=map[['postalCode','PO_NAME','borough','geometry']]"
   ]
  },
  {
   "cell_type": "code",
   "execution_count": 4,
   "id": "ca220d6b",
   "metadata": {},
   "outputs": [],
   "source": [
    "df=pd.read_csv('../../Data/Taxi Data/yellow_14/yellow_tripdata_2014-1.csv')"
   ]
  },
  {
   "cell_type": "code",
   "execution_count": 5,
   "id": "25b7d22e",
   "metadata": {},
   "outputs": [
    {
     "name": "stdout",
     "output_type": "stream",
     "text": [
      "<class 'pandas.core.frame.DataFrame'>\n",
      "RangeIndex: 13782492 entries, 0 to 13782491\n",
      "Data columns (total 18 columns):\n",
      " #   Column               Dtype  \n",
      "---  ------               -----  \n",
      " 0   vendor_id            object \n",
      " 1    pickup_datetime     object \n",
      " 2    dropoff_datetime    object \n",
      " 3    passenger_count     int64  \n",
      " 4    trip_distance       float64\n",
      " 5    pickup_longitude    float64\n",
      " 6    pickup_latitude     float64\n",
      " 7    rate_code           int64  \n",
      " 8    store_and_fwd_flag  object \n",
      " 9    dropoff_longitude   float64\n",
      " 10   dropoff_latitude    float64\n",
      " 11   payment_type        object \n",
      " 12   fare_amount         float64\n",
      " 13   surcharge           float64\n",
      " 14   mta_tax             float64\n",
      " 15   tip_amount          float64\n",
      " 16   tolls_amount        float64\n",
      " 17   total_amount        float64\n",
      "dtypes: float64(11), int64(2), object(5)\n",
      "memory usage: 1.8+ GB\n"
     ]
    }
   ],
   "source": [
    "df.info()"
   ]
  },
  {
   "cell_type": "code",
   "execution_count": 6,
   "id": "e207ff66",
   "metadata": {},
   "outputs": [],
   "source": [
    "df2=df.head(100)"
   ]
  },
  {
   "cell_type": "code",
   "execution_count": 10,
   "id": "9bfde9a8",
   "metadata": {},
   "outputs": [
    {
     "data": {
      "text/plain": [
       "Index(['vendor_id', ' pickup_datetime', ' dropoff_datetime',\n",
       "       ' passenger_count', ' trip_distance', ' pickup_longitude',\n",
       "       ' pickup_latitude', ' rate_code', ' store_and_fwd_flag',\n",
       "       ' dropoff_longitude', ' dropoff_latitude', ' payment_type',\n",
       "       ' fare_amount', ' surcharge', ' mta_tax', ' tip_amount',\n",
       "       ' tolls_amount', ' total_amount'],\n",
       "      dtype='object')"
      ]
     },
     "execution_count": 10,
     "metadata": {},
     "output_type": "execute_result"
    }
   ],
   "source": [
    "df2.columns"
   ]
  },
  {
   "cell_type": "code",
   "execution_count": 15,
   "id": "235b80e6",
   "metadata": {
    "scrolled": true
   },
   "outputs": [
    {
     "name": "stdout",
     "output_type": "stream",
     "text": [
      "--- 817.3952524662018 seconds ---\n"
     ]
    },
    {
     "data": {
      "text/html": [
       "\n",
       "                <audio  controls=\"controls\" autoplay=\"autoplay\">\n",
       "                    <source src=\"../../Data/Wow.mp3\" type=\"audio/mpeg\" />\n",
       "                    Your browser does not support the audio element.\n",
       "                </audio>\n",
       "              "
      ],
      "text/plain": [
       "<IPython.lib.display.Audio object>"
      ]
     },
     "execution_count": 15,
     "metadata": {},
     "output_type": "execute_result"
    }
   ],
   "source": [
    "start_time = time.time()\n",
    "\n",
    "df['dropoff_geometry'] = df.apply(lambda x: Point((float(x[' dropoff_longitude']), \n",
    "                                             float(x[' dropoff_latitude']))), \n",
    "                                             axis=1)\n",
    "df.head(3)\n",
    "\n",
    "print(\"--- %s seconds ---\" % (time.time() - start_time))\n",
    "finished"
   ]
  },
  {
   "cell_type": "code",
   "execution_count": 16,
   "id": "ca4a904f",
   "metadata": {},
   "outputs": [
    {
     "data": {
      "text/html": [
       "<div>\n",
       "<style scoped>\n",
       "    .dataframe tbody tr th:only-of-type {\n",
       "        vertical-align: middle;\n",
       "    }\n",
       "\n",
       "    .dataframe tbody tr th {\n",
       "        vertical-align: top;\n",
       "    }\n",
       "\n",
       "    .dataframe thead th {\n",
       "        text-align: right;\n",
       "    }\n",
       "</style>\n",
       "<table border=\"1\" class=\"dataframe\">\n",
       "  <thead>\n",
       "    <tr style=\"text-align: right;\">\n",
       "      <th></th>\n",
       "      <th>vendor_id</th>\n",
       "      <th>pickup_datetime</th>\n",
       "      <th>dropoff_datetime</th>\n",
       "      <th>passenger_count</th>\n",
       "      <th>trip_distance</th>\n",
       "      <th>pickup_longitude</th>\n",
       "      <th>pickup_latitude</th>\n",
       "      <th>rate_code</th>\n",
       "      <th>store_and_fwd_flag</th>\n",
       "      <th>dropoff_longitude</th>\n",
       "      <th>dropoff_latitude</th>\n",
       "      <th>payment_type</th>\n",
       "      <th>fare_amount</th>\n",
       "      <th>surcharge</th>\n",
       "      <th>mta_tax</th>\n",
       "      <th>tip_amount</th>\n",
       "      <th>tolls_amount</th>\n",
       "      <th>total_amount</th>\n",
       "      <th>pickup_geometry</th>\n",
       "      <th>dropoff_geometry</th>\n",
       "    </tr>\n",
       "  </thead>\n",
       "  <tbody>\n",
       "    <tr>\n",
       "      <th>0</th>\n",
       "      <td>CMT</td>\n",
       "      <td>2014-01-09 20:45:25</td>\n",
       "      <td>2014-01-09 20:52:31</td>\n",
       "      <td>1</td>\n",
       "      <td>0.7</td>\n",
       "      <td>-73.994770</td>\n",
       "      <td>40.736828</td>\n",
       "      <td>1</td>\n",
       "      <td>N</td>\n",
       "      <td>-73.982227</td>\n",
       "      <td>40.731790</td>\n",
       "      <td>CRD</td>\n",
       "      <td>6.5</td>\n",
       "      <td>0.5</td>\n",
       "      <td>0.5</td>\n",
       "      <td>1.4</td>\n",
       "      <td>0.0</td>\n",
       "      <td>8.9</td>\n",
       "      <td>POINT (-73.99477 40.736828)</td>\n",
       "      <td>POINT (-73.98222699999998 40.73179)</td>\n",
       "    </tr>\n",
       "    <tr>\n",
       "      <th>1</th>\n",
       "      <td>CMT</td>\n",
       "      <td>2014-01-09 20:46:12</td>\n",
       "      <td>2014-01-09 20:55:12</td>\n",
       "      <td>1</td>\n",
       "      <td>1.4</td>\n",
       "      <td>-73.982392</td>\n",
       "      <td>40.773382</td>\n",
       "      <td>1</td>\n",
       "      <td>N</td>\n",
       "      <td>-73.960449</td>\n",
       "      <td>40.763995</td>\n",
       "      <td>CRD</td>\n",
       "      <td>8.5</td>\n",
       "      <td>0.5</td>\n",
       "      <td>0.5</td>\n",
       "      <td>1.9</td>\n",
       "      <td>0.0</td>\n",
       "      <td>11.4</td>\n",
       "      <td>POINT (-73.982392 40.773382)</td>\n",
       "      <td>POINT (-73.96044899999998 40.763995)</td>\n",
       "    </tr>\n",
       "    <tr>\n",
       "      <th>2</th>\n",
       "      <td>CMT</td>\n",
       "      <td>2014-01-09 20:44:47</td>\n",
       "      <td>2014-01-09 20:59:46</td>\n",
       "      <td>2</td>\n",
       "      <td>2.3</td>\n",
       "      <td>-73.988570</td>\n",
       "      <td>40.739406</td>\n",
       "      <td>1</td>\n",
       "      <td>N</td>\n",
       "      <td>-73.986626</td>\n",
       "      <td>40.765217</td>\n",
       "      <td>CRD</td>\n",
       "      <td>11.5</td>\n",
       "      <td>0.5</td>\n",
       "      <td>0.5</td>\n",
       "      <td>1.5</td>\n",
       "      <td>0.0</td>\n",
       "      <td>14.0</td>\n",
       "      <td>POINT (-73.98856999999998 40.739406)</td>\n",
       "      <td>POINT (-73.986626 40.765217)</td>\n",
       "    </tr>\n",
       "  </tbody>\n",
       "</table>\n",
       "</div>"
      ],
      "text/plain": [
       "  vendor_id      pickup_datetime     dropoff_datetime   passenger_count  \\\n",
       "0       CMT  2014-01-09 20:45:25  2014-01-09 20:52:31                 1   \n",
       "1       CMT  2014-01-09 20:46:12  2014-01-09 20:55:12                 1   \n",
       "2       CMT  2014-01-09 20:44:47  2014-01-09 20:59:46                 2   \n",
       "\n",
       "    trip_distance   pickup_longitude   pickup_latitude   rate_code  \\\n",
       "0             0.7         -73.994770         40.736828           1   \n",
       "1             1.4         -73.982392         40.773382           1   \n",
       "2             2.3         -73.988570         40.739406           1   \n",
       "\n",
       "   store_and_fwd_flag   dropoff_longitude   dropoff_latitude  payment_type  \\\n",
       "0                   N          -73.982227          40.731790           CRD   \n",
       "1                   N          -73.960449          40.763995           CRD   \n",
       "2                   N          -73.986626          40.765217           CRD   \n",
       "\n",
       "    fare_amount   surcharge   mta_tax   tip_amount   tolls_amount  \\\n",
       "0           6.5         0.5       0.5          1.4            0.0   \n",
       "1           8.5         0.5       0.5          1.9            0.0   \n",
       "2          11.5         0.5       0.5          1.5            0.0   \n",
       "\n",
       "    total_amount                       pickup_geometry  \\\n",
       "0            8.9           POINT (-73.99477 40.736828)   \n",
       "1           11.4          POINT (-73.982392 40.773382)   \n",
       "2           14.0  POINT (-73.98856999999998 40.739406)   \n",
       "\n",
       "                       dropoff_geometry  \n",
       "0   POINT (-73.98222699999998 40.73179)  \n",
       "1  POINT (-73.96044899999998 40.763995)  \n",
       "2          POINT (-73.986626 40.765217)  "
      ]
     },
     "execution_count": 16,
     "metadata": {},
     "output_type": "execute_result"
    }
   ],
   "source": [
    "df.head(3)"
   ]
  },
  {
   "cell_type": "code",
   "execution_count": 32,
   "id": "ffd4da49",
   "metadata": {
    "scrolled": true
   },
   "outputs": [],
   "source": [
    "df2_start=df2[[' passenger_count',' trip_distance',' fare_amount',' mta_tax',' tip_amount',' tolls_amount','pickup_geometry']]"
   ]
  },
  {
   "cell_type": "code",
   "execution_count": 36,
   "id": "065dca7a",
   "metadata": {},
   "outputs": [],
   "source": [
    "df2_end=df2[['dropoff_geometry']]"
   ]
  },
  {
   "cell_type": "code",
   "execution_count": 40,
   "id": "45984a56",
   "metadata": {},
   "outputs": [
    {
     "name": "stdout",
     "output_type": "stream",
     "text": [
      "--- 112.19443106651306 seconds ---\n"
     ]
    },
    {
     "data": {
      "text/html": [
       "\n",
       "                <audio  controls=\"controls\" autoplay=\"autoplay\">\n",
       "                    <source src=\"../../Data/Wow.mp3\" type=\"audio/mpeg\" />\n",
       "                    Your browser does not support the audio element.\n",
       "                </audio>\n",
       "              "
      ],
      "text/plain": [
       "<IPython.lib.display.Audio object>"
      ]
     },
     "execution_count": 40,
     "metadata": {},
     "output_type": "execute_result"
    }
   ],
   "source": [
    "start_time = time.time()\n",
    "df2_start=gpd.GeoDataFrame(df2_start,\n",
    "                     crs=map.crs,\n",
    "                     geometry=df2_start['pickup_geometry'])\n",
    "print(\"--- %s seconds ---\" % (time.time() - start_time))\n",
    "finished"
   ]
  },
  {
   "cell_type": "code",
   "execution_count": 92,
   "id": "9c4911fe",
   "metadata": {},
   "outputs": [
    {
     "name": "stdout",
     "output_type": "stream",
     "text": [
      "--- 139.87490582466125 seconds ---\n"
     ]
    },
    {
     "data": {
      "text/html": [
       "\n",
       "                <audio  controls=\"controls\" autoplay=\"autoplay\">\n",
       "                    <source src=\"../../Data/Wow.mp3\" type=\"audio/mpeg\" />\n",
       "                    Your browser does not support the audio element.\n",
       "                </audio>\n",
       "              "
      ],
      "text/plain": [
       "<IPython.lib.display.Audio object>"
      ]
     },
     "execution_count": 92,
     "metadata": {},
     "output_type": "execute_result"
    }
   ],
   "source": [
    "start_time = time.time()\n",
    "df2_end=gpd.GeoDataFrame(df2_end,\n",
    "                     crs=map.crs,\n",
    "                     geometry=df2_end['dropoff_geometry'])\n",
    "print(\"--- %s seconds ---\" % (time.time() - start_time))\n",
    "finished"
   ]
  },
  {
   "cell_type": "code",
   "execution_count": 42,
   "id": "82757678",
   "metadata": {},
   "outputs": [
    {
     "name": "stdout",
     "output_type": "stream",
     "text": [
      "--- 1175.6654407978058 seconds ---\n"
     ]
    },
    {
     "data": {
      "text/html": [
       "\n",
       "                <audio  controls=\"controls\" autoplay=\"autoplay\">\n",
       "                    <source src=\"../../Data/Wow.mp3\" type=\"audio/mpeg\" />\n",
       "                    Your browser does not support the audio element.\n",
       "                </audio>\n",
       "              "
      ],
      "text/plain": [
       "<IPython.lib.display.Audio object>"
      ]
     },
     "execution_count": 42,
     "metadata": {},
     "output_type": "execute_result"
    }
   ],
   "source": [
    "start_time = time.time()\n",
    "\n",
    "geo_processing_start = gpd.sjoin(df2_start, map, op = 'within')\n",
    "\n",
    "print(\"--- %s seconds ---\" % (time.time() - start_time))\n",
    "finished"
   ]
  },
  {
   "cell_type": "code",
   "execution_count": 94,
   "id": "4de8b83b",
   "metadata": {},
   "outputs": [
    {
     "name": "stdout",
     "output_type": "stream",
     "text": [
      "--- 1151.9103791713715 seconds ---\n"
     ]
    },
    {
     "data": {
      "text/html": [
       "\n",
       "                <audio  controls=\"controls\" autoplay=\"autoplay\">\n",
       "                    <source src=\"../../Data/Wow.mp3\" type=\"audio/mpeg\" />\n",
       "                    Your browser does not support the audio element.\n",
       "                </audio>\n",
       "              "
      ],
      "text/plain": [
       "<IPython.lib.display.Audio object>"
      ]
     },
     "execution_count": 94,
     "metadata": {},
     "output_type": "execute_result"
    }
   ],
   "source": [
    "start_time = time.time()\n",
    "\n",
    "geo_processing_end = gpd.sjoin(df2_end, map, op = 'within')\n",
    "\n",
    "print(\"--- %s seconds ---\" % (time.time() - start_time))\n",
    "finished"
   ]
  },
  {
   "cell_type": "code",
   "execution_count": 81,
   "id": "e0408f74",
   "metadata": {},
   "outputs": [],
   "source": [
    "group_start = geo_processing_start.groupby(['postalCode']).describe()"
   ]
  },
  {
   "cell_type": "code",
   "execution_count": 98,
   "id": "830e2538",
   "metadata": {},
   "outputs": [],
   "source": [
    "group_end = geo_processing_end.value_counts(['postalCode'])"
   ]
  },
  {
   "cell_type": "code",
   "execution_count": 100,
   "id": "52fe0d9c",
   "metadata": {},
   "outputs": [],
   "source": [
    "group_end.to_csv('../../Data/yellow_tripdata_2014-1-end-processed.csv')"
   ]
  },
  {
   "cell_type": "code",
   "execution_count": 85,
   "id": "dee27ebe",
   "metadata": {},
   "outputs": [],
   "source": [
    "group_start=group_start.columns = ['_'.join(col) for col in group2.columns.values]"
   ]
  },
  {
   "cell_type": "code",
   "execution_count": 87,
   "id": "a320e18c",
   "metadata": {},
   "outputs": [],
   "source": [
    "group_start.to_csv('../../Data/yellow_tripdata_2014-1-start-processed.csv')"
   ]
  },
  {
   "cell_type": "code",
   "execution_count": null,
   "id": "6c83fb41",
   "metadata": {},
   "outputs": [],
   "source": []
  }
 ],
 "metadata": {
  "kernelspec": {
   "display_name": "Python 3 (ipykernel)",
   "language": "python",
   "name": "python3"
  },
  "language_info": {
   "codemirror_mode": {
    "name": "ipython",
    "version": 3
   },
   "file_extension": ".py",
   "mimetype": "text/x-python",
   "name": "python",
   "nbconvert_exporter": "python",
   "pygments_lexer": "ipython3",
   "version": "3.8.5"
  }
 },
 "nbformat": 4,
 "nbformat_minor": 5
}
