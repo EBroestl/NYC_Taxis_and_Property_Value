{
 "cells": [
  {
   "cell_type": "code",
   "execution_count": 1,
   "id": "ff633cd3",
   "metadata": {},
   "outputs": [],
   "source": [
    "from shapely.geometry import Point\n",
    "import pandas as pd\n",
    "import geopandas as gpd\n",
    "import matplotlib.pyplot as plt\n",
    "import folium\n",
    "from folium.plugins import MarkerCluster\n",
    "from folium.plugins import FastMarkerCluster\n",
    "import xlrd\n",
    "import time\n",
    "from IPython.display import Audio"
   ]
  },
  {
   "cell_type": "code",
   "execution_count": 2,
   "id": "d935c92e",
   "metadata": {},
   "outputs": [],
   "source": [
    "#finish indicator\n",
    "wow = '../../Data/Wow.mp3'\n",
    "finished=Audio(url = wow, autoplay = True) "
   ]
  },
  {
   "cell_type": "code",
   "execution_count": 3,
   "id": "6c675064",
   "metadata": {},
   "outputs": [],
   "source": [
    "#notebook complete indicator\n",
    "notebook = '../../Data/Hugo Good Job.mp3'\n",
    "complete=Audio(url = notebook, autoplay = True)"
   ]
  },
  {
   "cell_type": "code",
   "execution_count": 4,
   "id": "bdee617c",
   "metadata": {},
   "outputs": [],
   "source": [
    "map = gpd.read_file('../../Data/NYC_Geo_prayer.json')"
   ]
  },
  {
   "cell_type": "code",
   "execution_count": 5,
   "id": "e08f11f5",
   "metadata": {},
   "outputs": [],
   "source": [
    "map=map[['postalCode','PO_NAME','borough','geometry']]"
   ]
  },
  {
   "cell_type": "code",
   "execution_count": 6,
   "id": "ca220d6b",
   "metadata": {},
   "outputs": [
    {
     "name": "stderr",
     "output_type": "stream",
     "text": [
      "C:\\Users\\Bro Bro\\.conda\\envs\\geospatial\\lib\\site-packages\\IPython\\core\\interactiveshell.py:3441: DtypeWarning: Columns (8) have mixed types.Specify dtype option on import or set low_memory=False.\n",
      "  exec(code_obj, self.user_global_ns, self.user_ns)\n"
     ]
    }
   ],
   "source": [
    "df=pd.read_csv('../../Data/Taxi Data/yellow_14/yellow_tripdata_2014-3.csv')"
   ]
  },
  {
   "cell_type": "markdown",
   "id": "4ecbe83c",
   "metadata": {},
   "source": [
    "df.info()"
   ]
  },
  {
   "cell_type": "markdown",
   "id": "222054c9",
   "metadata": {},
   "source": [
    "df2=df.head(100)"
   ]
  },
  {
   "cell_type": "markdown",
   "id": "697610d0",
   "metadata": {},
   "source": [
    "df2.columns"
   ]
  },
  {
   "cell_type": "code",
   "execution_count": null,
   "id": "235b80e6",
   "metadata": {
    "scrolled": true
   },
   "outputs": [],
   "source": [
    "start_time = time.time()\n",
    "\n",
    "df['dropoff_geometry'] = df.apply(lambda x: Point((float(x[' dropoff_longitude']), \n",
    "                                             float(x[' dropoff_latitude']))), \n",
    "                                             axis=1)\n",
    "df.head(3)\n",
    "\n",
    "print(\"--- %s seconds ---\" % (time.time() - start_time))\n",
    "finished"
   ]
  },
  {
   "cell_type": "code",
   "execution_count": null,
   "id": "7e56e1b7",
   "metadata": {},
   "outputs": [],
   "source": [
    "start_time = time.time()\n",
    "\n",
    "df['pickup_geometry'] = df.apply(lambda x: Point((float(x[' pickup_longitude']), \n",
    "                                             float(x[' pickup_latitude']))), \n",
    "                                             axis=1)\n",
    "df.head(3)\n",
    "\n",
    "print(\"--- %s seconds ---\" % (time.time() - start_time))\n",
    "finished"
   ]
  },
  {
   "cell_type": "code",
   "execution_count": null,
   "id": "a25faab8",
   "metadata": {},
   "outputs": [],
   "source": [
    "df.head(3)"
   ]
  },
  {
   "cell_type": "code",
   "execution_count": null,
   "id": "8af47f6e",
   "metadata": {
    "scrolled": false
   },
   "outputs": [],
   "source": [
    "df2_start=df[[' passenger_count',' trip_distance',' fare_amount',' mta_tax',' tip_amount',' tolls_amount','pickup_geometry']]"
   ]
  },
  {
   "cell_type": "code",
   "execution_count": null,
   "id": "4a22c152",
   "metadata": {},
   "outputs": [],
   "source": [
    "df2_end=df[['dropoff_geometry']]"
   ]
  },
  {
   "cell_type": "code",
   "execution_count": null,
   "id": "a83e6cc5",
   "metadata": {},
   "outputs": [],
   "source": [
    "start_time = time.time()\n",
    "df2_start=gpd.GeoDataFrame(df2_start,\n",
    "                     crs=map.crs,\n",
    "                     geometry=df2_start['pickup_geometry'])\n",
    "print(\"--- %s seconds ---\" % (time.time() - start_time))\n",
    "finished"
   ]
  },
  {
   "cell_type": "code",
   "execution_count": null,
   "id": "3f6ba9af",
   "metadata": {},
   "outputs": [],
   "source": [
    "start_time = time.time()\n",
    "df2_end=gpd.GeoDataFrame(df2_end,\n",
    "                     crs=map.crs,\n",
    "                     geometry=df2_end['dropoff_geometry'])\n",
    "print(\"--- %s seconds ---\" % (time.time() - start_time))\n",
    "finished"
   ]
  },
  {
   "cell_type": "code",
   "execution_count": null,
   "id": "c353b4e1",
   "metadata": {},
   "outputs": [],
   "source": [
    "start_time = time.time()\n",
    "\n",
    "geo_processing_start = gpd.sjoin(df2_start, map, op = 'within')\n",
    "\n",
    "print(\"--- %s seconds ---\" % (time.time() - start_time))\n",
    "finished"
   ]
  },
  {
   "cell_type": "code",
   "execution_count": null,
   "id": "31ddff5f",
   "metadata": {},
   "outputs": [],
   "source": [
    "start_time = time.time()\n",
    "\n",
    "geo_processing_end = gpd.sjoin(df2_end, map, op = 'within')\n",
    "\n",
    "print(\"--- %s seconds ---\" % (time.time() - start_time))\n",
    "finished"
   ]
  },
  {
   "cell_type": "code",
   "execution_count": null,
   "id": "dfbc0bca",
   "metadata": {},
   "outputs": [],
   "source": [
    "group_start = geo_processing_start.groupby(['postalCode']).describe()"
   ]
  },
  {
   "cell_type": "code",
   "execution_count": null,
   "id": "8f1713c4",
   "metadata": {},
   "outputs": [],
   "source": [
    "group_start.columns = ['_'.join(col) for col in group_start.columns.values]"
   ]
  },
  {
   "cell_type": "markdown",
   "id": "a6392bda",
   "metadata": {},
   "source": [
    "group_start.to_csv('../../Data/yellow_tripdata_2014-2-start-processed.csv')"
   ]
  },
  {
   "cell_type": "code",
   "execution_count": null,
   "id": "62ff2b5d",
   "metadata": {},
   "outputs": [],
   "source": [
    "group_end = pd.DataFrame(group_end,columns=['dropoff_count'])"
   ]
  },
  {
   "cell_type": "code",
   "execution_count": null,
   "id": "310829e2",
   "metadata": {},
   "outputs": [],
   "source": [
    "group_end = geo_processing_end.value_counts(['postalCode'])"
   ]
  },
  {
   "cell_type": "markdown",
   "id": "e9fb3751",
   "metadata": {},
   "source": [
    "group_end.to_csv('../../Data/yellow_tripdata_2014-2-end-processed.csv')"
   ]
  },
  {
   "cell_type": "code",
   "execution_count": null,
   "id": "9fd0fe1f",
   "metadata": {},
   "outputs": [],
   "source": [
    "merge=group_start.merge(group_end, how='left', on='postalCode')"
   ]
  },
  {
   "cell_type": "code",
   "execution_count": null,
   "id": "9d52b1c4",
   "metadata": {},
   "outputs": [],
   "source": [
    "#REMEMBER TO RENAME CSV BEFORE START\n",
    "merge.to_csv('../../Data/yellow_tripdata_2014-3-processed.csv')\n",
    "complete"
   ]
  },
  {
   "cell_type": "code",
   "execution_count": null,
   "id": "53865c4c",
   "metadata": {},
   "outputs": [],
   "source": []
  }
 ],
 "metadata": {
  "kernelspec": {
   "display_name": "Python 3 (ipykernel)",
   "language": "python",
   "name": "python3"
  },
  "language_info": {
   "codemirror_mode": {
    "name": "ipython",
    "version": 3
   },
   "file_extension": ".py",
   "mimetype": "text/x-python",
   "name": "python",
   "nbconvert_exporter": "python",
   "pygments_lexer": "ipython3",
   "version": "3.8.5"
  }
 },
 "nbformat": 4,
 "nbformat_minor": 5
}
