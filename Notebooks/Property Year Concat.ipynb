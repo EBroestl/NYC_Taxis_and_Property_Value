{
 "cells": [
  {
   "cell_type": "code",
   "execution_count": 1,
   "id": "05f63e72",
   "metadata": {},
   "outputs": [],
   "source": [
    "import pandas as pd\n",
    "import numpy as np\n",
    "import openpyxl"
   ]
  },
  {
   "cell_type": "code",
   "execution_count": 54,
   "id": "24ab3a6d",
   "metadata": {},
   "outputs": [],
   "source": [
    "y09 = pd.read_csv('../../Data/Property Data Processed/2009 address concat mean.csv')\n",
    "y10 = pd.read_csv('../../Data/Property Data Processed/2010 address concat mean.csv')\n",
    "y11 = pd.read_csv('../../Data/Property Data Processed/2011 address concat mean.csv')\n",
    "y12 = pd.read_csv('../../Data/Property Data Processed/2012 address concat mean.csv')\n",
    "y13 = pd.read_csv('../../Data/Property Data Processed/2013 address concat mean.csv')\n",
    "y14 = pd.read_csv('../../Data/Property Data Processed/2014 address concat mean.csv')\n",
    "y15 = pd.read_csv('../../Data/Property Data Processed/2015 address concat mean.csv')\n",
    "y16 = pd.read_csv('../../Data/Property Data Processed/2016 address concat mean.csv')\n",
    "y17 = pd.read_csv('../../Data/Property Data Processed/2017 address concat mean.csv')\n",
    "y18 = pd.read_csv('../../Data/Property Data Processed/2018 address concat mean.csv')\n",
    "y19 = pd.read_csv('../../Data/Property Data Processed/2019 address concat mean.csv')\n",
    "y20 = pd.read_csv('../../Data/Property Data Processed/2020 address concat mean.csv')\n",
    "y21 = pd.read_csv('../../Data/Property Data Processed/2021 address concat mean.csv')"
   ]
  },
  {
   "cell_type": "code",
   "execution_count": 61,
   "id": "5ebd5ac7",
   "metadata": {},
   "outputs": [],
   "source": [
    "full=pd.concat([y09,y10,y11,y12,y13,y14,y15,y16,y17,y18,y19,y20,y21])"
   ]
  },
  {
   "cell_type": "code",
   "execution_count": 65,
   "id": "e6d75e80",
   "metadata": {},
   "outputs": [],
   "source": [
    "full.to_csv('../../Data/Property Data Processed/full years sales.csv')"
   ]
  },
  {
   "cell_type": "code",
   "execution_count": 57,
   "id": "729b84da",
   "metadata": {
    "scrolled": true
   },
   "outputs": [
    {
     "name": "stdout",
     "output_type": "stream",
     "text": [
      "<class 'pandas.core.frame.DataFrame'>\n",
      "Int64Index: 2200 entries, 0 to 181\n",
      "Data columns (total 3 columns):\n",
      " #   Column      Non-Null Count  Dtype  \n",
      "---  ------      --------------  -----  \n",
      " 0   ZIP CODE    2200 non-null   float64\n",
      " 1   SALE PRICE  2200 non-null   float64\n",
      " 2   YEAR        2200 non-null   int64  \n",
      "dtypes: float64(2), int64(1)\n",
      "memory usage: 68.8 KB\n"
     ]
    }
   ],
   "source": [
    "full['ZIP CODE']="
   ]
  },
  {
   "cell_type": "code",
   "execution_count": 62,
   "id": "e34b9ab2",
   "metadata": {},
   "outputs": [],
   "source": [
    "full['ZIP CODE']=full['ZIP CODE'].astype(int)"
   ]
  },
  {
   "cell_type": "code",
   "execution_count": 64,
   "id": "03bc1cf9",
   "metadata": {},
   "outputs": [
    {
     "name": "stdout",
     "output_type": "stream",
     "text": [
      "<class 'pandas.core.frame.DataFrame'>\n",
      "Int64Index: 2383 entries, 0 to 182\n",
      "Data columns (total 3 columns):\n",
      " #   Column      Non-Null Count  Dtype  \n",
      "---  ------      --------------  -----  \n",
      " 0   ZIP CODE    2383 non-null   int32  \n",
      " 1   SALE PRICE  2383 non-null   float64\n",
      " 2   YEAR        2383 non-null   int64  \n",
      "dtypes: float64(1), int32(1), int64(1)\n",
      "memory usage: 65.2 KB\n"
     ]
    }
   ],
   "source": [
    "full.info()"
   ]
  },
  {
   "cell_type": "code",
   "execution_count": 40,
   "id": "c8c63092",
   "metadata": {},
   "outputs": [
    {
     "data": {
      "text/html": [
       "<div>\n",
       "<style scoped>\n",
       "    .dataframe tbody tr th:only-of-type {\n",
       "        vertical-align: middle;\n",
       "    }\n",
       "\n",
       "    .dataframe tbody tr th {\n",
       "        vertical-align: top;\n",
       "    }\n",
       "\n",
       "    .dataframe thead th {\n",
       "        text-align: right;\n",
       "    }\n",
       "</style>\n",
       "<table border=\"1\" class=\"dataframe\">\n",
       "  <thead>\n",
       "    <tr style=\"text-align: right;\">\n",
       "      <th></th>\n",
       "      <th>ZIP CODE</th>\n",
       "      <th>SALE PRICE</th>\n",
       "      <th>YEAR</th>\n",
       "    </tr>\n",
       "  </thead>\n",
       "  <tbody>\n",
       "    <tr>\n",
       "      <th>0</th>\n",
       "      <td>0</td>\n",
       "      <td>1.679564e+06</td>\n",
       "      <td>2009</td>\n",
       "    </tr>\n",
       "    <tr>\n",
       "      <th>1</th>\n",
       "      <td>10001</td>\n",
       "      <td>4.502230e+06</td>\n",
       "      <td>2009</td>\n",
       "    </tr>\n",
       "    <tr>\n",
       "      <th>2</th>\n",
       "      <td>10002</td>\n",
       "      <td>6.706104e+05</td>\n",
       "      <td>2009</td>\n",
       "    </tr>\n",
       "    <tr>\n",
       "      <th>3</th>\n",
       "      <td>10003</td>\n",
       "      <td>1.259420e+06</td>\n",
       "      <td>2009</td>\n",
       "    </tr>\n",
       "    <tr>\n",
       "      <th>4</th>\n",
       "      <td>10004</td>\n",
       "      <td>1.404513e+06</td>\n",
       "      <td>2009</td>\n",
       "    </tr>\n",
       "    <tr>\n",
       "      <th>...</th>\n",
       "      <td>...</td>\n",
       "      <td>...</td>\n",
       "      <td>...</td>\n",
       "    </tr>\n",
       "    <tr>\n",
       "      <th>178</th>\n",
       "      <td>11691</td>\n",
       "      <td>7.644009e+05</td>\n",
       "      <td>2019-20</td>\n",
       "    </tr>\n",
       "    <tr>\n",
       "      <th>179</th>\n",
       "      <td>11692</td>\n",
       "      <td>5.333506e+05</td>\n",
       "      <td>2019-20</td>\n",
       "    </tr>\n",
       "    <tr>\n",
       "      <th>180</th>\n",
       "      <td>11693</td>\n",
       "      <td>4.195935e+05</td>\n",
       "      <td>2019-20</td>\n",
       "    </tr>\n",
       "    <tr>\n",
       "      <th>181</th>\n",
       "      <td>11694</td>\n",
       "      <td>7.473656e+05</td>\n",
       "      <td>2019-20</td>\n",
       "    </tr>\n",
       "    <tr>\n",
       "      <th>182</th>\n",
       "      <td>11697</td>\n",
       "      <td>5.934425e+05</td>\n",
       "      <td>2019-20</td>\n",
       "    </tr>\n",
       "  </tbody>\n",
       "</table>\n",
       "<p>1461 rows × 3 columns</p>\n",
       "</div>"
      ],
      "text/plain": [
       "     ZIP CODE    SALE PRICE     YEAR\n",
       "0           0  1.679564e+06     2009\n",
       "1       10001  4.502230e+06     2009\n",
       "2       10002  6.706104e+05     2009\n",
       "3       10003  1.259420e+06     2009\n",
       "4       10004  1.404513e+06     2009\n",
       "..        ...           ...      ...\n",
       "178     11691  7.644009e+05  2019-20\n",
       "179     11692  5.333506e+05  2019-20\n",
       "180     11693  4.195935e+05  2019-20\n",
       "181     11694  7.473656e+05  2019-20\n",
       "182     11697  5.934425e+05  2019-20\n",
       "\n",
       "[1461 rows x 3 columns]"
      ]
     },
     "execution_count": 40,
     "metadata": {},
     "output_type": "execute_result"
    }
   ],
   "source": [
    "full"
   ]
  },
  {
   "cell_type": "code",
   "execution_count": null,
   "id": "460dd9b6",
   "metadata": {},
   "outputs": [],
   "source": []
  }
 ],
 "metadata": {
  "kernelspec": {
   "display_name": "Python 3 (ipykernel)",
   "language": "python",
   "name": "python3"
  },
  "language_info": {
   "codemirror_mode": {
    "name": "ipython",
    "version": 3
   },
   "file_extension": ".py",
   "mimetype": "text/x-python",
   "name": "python",
   "nbconvert_exporter": "python",
   "pygments_lexer": "ipython3",
   "version": "3.8.5"
  }
 },
 "nbformat": 4,
 "nbformat_minor": 5
}
