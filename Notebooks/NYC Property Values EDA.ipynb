{
 "cells": [
  {
   "cell_type": "code",
   "execution_count": 1,
   "id": "49567988",
   "metadata": {},
   "outputs": [],
   "source": [
    "import pandas as pd\n",
    "import numpy as np\n",
    "import matplotlib.pyplot as plt"
   ]
  },
  {
   "cell_type": "code",
   "execution_count": 2,
   "id": "61d2d2ed",
   "metadata": {},
   "outputs": [],
   "source": [
    "bronx07=pd.read_excel('../../Data/Property Data/sales_2007_bronx.xls', header=3)\n",
    "bronx08=pd.read_excel('../../Data/Property Data/sales_2008_bronx.xls', header=3)\n",
    "bronx09=pd.read_excel('../../Data/Property Data/2009_bronx.xls', header=3)\n",
    "bronx10=pd.read_excel('../../Data/Property Data/2010_bronx.xls', header=3)\n",
    "bronx11=pd.read_excel('../../Data/Property Data/2011_bronx.xls', header=4)\n",
    "bronx12=pd.read_excel('../../Data/Property Data/2012_bronx.xls', header=4)\n",
    "bronx13=pd.read_excel('../../Data/Property Data/2013_bronx.xls', header=4)\n",
    "bronx14=pd.read_excel('../../Data/Property Data/2014_bronx.xls', header=4)\n",
    "bronx15=pd.read_excel('../../Data/Property Data/2015_bronx.xls', header=4)"
   ]
  },
  {
   "cell_type": "code",
   "execution_count": 3,
   "id": "c9fbd695",
   "metadata": {},
   "outputs": [],
   "source": [
    "bronx15.columns = [x.replace(\"\\n\",\" \") for x in bronx15.columns.to_list()]"
   ]
  },
  {
   "cell_type": "code",
   "execution_count": 4,
   "id": "2deb5f17",
   "metadata": {},
   "outputs": [],
   "source": [
    "bronx15.rename(columns=lambda x: x.strip(), inplace=True)"
   ]
  },
  {
   "cell_type": "code",
   "execution_count": 5,
   "id": "60359719",
   "metadata": {},
   "outputs": [],
   "source": [
    "bronx15 = bronx15.rename(columns=lambda x: x.strip())"
   ]
  },
  {
   "cell_type": "code",
   "execution_count": 6,
   "id": "e5321d54",
   "metadata": {},
   "outputs": [],
   "source": [
    "bronx07=bronx07.loc[~(bronx07['SALE PRICE']==0)]\n",
    "bronx08=bronx08.loc[~(bronx08['SALE PRICE']==0)]\n",
    "bronx09=bronx09.loc[~(bronx09['SALE PRICE']==0)]\n",
    "bronx10=bronx10.loc[~(bronx10['SALE PRICE']==0)]\n",
    "bronx11=bronx11.loc[~(bronx11['SALE PRICE']==0)]\n",
    "bronx12=bronx12.loc[~(bronx12['SALE PRICE\\n']==0)]\n",
    "bronx13=bronx13.loc[~(bronx13['SALE PRICE\\n']==0)]\n",
    "bronx14=bronx14.loc[~(bronx14['SALE PRICE\\n']==0)]\n",
    "bronx15=bronx15.loc[~(bronx15['SALE PRICE']==0)]"
   ]
  },
  {
   "cell_type": "code",
   "execution_count": 14,
   "id": "97fe81d8",
   "metadata": {},
   "outputs": [
    {
     "name": "stdout",
     "output_type": "stream",
     "text": [
      "<class 'pandas.core.frame.DataFrame'>\n",
      "Int64Index: 4856 entries, 3 to 6735\n",
      "Data columns (total 21 columns):\n",
      " #   Column                          Non-Null Count  Dtype         \n",
      "---  ------                          --------------  -----         \n",
      " 0   BOROUGH                         4856 non-null   int64         \n",
      " 1   NEIGHBORHOOD                    4856 non-null   object        \n",
      " 2   BUILDING CLASS CATEGORY         4856 non-null   object        \n",
      " 3   TAX CLASS AT PRESENT            4856 non-null   object        \n",
      " 4   BLOCK                           4856 non-null   int64         \n",
      " 5   LOT                             4856 non-null   int64         \n",
      " 6   EASE-MENT                       4856 non-null   object        \n",
      " 7   BUILDING CLASS AT PRESENT       4856 non-null   object        \n",
      " 8   ADDRESS                         4856 non-null   object        \n",
      " 9   APARTMENT NUMBER                4856 non-null   object        \n",
      " 10  ZIP CODE                        4856 non-null   int64         \n",
      " 11  RESIDENTIAL UNITS               4856 non-null   int64         \n",
      " 12  COMMERCIAL UNITS                4856 non-null   int64         \n",
      " 13  TOTAL UNITS                     4856 non-null   int64         \n",
      " 14  LAND SQUARE FEET                4856 non-null   int64         \n",
      " 15  GROSS SQUARE FEET               4856 non-null   int64         \n",
      " 16  YEAR BUILT                      4856 non-null   int64         \n",
      " 17  TAX CLASS AT TIME OF SALE       4856 non-null   int64         \n",
      " 18  BUILDING CLASS AT TIME OF SALE  4856 non-null   object        \n",
      " 19  SALE PRICE                      4856 non-null   int64         \n",
      " 20  SALE DATE                       4856 non-null   datetime64[ns]\n",
      "dtypes: datetime64[ns](1), int64(12), object(8)\n",
      "memory usage: 834.6+ KB\n"
     ]
    }
   ],
   "source": [
    "bronx15.info()"
   ]
  },
  {
   "cell_type": "code",
   "execution_count": 10,
   "id": "0dd5e4be",
   "metadata": {},
   "outputs": [],
   "source": [
    "avg1=(bronx07['SALE PRICE'].sum())/(bronx07['SALE PRICE'].count())\n",
    "avg2=(bronx08['SALE PRICE'].sum())/(bronx08['SALE PRICE'].count())\n",
    "avg3=(bronx09['SALE PRICE'].sum())/(bronx09['SALE PRICE'].count())\n",
    "avg4=(bronx10['SALE PRICE'].sum())/(bronx10['SALE PRICE'].count())\n",
    "avg5=(bronx11['SALE PRICE'].sum())/(bronx11['SALE PRICE'].count())\n",
    "avg6=(bronx12['SALE PRICE\\n'].sum())/(bronx12['SALE PRICE\\n'].count())\n",
    "avg7=(bronx13['SALE PRICE\\n'].sum())/(bronx13['SALE PRICE\\n'].count())\n",
    "avg8=(bronx14['SALE PRICE\\n'].sum())/(bronx14['SALE PRICE\\n'].count())\n",
    "avg9=(bronx15['SALE PRICE'].sum())/(bronx15['SALE PRICE'].count())"
   ]
  },
  {
   "cell_type": "code",
   "execution_count": 15,
   "id": "b5cb3016",
   "metadata": {},
   "outputs": [],
   "source": [
    "dfdgaf={'07':avg1,'08':avg2,'09':avg3,'10':avg4,'11':avg5,'12':avg6,'13':avg7,'14':avg8,'15':avg9}"
   ]
  },
  {
   "cell_type": "code",
   "execution_count": 16,
   "id": "b576cd12",
   "metadata": {},
   "outputs": [
    {
     "ename": "ValueError",
     "evalue": "If using all scalar values, you must pass an index",
     "output_type": "error",
     "traceback": [
      "\u001b[1;31m---------------------------------------------------------------------------\u001b[0m",
      "\u001b[1;31mValueError\u001b[0m                                Traceback (most recent call last)",
      "\u001b[1;32m<ipython-input-16-568e24e928a0>\u001b[0m in \u001b[0;36m<module>\u001b[1;34m\u001b[0m\n\u001b[1;32m----> 1\u001b[1;33m \u001b[0mpd\u001b[0m\u001b[1;33m.\u001b[0m\u001b[0mDataFrame\u001b[0m\u001b[1;33m(\u001b[0m\u001b[0mdfdgaf\u001b[0m\u001b[1;33m)\u001b[0m\u001b[1;33m\u001b[0m\u001b[1;33m\u001b[0m\u001b[0m\n\u001b[0m",
      "\u001b[1;32mC:\\ProgramData\\Anaconda3\\lib\\site-packages\\pandas\\core\\frame.py\u001b[0m in \u001b[0;36m__init__\u001b[1;34m(self, data, index, columns, dtype, copy)\u001b[0m\n\u001b[0;32m    527\u001b[0m \u001b[1;33m\u001b[0m\u001b[0m\n\u001b[0;32m    528\u001b[0m         \u001b[1;32melif\u001b[0m \u001b[0misinstance\u001b[0m\u001b[1;33m(\u001b[0m\u001b[0mdata\u001b[0m\u001b[1;33m,\u001b[0m \u001b[0mdict\u001b[0m\u001b[1;33m)\u001b[0m\u001b[1;33m:\u001b[0m\u001b[1;33m\u001b[0m\u001b[1;33m\u001b[0m\u001b[0m\n\u001b[1;32m--> 529\u001b[1;33m             \u001b[0mmgr\u001b[0m \u001b[1;33m=\u001b[0m \u001b[0minit_dict\u001b[0m\u001b[1;33m(\u001b[0m\u001b[0mdata\u001b[0m\u001b[1;33m,\u001b[0m \u001b[0mindex\u001b[0m\u001b[1;33m,\u001b[0m \u001b[0mcolumns\u001b[0m\u001b[1;33m,\u001b[0m \u001b[0mdtype\u001b[0m\u001b[1;33m=\u001b[0m\u001b[0mdtype\u001b[0m\u001b[1;33m)\u001b[0m\u001b[1;33m\u001b[0m\u001b[1;33m\u001b[0m\u001b[0m\n\u001b[0m\u001b[0;32m    530\u001b[0m         \u001b[1;32melif\u001b[0m \u001b[0misinstance\u001b[0m\u001b[1;33m(\u001b[0m\u001b[0mdata\u001b[0m\u001b[1;33m,\u001b[0m \u001b[0mma\u001b[0m\u001b[1;33m.\u001b[0m\u001b[0mMaskedArray\u001b[0m\u001b[1;33m)\u001b[0m\u001b[1;33m:\u001b[0m\u001b[1;33m\u001b[0m\u001b[1;33m\u001b[0m\u001b[0m\n\u001b[0;32m    531\u001b[0m             \u001b[1;32mimport\u001b[0m \u001b[0mnumpy\u001b[0m\u001b[1;33m.\u001b[0m\u001b[0mma\u001b[0m\u001b[1;33m.\u001b[0m\u001b[0mmrecords\u001b[0m \u001b[1;32mas\u001b[0m \u001b[0mmrecords\u001b[0m\u001b[1;33m\u001b[0m\u001b[1;33m\u001b[0m\u001b[0m\n",
      "\u001b[1;32mC:\\ProgramData\\Anaconda3\\lib\\site-packages\\pandas\\core\\internals\\construction.py\u001b[0m in \u001b[0;36minit_dict\u001b[1;34m(data, index, columns, dtype)\u001b[0m\n\u001b[0;32m    285\u001b[0m             \u001b[0marr\u001b[0m \u001b[1;32mif\u001b[0m \u001b[1;32mnot\u001b[0m \u001b[0mis_datetime64tz_dtype\u001b[0m\u001b[1;33m(\u001b[0m\u001b[0marr\u001b[0m\u001b[1;33m)\u001b[0m \u001b[1;32melse\u001b[0m \u001b[0marr\u001b[0m\u001b[1;33m.\u001b[0m\u001b[0mcopy\u001b[0m\u001b[1;33m(\u001b[0m\u001b[1;33m)\u001b[0m \u001b[1;32mfor\u001b[0m \u001b[0marr\u001b[0m \u001b[1;32min\u001b[0m \u001b[0marrays\u001b[0m\u001b[1;33m\u001b[0m\u001b[1;33m\u001b[0m\u001b[0m\n\u001b[0;32m    286\u001b[0m         ]\n\u001b[1;32m--> 287\u001b[1;33m     \u001b[1;32mreturn\u001b[0m \u001b[0marrays_to_mgr\u001b[0m\u001b[1;33m(\u001b[0m\u001b[0marrays\u001b[0m\u001b[1;33m,\u001b[0m \u001b[0mdata_names\u001b[0m\u001b[1;33m,\u001b[0m \u001b[0mindex\u001b[0m\u001b[1;33m,\u001b[0m \u001b[0mcolumns\u001b[0m\u001b[1;33m,\u001b[0m \u001b[0mdtype\u001b[0m\u001b[1;33m=\u001b[0m\u001b[0mdtype\u001b[0m\u001b[1;33m)\u001b[0m\u001b[1;33m\u001b[0m\u001b[1;33m\u001b[0m\u001b[0m\n\u001b[0m\u001b[0;32m    288\u001b[0m \u001b[1;33m\u001b[0m\u001b[0m\n\u001b[0;32m    289\u001b[0m \u001b[1;33m\u001b[0m\u001b[0m\n",
      "\u001b[1;32mC:\\ProgramData\\Anaconda3\\lib\\site-packages\\pandas\\core\\internals\\construction.py\u001b[0m in \u001b[0;36marrays_to_mgr\u001b[1;34m(arrays, arr_names, index, columns, dtype, verify_integrity)\u001b[0m\n\u001b[0;32m     78\u001b[0m         \u001b[1;31m# figure out the index, if necessary\u001b[0m\u001b[1;33m\u001b[0m\u001b[1;33m\u001b[0m\u001b[1;33m\u001b[0m\u001b[0m\n\u001b[0;32m     79\u001b[0m         \u001b[1;32mif\u001b[0m \u001b[0mindex\u001b[0m \u001b[1;32mis\u001b[0m \u001b[1;32mNone\u001b[0m\u001b[1;33m:\u001b[0m\u001b[1;33m\u001b[0m\u001b[1;33m\u001b[0m\u001b[0m\n\u001b[1;32m---> 80\u001b[1;33m             \u001b[0mindex\u001b[0m \u001b[1;33m=\u001b[0m \u001b[0mextract_index\u001b[0m\u001b[1;33m(\u001b[0m\u001b[0marrays\u001b[0m\u001b[1;33m)\u001b[0m\u001b[1;33m\u001b[0m\u001b[1;33m\u001b[0m\u001b[0m\n\u001b[0m\u001b[0;32m     81\u001b[0m         \u001b[1;32melse\u001b[0m\u001b[1;33m:\u001b[0m\u001b[1;33m\u001b[0m\u001b[1;33m\u001b[0m\u001b[0m\n\u001b[0;32m     82\u001b[0m             \u001b[0mindex\u001b[0m \u001b[1;33m=\u001b[0m \u001b[0mensure_index\u001b[0m\u001b[1;33m(\u001b[0m\u001b[0mindex\u001b[0m\u001b[1;33m)\u001b[0m\u001b[1;33m\u001b[0m\u001b[1;33m\u001b[0m\u001b[0m\n",
      "\u001b[1;32mC:\\ProgramData\\Anaconda3\\lib\\site-packages\\pandas\\core\\internals\\construction.py\u001b[0m in \u001b[0;36mextract_index\u001b[1;34m(data)\u001b[0m\n\u001b[0;32m    389\u001b[0m \u001b[1;33m\u001b[0m\u001b[0m\n\u001b[0;32m    390\u001b[0m         \u001b[1;32mif\u001b[0m \u001b[1;32mnot\u001b[0m \u001b[0mindexes\u001b[0m \u001b[1;32mand\u001b[0m \u001b[1;32mnot\u001b[0m \u001b[0mraw_lengths\u001b[0m\u001b[1;33m:\u001b[0m\u001b[1;33m\u001b[0m\u001b[1;33m\u001b[0m\u001b[0m\n\u001b[1;32m--> 391\u001b[1;33m             \u001b[1;32mraise\u001b[0m \u001b[0mValueError\u001b[0m\u001b[1;33m(\u001b[0m\u001b[1;34m\"If using all scalar values, you must pass an index\"\u001b[0m\u001b[1;33m)\u001b[0m\u001b[1;33m\u001b[0m\u001b[1;33m\u001b[0m\u001b[0m\n\u001b[0m\u001b[0;32m    392\u001b[0m \u001b[1;33m\u001b[0m\u001b[0m\n\u001b[0;32m    393\u001b[0m         \u001b[1;32mif\u001b[0m \u001b[0mhave_series\u001b[0m\u001b[1;33m:\u001b[0m\u001b[1;33m\u001b[0m\u001b[1;33m\u001b[0m\u001b[0m\n",
      "\u001b[1;31mValueError\u001b[0m: If using all scalar values, you must pass an index"
     ]
    }
   ],
   "source": [
    "pd.DataFrame(dfdgaf)"
   ]
  },
  {
   "cell_type": "code",
   "execution_count": null,
   "id": "936cf577",
   "metadata": {},
   "outputs": [],
   "source": [
    "plt.dfdgaf()"
   ]
  },
  {
   "cell_type": "code",
   "execution_count": 17,
   "id": "da0b1749",
   "metadata": {},
   "outputs": [],
   "source": [
    "t_jan_09=pd.read_csv('../../Data/yellow_tripdata_2009-01.csv')"
   ]
  },
  {
   "cell_type": "code",
   "execution_count": 18,
   "id": "73f504a5",
   "metadata": {},
   "outputs": [
    {
     "data": {
      "text/html": [
       "<div>\n",
       "<style scoped>\n",
       "    .dataframe tbody tr th:only-of-type {\n",
       "        vertical-align: middle;\n",
       "    }\n",
       "\n",
       "    .dataframe tbody tr th {\n",
       "        vertical-align: top;\n",
       "    }\n",
       "\n",
       "    .dataframe thead th {\n",
       "        text-align: right;\n",
       "    }\n",
       "</style>\n",
       "<table border=\"1\" class=\"dataframe\">\n",
       "  <thead>\n",
       "    <tr style=\"text-align: right;\">\n",
       "      <th></th>\n",
       "      <th>vendor_name</th>\n",
       "      <th>Trip_Pickup_DateTime</th>\n",
       "      <th>Trip_Dropoff_DateTime</th>\n",
       "      <th>Passenger_Count</th>\n",
       "      <th>Trip_Distance</th>\n",
       "      <th>Start_Lon</th>\n",
       "      <th>Start_Lat</th>\n",
       "      <th>Rate_Code</th>\n",
       "      <th>store_and_forward</th>\n",
       "      <th>End_Lon</th>\n",
       "      <th>End_Lat</th>\n",
       "      <th>Payment_Type</th>\n",
       "      <th>Fare_Amt</th>\n",
       "      <th>surcharge</th>\n",
       "      <th>mta_tax</th>\n",
       "      <th>Tip_Amt</th>\n",
       "      <th>Tolls_Amt</th>\n",
       "      <th>Total_Amt</th>\n",
       "    </tr>\n",
       "  </thead>\n",
       "  <tbody>\n",
       "    <tr>\n",
       "      <th>0</th>\n",
       "      <td>VTS</td>\n",
       "      <td>2009-01-04 02:52:00</td>\n",
       "      <td>2009-01-04 03:02:00</td>\n",
       "      <td>1</td>\n",
       "      <td>2.63</td>\n",
       "      <td>-73.991957</td>\n",
       "      <td>40.721567</td>\n",
       "      <td>NaN</td>\n",
       "      <td>NaN</td>\n",
       "      <td>-73.993803</td>\n",
       "      <td>40.695922</td>\n",
       "      <td>CASH</td>\n",
       "      <td>8.9</td>\n",
       "      <td>0.5</td>\n",
       "      <td>NaN</td>\n",
       "      <td>0.00</td>\n",
       "      <td>0.0</td>\n",
       "      <td>9.40</td>\n",
       "    </tr>\n",
       "    <tr>\n",
       "      <th>1</th>\n",
       "      <td>VTS</td>\n",
       "      <td>2009-01-04 03:31:00</td>\n",
       "      <td>2009-01-04 03:38:00</td>\n",
       "      <td>3</td>\n",
       "      <td>4.55</td>\n",
       "      <td>-73.982102</td>\n",
       "      <td>40.736290</td>\n",
       "      <td>NaN</td>\n",
       "      <td>NaN</td>\n",
       "      <td>-73.955850</td>\n",
       "      <td>40.768030</td>\n",
       "      <td>Credit</td>\n",
       "      <td>12.1</td>\n",
       "      <td>0.5</td>\n",
       "      <td>NaN</td>\n",
       "      <td>2.00</td>\n",
       "      <td>0.0</td>\n",
       "      <td>14.60</td>\n",
       "    </tr>\n",
       "    <tr>\n",
       "      <th>2</th>\n",
       "      <td>VTS</td>\n",
       "      <td>2009-01-03 15:43:00</td>\n",
       "      <td>2009-01-03 15:57:00</td>\n",
       "      <td>5</td>\n",
       "      <td>10.35</td>\n",
       "      <td>-74.002587</td>\n",
       "      <td>40.739748</td>\n",
       "      <td>NaN</td>\n",
       "      <td>NaN</td>\n",
       "      <td>-73.869983</td>\n",
       "      <td>40.770225</td>\n",
       "      <td>Credit</td>\n",
       "      <td>23.7</td>\n",
       "      <td>0.0</td>\n",
       "      <td>NaN</td>\n",
       "      <td>4.74</td>\n",
       "      <td>0.0</td>\n",
       "      <td>28.44</td>\n",
       "    </tr>\n",
       "    <tr>\n",
       "      <th>3</th>\n",
       "      <td>DDS</td>\n",
       "      <td>2009-01-01 20:52:58</td>\n",
       "      <td>2009-01-01 21:14:00</td>\n",
       "      <td>1</td>\n",
       "      <td>5.00</td>\n",
       "      <td>-73.974267</td>\n",
       "      <td>40.790955</td>\n",
       "      <td>NaN</td>\n",
       "      <td>NaN</td>\n",
       "      <td>-73.996558</td>\n",
       "      <td>40.731849</td>\n",
       "      <td>CREDIT</td>\n",
       "      <td>14.9</td>\n",
       "      <td>0.5</td>\n",
       "      <td>NaN</td>\n",
       "      <td>3.05</td>\n",
       "      <td>0.0</td>\n",
       "      <td>18.45</td>\n",
       "    </tr>\n",
       "    <tr>\n",
       "      <th>4</th>\n",
       "      <td>DDS</td>\n",
       "      <td>2009-01-24 16:18:23</td>\n",
       "      <td>2009-01-24 16:24:56</td>\n",
       "      <td>1</td>\n",
       "      <td>0.40</td>\n",
       "      <td>-74.001580</td>\n",
       "      <td>40.719382</td>\n",
       "      <td>NaN</td>\n",
       "      <td>NaN</td>\n",
       "      <td>-74.008378</td>\n",
       "      <td>40.720350</td>\n",
       "      <td>CASH</td>\n",
       "      <td>3.7</td>\n",
       "      <td>0.0</td>\n",
       "      <td>NaN</td>\n",
       "      <td>0.00</td>\n",
       "      <td>0.0</td>\n",
       "      <td>3.70</td>\n",
       "    </tr>\n",
       "    <tr>\n",
       "      <th>...</th>\n",
       "      <td>...</td>\n",
       "      <td>...</td>\n",
       "      <td>...</td>\n",
       "      <td>...</td>\n",
       "      <td>...</td>\n",
       "      <td>...</td>\n",
       "      <td>...</td>\n",
       "      <td>...</td>\n",
       "      <td>...</td>\n",
       "      <td>...</td>\n",
       "      <td>...</td>\n",
       "      <td>...</td>\n",
       "      <td>...</td>\n",
       "      <td>...</td>\n",
       "      <td>...</td>\n",
       "      <td>...</td>\n",
       "      <td>...</td>\n",
       "      <td>...</td>\n",
       "    </tr>\n",
       "    <tr>\n",
       "      <th>14092408</th>\n",
       "      <td>VTS</td>\n",
       "      <td>2009-01-27 14:36:00</td>\n",
       "      <td>2009-01-27 14:46:00</td>\n",
       "      <td>5</td>\n",
       "      <td>0.89</td>\n",
       "      <td>-73.982013</td>\n",
       "      <td>40.743330</td>\n",
       "      <td>NaN</td>\n",
       "      <td>NaN</td>\n",
       "      <td>-73.994328</td>\n",
       "      <td>40.750130</td>\n",
       "      <td>CASH</td>\n",
       "      <td>6.5</td>\n",
       "      <td>0.0</td>\n",
       "      <td>NaN</td>\n",
       "      <td>0.00</td>\n",
       "      <td>0.0</td>\n",
       "      <td>6.50</td>\n",
       "    </tr>\n",
       "    <tr>\n",
       "      <th>14092409</th>\n",
       "      <td>VTS</td>\n",
       "      <td>2009-01-27 13:56:00</td>\n",
       "      <td>2009-01-27 14:02:00</td>\n",
       "      <td>1</td>\n",
       "      <td>1.94</td>\n",
       "      <td>-73.972788</td>\n",
       "      <td>40.761988</td>\n",
       "      <td>NaN</td>\n",
       "      <td>NaN</td>\n",
       "      <td>-73.951477</td>\n",
       "      <td>40.778217</td>\n",
       "      <td>Credit</td>\n",
       "      <td>8.1</td>\n",
       "      <td>0.0</td>\n",
       "      <td>NaN</td>\n",
       "      <td>1.90</td>\n",
       "      <td>0.0</td>\n",
       "      <td>10.00</td>\n",
       "    </tr>\n",
       "    <tr>\n",
       "      <th>14092410</th>\n",
       "      <td>CMT</td>\n",
       "      <td>2009-01-23 08:39:44</td>\n",
       "      <td>2009-01-23 09:02:15</td>\n",
       "      <td>1</td>\n",
       "      <td>3.80</td>\n",
       "      <td>-73.977467</td>\n",
       "      <td>40.751861</td>\n",
       "      <td>NaN</td>\n",
       "      <td>NaN</td>\n",
       "      <td>-74.009913</td>\n",
       "      <td>40.713470</td>\n",
       "      <td>Cash</td>\n",
       "      <td>14.5</td>\n",
       "      <td>0.0</td>\n",
       "      <td>NaN</td>\n",
       "      <td>0.00</td>\n",
       "      <td>0.0</td>\n",
       "      <td>14.50</td>\n",
       "    </tr>\n",
       "    <tr>\n",
       "      <th>14092411</th>\n",
       "      <td>VTS</td>\n",
       "      <td>2009-01-24 23:05:00</td>\n",
       "      <td>2009-01-24 23:15:00</td>\n",
       "      <td>3</td>\n",
       "      <td>3.85</td>\n",
       "      <td>-73.981295</td>\n",
       "      <td>40.753000</td>\n",
       "      <td>NaN</td>\n",
       "      <td>NaN</td>\n",
       "      <td>-73.949453</td>\n",
       "      <td>40.779520</td>\n",
       "      <td>CASH</td>\n",
       "      <td>10.9</td>\n",
       "      <td>0.5</td>\n",
       "      <td>NaN</td>\n",
       "      <td>0.00</td>\n",
       "      <td>0.0</td>\n",
       "      <td>11.40</td>\n",
       "    </tr>\n",
       "    <tr>\n",
       "      <th>14092412</th>\n",
       "      <td>CMT</td>\n",
       "      <td>2009-01-23 14:39:02</td>\n",
       "      <td>2009-01-23 15:35:15</td>\n",
       "      <td>1</td>\n",
       "      <td>17.30</td>\n",
       "      <td>0.000000</td>\n",
       "      <td>0.000000</td>\n",
       "      <td>NaN</td>\n",
       "      <td>NaN</td>\n",
       "      <td>0.000000</td>\n",
       "      <td>0.000000</td>\n",
       "      <td>Credit</td>\n",
       "      <td>45.0</td>\n",
       "      <td>0.0</td>\n",
       "      <td>NaN</td>\n",
       "      <td>5.00</td>\n",
       "      <td>0.0</td>\n",
       "      <td>50.00</td>\n",
       "    </tr>\n",
       "  </tbody>\n",
       "</table>\n",
       "<p>14092413 rows × 18 columns</p>\n",
       "</div>"
      ],
      "text/plain": [
       "         vendor_name Trip_Pickup_DateTime Trip_Dropoff_DateTime  \\\n",
       "0                VTS  2009-01-04 02:52:00   2009-01-04 03:02:00   \n",
       "1                VTS  2009-01-04 03:31:00   2009-01-04 03:38:00   \n",
       "2                VTS  2009-01-03 15:43:00   2009-01-03 15:57:00   \n",
       "3                DDS  2009-01-01 20:52:58   2009-01-01 21:14:00   \n",
       "4                DDS  2009-01-24 16:18:23   2009-01-24 16:24:56   \n",
       "...              ...                  ...                   ...   \n",
       "14092408         VTS  2009-01-27 14:36:00   2009-01-27 14:46:00   \n",
       "14092409         VTS  2009-01-27 13:56:00   2009-01-27 14:02:00   \n",
       "14092410         CMT  2009-01-23 08:39:44   2009-01-23 09:02:15   \n",
       "14092411         VTS  2009-01-24 23:05:00   2009-01-24 23:15:00   \n",
       "14092412         CMT  2009-01-23 14:39:02   2009-01-23 15:35:15   \n",
       "\n",
       "          Passenger_Count  Trip_Distance  Start_Lon  Start_Lat  Rate_Code  \\\n",
       "0                       1           2.63 -73.991957  40.721567        NaN   \n",
       "1                       3           4.55 -73.982102  40.736290        NaN   \n",
       "2                       5          10.35 -74.002587  40.739748        NaN   \n",
       "3                       1           5.00 -73.974267  40.790955        NaN   \n",
       "4                       1           0.40 -74.001580  40.719382        NaN   \n",
       "...                   ...            ...        ...        ...        ...   \n",
       "14092408                5           0.89 -73.982013  40.743330        NaN   \n",
       "14092409                1           1.94 -73.972788  40.761988        NaN   \n",
       "14092410                1           3.80 -73.977467  40.751861        NaN   \n",
       "14092411                3           3.85 -73.981295  40.753000        NaN   \n",
       "14092412                1          17.30   0.000000   0.000000        NaN   \n",
       "\n",
       "          store_and_forward    End_Lon    End_Lat Payment_Type  Fare_Amt  \\\n",
       "0                       NaN -73.993803  40.695922         CASH       8.9   \n",
       "1                       NaN -73.955850  40.768030       Credit      12.1   \n",
       "2                       NaN -73.869983  40.770225       Credit      23.7   \n",
       "3                       NaN -73.996558  40.731849       CREDIT      14.9   \n",
       "4                       NaN -74.008378  40.720350         CASH       3.7   \n",
       "...                     ...        ...        ...          ...       ...   \n",
       "14092408                NaN -73.994328  40.750130         CASH       6.5   \n",
       "14092409                NaN -73.951477  40.778217       Credit       8.1   \n",
       "14092410                NaN -74.009913  40.713470         Cash      14.5   \n",
       "14092411                NaN -73.949453  40.779520         CASH      10.9   \n",
       "14092412                NaN   0.000000   0.000000       Credit      45.0   \n",
       "\n",
       "          surcharge  mta_tax  Tip_Amt  Tolls_Amt  Total_Amt  \n",
       "0               0.5      NaN     0.00        0.0       9.40  \n",
       "1               0.5      NaN     2.00        0.0      14.60  \n",
       "2               0.0      NaN     4.74        0.0      28.44  \n",
       "3               0.5      NaN     3.05        0.0      18.45  \n",
       "4               0.0      NaN     0.00        0.0       3.70  \n",
       "...             ...      ...      ...        ...        ...  \n",
       "14092408        0.0      NaN     0.00        0.0       6.50  \n",
       "14092409        0.0      NaN     1.90        0.0      10.00  \n",
       "14092410        0.0      NaN     0.00        0.0      14.50  \n",
       "14092411        0.5      NaN     0.00        0.0      11.40  \n",
       "14092412        0.0      NaN     5.00        0.0      50.00  \n",
       "\n",
       "[14092413 rows x 18 columns]"
      ]
     },
     "execution_count": 18,
     "metadata": {},
     "output_type": "execute_result"
    }
   ],
   "source": [
    "t_jan_09"
   ]
  },
  {
   "cell_type": "code",
   "execution_count": 21,
   "id": "1182136c",
   "metadata": {},
   "outputs": [
    {
     "data": {
      "text/plain": [
       "9.502455911553843"
      ]
     },
     "execution_count": 21,
     "metadata": {},
     "output_type": "execute_result"
    }
   ],
   "source": [
    "t_jan_09['Fare_Amt'].mean()"
   ]
  },
  {
   "cell_type": "code",
   "execution_count": 23,
   "id": "ae976ef3",
   "metadata": {},
   "outputs": [
    {
     "data": {
      "text/plain": [
       " 0.000000     213326\n",
       "-73.137393     23723\n",
       "-73.982250      1987\n",
       "-73.951818      1918\n",
       "-73.982060      1854\n",
       "               ...  \n",
       "-73.916576         1\n",
       "-73.775448         1\n",
       "-73.886917         1\n",
       "-73.924479         1\n",
       "-73.847911         1\n",
       "Name: Start_Lon, Length: 201098, dtype: int64"
      ]
     },
     "execution_count": 23,
     "metadata": {},
     "output_type": "execute_result"
    }
   ],
   "source": [
    "t_jan_09['Start_Lon'].value_counts()"
   ]
  },
  {
   "cell_type": "code",
   "execution_count": 24,
   "id": "26264ab6",
   "metadata": {},
   "outputs": [
    {
     "data": {
      "text/plain": [
       "0.000000     213319\n",
       "41.366138     23723\n",
       "40.733697      1978\n",
       "40.758087      1476\n",
       "40.774093      1375\n",
       "              ...  \n",
       "40.624247         1\n",
       "0.012338          1\n",
       "40.634939         1\n",
       "40.597927         1\n",
       "40.818073         1\n",
       "Name: Start_Lat, Length: 203980, dtype: int64"
      ]
     },
     "execution_count": 24,
     "metadata": {},
     "output_type": "execute_result"
    }
   ],
   "source": [
    "t_jan_09['Start_Lat'].value_counts()"
   ]
  },
  {
   "cell_type": "code",
   "execution_count": 26,
   "id": "5de1ab31",
   "metadata": {},
   "outputs": [
    {
     "data": {
      "text/plain": [
       "0.000000     209653\n",
       "41.366138     20977\n",
       "40.733697      1955\n",
       "40.758087      1459\n",
       "40.750468      1207\n",
       "              ...  \n",
       "40.628807         1\n",
       "40.579306         1\n",
       "40.862838         1\n",
       "40.636851         1\n",
       "40.589180         1\n",
       "Name: End_Lat, Length: 273756, dtype: int64"
      ]
     },
     "execution_count": 26,
     "metadata": {},
     "output_type": "execute_result"
    }
   ],
   "source": [
    "t_jan_09['End_Lat'].value_counts()"
   ]
  },
  {
   "cell_type": "code",
   "execution_count": 25,
   "id": "1cbda12b",
   "metadata": {},
   "outputs": [
    {
     "data": {
      "text/plain": [
       " 0.000000     209664\n",
       "-73.137393     20977\n",
       "-73.951818      1940\n",
       "-73.982368      1488\n",
       "-73.982060      1469\n",
       "               ...  \n",
       "-73.875268         1\n",
       "-74.747441         1\n",
       "-73.788051         1\n",
       "-74.041187         1\n",
       "-73.800106         1\n",
       "Name: End_Lon, Length: 258184, dtype: int64"
      ]
     },
     "execution_count": 25,
     "metadata": {},
     "output_type": "execute_result"
    }
   ],
   "source": [
    "t_jan_09['End_Lon'].value_counts()"
   ]
  },
  {
   "cell_type": "code",
   "execution_count": null,
   "id": "0983354d",
   "metadata": {},
   "outputs": [],
   "source": []
  }
 ],
 "metadata": {
  "kernelspec": {
   "display_name": "Python 3",
   "language": "python",
   "name": "python3"
  },
  "language_info": {
   "codemirror_mode": {
    "name": "ipython",
    "version": 3
   },
   "file_extension": ".py",
   "mimetype": "text/x-python",
   "name": "python",
   "nbconvert_exporter": "python",
   "pygments_lexer": "ipython3",
   "version": "3.8.8"
  }
 },
 "nbformat": 4,
 "nbformat_minor": 5
}
