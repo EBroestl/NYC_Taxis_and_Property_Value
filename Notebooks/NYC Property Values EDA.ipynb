{
 "cells": [
  {
   "cell_type": "code",
   "execution_count": 1,
   "id": "49567988",
   "metadata": {},
   "outputs": [],
   "source": [
    "import pandas as pd\n",
    "import numpy as np\n",
    "import matplotlib.pyplot as plt\n",
    "import geopandas as gpd\n",
    "import matplotlib.pyplot as plt\n",
    "import folium\n",
    "from folium.plugins import MarkerCluster\n",
    "from folium.plugins import FastMarkerCluster\n",
    "from shapely.geometry import Point"
   ]
  },
  {
   "cell_type": "code",
   "execution_count": 2,
   "id": "61d2d2ed",
   "metadata": {},
   "outputs": [],
   "source": [
    "bronx07=pd.read_excel('../../Data/Property Data/sales_2007_bronx.xls', header=3)\n",
    "bronx08=pd.read_excel('../../Data/Property Data/sales_2008_bronx.xls', header=3)\n",
    "bronx09=pd.read_excel('../../Data/Property Data/2009_bronx.xls', header=3)\n",
    "bronx10=pd.read_excel('../../Data/Property Data/2010_bronx.xls', header=3)\n",
    "bronx11=pd.read_excel('../../Data/Property Data/2011_bronx.xls', header=4)\n",
    "bronx12=pd.read_excel('../../Data/Property Data/2012_bronx.xls', header=4)\n",
    "bronx13=pd.read_excel('../../Data/Property Data/2013_bronx.xls', header=4)\n",
    "bronx14=pd.read_excel('../../Data/Property Data/2014_bronx.xls', header=4)\n",
    "bronx15=pd.read_excel('../../Data/Property Data/2015_bronx.xls', header=4)"
   ]
  },
  {
   "cell_type": "code",
   "execution_count": 3,
   "id": "5f2acad1",
   "metadata": {},
   "outputs": [],
   "source": [
    "bronx15.columns = [x.replace(\"\\n\",\" \") for x in bronx15.columns.to_list()]"
   ]
  },
  {
   "cell_type": "code",
   "execution_count": 4,
   "id": "b086edf2",
   "metadata": {},
   "outputs": [],
   "source": [
    "bronx15.rename(columns=lambda x: x.strip(), inplace=True)"
   ]
  },
  {
   "cell_type": "code",
   "execution_count": 5,
   "id": "0f42bcf0",
   "metadata": {},
   "outputs": [],
   "source": [
    "bronx15 = bronx15.rename(columns=lambda x: x.strip())"
   ]
  },
  {
   "cell_type": "code",
   "execution_count": 45,
   "id": "1572f839",
   "metadata": {
    "scrolled": true
   },
   "outputs": [],
   "source": [
    "bronx15=bronx15.loc[~(bronx15['SALE PRICE ']==0)]"
   ]
  },
  {
   "cell_type": "code",
   "execution_count": 6,
   "id": "e5321d54",
   "metadata": {},
   "outputs": [],
   "source": [
    "bronx07=bronx07.loc[~(bronx07['SALE PRICE']==0)]\n",
    "bronx08=bronx08.loc[~(bronx08['SALE PRICE']==0)]\n",
    "bronx09=bronx09.loc[~(bronx09['SALE PRICE']==0)]\n",
    "bronx10=bronx10.loc[~(bronx10['SALE PRICE']==0)]\n",
    "bronx11=bronx11.loc[~(bronx11['SALE PRICE']==0)]\n",
    "bronx12=bronx12.loc[~(bronx12['SALE PRICE\\n']==0)]\n",
    "bronx13=bronx13.loc[~(bronx13['SALE PRICE\\n']==0)]\n",
    "bronx14=bronx14.loc[~(bronx14['SALE PRICE\\n']==0)]\n",
    "bronx15=bronx15.loc[~(bronx15['SALE PRICE']==0)]"
   ]
  },
  {
   "cell_type": "code",
   "execution_count": 14,
   "id": "5c9e9c2c",
   "metadata": {},
   "outputs": [
    {
     "name": "stdout",
     "output_type": "stream",
     "text": [
      "<class 'pandas.core.frame.DataFrame'>\n",
      "Int64Index: 4856 entries, 3 to 6735\n",
      "Data columns (total 21 columns):\n",
      " #   Column                          Non-Null Count  Dtype         \n",
      "---  ------                          --------------  -----         \n",
      " 0   BOROUGH                         4856 non-null   int64         \n",
      " 1   NEIGHBORHOOD                    4856 non-null   object        \n",
      " 2   BUILDING CLASS CATEGORY         4856 non-null   object        \n",
      " 3   TAX CLASS AT PRESENT            4856 non-null   object        \n",
      " 4   BLOCK                           4856 non-null   int64         \n",
      " 5   LOT                             4856 non-null   int64         \n",
      " 6   EASE-MENT                       4856 non-null   object        \n",
      " 7   BUILDING CLASS AT PRESENT       4856 non-null   object        \n",
      " 8   ADDRESS                         4856 non-null   object        \n",
      " 9   APARTMENT NUMBER                4856 non-null   object        \n",
      " 10  ZIP CODE                        4856 non-null   int64         \n",
      " 11  RESIDENTIAL UNITS               4856 non-null   int64         \n",
      " 12  COMMERCIAL UNITS                4856 non-null   int64         \n",
      " 13  TOTAL UNITS                     4856 non-null   int64         \n",
      " 14  LAND SQUARE FEET                4856 non-null   int64         \n",
      " 15  GROSS SQUARE FEET               4856 non-null   int64         \n",
      " 16  YEAR BUILT                      4856 non-null   int64         \n",
      " 17  TAX CLASS AT TIME OF SALE       4856 non-null   int64         \n",
      " 18  BUILDING CLASS AT TIME OF SALE  4856 non-null   object        \n",
      " 19  SALE PRICE                      4856 non-null   int64         \n",
      " 20  SALE DATE                       4856 non-null   datetime64[ns]\n",
      "dtypes: datetime64[ns](1), int64(12), object(8)\n",
      "memory usage: 834.6+ KB\n"
     ]
    }
   ],
   "source": [
    "bronx15.info()"
   ]
  },
  {
   "cell_type": "code",
   "execution_count": 10,
   "id": "0dd5e4be",
   "metadata": {},
   "outputs": [],
   "source": [
    "avg1=(bronx07['SALE PRICE'].sum())/(bronx07['SALE PRICE'].count())\n",
    "avg2=(bronx08['SALE PRICE'].sum())/(bronx08['SALE PRICE'].count())\n",
    "avg3=(bronx09['SALE PRICE'].sum())/(bronx09['SALE PRICE'].count())\n",
    "avg4=(bronx10['SALE PRICE'].sum())/(bronx10['SALE PRICE'].count())\n",
    "avg5=(bronx11['SALE PRICE'].sum())/(bronx11['SALE PRICE'].count())\n",
    "avg6=(bronx12['SALE PRICE\\n'].sum())/(bronx12['SALE PRICE\\n'].count())\n",
    "avg7=(bronx13['SALE PRICE\\n'].sum())/(bronx13['SALE PRICE\\n'].count())\n",
    "avg8=(bronx14['SALE PRICE\\n'].sum())/(bronx14['SALE PRICE\\n'].count())\n",
    "avg9=(bronx15['SALE PRICE'].sum())/(bronx15['SALE PRICE'].count())"
   ]
  },
  {
   "cell_type": "code",
   "execution_count": 15,
   "id": "b5cb3016",
   "metadata": {},
   "outputs": [],
   "source": [
    "dfdgaf={'07':avg1,'08':avg2,'09':avg3,'10':avg4,'11':avg5,'12':avg6,'13':avg7,'14':avg8,'15':avg9}"
   ]
  },
  {
   "cell_type": "code",
   "execution_count": 16,
   "id": "b576cd12",
   "metadata": {},
   "outputs": [
    {
     "ename": "ValueError",
     "evalue": "If using all scalar values, you must pass an index",
     "output_type": "error",
     "traceback": [
      "\u001b[1;31m---------------------------------------------------------------------------\u001b[0m",
      "\u001b[1;31mValueError\u001b[0m                                Traceback (most recent call last)",
      "\u001b[1;32m<ipython-input-16-568e24e928a0>\u001b[0m in \u001b[0;36m<module>\u001b[1;34m\u001b[0m\n\u001b[1;32m----> 1\u001b[1;33m \u001b[0mpd\u001b[0m\u001b[1;33m.\u001b[0m\u001b[0mDataFrame\u001b[0m\u001b[1;33m(\u001b[0m\u001b[0mdfdgaf\u001b[0m\u001b[1;33m)\u001b[0m\u001b[1;33m\u001b[0m\u001b[1;33m\u001b[0m\u001b[0m\n\u001b[0m",
      "\u001b[1;32mC:\\ProgramData\\Anaconda3\\lib\\site-packages\\pandas\\core\\frame.py\u001b[0m in \u001b[0;36m__init__\u001b[1;34m(self, data, index, columns, dtype, copy)\u001b[0m\n\u001b[0;32m    527\u001b[0m \u001b[1;33m\u001b[0m\u001b[0m\n\u001b[0;32m    528\u001b[0m         \u001b[1;32melif\u001b[0m \u001b[0misinstance\u001b[0m\u001b[1;33m(\u001b[0m\u001b[0mdata\u001b[0m\u001b[1;33m,\u001b[0m \u001b[0mdict\u001b[0m\u001b[1;33m)\u001b[0m\u001b[1;33m:\u001b[0m\u001b[1;33m\u001b[0m\u001b[1;33m\u001b[0m\u001b[0m\n\u001b[1;32m--> 529\u001b[1;33m             \u001b[0mmgr\u001b[0m \u001b[1;33m=\u001b[0m \u001b[0minit_dict\u001b[0m\u001b[1;33m(\u001b[0m\u001b[0mdata\u001b[0m\u001b[1;33m,\u001b[0m \u001b[0mindex\u001b[0m\u001b[1;33m,\u001b[0m \u001b[0mcolumns\u001b[0m\u001b[1;33m,\u001b[0m \u001b[0mdtype\u001b[0m\u001b[1;33m=\u001b[0m\u001b[0mdtype\u001b[0m\u001b[1;33m)\u001b[0m\u001b[1;33m\u001b[0m\u001b[1;33m\u001b[0m\u001b[0m\n\u001b[0m\u001b[0;32m    530\u001b[0m         \u001b[1;32melif\u001b[0m \u001b[0misinstance\u001b[0m\u001b[1;33m(\u001b[0m\u001b[0mdata\u001b[0m\u001b[1;33m,\u001b[0m \u001b[0mma\u001b[0m\u001b[1;33m.\u001b[0m\u001b[0mMaskedArray\u001b[0m\u001b[1;33m)\u001b[0m\u001b[1;33m:\u001b[0m\u001b[1;33m\u001b[0m\u001b[1;33m\u001b[0m\u001b[0m\n\u001b[0;32m    531\u001b[0m             \u001b[1;32mimport\u001b[0m \u001b[0mnumpy\u001b[0m\u001b[1;33m.\u001b[0m\u001b[0mma\u001b[0m\u001b[1;33m.\u001b[0m\u001b[0mmrecords\u001b[0m \u001b[1;32mas\u001b[0m \u001b[0mmrecords\u001b[0m\u001b[1;33m\u001b[0m\u001b[1;33m\u001b[0m\u001b[0m\n",
      "\u001b[1;32mC:\\ProgramData\\Anaconda3\\lib\\site-packages\\pandas\\core\\internals\\construction.py\u001b[0m in \u001b[0;36minit_dict\u001b[1;34m(data, index, columns, dtype)\u001b[0m\n\u001b[0;32m    285\u001b[0m             \u001b[0marr\u001b[0m \u001b[1;32mif\u001b[0m \u001b[1;32mnot\u001b[0m \u001b[0mis_datetime64tz_dtype\u001b[0m\u001b[1;33m(\u001b[0m\u001b[0marr\u001b[0m\u001b[1;33m)\u001b[0m \u001b[1;32melse\u001b[0m \u001b[0marr\u001b[0m\u001b[1;33m.\u001b[0m\u001b[0mcopy\u001b[0m\u001b[1;33m(\u001b[0m\u001b[1;33m)\u001b[0m \u001b[1;32mfor\u001b[0m \u001b[0marr\u001b[0m \u001b[1;32min\u001b[0m \u001b[0marrays\u001b[0m\u001b[1;33m\u001b[0m\u001b[1;33m\u001b[0m\u001b[0m\n\u001b[0;32m    286\u001b[0m         ]\n\u001b[1;32m--> 287\u001b[1;33m     \u001b[1;32mreturn\u001b[0m \u001b[0marrays_to_mgr\u001b[0m\u001b[1;33m(\u001b[0m\u001b[0marrays\u001b[0m\u001b[1;33m,\u001b[0m \u001b[0mdata_names\u001b[0m\u001b[1;33m,\u001b[0m \u001b[0mindex\u001b[0m\u001b[1;33m,\u001b[0m \u001b[0mcolumns\u001b[0m\u001b[1;33m,\u001b[0m \u001b[0mdtype\u001b[0m\u001b[1;33m=\u001b[0m\u001b[0mdtype\u001b[0m\u001b[1;33m)\u001b[0m\u001b[1;33m\u001b[0m\u001b[1;33m\u001b[0m\u001b[0m\n\u001b[0m\u001b[0;32m    288\u001b[0m \u001b[1;33m\u001b[0m\u001b[0m\n\u001b[0;32m    289\u001b[0m \u001b[1;33m\u001b[0m\u001b[0m\n",
      "\u001b[1;32mC:\\ProgramData\\Anaconda3\\lib\\site-packages\\pandas\\core\\internals\\construction.py\u001b[0m in \u001b[0;36marrays_to_mgr\u001b[1;34m(arrays, arr_names, index, columns, dtype, verify_integrity)\u001b[0m\n\u001b[0;32m     78\u001b[0m         \u001b[1;31m# figure out the index, if necessary\u001b[0m\u001b[1;33m\u001b[0m\u001b[1;33m\u001b[0m\u001b[1;33m\u001b[0m\u001b[0m\n\u001b[0;32m     79\u001b[0m         \u001b[1;32mif\u001b[0m \u001b[0mindex\u001b[0m \u001b[1;32mis\u001b[0m \u001b[1;32mNone\u001b[0m\u001b[1;33m:\u001b[0m\u001b[1;33m\u001b[0m\u001b[1;33m\u001b[0m\u001b[0m\n\u001b[1;32m---> 80\u001b[1;33m             \u001b[0mindex\u001b[0m \u001b[1;33m=\u001b[0m \u001b[0mextract_index\u001b[0m\u001b[1;33m(\u001b[0m\u001b[0marrays\u001b[0m\u001b[1;33m)\u001b[0m\u001b[1;33m\u001b[0m\u001b[1;33m\u001b[0m\u001b[0m\n\u001b[0m\u001b[0;32m     81\u001b[0m         \u001b[1;32melse\u001b[0m\u001b[1;33m:\u001b[0m\u001b[1;33m\u001b[0m\u001b[1;33m\u001b[0m\u001b[0m\n\u001b[0;32m     82\u001b[0m             \u001b[0mindex\u001b[0m \u001b[1;33m=\u001b[0m \u001b[0mensure_index\u001b[0m\u001b[1;33m(\u001b[0m\u001b[0mindex\u001b[0m\u001b[1;33m)\u001b[0m\u001b[1;33m\u001b[0m\u001b[1;33m\u001b[0m\u001b[0m\n",
      "\u001b[1;32mC:\\ProgramData\\Anaconda3\\lib\\site-packages\\pandas\\core\\internals\\construction.py\u001b[0m in \u001b[0;36mextract_index\u001b[1;34m(data)\u001b[0m\n\u001b[0;32m    389\u001b[0m \u001b[1;33m\u001b[0m\u001b[0m\n\u001b[0;32m    390\u001b[0m         \u001b[1;32mif\u001b[0m \u001b[1;32mnot\u001b[0m \u001b[0mindexes\u001b[0m \u001b[1;32mand\u001b[0m \u001b[1;32mnot\u001b[0m \u001b[0mraw_lengths\u001b[0m\u001b[1;33m:\u001b[0m\u001b[1;33m\u001b[0m\u001b[1;33m\u001b[0m\u001b[0m\n\u001b[1;32m--> 391\u001b[1;33m             \u001b[1;32mraise\u001b[0m \u001b[0mValueError\u001b[0m\u001b[1;33m(\u001b[0m\u001b[1;34m\"If using all scalar values, you must pass an index\"\u001b[0m\u001b[1;33m)\u001b[0m\u001b[1;33m\u001b[0m\u001b[1;33m\u001b[0m\u001b[0m\n\u001b[0m\u001b[0;32m    392\u001b[0m \u001b[1;33m\u001b[0m\u001b[0m\n\u001b[0;32m    393\u001b[0m         \u001b[1;32mif\u001b[0m \u001b[0mhave_series\u001b[0m\u001b[1;33m:\u001b[0m\u001b[1;33m\u001b[0m\u001b[1;33m\u001b[0m\u001b[0m\n",
      "\u001b[1;31mValueError\u001b[0m: If using all scalar values, you must pass an index"
     ]
    }
   ],
   "source": [
    "pd.DataFrame(dfdgaf)"
   ]
  },
  {
   "cell_type": "code",
   "execution_count": null,
   "id": "936cf577",
   "metadata": {},
   "outputs": [],
   "source": [
    "plt.dfdgaf()"
   ]
  },
  {
   "cell_type": "code",
   "execution_count": 5,
   "id": "da0b1749",
   "metadata": {},
   "outputs": [],
   "source": [
    "t_jan_09=pd.read_csv('../../Data/yellow_tripdata_2009-01.csv')"
   ]
  },
  {
   "cell_type": "code",
   "execution_count": 9,
   "id": "73f504a5",
   "metadata": {},
   "outputs": [
    {
     "data": {
      "text/html": [
       "<div>\n",
       "<style scoped>\n",
       "    .dataframe tbody tr th:only-of-type {\n",
       "        vertical-align: middle;\n",
       "    }\n",
       "\n",
       "    .dataframe tbody tr th {\n",
       "        vertical-align: top;\n",
       "    }\n",
       "\n",
       "    .dataframe thead th {\n",
       "        text-align: right;\n",
       "    }\n",
       "</style>\n",
       "<table border=\"1\" class=\"dataframe\">\n",
       "  <thead>\n",
       "    <tr style=\"text-align: right;\">\n",
       "      <th></th>\n",
       "      <th>vendor_name</th>\n",
       "      <th>Trip_Pickup_DateTime</th>\n",
       "      <th>Trip_Dropoff_DateTime</th>\n",
       "      <th>Passenger_Count</th>\n",
       "      <th>Trip_Distance</th>\n",
       "      <th>Start_Lon</th>\n",
       "      <th>Start_Lat</th>\n",
       "      <th>Rate_Code</th>\n",
       "      <th>store_and_forward</th>\n",
       "      <th>End_Lon</th>\n",
       "      <th>End_Lat</th>\n",
       "      <th>Payment_Type</th>\n",
       "      <th>Fare_Amt</th>\n",
       "      <th>surcharge</th>\n",
       "      <th>mta_tax</th>\n",
       "      <th>Tip_Amt</th>\n",
       "      <th>Tolls_Amt</th>\n",
       "      <th>Total_Amt</th>\n",
       "    </tr>\n",
       "  </thead>\n",
       "  <tbody>\n",
       "    <tr>\n",
       "      <th>0</th>\n",
       "      <td>VTS</td>\n",
       "      <td>2009-01-04 02:52:00</td>\n",
       "      <td>2009-01-04 03:02:00</td>\n",
       "      <td>1</td>\n",
       "      <td>2.63</td>\n",
       "      <td>-73.991957</td>\n",
       "      <td>40.721567</td>\n",
       "      <td>NaN</td>\n",
       "      <td>NaN</td>\n",
       "      <td>-73.993803</td>\n",
       "      <td>40.695922</td>\n",
       "      <td>CASH</td>\n",
       "      <td>8.9</td>\n",
       "      <td>0.5</td>\n",
       "      <td>NaN</td>\n",
       "      <td>0.00</td>\n",
       "      <td>0.0</td>\n",
       "      <td>9.40</td>\n",
       "    </tr>\n",
       "    <tr>\n",
       "      <th>1</th>\n",
       "      <td>VTS</td>\n",
       "      <td>2009-01-04 03:31:00</td>\n",
       "      <td>2009-01-04 03:38:00</td>\n",
       "      <td>3</td>\n",
       "      <td>4.55</td>\n",
       "      <td>-73.982102</td>\n",
       "      <td>40.736290</td>\n",
       "      <td>NaN</td>\n",
       "      <td>NaN</td>\n",
       "      <td>-73.955850</td>\n",
       "      <td>40.768030</td>\n",
       "      <td>Credit</td>\n",
       "      <td>12.1</td>\n",
       "      <td>0.5</td>\n",
       "      <td>NaN</td>\n",
       "      <td>2.00</td>\n",
       "      <td>0.0</td>\n",
       "      <td>14.60</td>\n",
       "    </tr>\n",
       "    <tr>\n",
       "      <th>2</th>\n",
       "      <td>VTS</td>\n",
       "      <td>2009-01-03 15:43:00</td>\n",
       "      <td>2009-01-03 15:57:00</td>\n",
       "      <td>5</td>\n",
       "      <td>10.35</td>\n",
       "      <td>-74.002587</td>\n",
       "      <td>40.739748</td>\n",
       "      <td>NaN</td>\n",
       "      <td>NaN</td>\n",
       "      <td>-73.869983</td>\n",
       "      <td>40.770225</td>\n",
       "      <td>Credit</td>\n",
       "      <td>23.7</td>\n",
       "      <td>0.0</td>\n",
       "      <td>NaN</td>\n",
       "      <td>4.74</td>\n",
       "      <td>0.0</td>\n",
       "      <td>28.44</td>\n",
       "    </tr>\n",
       "    <tr>\n",
       "      <th>3</th>\n",
       "      <td>DDS</td>\n",
       "      <td>2009-01-01 20:52:58</td>\n",
       "      <td>2009-01-01 21:14:00</td>\n",
       "      <td>1</td>\n",
       "      <td>5.00</td>\n",
       "      <td>-73.974267</td>\n",
       "      <td>40.790955</td>\n",
       "      <td>NaN</td>\n",
       "      <td>NaN</td>\n",
       "      <td>-73.996558</td>\n",
       "      <td>40.731849</td>\n",
       "      <td>CREDIT</td>\n",
       "      <td>14.9</td>\n",
       "      <td>0.5</td>\n",
       "      <td>NaN</td>\n",
       "      <td>3.05</td>\n",
       "      <td>0.0</td>\n",
       "      <td>18.45</td>\n",
       "    </tr>\n",
       "    <tr>\n",
       "      <th>4</th>\n",
       "      <td>DDS</td>\n",
       "      <td>2009-01-24 16:18:23</td>\n",
       "      <td>2009-01-24 16:24:56</td>\n",
       "      <td>1</td>\n",
       "      <td>0.40</td>\n",
       "      <td>-74.001580</td>\n",
       "      <td>40.719382</td>\n",
       "      <td>NaN</td>\n",
       "      <td>NaN</td>\n",
       "      <td>-74.008378</td>\n",
       "      <td>40.720350</td>\n",
       "      <td>CASH</td>\n",
       "      <td>3.7</td>\n",
       "      <td>0.0</td>\n",
       "      <td>NaN</td>\n",
       "      <td>0.00</td>\n",
       "      <td>0.0</td>\n",
       "      <td>3.70</td>\n",
       "    </tr>\n",
       "    <tr>\n",
       "      <th>...</th>\n",
       "      <td>...</td>\n",
       "      <td>...</td>\n",
       "      <td>...</td>\n",
       "      <td>...</td>\n",
       "      <td>...</td>\n",
       "      <td>...</td>\n",
       "      <td>...</td>\n",
       "      <td>...</td>\n",
       "      <td>...</td>\n",
       "      <td>...</td>\n",
       "      <td>...</td>\n",
       "      <td>...</td>\n",
       "      <td>...</td>\n",
       "      <td>...</td>\n",
       "      <td>...</td>\n",
       "      <td>...</td>\n",
       "      <td>...</td>\n",
       "      <td>...</td>\n",
       "    </tr>\n",
       "    <tr>\n",
       "      <th>14092408</th>\n",
       "      <td>VTS</td>\n",
       "      <td>2009-01-27 14:36:00</td>\n",
       "      <td>2009-01-27 14:46:00</td>\n",
       "      <td>5</td>\n",
       "      <td>0.89</td>\n",
       "      <td>-73.982013</td>\n",
       "      <td>40.743330</td>\n",
       "      <td>NaN</td>\n",
       "      <td>NaN</td>\n",
       "      <td>-73.994328</td>\n",
       "      <td>40.750130</td>\n",
       "      <td>CASH</td>\n",
       "      <td>6.5</td>\n",
       "      <td>0.0</td>\n",
       "      <td>NaN</td>\n",
       "      <td>0.00</td>\n",
       "      <td>0.0</td>\n",
       "      <td>6.50</td>\n",
       "    </tr>\n",
       "    <tr>\n",
       "      <th>14092409</th>\n",
       "      <td>VTS</td>\n",
       "      <td>2009-01-27 13:56:00</td>\n",
       "      <td>2009-01-27 14:02:00</td>\n",
       "      <td>1</td>\n",
       "      <td>1.94</td>\n",
       "      <td>-73.972788</td>\n",
       "      <td>40.761988</td>\n",
       "      <td>NaN</td>\n",
       "      <td>NaN</td>\n",
       "      <td>-73.951477</td>\n",
       "      <td>40.778217</td>\n",
       "      <td>Credit</td>\n",
       "      <td>8.1</td>\n",
       "      <td>0.0</td>\n",
       "      <td>NaN</td>\n",
       "      <td>1.90</td>\n",
       "      <td>0.0</td>\n",
       "      <td>10.00</td>\n",
       "    </tr>\n",
       "    <tr>\n",
       "      <th>14092410</th>\n",
       "      <td>CMT</td>\n",
       "      <td>2009-01-23 08:39:44</td>\n",
       "      <td>2009-01-23 09:02:15</td>\n",
       "      <td>1</td>\n",
       "      <td>3.80</td>\n",
       "      <td>-73.977467</td>\n",
       "      <td>40.751861</td>\n",
       "      <td>NaN</td>\n",
       "      <td>NaN</td>\n",
       "      <td>-74.009913</td>\n",
       "      <td>40.713470</td>\n",
       "      <td>Cash</td>\n",
       "      <td>14.5</td>\n",
       "      <td>0.0</td>\n",
       "      <td>NaN</td>\n",
       "      <td>0.00</td>\n",
       "      <td>0.0</td>\n",
       "      <td>14.50</td>\n",
       "    </tr>\n",
       "    <tr>\n",
       "      <th>14092411</th>\n",
       "      <td>VTS</td>\n",
       "      <td>2009-01-24 23:05:00</td>\n",
       "      <td>2009-01-24 23:15:00</td>\n",
       "      <td>3</td>\n",
       "      <td>3.85</td>\n",
       "      <td>-73.981295</td>\n",
       "      <td>40.753000</td>\n",
       "      <td>NaN</td>\n",
       "      <td>NaN</td>\n",
       "      <td>-73.949453</td>\n",
       "      <td>40.779520</td>\n",
       "      <td>CASH</td>\n",
       "      <td>10.9</td>\n",
       "      <td>0.5</td>\n",
       "      <td>NaN</td>\n",
       "      <td>0.00</td>\n",
       "      <td>0.0</td>\n",
       "      <td>11.40</td>\n",
       "    </tr>\n",
       "    <tr>\n",
       "      <th>14092412</th>\n",
       "      <td>CMT</td>\n",
       "      <td>2009-01-23 14:39:02</td>\n",
       "      <td>2009-01-23 15:35:15</td>\n",
       "      <td>1</td>\n",
       "      <td>17.30</td>\n",
       "      <td>0.000000</td>\n",
       "      <td>0.000000</td>\n",
       "      <td>NaN</td>\n",
       "      <td>NaN</td>\n",
       "      <td>0.000000</td>\n",
       "      <td>0.000000</td>\n",
       "      <td>Credit</td>\n",
       "      <td>45.0</td>\n",
       "      <td>0.0</td>\n",
       "      <td>NaN</td>\n",
       "      <td>5.00</td>\n",
       "      <td>0.0</td>\n",
       "      <td>50.00</td>\n",
       "    </tr>\n",
       "  </tbody>\n",
       "</table>\n",
       "<p>14092413 rows × 18 columns</p>\n",
       "</div>"
      ],
      "text/plain": [
       "         vendor_name Trip_Pickup_DateTime Trip_Dropoff_DateTime  \\\n",
       "0                VTS  2009-01-04 02:52:00   2009-01-04 03:02:00   \n",
       "1                VTS  2009-01-04 03:31:00   2009-01-04 03:38:00   \n",
       "2                VTS  2009-01-03 15:43:00   2009-01-03 15:57:00   \n",
       "3                DDS  2009-01-01 20:52:58   2009-01-01 21:14:00   \n",
       "4                DDS  2009-01-24 16:18:23   2009-01-24 16:24:56   \n",
       "...              ...                  ...                   ...   \n",
       "14092408         VTS  2009-01-27 14:36:00   2009-01-27 14:46:00   \n",
       "14092409         VTS  2009-01-27 13:56:00   2009-01-27 14:02:00   \n",
       "14092410         CMT  2009-01-23 08:39:44   2009-01-23 09:02:15   \n",
       "14092411         VTS  2009-01-24 23:05:00   2009-01-24 23:15:00   \n",
       "14092412         CMT  2009-01-23 14:39:02   2009-01-23 15:35:15   \n",
       "\n",
       "          Passenger_Count  Trip_Distance  Start_Lon  Start_Lat  Rate_Code  \\\n",
       "0                       1           2.63 -73.991957  40.721567        NaN   \n",
       "1                       3           4.55 -73.982102  40.736290        NaN   \n",
       "2                       5          10.35 -74.002587  40.739748        NaN   \n",
       "3                       1           5.00 -73.974267  40.790955        NaN   \n",
       "4                       1           0.40 -74.001580  40.719382        NaN   \n",
       "...                   ...            ...        ...        ...        ...   \n",
       "14092408                5           0.89 -73.982013  40.743330        NaN   \n",
       "14092409                1           1.94 -73.972788  40.761988        NaN   \n",
       "14092410                1           3.80 -73.977467  40.751861        NaN   \n",
       "14092411                3           3.85 -73.981295  40.753000        NaN   \n",
       "14092412                1          17.30   0.000000   0.000000        NaN   \n",
       "\n",
       "          store_and_forward    End_Lon    End_Lat Payment_Type  Fare_Amt  \\\n",
       "0                       NaN -73.993803  40.695922         CASH       8.9   \n",
       "1                       NaN -73.955850  40.768030       Credit      12.1   \n",
       "2                       NaN -73.869983  40.770225       Credit      23.7   \n",
       "3                       NaN -73.996558  40.731849       CREDIT      14.9   \n",
       "4                       NaN -74.008378  40.720350         CASH       3.7   \n",
       "...                     ...        ...        ...          ...       ...   \n",
       "14092408                NaN -73.994328  40.750130         CASH       6.5   \n",
       "14092409                NaN -73.951477  40.778217       Credit       8.1   \n",
       "14092410                NaN -74.009913  40.713470         Cash      14.5   \n",
       "14092411                NaN -73.949453  40.779520         CASH      10.9   \n",
       "14092412                NaN   0.000000   0.000000       Credit      45.0   \n",
       "\n",
       "          surcharge  mta_tax  Tip_Amt  Tolls_Amt  Total_Amt  \n",
       "0               0.5      NaN     0.00        0.0       9.40  \n",
       "1               0.5      NaN     2.00        0.0      14.60  \n",
       "2               0.0      NaN     4.74        0.0      28.44  \n",
       "3               0.5      NaN     3.05        0.0      18.45  \n",
       "4               0.0      NaN     0.00        0.0       3.70  \n",
       "...             ...      ...      ...        ...        ...  \n",
       "14092408        0.0      NaN     0.00        0.0       6.50  \n",
       "14092409        0.0      NaN     1.90        0.0      10.00  \n",
       "14092410        0.0      NaN     0.00        0.0      14.50  \n",
       "14092411        0.5      NaN     0.00        0.0      11.40  \n",
       "14092412        0.0      NaN     5.00        0.0      50.00  \n",
       "\n",
       "[14092413 rows x 18 columns]"
      ]
     },
     "execution_count": 9,
     "metadata": {},
     "output_type": "execute_result"
    }
   ],
   "source": [
    "t_jan_09"
   ]
  },
  {
   "cell_type": "code",
   "execution_count": 21,
   "id": "1182136c",
   "metadata": {},
   "outputs": [
    {
     "data": {
      "text/plain": [
       "9.502455911553843"
      ]
     },
     "execution_count": 21,
     "metadata": {},
     "output_type": "execute_result"
    }
   ],
   "source": [
    "t_jan_09['Fare_Amt'].mean()"
   ]
  },
  {
   "cell_type": "code",
   "execution_count": 23,
   "id": "ae976ef3",
   "metadata": {},
   "outputs": [
    {
     "data": {
      "text/plain": [
       " 0.000000     213326\n",
       "-73.137393     23723\n",
       "-73.982250      1987\n",
       "-73.951818      1918\n",
       "-73.982060      1854\n",
       "               ...  \n",
       "-73.916576         1\n",
       "-73.775448         1\n",
       "-73.886917         1\n",
       "-73.924479         1\n",
       "-73.847911         1\n",
       "Name: Start_Lon, Length: 201098, dtype: int64"
      ]
     },
     "execution_count": 23,
     "metadata": {},
     "output_type": "execute_result"
    }
   ],
   "source": [
    "t_jan_09['Start_Lon'].value_counts()"
   ]
  },
  {
   "cell_type": "code",
   "execution_count": 24,
   "id": "42d7a553",
   "metadata": {
    "scrolled": true
   },
   "outputs": [
    {
     "data": {
      "text/plain": [
       "0.000000     213319\n",
       "41.366138     23723\n",
       "40.733697      1978\n",
       "40.758087      1476\n",
       "40.774093      1375\n",
       "              ...  \n",
       "40.624247         1\n",
       "0.012338          1\n",
       "40.634939         1\n",
       "40.597927         1\n",
       "40.818073         1\n",
       "Name: Start_Lat, Length: 203980, dtype: int64"
      ]
     },
     "execution_count": 24,
     "metadata": {},
     "output_type": "execute_result"
    }
   ],
   "source": [
    "t_jan_09['Start_Lat'].value_counts()"
   ]
  },
  {
   "cell_type": "code",
   "execution_count": 26,
   "id": "d835e8fe",
   "metadata": {},
   "outputs": [
    {
     "data": {
      "text/plain": [
       "0.000000     209653\n",
       "41.366138     20977\n",
       "40.733697      1955\n",
       "40.758087      1459\n",
       "40.750468      1207\n",
       "              ...  \n",
       "40.628807         1\n",
       "40.579306         1\n",
       "40.862838         1\n",
       "40.636851         1\n",
       "40.589180         1\n",
       "Name: End_Lat, Length: 273756, dtype: int64"
      ]
     },
     "execution_count": 26,
     "metadata": {},
     "output_type": "execute_result"
    }
   ],
   "source": [
    "t_jan_09['End_Lat'].value_counts()"
   ]
  },
  {
   "cell_type": "code",
   "execution_count": 25,
   "id": "47179dff",
   "metadata": {},
   "outputs": [
    {
     "data": {
      "text/plain": [
       " 0.000000     209664\n",
       "-73.137393     20977\n",
       "-73.951818      1940\n",
       "-73.982368      1488\n",
       "-73.982060      1469\n",
       "               ...  \n",
       "-73.875268         1\n",
       "-74.747441         1\n",
       "-73.788051         1\n",
       "-74.041187         1\n",
       "-73.800106         1\n",
       "Name: End_Lon, Length: 258184, dtype: int64"
      ]
     },
     "execution_count": 25,
     "metadata": {},
     "output_type": "execute_result"
    }
   ],
   "source": [
    "t_jan_09['End_Lon'].value_counts()"
   ]
  },
  {
   "cell_type": "code",
   "execution_count": 6,
   "id": "5cb9a744",
   "metadata": {},
   "outputs": [
    {
     "ename": "ValueError",
     "evalue": "Length of values (2) does not match length of index (14092413)",
     "output_type": "error",
     "traceback": [
      "\u001b[1;31m---------------------------------------------------------------------------\u001b[0m",
      "\u001b[1;31mValueError\u001b[0m                                Traceback (most recent call last)",
      "\u001b[1;32m<ipython-input-6-53dfdbef6727>\u001b[0m in \u001b[0;36m<module>\u001b[1;34m\u001b[0m\n\u001b[1;32m----> 1\u001b[1;33m \u001b[0mt_jan_09\u001b[0m\u001b[1;33m[\u001b[0m\u001b[1;34m'concat'\u001b[0m\u001b[1;33m]\u001b[0m\u001b[1;33m=\u001b[0m\u001b[1;33m(\u001b[0m\u001b[0mt_jan_09\u001b[0m\u001b[1;33m[\u001b[0m\u001b[1;34m'End_Lat'\u001b[0m\u001b[1;33m]\u001b[0m\u001b[1;33m,\u001b[0m \u001b[0mt_jan_09\u001b[0m\u001b[1;33m[\u001b[0m\u001b[1;34m'End_Lon'\u001b[0m\u001b[1;33m]\u001b[0m\u001b[1;33m)\u001b[0m\u001b[1;33m\u001b[0m\u001b[1;33m\u001b[0m\u001b[0m\n\u001b[0m",
      "\u001b[1;32mC:\\ProgramData\\Anaconda3\\lib\\site-packages\\pandas\\core\\frame.py\u001b[0m in \u001b[0;36m__setitem__\u001b[1;34m(self, key, value)\u001b[0m\n\u001b[0;32m   3161\u001b[0m         \u001b[1;32melse\u001b[0m\u001b[1;33m:\u001b[0m\u001b[1;33m\u001b[0m\u001b[1;33m\u001b[0m\u001b[0m\n\u001b[0;32m   3162\u001b[0m             \u001b[1;31m# set column\u001b[0m\u001b[1;33m\u001b[0m\u001b[1;33m\u001b[0m\u001b[1;33m\u001b[0m\u001b[0m\n\u001b[1;32m-> 3163\u001b[1;33m             \u001b[0mself\u001b[0m\u001b[1;33m.\u001b[0m\u001b[0m_set_item\u001b[0m\u001b[1;33m(\u001b[0m\u001b[0mkey\u001b[0m\u001b[1;33m,\u001b[0m \u001b[0mvalue\u001b[0m\u001b[1;33m)\u001b[0m\u001b[1;33m\u001b[0m\u001b[1;33m\u001b[0m\u001b[0m\n\u001b[0m\u001b[0;32m   3164\u001b[0m \u001b[1;33m\u001b[0m\u001b[0m\n\u001b[0;32m   3165\u001b[0m     \u001b[1;32mdef\u001b[0m \u001b[0m_setitem_slice\u001b[0m\u001b[1;33m(\u001b[0m\u001b[0mself\u001b[0m\u001b[1;33m,\u001b[0m \u001b[0mkey\u001b[0m\u001b[1;33m:\u001b[0m \u001b[0mslice\u001b[0m\u001b[1;33m,\u001b[0m \u001b[0mvalue\u001b[0m\u001b[1;33m)\u001b[0m\u001b[1;33m:\u001b[0m\u001b[1;33m\u001b[0m\u001b[1;33m\u001b[0m\u001b[0m\n",
      "\u001b[1;32mC:\\ProgramData\\Anaconda3\\lib\\site-packages\\pandas\\core\\frame.py\u001b[0m in \u001b[0;36m_set_item\u001b[1;34m(self, key, value)\u001b[0m\n\u001b[0;32m   3240\u001b[0m         \"\"\"\n\u001b[0;32m   3241\u001b[0m         \u001b[0mself\u001b[0m\u001b[1;33m.\u001b[0m\u001b[0m_ensure_valid_index\u001b[0m\u001b[1;33m(\u001b[0m\u001b[0mvalue\u001b[0m\u001b[1;33m)\u001b[0m\u001b[1;33m\u001b[0m\u001b[1;33m\u001b[0m\u001b[0m\n\u001b[1;32m-> 3242\u001b[1;33m         \u001b[0mvalue\u001b[0m \u001b[1;33m=\u001b[0m \u001b[0mself\u001b[0m\u001b[1;33m.\u001b[0m\u001b[0m_sanitize_column\u001b[0m\u001b[1;33m(\u001b[0m\u001b[0mkey\u001b[0m\u001b[1;33m,\u001b[0m \u001b[0mvalue\u001b[0m\u001b[1;33m)\u001b[0m\u001b[1;33m\u001b[0m\u001b[1;33m\u001b[0m\u001b[0m\n\u001b[0m\u001b[0;32m   3243\u001b[0m         \u001b[0mNDFrame\u001b[0m\u001b[1;33m.\u001b[0m\u001b[0m_set_item\u001b[0m\u001b[1;33m(\u001b[0m\u001b[0mself\u001b[0m\u001b[1;33m,\u001b[0m \u001b[0mkey\u001b[0m\u001b[1;33m,\u001b[0m \u001b[0mvalue\u001b[0m\u001b[1;33m)\u001b[0m\u001b[1;33m\u001b[0m\u001b[1;33m\u001b[0m\u001b[0m\n\u001b[0;32m   3244\u001b[0m \u001b[1;33m\u001b[0m\u001b[0m\n",
      "\u001b[1;32mC:\\ProgramData\\Anaconda3\\lib\\site-packages\\pandas\\core\\frame.py\u001b[0m in \u001b[0;36m_sanitize_column\u001b[1;34m(self, key, value, broadcast)\u001b[0m\n\u001b[0;32m   3897\u001b[0m \u001b[1;33m\u001b[0m\u001b[0m\n\u001b[0;32m   3898\u001b[0m             \u001b[1;31m# turn me into an ndarray\u001b[0m\u001b[1;33m\u001b[0m\u001b[1;33m\u001b[0m\u001b[1;33m\u001b[0m\u001b[0m\n\u001b[1;32m-> 3899\u001b[1;33m             \u001b[0mvalue\u001b[0m \u001b[1;33m=\u001b[0m \u001b[0msanitize_index\u001b[0m\u001b[1;33m(\u001b[0m\u001b[0mvalue\u001b[0m\u001b[1;33m,\u001b[0m \u001b[0mself\u001b[0m\u001b[1;33m.\u001b[0m\u001b[0mindex\u001b[0m\u001b[1;33m)\u001b[0m\u001b[1;33m\u001b[0m\u001b[1;33m\u001b[0m\u001b[0m\n\u001b[0m\u001b[0;32m   3900\u001b[0m             \u001b[1;32mif\u001b[0m \u001b[1;32mnot\u001b[0m \u001b[0misinstance\u001b[0m\u001b[1;33m(\u001b[0m\u001b[0mvalue\u001b[0m\u001b[1;33m,\u001b[0m \u001b[1;33m(\u001b[0m\u001b[0mnp\u001b[0m\u001b[1;33m.\u001b[0m\u001b[0mndarray\u001b[0m\u001b[1;33m,\u001b[0m \u001b[0mIndex\u001b[0m\u001b[1;33m)\u001b[0m\u001b[1;33m)\u001b[0m\u001b[1;33m:\u001b[0m\u001b[1;33m\u001b[0m\u001b[1;33m\u001b[0m\u001b[0m\n\u001b[0;32m   3901\u001b[0m                 \u001b[1;32mif\u001b[0m \u001b[0misinstance\u001b[0m\u001b[1;33m(\u001b[0m\u001b[0mvalue\u001b[0m\u001b[1;33m,\u001b[0m \u001b[0mlist\u001b[0m\u001b[1;33m)\u001b[0m \u001b[1;32mand\u001b[0m \u001b[0mlen\u001b[0m\u001b[1;33m(\u001b[0m\u001b[0mvalue\u001b[0m\u001b[1;33m)\u001b[0m \u001b[1;33m>\u001b[0m \u001b[1;36m0\u001b[0m\u001b[1;33m:\u001b[0m\u001b[1;33m\u001b[0m\u001b[1;33m\u001b[0m\u001b[0m\n",
      "\u001b[1;32mC:\\ProgramData\\Anaconda3\\lib\\site-packages\\pandas\\core\\internals\\construction.py\u001b[0m in \u001b[0;36msanitize_index\u001b[1;34m(data, index)\u001b[0m\n\u001b[0;32m    749\u001b[0m     \"\"\"\n\u001b[0;32m    750\u001b[0m     \u001b[1;32mif\u001b[0m \u001b[0mlen\u001b[0m\u001b[1;33m(\u001b[0m\u001b[0mdata\u001b[0m\u001b[1;33m)\u001b[0m \u001b[1;33m!=\u001b[0m \u001b[0mlen\u001b[0m\u001b[1;33m(\u001b[0m\u001b[0mindex\u001b[0m\u001b[1;33m)\u001b[0m\u001b[1;33m:\u001b[0m\u001b[1;33m\u001b[0m\u001b[1;33m\u001b[0m\u001b[0m\n\u001b[1;32m--> 751\u001b[1;33m         raise ValueError(\n\u001b[0m\u001b[0;32m    752\u001b[0m             \u001b[1;34m\"Length of values \"\u001b[0m\u001b[1;33m\u001b[0m\u001b[1;33m\u001b[0m\u001b[0m\n\u001b[0;32m    753\u001b[0m             \u001b[1;34mf\"({len(data)}) \"\u001b[0m\u001b[1;33m\u001b[0m\u001b[1;33m\u001b[0m\u001b[0m\n",
      "\u001b[1;31mValueError\u001b[0m: Length of values (2) does not match length of index (14092413)"
     ]
    }
   ],
   "source": [
    "t_jan_09['concat']=(t_jan_09['End_Lat'], t_jan_09['End_Lon'])"
   ]
  },
  {
   "cell_type": "code",
   "execution_count": 4,
   "id": "5e34c6dc",
   "metadata": {},
   "outputs": [],
   "source": [
    "test_mapping = gpd.read_file('../../Data/NYC_geo.geojson.txt')"
   ]
  },
  {
   "cell_type": "code",
   "execution_count": 6,
   "id": "050f9c50",
   "metadata": {},
   "outputs": [
    {
     "data": {
      "text/html": [
       "<div>\n",
       "<style scoped>\n",
       "    .dataframe tbody tr th:only-of-type {\n",
       "        vertical-align: middle;\n",
       "    }\n",
       "\n",
       "    .dataframe tbody tr th {\n",
       "        vertical-align: top;\n",
       "    }\n",
       "\n",
       "    .dataframe thead th {\n",
       "        text-align: right;\n",
       "    }\n",
       "</style>\n",
       "<table border=\"1\" class=\"dataframe\">\n",
       "  <thead>\n",
       "    <tr style=\"text-align: right;\">\n",
       "      <th></th>\n",
       "      <th>OBJECTID</th>\n",
       "      <th>BoroCode</th>\n",
       "      <th>BoroName</th>\n",
       "      <th>CountyFIPS</th>\n",
       "      <th>NTACode</th>\n",
       "      <th>NTAName</th>\n",
       "      <th>Shape__Area</th>\n",
       "      <th>Shape__Length</th>\n",
       "      <th>geometry</th>\n",
       "    </tr>\n",
       "  </thead>\n",
       "  <tbody>\n",
       "    <tr>\n",
       "      <th>0</th>\n",
       "      <td>1</td>\n",
       "      <td>3</td>\n",
       "      <td>Brooklyn</td>\n",
       "      <td>047</td>\n",
       "      <td>BK88</td>\n",
       "      <td>Borough Park</td>\n",
       "      <td>5.400502e+07</td>\n",
       "      <td>39247.227807</td>\n",
       "      <td>POLYGON ((-73.97605 40.63128, -73.97717 40.630...</td>\n",
       "    </tr>\n",
       "    <tr>\n",
       "      <th>1</th>\n",
       "      <td>2</td>\n",
       "      <td>4</td>\n",
       "      <td>Queens</td>\n",
       "      <td>081</td>\n",
       "      <td>QN51</td>\n",
       "      <td>Murray Hill</td>\n",
       "      <td>5.248828e+07</td>\n",
       "      <td>33266.904842</td>\n",
       "      <td>POLYGON ((-73.80379 40.77562, -73.80099 40.775...</td>\n",
       "    </tr>\n",
       "    <tr>\n",
       "      <th>2</th>\n",
       "      <td>3</td>\n",
       "      <td>4</td>\n",
       "      <td>Queens</td>\n",
       "      <td>081</td>\n",
       "      <td>QN27</td>\n",
       "      <td>East Elmhurst</td>\n",
       "      <td>1.972695e+07</td>\n",
       "      <td>19816.684693</td>\n",
       "      <td>POLYGON ((-73.86110 40.76367, -73.85993 40.762...</td>\n",
       "    </tr>\n",
       "    <tr>\n",
       "      <th>3</th>\n",
       "      <td>4</td>\n",
       "      <td>3</td>\n",
       "      <td>Brooklyn</td>\n",
       "      <td>047</td>\n",
       "      <td>BK25</td>\n",
       "      <td>Homecrest</td>\n",
       "      <td>2.999197e+07</td>\n",
       "      <td>27514.022550</td>\n",
       "      <td>POLYGON ((-73.95859 40.61041, -73.95828 40.608...</td>\n",
       "    </tr>\n",
       "    <tr>\n",
       "      <th>4</th>\n",
       "      <td>5</td>\n",
       "      <td>4</td>\n",
       "      <td>Queens</td>\n",
       "      <td>081</td>\n",
       "      <td>QN41</td>\n",
       "      <td>Fresh Meadows-Utopia</td>\n",
       "      <td>2.777485e+07</td>\n",
       "      <td>22106.431272</td>\n",
       "      <td>POLYGON ((-73.77758 40.73020, -73.77849 40.729...</td>\n",
       "    </tr>\n",
       "    <tr>\n",
       "      <th>...</th>\n",
       "      <td>...</td>\n",
       "      <td>...</td>\n",
       "      <td>...</td>\n",
       "      <td>...</td>\n",
       "      <td>...</td>\n",
       "      <td>...</td>\n",
       "      <td>...</td>\n",
       "      <td>...</td>\n",
       "      <td>...</td>\n",
       "    </tr>\n",
       "    <tr>\n",
       "      <th>190</th>\n",
       "      <td>191</td>\n",
       "      <td>1</td>\n",
       "      <td>Manhattan</td>\n",
       "      <td>061</td>\n",
       "      <td>MN06</td>\n",
       "      <td>Manhattanville</td>\n",
       "      <td>1.073480e+07</td>\n",
       "      <td>17357.246252</td>\n",
       "      <td>POLYGON ((-73.94608 40.82127, -73.94640 40.820...</td>\n",
       "    </tr>\n",
       "    <tr>\n",
       "      <th>191</th>\n",
       "      <td>192</td>\n",
       "      <td>1</td>\n",
       "      <td>Manhattan</td>\n",
       "      <td>061</td>\n",
       "      <td>MN13</td>\n",
       "      <td>Hudson Yards-Chelsea-Flatiron-Union Square</td>\n",
       "      <td>3.705661e+07</td>\n",
       "      <td>45490.530848</td>\n",
       "      <td>POLYGON ((-74.00179 40.76230, -74.00142 40.762...</td>\n",
       "    </tr>\n",
       "    <tr>\n",
       "      <th>192</th>\n",
       "      <td>193</td>\n",
       "      <td>1</td>\n",
       "      <td>Manhattan</td>\n",
       "      <td>061</td>\n",
       "      <td>MN15</td>\n",
       "      <td>Clinton</td>\n",
       "      <td>1.837394e+07</td>\n",
       "      <td>34570.755641</td>\n",
       "      <td>POLYGON ((-73.99383 40.77294, -73.99379 40.772...</td>\n",
       "    </tr>\n",
       "    <tr>\n",
       "      <th>193</th>\n",
       "      <td>194</td>\n",
       "      <td>1</td>\n",
       "      <td>Manhattan</td>\n",
       "      <td>061</td>\n",
       "      <td>MN01</td>\n",
       "      <td>Marble Hill-Inwood</td>\n",
       "      <td>1.777202e+07</td>\n",
       "      <td>31122.039202</td>\n",
       "      <td>MULTIPOLYGON (((-73.92235 40.85569, -73.92234 ...</td>\n",
       "    </tr>\n",
       "    <tr>\n",
       "      <th>194</th>\n",
       "      <td>195</td>\n",
       "      <td>1</td>\n",
       "      <td>Manhattan</td>\n",
       "      <td>061</td>\n",
       "      <td>MN99</td>\n",
       "      <td>park-cemetery-etc-Manhattan</td>\n",
       "      <td>9.149651e+07</td>\n",
       "      <td>155285.349860</td>\n",
       "      <td>MULTIPOLYGON (((-74.01093 40.68450, -74.01193 ...</td>\n",
       "    </tr>\n",
       "  </tbody>\n",
       "</table>\n",
       "<p>195 rows × 9 columns</p>\n",
       "</div>"
      ],
      "text/plain": [
       "     OBJECTID  BoroCode   BoroName CountyFIPS NTACode  \\\n",
       "0           1         3   Brooklyn        047    BK88   \n",
       "1           2         4     Queens        081    QN51   \n",
       "2           3         4     Queens        081    QN27   \n",
       "3           4         3   Brooklyn        047    BK25   \n",
       "4           5         4     Queens        081    QN41   \n",
       "..        ...       ...        ...        ...     ...   \n",
       "190       191         1  Manhattan        061    MN06   \n",
       "191       192         1  Manhattan        061    MN13   \n",
       "192       193         1  Manhattan        061    MN15   \n",
       "193       194         1  Manhattan        061    MN01   \n",
       "194       195         1  Manhattan        061    MN99   \n",
       "\n",
       "                                        NTAName   Shape__Area  Shape__Length  \\\n",
       "0                                  Borough Park  5.400502e+07   39247.227807   \n",
       "1                                   Murray Hill  5.248828e+07   33266.904842   \n",
       "2                                 East Elmhurst  1.972695e+07   19816.684693   \n",
       "3                                     Homecrest  2.999197e+07   27514.022550   \n",
       "4                          Fresh Meadows-Utopia  2.777485e+07   22106.431272   \n",
       "..                                          ...           ...            ...   \n",
       "190                              Manhattanville  1.073480e+07   17357.246252   \n",
       "191  Hudson Yards-Chelsea-Flatiron-Union Square  3.705661e+07   45490.530848   \n",
       "192                                     Clinton  1.837394e+07   34570.755641   \n",
       "193                          Marble Hill-Inwood  1.777202e+07   31122.039202   \n",
       "194                 park-cemetery-etc-Manhattan  9.149651e+07  155285.349860   \n",
       "\n",
       "                                              geometry  \n",
       "0    POLYGON ((-73.97605 40.63128, -73.97717 40.630...  \n",
       "1    POLYGON ((-73.80379 40.77562, -73.80099 40.775...  \n",
       "2    POLYGON ((-73.86110 40.76367, -73.85993 40.762...  \n",
       "3    POLYGON ((-73.95859 40.61041, -73.95828 40.608...  \n",
       "4    POLYGON ((-73.77758 40.73020, -73.77849 40.729...  \n",
       "..                                                 ...  \n",
       "190  POLYGON ((-73.94608 40.82127, -73.94640 40.820...  \n",
       "191  POLYGON ((-74.00179 40.76230, -74.00142 40.762...  \n",
       "192  POLYGON ((-73.99383 40.77294, -73.99379 40.772...  \n",
       "193  MULTIPOLYGON (((-73.92235 40.85569, -73.92234 ...  \n",
       "194  MULTIPOLYGON (((-74.01093 40.68450, -74.01193 ...  \n",
       "\n",
       "[195 rows x 9 columns]"
      ]
     },
     "execution_count": 6,
     "metadata": {},
     "output_type": "execute_result"
    }
   ],
   "source": [
    "test_mapping"
   ]
  },
  {
   "cell_type": "code",
   "execution_count": 9,
   "id": "6a124ab0",
   "metadata": {},
   "outputs": [
    {
     "data": {
      "text/plain": [
       "geopandas.geodataframe.GeoDataFrame"
      ]
     },
     "execution_count": 9,
     "metadata": {},
     "output_type": "execute_result"
    }
   ],
   "source": [
    "type(test_mapping)"
   ]
  },
  {
   "cell_type": "code",
   "execution_count": 10,
   "id": "467ed482",
   "metadata": {},
   "outputs": [
    {
     "data": {
      "text/plain": [
       "0      POLYGON ((-73.97605 40.63128, -73.97717 40.630...\n",
       "1      POLYGON ((-73.80379 40.77562, -73.80099 40.775...\n",
       "2      POLYGON ((-73.86110 40.76367, -73.85993 40.762...\n",
       "3      POLYGON ((-73.95859 40.61041, -73.95828 40.608...\n",
       "4      POLYGON ((-73.77758 40.73020, -73.77849 40.729...\n",
       "                             ...                        \n",
       "190    POLYGON ((-73.94608 40.82127, -73.94640 40.820...\n",
       "191    POLYGON ((-74.00179 40.76230, -74.00142 40.762...\n",
       "192    POLYGON ((-73.99383 40.77294, -73.99379 40.772...\n",
       "193    MULTIPOLYGON (((-73.92235 40.85569, -73.92234 ...\n",
       "194    MULTIPOLYGON (((-74.01093 40.68450, -74.01193 ...\n",
       "Name: geometry, Length: 195, dtype: geometry"
      ]
     },
     "execution_count": 10,
     "metadata": {},
     "output_type": "execute_result"
    }
   ],
   "source": [
    "test_mapping.geometry.to_crs('EPSG:4326')"
   ]
  },
  {
   "cell_type": "code",
   "execution_count": 11,
   "id": "8aefb246",
   "metadata": {},
   "outputs": [
    {
     "data": {
      "image/svg+xml": [
       "<svg xmlns=\"http://www.w3.org/2000/svg\" xmlns:xlink=\"http://www.w3.org/1999/xlink\" width=\"100.0\" height=\"100.0\" viewBox=\"-74.0087359345093 40.61126858841719 0.03720935746910925 0.03468002345661603\" preserveAspectRatio=\"xMinYMin meet\"><g transform=\"matrix(1,0,0,-1,0,81.257217200291)\"><path fill-rule=\"evenodd\" fill=\"#66cc99\" stroke=\"#555555\" stroke-width=\"0.000744187149382185\" opacity=\"0.6\" d=\"M -73.9760507899101,40.6312841471041 L -73.9771665542679,40.6307548954438 L -73.9770724238368,40.6302605216106 L -73.9769999234971,40.6298797372738 L -73.9768510772105,40.6290968224783 L -73.9766974777461,40.6283628050698 L -73.9765791901739,40.6275814275306 L -73.9765160549069,40.6273027311531 L -73.9764511376232,40.6270164960782 L -73.9762359705636,40.6259845911404 L -73.9772629343846,40.6258610131635 L -73.9771980904413,40.6251102187637 L -73.9771110268827,40.6249564998691 L -73.9769452575888,40.6240609900222 L -73.9768360858429,40.6234892818447 L -73.9767535301789,40.6230215521357 L -73.9765672728723,40.6220031428102 L -73.9769521418502,40.6216382467059 L -73.9770549623761,40.6215407613162 L -73.9753952383902,40.6207782266542 L -73.9768257690581,40.6186840391146 L -73.9775244525444,40.617684779502 L -73.9778515271106,40.6172958454415 L -73.9756309743991,40.6159536291278 L -73.9753747881662,40.6157629608147 L -73.9754441999024,40.6161223288555 L -73.9754824027154,40.6163201636822 L -73.974444717012,40.6164298820579 L -73.9733602257552,40.616549953954 L -73.9729047013909,40.6141612065885 L -73.9739946269133,40.6140381323842 L -73.9751732026353,40.6147324241179 L -73.9749740792352,40.6136763482082 L -73.9748943901032,40.6131946063585 L -73.9747780128713,40.6126467127679 L -73.9752097267571,40.6128934960896 L -73.9774095979934,40.6142263510495 L -73.9796396519266,40.6155727854739 L -73.9800407372651,40.6158151679469 L -73.9808805618179,40.6163226731379 L -73.9818696180837,40.6169203650365 L -73.9840693541021,40.6182489779195 L -73.9862766829999,40.6195748553896 L -73.985695013993,40.6201397533788 L -73.9878523925215,40.6214432710499 L -73.9900949984916,40.6227971926424 L -73.9925511743604,40.6242825077817 L -73.9939834101988,40.6251496386759 L -73.99432641296,40.6253511484503 L -73.9948942452892,40.6254700338481 L -73.9947362964268,40.6256229802954 L -73.9946511693536,40.6257054189326 L -73.995079588454,40.6258149775548 L -73.996789916337,40.6268342912707 L -73.9968792245722,40.6265390223592 L -73.9970177775308,40.6260698551505 L -73.9970691110804,40.6258929893569 L -73.9972421108136,40.6252969265683 L -73.9981175840122,40.6258239462227 L -74.0003151362792,40.6271528223909 L -74.0025159903588,40.6284824495438 L -74.0022293761833,40.6287594096894 L -74.0019315565538,40.6290410080027 L -74.0030629828535,40.6297234156103 L -74.0036874152191,40.6301000212857 L -74.0041387226147,40.6303722061321 L -74.0063401502436,40.6317018671631 L -74.0070244688213,40.6321182360137 L -74.0068082224122,40.6322586318078 L -74.0066205927829,40.6323836991931 L -74.0063075991435,40.6325923296204 L -74.0055663468118,40.6330914176963 L -74.0073578101586,40.6341718681679 L -74.0067526712103,40.6347530280964 L -74.0064192901208,40.6350730915942 L -74.0061707119288,40.6353117431103 L -74.0055875737634,40.6358744703585 L -74.0050049088481,40.6364334771355 L -74.0044219265626,40.6369932279474 L -74.0041124835293,40.63729120316 L -74.0038393741748,40.6375541735836 L -74.0032541744095,40.6381125038692 L -74.0026735863878,40.6386752529497 L -74.0023708776843,40.6389659198587 L -74.0020921971601,40.6392334964153 L -74.0015091552022,40.6397932043106 L -74.0009268602378,40.6403541443966 L -74.0006622235808,40.6406075521308 L -74.0003426630167,40.6409135586713 L -73.9997583506462,40.6414753925722 L -73.999177089234,40.6420336847879 L -73.996975015354,40.6407023471692 L -73.9955117777009,40.6398179100848 L -73.9947968352723,40.6402967304582 L -73.9943326816783,40.6406085311042 L -73.9940783604289,40.6407786444513 L -73.9933639761882,40.6412560417877 L -73.9926460005131,40.6417365338756 L -73.9919295634919,40.6422131476365 L -73.991214213337,40.6426941336726 L -73.9904977801622,40.6431726844747 L -73.9897803418762,40.6436531306393 L -73.9890601628697,40.6441274845632 L -73.9883513054438,40.6445704875231 L -73.9875008443504,40.644053753919 L -73.9867322431866,40.6435822372056 L -73.9858978827732,40.6430758387584 L -73.9850966333022,40.6425812992003 L -73.9845886322156,40.6422702478885 L -73.9843043680624,40.6420928063843 L -73.9833177214577,40.6414869260397 L -73.9829956285789,40.6413332400367 L -73.9824459781994,40.6415468688107 L -73.9820446541955,40.6417158253016 L -73.9812338413175,40.642053157281 L -73.9804220142833,40.6423934703916 L -73.980075720791,40.6405479429837 L -73.9800083658258,40.6402170808277 L -73.9799112671232,40.6396946008856 L -73.9798750387037,40.6395264488926 L -73.9796784851557,40.6384730425602 L -73.9795558471337,40.6378275023104 L -73.9794773563618,40.6374396065307 L -73.9793878832486,40.6369404059391 L -73.9792873520493,40.6364224365444 L -73.9791133219448,40.6354486286074 L -73.9780230243262,40.6355609451335 L -73.9768900459946,40.6356831043202 L -73.9766379945809,40.6343620633121 L -73.976552075801,40.6339117511 L -73.9764348560386,40.63329736443 L -73.9760507899101,40.6312841471041 z\" /></g></svg>"
      ],
      "text/plain": [
       "<shapely.geometry.polygon.Polygon at 0x1ffcef9ab80>"
      ]
     },
     "execution_count": 11,
     "metadata": {},
     "output_type": "execute_result"
    }
   ],
   "source": [
    "test_mapping.loc[0,'geometry']"
   ]
  },
  {
   "cell_type": "code",
   "execution_count": 12,
   "id": "a308c9c1",
   "metadata": {},
   "outputs": [
    {
     "data": {
      "text/plain": [
       "<AxesSubplot:>"
      ]
     },
     "execution_count": 12,
     "metadata": {},
     "output_type": "execute_result"
    },
    {
     "data": {
      "image/png": "[encoded data removed]",
      "text/plain": [
       "<Figure size 432x288 with 1 Axes>"
      ]
     },
     "metadata": {
      "needs_background": "light"
     },
     "output_type": "display_data"
    }
   ],
   "source": [
    "test_mapping.plot()"
   ]
  },
  {
   "cell_type": "code",
   "execution_count": 14,
   "id": "b67a17e0",
   "metadata": {},
   "outputs": [
    {
     "ename": "TypeError",
     "evalue": "ufunc 'isnan' not supported for the input types, and the inputs could not be safely coerced to any supported types according to the casting rule ''safe''",
     "output_type": "error",
     "traceback": [
      "\u001b[1;31m---------------------------------------------------------------------------\u001b[0m",
      "\u001b[1;31mTypeError\u001b[0m                                 Traceback (most recent call last)",
      "\u001b[1;32mC:\\Users\\BROBRO~1\\AppData\\Local\\Temp/ipykernel_352/107038821.py\u001b[0m in \u001b[0;36m<module>\u001b[1;34m\u001b[0m\n\u001b[1;32m----> 1\u001b[1;33m test_mapping.plot(column='geometry',figsize=(10,10),\n\u001b[0m\u001b[0;32m      2\u001b[0m               \u001b[0medgecolor\u001b[0m\u001b[1;33m=\u001b[0m\u001b[1;34m'black'\u001b[0m\u001b[1;33m,\u001b[0m\u001b[1;33m\u001b[0m\u001b[1;33m\u001b[0m\u001b[0m\n\u001b[0;32m      3\u001b[0m               \u001b[0mlegend\u001b[0m \u001b[1;33m=\u001b[0m \u001b[1;32mTrue\u001b[0m\u001b[1;33m,\u001b[0m\u001b[1;31m# legend_kwds = leg_kwds,\u001b[0m\u001b[1;33m\u001b[0m\u001b[1;33m\u001b[0m\u001b[0m\n\u001b[0;32m      4\u001b[0m               cmap='inferno')\n\u001b[0;32m      5\u001b[0m \u001b[0mplt\u001b[0m\u001b[1;33m.\u001b[0m\u001b[0mshow\u001b[0m\u001b[1;33m(\u001b[0m\u001b[1;33m)\u001b[0m\u001b[1;33m\u001b[0m\u001b[1;33m\u001b[0m\u001b[0m\n",
      "\u001b[1;32m~\\.conda\\envs\\geospatial\\lib\\site-packages\\geopandas\\geodataframe.py\u001b[0m in \u001b[0;36mplot\u001b[1;34m(self, *args, **kwargs)\u001b[0m\n\u001b[0;32m    919\u001b[0m         \u001b[1;32mfrom\u001b[0m \u001b[0mthere\u001b[0m\u001b[1;33m.\u001b[0m\u001b[1;33m\u001b[0m\u001b[1;33m\u001b[0m\u001b[0m\n\u001b[0;32m    920\u001b[0m         \"\"\"\n\u001b[1;32m--> 921\u001b[1;33m         \u001b[1;32mreturn\u001b[0m \u001b[0mplot_dataframe\u001b[0m\u001b[1;33m(\u001b[0m\u001b[0mself\u001b[0m\u001b[1;33m,\u001b[0m \u001b[1;33m*\u001b[0m\u001b[0margs\u001b[0m\u001b[1;33m,\u001b[0m \u001b[1;33m**\u001b[0m\u001b[0mkwargs\u001b[0m\u001b[1;33m)\u001b[0m\u001b[1;33m\u001b[0m\u001b[1;33m\u001b[0m\u001b[0m\n\u001b[0m\u001b[0;32m    922\u001b[0m \u001b[1;33m\u001b[0m\u001b[0m\n\u001b[0;32m    923\u001b[0m     \u001b[0mplot\u001b[0m\u001b[1;33m.\u001b[0m\u001b[0m__doc__\u001b[0m \u001b[1;33m=\u001b[0m \u001b[0mplot_dataframe\u001b[0m\u001b[1;33m.\u001b[0m\u001b[0m__doc__\u001b[0m\u001b[1;33m\u001b[0m\u001b[1;33m\u001b[0m\u001b[0m\n",
      "\u001b[1;32m~\\.conda\\envs\\geospatial\\lib\\site-packages\\geopandas\\plotting.py\u001b[0m in \u001b[0;36mplot_dataframe\u001b[1;34m(df, column, cmap, color, ax, cax, categorical, legend, scheme, k, vmin, vmax, markersize, figsize, legend_kwds, categories, classification_kwds, missing_kwds, aspect, **style_kwds)\u001b[0m\n\u001b[0;32m    698\u001b[0m             \u001b[0mvalues\u001b[0m \u001b[1;33m=\u001b[0m \u001b[0mnp\u001b[0m\u001b[1;33m.\u001b[0m\u001b[0minsert\u001b[0m\u001b[1;33m(\u001b[0m\u001b[0mvalues\u001b[0m\u001b[1;33m,\u001b[0m \u001b[0mn\u001b[0m\u001b[1;33m,\u001b[0m \u001b[0mvalues\u001b[0m\u001b[1;33m[\u001b[0m\u001b[1;36m0\u001b[0m\u001b[1;33m]\u001b[0m\u001b[1;33m)\u001b[0m\u001b[1;33m\u001b[0m\u001b[1;33m\u001b[0m\u001b[0m\n\u001b[0;32m    699\u001b[0m \u001b[1;33m\u001b[0m\u001b[0m\n\u001b[1;32m--> 700\u001b[1;33m     \u001b[0mmn\u001b[0m \u001b[1;33m=\u001b[0m \u001b[0mvalues\u001b[0m\u001b[1;33m[\u001b[0m\u001b[1;33m~\u001b[0m\u001b[0mnp\u001b[0m\u001b[1;33m.\u001b[0m\u001b[0misnan\u001b[0m\u001b[1;33m(\u001b[0m\u001b[0mvalues\u001b[0m\u001b[1;33m)\u001b[0m\u001b[1;33m]\u001b[0m\u001b[1;33m.\u001b[0m\u001b[0mmin\u001b[0m\u001b[1;33m(\u001b[0m\u001b[1;33m)\u001b[0m \u001b[1;32mif\u001b[0m \u001b[0mvmin\u001b[0m \u001b[1;32mis\u001b[0m \u001b[1;32mNone\u001b[0m \u001b[1;32melse\u001b[0m \u001b[0mvmin\u001b[0m\u001b[1;33m\u001b[0m\u001b[1;33m\u001b[0m\u001b[0m\n\u001b[0m\u001b[0;32m    701\u001b[0m     \u001b[0mmx\u001b[0m \u001b[1;33m=\u001b[0m \u001b[0mvalues\u001b[0m\u001b[1;33m[\u001b[0m\u001b[1;33m~\u001b[0m\u001b[0mnp\u001b[0m\u001b[1;33m.\u001b[0m\u001b[0misnan\u001b[0m\u001b[1;33m(\u001b[0m\u001b[0mvalues\u001b[0m\u001b[1;33m)\u001b[0m\u001b[1;33m]\u001b[0m\u001b[1;33m.\u001b[0m\u001b[0mmax\u001b[0m\u001b[1;33m(\u001b[0m\u001b[1;33m)\u001b[0m \u001b[1;32mif\u001b[0m \u001b[0mvmax\u001b[0m \u001b[1;32mis\u001b[0m \u001b[1;32mNone\u001b[0m \u001b[1;32melse\u001b[0m \u001b[0mvmax\u001b[0m\u001b[1;33m\u001b[0m\u001b[1;33m\u001b[0m\u001b[0m\n\u001b[0;32m    702\u001b[0m \u001b[1;33m\u001b[0m\u001b[0m\n",
      "\u001b[1;32m~\\.conda\\envs\\geospatial\\lib\\site-packages\\pandas\\core\\generic.py\u001b[0m in \u001b[0;36m__array_ufunc__\u001b[1;34m(self, ufunc, method, *inputs, **kwargs)\u001b[0m\n\u001b[0;32m   2027\u001b[0m         \u001b[0mself\u001b[0m\u001b[1;33m,\u001b[0m \u001b[0mufunc\u001b[0m\u001b[1;33m:\u001b[0m \u001b[0mnp\u001b[0m\u001b[1;33m.\u001b[0m\u001b[0mufunc\u001b[0m\u001b[1;33m,\u001b[0m \u001b[0mmethod\u001b[0m\u001b[1;33m:\u001b[0m \u001b[0mstr\u001b[0m\u001b[1;33m,\u001b[0m \u001b[1;33m*\u001b[0m\u001b[0minputs\u001b[0m\u001b[1;33m:\u001b[0m \u001b[0mAny\u001b[0m\u001b[1;33m,\u001b[0m \u001b[1;33m**\u001b[0m\u001b[0mkwargs\u001b[0m\u001b[1;33m:\u001b[0m \u001b[0mAny\u001b[0m\u001b[1;33m\u001b[0m\u001b[1;33m\u001b[0m\u001b[0m\n\u001b[0;32m   2028\u001b[0m     ):\n\u001b[1;32m-> 2029\u001b[1;33m         \u001b[1;32mreturn\u001b[0m \u001b[0marraylike\u001b[0m\u001b[1;33m.\u001b[0m\u001b[0marray_ufunc\u001b[0m\u001b[1;33m(\u001b[0m\u001b[0mself\u001b[0m\u001b[1;33m,\u001b[0m \u001b[0mufunc\u001b[0m\u001b[1;33m,\u001b[0m \u001b[0mmethod\u001b[0m\u001b[1;33m,\u001b[0m \u001b[1;33m*\u001b[0m\u001b[0minputs\u001b[0m\u001b[1;33m,\u001b[0m \u001b[1;33m**\u001b[0m\u001b[0mkwargs\u001b[0m\u001b[1;33m)\u001b[0m\u001b[1;33m\u001b[0m\u001b[1;33m\u001b[0m\u001b[0m\n\u001b[0m\u001b[0;32m   2030\u001b[0m \u001b[1;33m\u001b[0m\u001b[0m\n\u001b[0;32m   2031\u001b[0m     \u001b[1;31m# ideally we would define this to avoid the getattr checks, but\u001b[0m\u001b[1;33m\u001b[0m\u001b[1;33m\u001b[0m\u001b[1;33m\u001b[0m\u001b[0m\n",
      "\u001b[1;32m~\\.conda\\envs\\geospatial\\lib\\site-packages\\pandas\\core\\arraylike.py\u001b[0m in \u001b[0;36marray_ufunc\u001b[1;34m(self, ufunc, method, *inputs, **kwargs)\u001b[0m\n\u001b[0;32m    362\u001b[0m         \u001b[1;31m# ufunc(series, ...)\u001b[0m\u001b[1;33m\u001b[0m\u001b[1;33m\u001b[0m\u001b[1;33m\u001b[0m\u001b[0m\n\u001b[0;32m    363\u001b[0m         \u001b[0minputs\u001b[0m \u001b[1;33m=\u001b[0m \u001b[0mtuple\u001b[0m\u001b[1;33m(\u001b[0m\u001b[0mextract_array\u001b[0m\u001b[1;33m(\u001b[0m\u001b[0mx\u001b[0m\u001b[1;33m,\u001b[0m \u001b[0mextract_numpy\u001b[0m\u001b[1;33m=\u001b[0m\u001b[1;32mTrue\u001b[0m\u001b[1;33m)\u001b[0m \u001b[1;32mfor\u001b[0m \u001b[0mx\u001b[0m \u001b[1;32min\u001b[0m \u001b[0minputs\u001b[0m\u001b[1;33m)\u001b[0m\u001b[1;33m\u001b[0m\u001b[1;33m\u001b[0m\u001b[0m\n\u001b[1;32m--> 364\u001b[1;33m         \u001b[0mresult\u001b[0m \u001b[1;33m=\u001b[0m \u001b[0mgetattr\u001b[0m\u001b[1;33m(\u001b[0m\u001b[0mufunc\u001b[0m\u001b[1;33m,\u001b[0m \u001b[0mmethod\u001b[0m\u001b[1;33m)\u001b[0m\u001b[1;33m(\u001b[0m\u001b[1;33m*\u001b[0m\u001b[0minputs\u001b[0m\u001b[1;33m,\u001b[0m \u001b[1;33m**\u001b[0m\u001b[0mkwargs\u001b[0m\u001b[1;33m)\u001b[0m\u001b[1;33m\u001b[0m\u001b[1;33m\u001b[0m\u001b[0m\n\u001b[0m\u001b[0;32m    365\u001b[0m     \u001b[1;32melse\u001b[0m\u001b[1;33m:\u001b[0m\u001b[1;33m\u001b[0m\u001b[1;33m\u001b[0m\u001b[0m\n\u001b[0;32m    366\u001b[0m         \u001b[1;31m# ufunc(dataframe)\u001b[0m\u001b[1;33m\u001b[0m\u001b[1;33m\u001b[0m\u001b[1;33m\u001b[0m\u001b[0m\n",
      "\u001b[1;31mTypeError\u001b[0m: ufunc 'isnan' not supported for the input types, and the inputs could not be safely coerced to any supported types according to the casting rule ''safe''"
     ]
    },
    {
     "data": {
      "image/png": "[encoded data removed]",
      "text/plain": [
       "<Figure size 720x720 with 1 Axes>"
      ]
     },
     "metadata": {
      "needs_background": "light"
     },
     "output_type": "display_data"
    }
   ],
   "source": [
    "\n",
    "\n",
    "test_mapping.plot(column='geometry',figsize=(10,10),\n",
    "              edgecolor='black',\n",
    "              legend = True,# legend_kwds = leg_kwds,\n",
    "              cmap='inferno')\n",
    "plt.show()"
   ]
  },
  {
   "cell_type": "code",
   "execution_count": null,
   "id": "53c69a5f",
   "metadata": {},
   "outputs": [],
   "source": []
  }
 ],
 "metadata": {
  "kernelspec": {
   "display_name": "Python 3 (ipykernel)",
   "language": "python",
   "name": "python3"
  },
  "language_info": {
   "codemirror_mode": {
    "name": "ipython",
    "version": 3
   },
   "file_extension": ".py",
   "mimetype": "text/x-python",
   "name": "python",
   "nbconvert_exporter": "python",
   "pygments_lexer": "ipython3",
   "version": "3.8.5"
  }
 },
 "nbformat": 4,
 "nbformat_minor": 5
}
