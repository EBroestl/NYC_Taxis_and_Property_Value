{
 "cells": [
  {
   "cell_type": "code",
   "execution_count": 2,
   "id": "00e260a4",
   "metadata": {},
   "outputs": [],
   "source": [
    "from multiprocessing import Pool\n",
    "from functools import partial\n",
    "import inspect\n",
    "\n",
    "def parallal_task(func, iterable, *params):\n",
    "\n",
    "    with open(f'./tmp_func.py', 'w') as file:\n",
    "        file.write(inspect.getsource(func).replace(func.__name__, \"task\"))\n",
    "\n",
    "    from tmp_func import task\n",
    "\n",
    "    if __name__ == '__main__':\n",
    "        func = partial(task, params)\n",
    "        pool = Pool(processes=8)\n",
    "        res = pool.map(func, iterable)\n",
    "        pool.close()\n",
    "        return res\n",
    "    else:\n",
    "        raise \"Not in Jupyter Notebook\""
   ]
  },
  {
   "cell_type": "code",
   "execution_count": 4,
   "id": "e1673546",
   "metadata": {},
   "outputs": [
    {
     "name": "stdout",
     "output_type": "stream",
     "text": [
      "(('a', 1, 'b'), 0)\n",
      "(('a', 1, 'b'), 1)\n",
      "(('a', 1, 'b'), 2)\n",
      "(('a', 1, 'b'), 3)\n",
      "(('a', 1, 'b'), 4)\n",
      "(('a', 1, 'b'), 5)\n",
      "(('a', 1, 'b'), 6)\n",
      "(('a', 1, 'b'), 7)\n"
     ]
    }
   ],
   "source": [
    "def long_running_task(params, id):\n",
    "    # Heavy job here\n",
    "    return params, id\n",
    "\n",
    "data_list = range(8)\n",
    "\n",
    "for res in parallal_task(long_running_task, data_list, \"a\", 1, \"b\"):\n",
    "    print(res) "
   ]
  },
  {
   "cell_type": "code",
   "execution_count": null,
   "id": "b619f5d3",
   "metadata": {},
   "outputs": [],
   "source": []
  }
 ],
 "metadata": {
  "kernelspec": {
   "display_name": "Python 3",
   "language": "python",
   "name": "python3"
  },
  "language_info": {
   "codemirror_mode": {
    "name": "ipython",
    "version": 3
   },
   "file_extension": ".py",
   "mimetype": "text/x-python",
   "name": "python",
   "nbconvert_exporter": "python",
   "pygments_lexer": "ipython3",
   "version": "3.8.8"
  }
 },
 "nbformat": 4,
 "nbformat_minor": 5
}
