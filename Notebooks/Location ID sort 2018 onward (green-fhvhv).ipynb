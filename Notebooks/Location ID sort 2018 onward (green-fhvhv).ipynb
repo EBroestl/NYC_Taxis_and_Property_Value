{
 "cells": [
  {
   "cell_type": "code",
   "execution_count": 1,
   "id": "bedd70af",
   "metadata": {},
   "outputs": [],
   "source": [
    "import pandas as pd\n",
    "import numpy as np"
   ]
  },
  {
   "cell_type": "code",
   "execution_count": 2,
   "id": "a8202bda",
   "metadata": {},
   "outputs": [],
   "source": [
    "df=pd.read_csv('../../Data/Taxi Data/HV_FH_20/fhvhv_tripdata_2020-12.csv')"
   ]
  },
  {
   "cell_type": "code",
   "execution_count": 3,
   "id": "9f848389",
   "metadata": {
    "scrolled": false
   },
   "outputs": [],
   "source": [
    "df_start=df[['PULocationID']]"
   ]
  },
  {
   "cell_type": "code",
   "execution_count": 4,
   "id": "20b748b8",
   "metadata": {},
   "outputs": [],
   "source": [
    "df_end=df[['DOLocationID']]"
   ]
  },
  {
   "cell_type": "code",
   "execution_count": 5,
   "id": "9422814b",
   "metadata": {},
   "outputs": [],
   "source": [
    "df_start2=df_start['PULocationID'].value_counts()"
   ]
  },
  {
   "cell_type": "code",
   "execution_count": 6,
   "id": "5fa33ce6",
   "metadata": {},
   "outputs": [],
   "source": [
    "df_end2=df_end['DOLocationID'].value_counts()"
   ]
  },
  {
   "cell_type": "code",
   "execution_count": 7,
   "id": "4477ac9f",
   "metadata": {},
   "outputs": [],
   "source": [
    "group_start_df = df_start2.to_frame()"
   ]
  },
  {
   "cell_type": "code",
   "execution_count": 8,
   "id": "40e3f8b6",
   "metadata": {},
   "outputs": [],
   "source": [
    "group_end_df = df_end2.to_frame()"
   ]
  },
  {
   "cell_type": "code",
   "execution_count": 9,
   "id": "1cddf6fc",
   "metadata": {},
   "outputs": [],
   "source": [
    "group_start=group_start_df.rename(columns={\"PULocationID\": \"pickup_count_count\"})"
   ]
  },
  {
   "cell_type": "code",
   "execution_count": 10,
   "id": "3896e7cd",
   "metadata": {},
   "outputs": [],
   "source": [
    "group_end=group_end_df.rename(columns={\"DOLocationID\": \"dropoff_count\"})"
   ]
  },
  {
   "cell_type": "markdown",
   "id": "455a1276",
   "metadata": {},
   "source": [
    "group_end['LocationID'] = group_end.index"
   ]
  },
  {
   "cell_type": "code",
   "execution_count": 11,
   "id": "27c142ed",
   "metadata": {},
   "outputs": [],
   "source": [
    "group_start['LocationID'] = group_start.index"
   ]
  },
  {
   "cell_type": "code",
   "execution_count": 12,
   "id": "008b9b81",
   "metadata": {},
   "outputs": [],
   "source": [
    "group_end = pd.DataFrame(group_end,columns=['dropoff_count'])"
   ]
  },
  {
   "cell_type": "code",
   "execution_count": 13,
   "id": "ef67bdf7",
   "metadata": {},
   "outputs": [],
   "source": [
    "group_end['LocationID'] = group_end.index"
   ]
  },
  {
   "cell_type": "code",
   "execution_count": 14,
   "id": "7228f190",
   "metadata": {},
   "outputs": [],
   "source": [
    "merge=group_start.merge(group_end, how='left', on='LocationID')"
   ]
  },
  {
   "cell_type": "code",
   "execution_count": 15,
   "id": "6eb5a27b",
   "metadata": {},
   "outputs": [],
   "source": [
    "merge.to_csv('../../Data/fhvhv_tripdata_2020-12-processed.csv')"
   ]
  },
  {
   "cell_type": "markdown",
   "id": "05794d15",
   "metadata": {},
   "source": [
    "read=pd.read_csv('../../Data/fhvhv_tripdata_2019-02-processed.csv')"
   ]
  },
  {
   "cell_type": "markdown",
   "id": "ee47a018",
   "metadata": {},
   "source": [
    "read"
   ]
  },
  {
   "cell_type": "code",
   "execution_count": null,
   "id": "ba3a40a6",
   "metadata": {},
   "outputs": [],
   "source": []
  }
 ],
 "metadata": {
  "kernelspec": {
   "display_name": "Python 3 (ipykernel)",
   "language": "python",
   "name": "python3"
  },
  "language_info": {
   "codemirror_mode": {
    "name": "ipython",
    "version": 3
   },
   "file_extension": ".py",
   "mimetype": "text/x-python",
   "name": "python",
   "nbconvert_exporter": "python",
   "pygments_lexer": "ipython3",
   "version": "3.8.5"
  }
 },
 "nbformat": 4,
 "nbformat_minor": 5
}
