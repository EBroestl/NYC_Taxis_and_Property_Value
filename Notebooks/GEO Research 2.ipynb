{
 "cells": [
  {
   "cell_type": "code",
   "execution_count": 1,
   "id": "f07ddfcc",
   "metadata": {},
   "outputs": [],
   "source": [
    "from shapely.geometry import Point\n",
    "import pandas as pd\n",
    "import geopandas as gpd\n",
    "import matplotlib.pyplot as plt\n",
    "import folium\n",
    "from folium.plugins import MarkerCluster\n",
    "from folium.plugins import FastMarkerCluster\n",
    "import xlrd\n",
    "import time"
   ]
  },
  {
   "cell_type": "code",
   "execution_count": 25,
   "id": "a6542a0d",
   "metadata": {},
   "outputs": [
    {
     "name": "stdout",
     "output_type": "stream",
     "text": [
      "--- 38.38486433029175 seconds ---\n"
     ]
    }
   ],
   "source": [
    "start_time = time.time()\n",
    "\n",
    "df_full = pd.read_csv('../../Data/yellow_tripdata_2009-01.csv')\n",
    "\n",
    "print(\"--- %s seconds ---\" % (time.time() - start_time))"
   ]
  },
  {
   "cell_type": "code",
   "execution_count": 8,
   "id": "b32060d6",
   "metadata": {},
   "outputs": [],
   "source": [
    "map = gpd.read_file('../../Data/NYC_Geo_prayer.json')"
   ]
  },
  {
   "cell_type": "code",
   "execution_count": 34,
   "id": "181caab1",
   "metadata": {},
   "outputs": [
    {
     "name": "stdout",
     "output_type": "stream",
     "text": [
      "<class 'pandas.core.frame.DataFrame'>\n",
      "RangeIndex: 14092413 entries, 0 to 14092412\n",
      "Data columns (total 18 columns):\n",
      " #   Column                 Dtype  \n",
      "---  ------                 -----  \n",
      " 0   vendor_name            object \n",
      " 1   Trip_Pickup_DateTime   object \n",
      " 2   Trip_Dropoff_DateTime  object \n",
      " 3   Passenger_Count        int64  \n",
      " 4   Trip_Distance          float64\n",
      " 5   Start_Lon              float64\n",
      " 6   Start_Lat              float64\n",
      " 7   Rate_Code              float64\n",
      " 8   store_and_forward      float64\n",
      " 9   End_Lon                float64\n",
      " 10  End_Lat                float64\n",
      " 11  Payment_Type           object \n",
      " 12  Fare_Amt               float64\n",
      " 13  surcharge              float64\n",
      " 14  mta_tax                float64\n",
      " 15  Tip_Amt                float64\n",
      " 16  Tolls_Amt              float64\n",
      " 17  Total_Amt              float64\n",
      "dtypes: float64(13), int64(1), object(4)\n",
      "memory usage: 1.9+ GB\n"
     ]
    }
   ],
   "source": [
    "df_full.info()"
   ]
  },
  {
   "cell_type": "code",
   "execution_count": 35,
   "id": "c1706b87",
   "metadata": {},
   "outputs": [],
   "source": [
    "df3=df_full.head(10000)"
   ]
  },
  {
   "cell_type": "code",
   "execution_count": 36,
   "id": "3e2789b6",
   "metadata": {
    "scrolled": true
   },
   "outputs": [
    {
     "name": "stdout",
     "output_type": "stream",
     "text": [
      "<class 'pandas.core.frame.DataFrame'>\n",
      "RangeIndex: 10000 entries, 0 to 9999\n",
      "Data columns (total 18 columns):\n",
      " #   Column                 Non-Null Count  Dtype  \n",
      "---  ------                 --------------  -----  \n",
      " 0   vendor_name            10000 non-null  object \n",
      " 1   Trip_Pickup_DateTime   10000 non-null  object \n",
      " 2   Trip_Dropoff_DateTime  10000 non-null  object \n",
      " 3   Passenger_Count        10000 non-null  int64  \n",
      " 4   Trip_Distance          10000 non-null  float64\n",
      " 5   Start_Lon              10000 non-null  float64\n",
      " 6   Start_Lat              10000 non-null  float64\n",
      " 7   Rate_Code              0 non-null      float64\n",
      " 8   store_and_forward      0 non-null      float64\n",
      " 9   End_Lon                10000 non-null  float64\n",
      " 10  End_Lat                10000 non-null  float64\n",
      " 11  Payment_Type           10000 non-null  object \n",
      " 12  Fare_Amt               10000 non-null  float64\n",
      " 13  surcharge              10000 non-null  float64\n",
      " 14  mta_tax                0 non-null      float64\n",
      " 15  Tip_Amt                10000 non-null  float64\n",
      " 16  Tolls_Amt              10000 non-null  float64\n",
      " 17  Total_Amt              10000 non-null  float64\n",
      "dtypes: float64(13), int64(1), object(4)\n",
      "memory usage: 1.4+ MB\n"
     ]
    }
   ],
   "source": [
    "df3.info()"
   ]
  },
  {
   "cell_type": "code",
   "execution_count": 39,
   "id": "b1c39b0f",
   "metadata": {},
   "outputs": [
    {
     "data": {
      "text/plain": [
       "0      -73.991957\n",
       "1      -73.982102\n",
       "2      -74.002587\n",
       "3      -73.974267\n",
       "4      -74.001580\n",
       "          ...    \n",
       "9995   -73.997167\n",
       "9996   -73.962212\n",
       "9997   -73.873022\n",
       "9998   -73.984955\n",
       "9999   -73.982615\n",
       "Name: Start_Lon, Length: 10000, dtype: float64"
      ]
     },
     "execution_count": 39,
     "metadata": {},
     "output_type": "execute_result"
    }
   ],
   "source": [
    "df3.iloc[:,5]"
   ]
  },
  {
   "cell_type": "code",
   "execution_count": 4,
   "id": "a13b2f87",
   "metadata": {
    "scrolled": true
   },
   "outputs": [
    {
     "data": {
      "text/plain": [
       "0.000000     213319\n",
       "41.366138     23723\n",
       "40.733697      1978\n",
       "40.758087      1476\n",
       "40.774093      1375\n",
       "              ...  \n",
       "40.577090         1\n",
       "41.116347         1\n",
       "40.655097         1\n",
       "40.660988         1\n",
       "40.851998         1\n",
       "Name: Start_Lat, Length: 203980, dtype: int64"
      ]
     },
     "execution_count": 4,
     "metadata": {},
     "output_type": "execute_result"
    }
   ],
   "source": [
    "df2['Start_Lat'].value_counts()"
   ]
  },
  {
   "cell_type": "code",
   "execution_count": 5,
   "id": "feb728dc",
   "metadata": {},
   "outputs": [
    {
     "data": {
      "text/plain": [
       " 0.000000     213326\n",
       "-73.137393     23723\n",
       "-73.982250      1987\n",
       "-73.951818      1918\n",
       "-73.982060      1854\n",
       "               ...  \n",
       "-73.852428         1\n",
       "-74.021070         1\n",
       "-73.880159         1\n",
       "-73.835335         1\n",
       "-74.171460         1\n",
       "Name: Start_Lon, Length: 201098, dtype: int64"
      ]
     },
     "execution_count": 5,
     "metadata": {},
     "output_type": "execute_result"
    }
   ],
   "source": [
    "df2['Start_Lon'].value_counts()"
   ]
  },
  {
   "cell_type": "code",
   "execution_count": 9,
   "id": "dbeb1642",
   "metadata": {},
   "outputs": [
    {
     "name": "stdout",
     "output_type": "stream",
     "text": [
      "epsg:4326\n"
     ]
    }
   ],
   "source": [
    "print(map.crs)"
   ]
  },
  {
   "cell_type": "code",
   "execution_count": 10,
   "id": "06700c18",
   "metadata": {},
   "outputs": [
    {
     "data": {
      "text/plain": [
       "<AxesSubplot:>"
      ]
     },
     "execution_count": 10,
     "metadata": {},
     "output_type": "execute_result"
    },
    {
     "data": {
      "image/png": "[encoded data removed]",
      "text/plain": [
       "<Figure size 432x288 with 1 Axes>"
      ]
     },
     "metadata": {
      "needs_background": "light"
     },
     "output_type": "display_data"
    }
   ],
   "source": [
    "map.plot()"
   ]
  },
  {
   "cell_type": "code",
   "execution_count": 8,
   "id": "2dcc1f62",
   "metadata": {},
   "outputs": [
    {
     "data": {
      "text/plain": [
       "geopandas.geodataframe.GeoDataFrame"
      ]
     },
     "execution_count": 8,
     "metadata": {},
     "output_type": "execute_result"
    }
   ],
   "source": [
    "type(map)"
   ]
  },
  {
   "cell_type": "code",
   "execution_count": 17,
   "id": "f855e5cc",
   "metadata": {},
   "outputs": [
    {
     "name": "stdout",
     "output_type": "stream",
     "text": [
      "(14092413, 19)\n"
     ]
    }
   ],
   "source": [
    "print(df2.shape)"
   ]
  },
  {
   "cell_type": "code",
   "execution_count": 18,
   "id": "f0083dd4",
   "metadata": {},
   "outputs": [
    {
     "name": "stdout",
     "output_type": "stream",
     "text": [
      "<class 'pandas.core.frame.DataFrame'>\n",
      "RangeIndex: 14092413 entries, 0 to 14092412\n",
      "Data columns (total 19 columns):\n",
      " #   Column                 Dtype  \n",
      "---  ------                 -----  \n",
      " 0   vendor_name            object \n",
      " 1   Trip_Pickup_DateTime   object \n",
      " 2   Trip_Dropoff_DateTime  object \n",
      " 3   Passenger_Count        int64  \n",
      " 4   Trip_Distance          float64\n",
      " 5   Start_Lon              float64\n",
      " 6   Start_Lat              float64\n",
      " 7   Rate_Code              float64\n",
      " 8   store_and_forward      float64\n",
      " 9   End_Lon                float64\n",
      " 10  End_Lat                float64\n",
      " 11  Payment_Type           object \n",
      " 12  Fare_Amt               float64\n",
      " 13  surcharge              float64\n",
      " 14  mta_tax                float64\n",
      " 15  Tip_Amt                float64\n",
      " 16  Tolls_Amt              float64\n",
      " 17  Total_Amt              float64\n",
      " 18  geometry               object \n",
      "dtypes: float64(13), int64(1), object(5)\n",
      "memory usage: 2.0+ GB\n"
     ]
    }
   ],
   "source": [
    "df2.info()"
   ]
  },
  {
   "cell_type": "code",
   "execution_count": 33,
   "id": "1b88655b",
   "metadata": {},
   "outputs": [
    {
     "name": "stdout",
     "output_type": "stream",
     "text": [
      "--- 0.7306637763977051 seconds ---\n"
     ]
    }
   ],
   "source": [
    "start_time = time.time()\n",
    "\n",
    "df3['geometry'] = df3.apply(lambda x: Point((float(x.Start_Lon), \n",
    "                                             float(x.Start_Lat))), \n",
    "                                             axis=1)\n",
    "df3.head(3)\n",
    "\n",
    "print(\"--- %s seconds ---\" % (time.time() - start_time))"
   ]
  },
  {
   "cell_type": "code",
   "execution_count": 49,
   "id": "6f797c5c",
   "metadata": {},
   "outputs": [],
   "source": [
    "df2=df2[['Trip_Distance','Fare_Amt','geometry']]"
   ]
  },
  {
   "cell_type": "code",
   "execution_count": 14,
   "id": "f290646b",
   "metadata": {},
   "outputs": [
    {
     "data": {
      "text/plain": [
       "<Geographic 2D CRS: EPSG:4326>\n",
       "Name: WGS 84\n",
       "Axis Info [ellipsoidal]:\n",
       "- Lat[north]: Geodetic latitude (degree)\n",
       "- Lon[east]: Geodetic longitude (degree)\n",
       "Area of Use:\n",
       "- name: World\n",
       "- bounds: (-180.0, -90.0, 180.0, 90.0)\n",
       "Datum: World Geodetic System 1984\n",
       "- Ellipsoid: WGS 84\n",
       "- Prime Meridian: Greenwich"
      ]
     },
     "execution_count": 14,
     "metadata": {},
     "output_type": "execute_result"
    }
   ],
   "source": [
    "map.crs"
   ]
  },
  {
   "cell_type": "code",
   "execution_count": 50,
   "id": "2ca6e9f4",
   "metadata": {},
   "outputs": [
    {
     "data": {
      "text/html": [
       "<div>\n",
       "<style scoped>\n",
       "    .dataframe tbody tr th:only-of-type {\n",
       "        vertical-align: middle;\n",
       "    }\n",
       "\n",
       "    .dataframe tbody tr th {\n",
       "        vertical-align: top;\n",
       "    }\n",
       "\n",
       "    .dataframe thead th {\n",
       "        text-align: right;\n",
       "    }\n",
       "</style>\n",
       "<table border=\"1\" class=\"dataframe\">\n",
       "  <thead>\n",
       "    <tr style=\"text-align: right;\">\n",
       "      <th></th>\n",
       "      <th>Trip_Distance</th>\n",
       "      <th>Fare_Amt</th>\n",
       "      <th>geometry</th>\n",
       "    </tr>\n",
       "  </thead>\n",
       "  <tbody>\n",
       "    <tr>\n",
       "      <th>0</th>\n",
       "      <td>2.63</td>\n",
       "      <td>8.9</td>\n",
       "      <td>POINT (-73.991957 40.721567)</td>\n",
       "    </tr>\n",
       "    <tr>\n",
       "      <th>1</th>\n",
       "      <td>4.55</td>\n",
       "      <td>12.1</td>\n",
       "      <td>POINT (-73.982102 40.73629)</td>\n",
       "    </tr>\n",
       "    <tr>\n",
       "      <th>2</th>\n",
       "      <td>10.35</td>\n",
       "      <td>23.7</td>\n",
       "      <td>POINT (-74.00258700000001 40.739748)</td>\n",
       "    </tr>\n",
       "    <tr>\n",
       "      <th>3</th>\n",
       "      <td>5.00</td>\n",
       "      <td>14.9</td>\n",
       "      <td>POINT (-73.974267 40.790955)</td>\n",
       "    </tr>\n",
       "    <tr>\n",
       "      <th>4</th>\n",
       "      <td>0.40</td>\n",
       "      <td>3.7</td>\n",
       "      <td>POINT (-74.00158 40.719382)</td>\n",
       "    </tr>\n",
       "    <tr>\n",
       "      <th>...</th>\n",
       "      <td>...</td>\n",
       "      <td>...</td>\n",
       "      <td>...</td>\n",
       "    </tr>\n",
       "    <tr>\n",
       "      <th>14092408</th>\n",
       "      <td>0.89</td>\n",
       "      <td>6.5</td>\n",
       "      <td>POINT (-73.98201299999998 40.74333)</td>\n",
       "    </tr>\n",
       "    <tr>\n",
       "      <th>14092409</th>\n",
       "      <td>1.94</td>\n",
       "      <td>8.1</td>\n",
       "      <td>POINT (-73.97278799999998 40.761988)</td>\n",
       "    </tr>\n",
       "    <tr>\n",
       "      <th>14092410</th>\n",
       "      <td>3.80</td>\n",
       "      <td>14.5</td>\n",
       "      <td>POINT (-73.977467 40.751861)</td>\n",
       "    </tr>\n",
       "    <tr>\n",
       "      <th>14092411</th>\n",
       "      <td>3.85</td>\n",
       "      <td>10.9</td>\n",
       "      <td>POINT (-73.981295 40.753)</td>\n",
       "    </tr>\n",
       "    <tr>\n",
       "      <th>14092412</th>\n",
       "      <td>17.30</td>\n",
       "      <td>45.0</td>\n",
       "      <td>POINT (0 0)</td>\n",
       "    </tr>\n",
       "  </tbody>\n",
       "</table>\n",
       "<p>14092413 rows × 3 columns</p>\n",
       "</div>"
      ],
      "text/plain": [
       "          Trip_Distance  Fare_Amt                              geometry\n",
       "0                  2.63       8.9          POINT (-73.991957 40.721567)\n",
       "1                  4.55      12.1           POINT (-73.982102 40.73629)\n",
       "2                 10.35      23.7  POINT (-74.00258700000001 40.739748)\n",
       "3                  5.00      14.9          POINT (-73.974267 40.790955)\n",
       "4                  0.40       3.7           POINT (-74.00158 40.719382)\n",
       "...                 ...       ...                                   ...\n",
       "14092408           0.89       6.5   POINT (-73.98201299999998 40.74333)\n",
       "14092409           1.94       8.1  POINT (-73.97278799999998 40.761988)\n",
       "14092410           3.80      14.5          POINT (-73.977467 40.751861)\n",
       "14092411           3.85      10.9             POINT (-73.981295 40.753)\n",
       "14092412          17.30      45.0                           POINT (0 0)\n",
       "\n",
       "[14092413 rows x 3 columns]"
      ]
     },
     "execution_count": 50,
     "metadata": {},
     "output_type": "execute_result"
    }
   ],
   "source": [
    "df2"
   ]
  },
  {
   "cell_type": "code",
   "execution_count": 51,
   "id": "d6840a0d",
   "metadata": {},
   "outputs": [],
   "source": [
    "df2=gpd.GeoDataFrame(df2,\n",
    "                     crs=map.crs,\n",
    "                     geometry=df2['geometry'])"
   ]
  },
  {
   "cell_type": "code",
   "execution_count": 52,
   "id": "ffdab4ea",
   "metadata": {},
   "outputs": [
    {
     "data": {
      "text/html": [
       "<div>\n",
       "<style scoped>\n",
       "    .dataframe tbody tr th:only-of-type {\n",
       "        vertical-align: middle;\n",
       "    }\n",
       "\n",
       "    .dataframe tbody tr th {\n",
       "        vertical-align: top;\n",
       "    }\n",
       "\n",
       "    .dataframe thead th {\n",
       "        text-align: right;\n",
       "    }\n",
       "</style>\n",
       "<table border=\"1\" class=\"dataframe\">\n",
       "  <thead>\n",
       "    <tr style=\"text-align: right;\">\n",
       "      <th></th>\n",
       "      <th>Trip_Distance</th>\n",
       "      <th>Fare_Amt</th>\n",
       "      <th>geometry</th>\n",
       "    </tr>\n",
       "  </thead>\n",
       "  <tbody>\n",
       "    <tr>\n",
       "      <th>0</th>\n",
       "      <td>2.63</td>\n",
       "      <td>8.9</td>\n",
       "      <td>POINT (-73.99196 40.72157)</td>\n",
       "    </tr>\n",
       "    <tr>\n",
       "      <th>1</th>\n",
       "      <td>4.55</td>\n",
       "      <td>12.1</td>\n",
       "      <td>POINT (-73.98210 40.73629)</td>\n",
       "    </tr>\n",
       "    <tr>\n",
       "      <th>2</th>\n",
       "      <td>10.35</td>\n",
       "      <td>23.7</td>\n",
       "      <td>POINT (-74.00259 40.73975)</td>\n",
       "    </tr>\n",
       "    <tr>\n",
       "      <th>3</th>\n",
       "      <td>5.00</td>\n",
       "      <td>14.9</td>\n",
       "      <td>POINT (-73.97427 40.79095)</td>\n",
       "    </tr>\n",
       "    <tr>\n",
       "      <th>4</th>\n",
       "      <td>0.40</td>\n",
       "      <td>3.7</td>\n",
       "      <td>POINT (-74.00158 40.71938)</td>\n",
       "    </tr>\n",
       "    <tr>\n",
       "      <th>...</th>\n",
       "      <td>...</td>\n",
       "      <td>...</td>\n",
       "      <td>...</td>\n",
       "    </tr>\n",
       "    <tr>\n",
       "      <th>14092408</th>\n",
       "      <td>0.89</td>\n",
       "      <td>6.5</td>\n",
       "      <td>POINT (-73.98201 40.74333)</td>\n",
       "    </tr>\n",
       "    <tr>\n",
       "      <th>14092409</th>\n",
       "      <td>1.94</td>\n",
       "      <td>8.1</td>\n",
       "      <td>POINT (-73.97279 40.76199)</td>\n",
       "    </tr>\n",
       "    <tr>\n",
       "      <th>14092410</th>\n",
       "      <td>3.80</td>\n",
       "      <td>14.5</td>\n",
       "      <td>POINT (-73.97747 40.75186)</td>\n",
       "    </tr>\n",
       "    <tr>\n",
       "      <th>14092411</th>\n",
       "      <td>3.85</td>\n",
       "      <td>10.9</td>\n",
       "      <td>POINT (-73.98130 40.75300)</td>\n",
       "    </tr>\n",
       "    <tr>\n",
       "      <th>14092412</th>\n",
       "      <td>17.30</td>\n",
       "      <td>45.0</td>\n",
       "      <td>POINT (0.00000 0.00000)</td>\n",
       "    </tr>\n",
       "  </tbody>\n",
       "</table>\n",
       "<p>14092413 rows × 3 columns</p>\n",
       "</div>"
      ],
      "text/plain": [
       "          Trip_Distance  Fare_Amt                    geometry\n",
       "0                  2.63       8.9  POINT (-73.99196 40.72157)\n",
       "1                  4.55      12.1  POINT (-73.98210 40.73629)\n",
       "2                 10.35      23.7  POINT (-74.00259 40.73975)\n",
       "3                  5.00      14.9  POINT (-73.97427 40.79095)\n",
       "4                  0.40       3.7  POINT (-74.00158 40.71938)\n",
       "...                 ...       ...                         ...\n",
       "14092408           0.89       6.5  POINT (-73.98201 40.74333)\n",
       "14092409           1.94       8.1  POINT (-73.97279 40.76199)\n",
       "14092410           3.80      14.5  POINT (-73.97747 40.75186)\n",
       "14092411           3.85      10.9  POINT (-73.98130 40.75300)\n",
       "14092412          17.30      45.0     POINT (0.00000 0.00000)\n",
       "\n",
       "[14092413 rows x 3 columns]"
      ]
     },
     "execution_count": 52,
     "metadata": {},
     "output_type": "execute_result"
    }
   ],
   "source": [
    "df2"
   ]
  },
  {
   "cell_type": "code",
   "execution_count": 22,
   "id": "64b382d3",
   "metadata": {},
   "outputs": [
    {
     "data": {
      "text/plain": [
       "<Geographic 2D CRS: EPSG:4326>\n",
       "Name: WGS 84\n",
       "Axis Info [ellipsoidal]:\n",
       "- Lat[north]: Geodetic latitude (degree)\n",
       "- Lon[east]: Geodetic longitude (degree)\n",
       "Area of Use:\n",
       "- name: World\n",
       "- bounds: (-180.0, -90.0, 180.0, 90.0)\n",
       "Datum: World Geodetic System 1984\n",
       "- Ellipsoid: WGS 84\n",
       "- Prime Meridian: Greenwich"
      ]
     },
     "execution_count": 22,
     "metadata": {},
     "output_type": "execute_result"
    }
   ],
   "source": [
    "df2.crs"
   ]
  },
  {
   "cell_type": "code",
   "execution_count": 53,
   "id": "0c5b161c",
   "metadata": {},
   "outputs": [
    {
     "name": "stdout",
     "output_type": "stream",
     "text": [
      "<class 'geopandas.geodataframe.GeoDataFrame'>\n",
      "RangeIndex: 14092413 entries, 0 to 14092412\n",
      "Data columns (total 3 columns):\n",
      " #   Column         Dtype   \n",
      "---  ------         -----   \n",
      " 0   Trip_Distance  float64 \n",
      " 1   Fare_Amt       float64 \n",
      " 2   geometry       geometry\n",
      "dtypes: float64(2), geometry(1)\n",
      "memory usage: 322.5 MB\n"
     ]
    }
   ],
   "source": [
    "df2.info()"
   ]
  },
  {
   "cell_type": "code",
   "execution_count": 54,
   "id": "119b14d3",
   "metadata": {},
   "outputs": [
    {
     "name": "stdout",
     "output_type": "stream",
     "text": [
      "--- 1279.3593051433563 seconds ---\n"
     ]
    }
   ],
   "source": [
    "start_time = time.time()\n",
    "\n",
    "geo_processing = gpd.sjoin(df2, map, op = 'within')\n",
    "\n",
    "print(\"--- %s seconds ---\" % (time.time() - start_time))"
   ]
  },
  {
   "cell_type": "code",
   "execution_count": 57,
   "id": "e6b146a6",
   "metadata": {},
   "outputs": [
    {
     "data": {
      "text/html": [
       "<div>\n",
       "<style scoped>\n",
       "    .dataframe tbody tr th:only-of-type {\n",
       "        vertical-align: middle;\n",
       "    }\n",
       "\n",
       "    .dataframe tbody tr th {\n",
       "        vertical-align: top;\n",
       "    }\n",
       "\n",
       "    .dataframe thead th {\n",
       "        text-align: right;\n",
       "    }\n",
       "</style>\n",
       "<table border=\"1\" class=\"dataframe\">\n",
       "  <thead>\n",
       "    <tr style=\"text-align: right;\">\n",
       "      <th></th>\n",
       "      <th>Trip_Distance</th>\n",
       "      <th>Fare_Amt</th>\n",
       "      <th>geometry</th>\n",
       "      <th>index_right</th>\n",
       "      <th>OBJECTID</th>\n",
       "      <th>postalCode</th>\n",
       "      <th>PO_NAME</th>\n",
       "      <th>STATE</th>\n",
       "      <th>borough</th>\n",
       "      <th>ST_FIPS</th>\n",
       "      <th>CTY_FIPS</th>\n",
       "      <th>BLDGpostal</th>\n",
       "      <th>@id</th>\n",
       "      <th>longitude</th>\n",
       "      <th>latitude</th>\n",
       "    </tr>\n",
       "  </thead>\n",
       "  <tbody>\n",
       "    <tr>\n",
       "      <th>0</th>\n",
       "      <td>2.63</td>\n",
       "      <td>8.9</td>\n",
       "      <td>POINT (-73.99196 40.72157)</td>\n",
       "      <td>123</td>\n",
       "      <td>124</td>\n",
       "      <td>10002</td>\n",
       "      <td>New York</td>\n",
       "      <td>NY</td>\n",
       "      <td>Manhattan</td>\n",
       "      <td>36</td>\n",
       "      <td>061</td>\n",
       "      <td>0</td>\n",
       "      <td>http://nyc.pediacities.com/Resource/PostalCode...</td>\n",
       "      <td>-73.985688</td>\n",
       "      <td>40.716161</td>\n",
       "    </tr>\n",
       "    <tr>\n",
       "      <th>54</th>\n",
       "      <td>1.90</td>\n",
       "      <td>7.8</td>\n",
       "      <td>POINT (-73.98855 40.72156)</td>\n",
       "      <td>123</td>\n",
       "      <td>124</td>\n",
       "      <td>10002</td>\n",
       "      <td>New York</td>\n",
       "      <td>NY</td>\n",
       "      <td>Manhattan</td>\n",
       "      <td>36</td>\n",
       "      <td>061</td>\n",
       "      <td>0</td>\n",
       "      <td>http://nyc.pediacities.com/Resource/PostalCode...</td>\n",
       "      <td>-73.985688</td>\n",
       "      <td>40.716161</td>\n",
       "    </tr>\n",
       "    <tr>\n",
       "      <th>240</th>\n",
       "      <td>1.20</td>\n",
       "      <td>6.5</td>\n",
       "      <td>POINT (-73.99101 40.71946)</td>\n",
       "      <td>123</td>\n",
       "      <td>124</td>\n",
       "      <td>10002</td>\n",
       "      <td>New York</td>\n",
       "      <td>NY</td>\n",
       "      <td>Manhattan</td>\n",
       "      <td>36</td>\n",
       "      <td>061</td>\n",
       "      <td>0</td>\n",
       "      <td>http://nyc.pediacities.com/Resource/PostalCode...</td>\n",
       "      <td>-73.985688</td>\n",
       "      <td>40.716161</td>\n",
       "    </tr>\n",
       "    <tr>\n",
       "      <th>311</th>\n",
       "      <td>2.50</td>\n",
       "      <td>9.3</td>\n",
       "      <td>POINT (-73.98899 40.71681)</td>\n",
       "      <td>123</td>\n",
       "      <td>124</td>\n",
       "      <td>10002</td>\n",
       "      <td>New York</td>\n",
       "      <td>NY</td>\n",
       "      <td>Manhattan</td>\n",
       "      <td>36</td>\n",
       "      <td>061</td>\n",
       "      <td>0</td>\n",
       "      <td>http://nyc.pediacities.com/Resource/PostalCode...</td>\n",
       "      <td>-73.985688</td>\n",
       "      <td>40.716161</td>\n",
       "    </tr>\n",
       "    <tr>\n",
       "      <th>357</th>\n",
       "      <td>1.60</td>\n",
       "      <td>7.8</td>\n",
       "      <td>POINT (-73.98884 40.72226)</td>\n",
       "      <td>123</td>\n",
       "      <td>124</td>\n",
       "      <td>10002</td>\n",
       "      <td>New York</td>\n",
       "      <td>NY</td>\n",
       "      <td>Manhattan</td>\n",
       "      <td>36</td>\n",
       "      <td>061</td>\n",
       "      <td>0</td>\n",
       "      <td>http://nyc.pediacities.com/Resource/PostalCode...</td>\n",
       "      <td>-73.985688</td>\n",
       "      <td>40.716161</td>\n",
       "    </tr>\n",
       "    <tr>\n",
       "      <th>...</th>\n",
       "      <td>...</td>\n",
       "      <td>...</td>\n",
       "      <td>...</td>\n",
       "      <td>...</td>\n",
       "      <td>...</td>\n",
       "      <td>...</td>\n",
       "      <td>...</td>\n",
       "      <td>...</td>\n",
       "      <td>...</td>\n",
       "      <td>...</td>\n",
       "      <td>...</td>\n",
       "      <td>...</td>\n",
       "      <td>...</td>\n",
       "      <td>...</td>\n",
       "      <td>...</td>\n",
       "    </tr>\n",
       "    <tr>\n",
       "      <th>8330728</th>\n",
       "      <td>0.63</td>\n",
       "      <td>4.1</td>\n",
       "      <td>POINT (-73.77414 40.79205)</td>\n",
       "      <td>84</td>\n",
       "      <td>85</td>\n",
       "      <td>11359</td>\n",
       "      <td>Bayside</td>\n",
       "      <td>NY</td>\n",
       "      <td>Queens</td>\n",
       "      <td>36</td>\n",
       "      <td>081</td>\n",
       "      <td>0</td>\n",
       "      <td>http://nyc.pediacities.com/Resource/PostalCode...</td>\n",
       "      <td>-73.776720</td>\n",
       "      <td>40.791742</td>\n",
       "    </tr>\n",
       "    <tr>\n",
       "      <th>10958816</th>\n",
       "      <td>1.06</td>\n",
       "      <td>4.9</td>\n",
       "      <td>POINT (-73.77562 40.79445)</td>\n",
       "      <td>84</td>\n",
       "      <td>85</td>\n",
       "      <td>11359</td>\n",
       "      <td>Bayside</td>\n",
       "      <td>NY</td>\n",
       "      <td>Queens</td>\n",
       "      <td>36</td>\n",
       "      <td>081</td>\n",
       "      <td>0</td>\n",
       "      <td>http://nyc.pediacities.com/Resource/PostalCode...</td>\n",
       "      <td>-73.776720</td>\n",
       "      <td>40.791742</td>\n",
       "    </tr>\n",
       "    <tr>\n",
       "      <th>11406897</th>\n",
       "      <td>1.73</td>\n",
       "      <td>6.5</td>\n",
       "      <td>POINT (-73.77922 40.79196)</td>\n",
       "      <td>84</td>\n",
       "      <td>85</td>\n",
       "      <td>11359</td>\n",
       "      <td>Bayside</td>\n",
       "      <td>NY</td>\n",
       "      <td>Queens</td>\n",
       "      <td>36</td>\n",
       "      <td>081</td>\n",
       "      <td>0</td>\n",
       "      <td>http://nyc.pediacities.com/Resource/PostalCode...</td>\n",
       "      <td>-73.776720</td>\n",
       "      <td>40.791742</td>\n",
       "    </tr>\n",
       "    <tr>\n",
       "      <th>12294968</th>\n",
       "      <td>4.73</td>\n",
       "      <td>12.9</td>\n",
       "      <td>POINT (-73.77617 40.79332)</td>\n",
       "      <td>84</td>\n",
       "      <td>85</td>\n",
       "      <td>11359</td>\n",
       "      <td>Bayside</td>\n",
       "      <td>NY</td>\n",
       "      <td>Queens</td>\n",
       "      <td>36</td>\n",
       "      <td>081</td>\n",
       "      <td>0</td>\n",
       "      <td>http://nyc.pediacities.com/Resource/PostalCode...</td>\n",
       "      <td>-73.776720</td>\n",
       "      <td>40.791742</td>\n",
       "    </tr>\n",
       "    <tr>\n",
       "      <th>13842896</th>\n",
       "      <td>0.87</td>\n",
       "      <td>6.1</td>\n",
       "      <td>POINT (-73.77421 40.79054)</td>\n",
       "      <td>84</td>\n",
       "      <td>85</td>\n",
       "      <td>11359</td>\n",
       "      <td>Bayside</td>\n",
       "      <td>NY</td>\n",
       "      <td>Queens</td>\n",
       "      <td>36</td>\n",
       "      <td>081</td>\n",
       "      <td>0</td>\n",
       "      <td>http://nyc.pediacities.com/Resource/PostalCode...</td>\n",
       "      <td>-73.776720</td>\n",
       "      <td>40.791742</td>\n",
       "    </tr>\n",
       "  </tbody>\n",
       "</table>\n",
       "<p>13969429 rows × 15 columns</p>\n",
       "</div>"
      ],
      "text/plain": [
       "          Trip_Distance  Fare_Amt                    geometry  index_right  \\\n",
       "0                  2.63       8.9  POINT (-73.99196 40.72157)          123   \n",
       "54                 1.90       7.8  POINT (-73.98855 40.72156)          123   \n",
       "240                1.20       6.5  POINT (-73.99101 40.71946)          123   \n",
       "311                2.50       9.3  POINT (-73.98899 40.71681)          123   \n",
       "357                1.60       7.8  POINT (-73.98884 40.72226)          123   \n",
       "...                 ...       ...                         ...          ...   \n",
       "8330728            0.63       4.1  POINT (-73.77414 40.79205)           84   \n",
       "10958816           1.06       4.9  POINT (-73.77562 40.79445)           84   \n",
       "11406897           1.73       6.5  POINT (-73.77922 40.79196)           84   \n",
       "12294968           4.73      12.9  POINT (-73.77617 40.79332)           84   \n",
       "13842896           0.87       6.1  POINT (-73.77421 40.79054)           84   \n",
       "\n",
       "          OBJECTID postalCode   PO_NAME STATE    borough ST_FIPS CTY_FIPS  \\\n",
       "0              124      10002  New York    NY  Manhattan      36      061   \n",
       "54             124      10002  New York    NY  Manhattan      36      061   \n",
       "240            124      10002  New York    NY  Manhattan      36      061   \n",
       "311            124      10002  New York    NY  Manhattan      36      061   \n",
       "357            124      10002  New York    NY  Manhattan      36      061   \n",
       "...            ...        ...       ...   ...        ...     ...      ...   \n",
       "8330728         85      11359   Bayside    NY     Queens      36      081   \n",
       "10958816        85      11359   Bayside    NY     Queens      36      081   \n",
       "11406897        85      11359   Bayside    NY     Queens      36      081   \n",
       "12294968        85      11359   Bayside    NY     Queens      36      081   \n",
       "13842896        85      11359   Bayside    NY     Queens      36      081   \n",
       "\n",
       "          BLDGpostal                                                @id  \\\n",
       "0                  0  http://nyc.pediacities.com/Resource/PostalCode...   \n",
       "54                 0  http://nyc.pediacities.com/Resource/PostalCode...   \n",
       "240                0  http://nyc.pediacities.com/Resource/PostalCode...   \n",
       "311                0  http://nyc.pediacities.com/Resource/PostalCode...   \n",
       "357                0  http://nyc.pediacities.com/Resource/PostalCode...   \n",
       "...              ...                                                ...   \n",
       "8330728            0  http://nyc.pediacities.com/Resource/PostalCode...   \n",
       "10958816           0  http://nyc.pediacities.com/Resource/PostalCode...   \n",
       "11406897           0  http://nyc.pediacities.com/Resource/PostalCode...   \n",
       "12294968           0  http://nyc.pediacities.com/Resource/PostalCode...   \n",
       "13842896           0  http://nyc.pediacities.com/Resource/PostalCode...   \n",
       "\n",
       "          longitude   latitude  \n",
       "0        -73.985688  40.716161  \n",
       "54       -73.985688  40.716161  \n",
       "240      -73.985688  40.716161  \n",
       "311      -73.985688  40.716161  \n",
       "357      -73.985688  40.716161  \n",
       "...             ...        ...  \n",
       "8330728  -73.776720  40.791742  \n",
       "10958816 -73.776720  40.791742  \n",
       "11406897 -73.776720  40.791742  \n",
       "12294968 -73.776720  40.791742  \n",
       "13842896 -73.776720  40.791742  \n",
       "\n",
       "[13969429 rows x 15 columns]"
      ]
     },
     "execution_count": 57,
     "metadata": {},
     "output_type": "execute_result"
    }
   ],
   "source": [
    "geo_processing"
   ]
  },
  {
   "cell_type": "code",
   "execution_count": 29,
   "id": "9e37a918",
   "metadata": {},
   "outputs": [
    {
     "ename": "AttributeError",
     "evalue": "'GeometryArray' object has no attribute 'value_counts'",
     "output_type": "error",
     "traceback": [
      "\u001b[1;31m---------------------------------------------------------------------------\u001b[0m",
      "\u001b[1;31mAttributeError\u001b[0m                            Traceback (most recent call last)",
      "\u001b[1;32mC:\\Users\\BROBRO~1\\AppData\\Local\\Temp/ipykernel_32636/1478913984.py\u001b[0m in \u001b[0;36m<module>\u001b[1;34m\u001b[0m\n\u001b[1;32m----> 1\u001b[1;33m \u001b[0mdf2\u001b[0m\u001b[1;33m[\u001b[0m\u001b[1;34m'geometry'\u001b[0m\u001b[1;33m]\u001b[0m\u001b[1;33m.\u001b[0m\u001b[0mvalue_counts\u001b[0m\u001b[1;33m(\u001b[0m\u001b[1;33m)\u001b[0m\u001b[1;33m\u001b[0m\u001b[1;33m\u001b[0m\u001b[0m\n\u001b[0m",
      "\u001b[1;32m~\\.conda\\envs\\geospatial\\lib\\site-packages\\pandas\\core\\base.py\u001b[0m in \u001b[0;36mvalue_counts\u001b[1;34m(self, normalize, sort, ascending, bins, dropna)\u001b[0m\n\u001b[0;32m    958\u001b[0m         \u001b[0mdtype\u001b[0m\u001b[1;33m:\u001b[0m \u001b[0mint64\u001b[0m\u001b[1;33m\u001b[0m\u001b[1;33m\u001b[0m\u001b[0m\n\u001b[0;32m    959\u001b[0m         \"\"\"\n\u001b[1;32m--> 960\u001b[1;33m         return value_counts(\n\u001b[0m\u001b[0;32m    961\u001b[0m             \u001b[0mself\u001b[0m\u001b[1;33m,\u001b[0m\u001b[1;33m\u001b[0m\u001b[1;33m\u001b[0m\u001b[0m\n\u001b[0;32m    962\u001b[0m             \u001b[0msort\u001b[0m\u001b[1;33m=\u001b[0m\u001b[0msort\u001b[0m\u001b[1;33m,\u001b[0m\u001b[1;33m\u001b[0m\u001b[1;33m\u001b[0m\u001b[0m\n",
      "\u001b[1;32m~\\.conda\\envs\\geospatial\\lib\\site-packages\\pandas\\core\\algorithms.py\u001b[0m in \u001b[0;36mvalue_counts\u001b[1;34m(values, sort, ascending, normalize, bins, dropna)\u001b[0m\n\u001b[0;32m    854\u001b[0m \u001b[1;33m\u001b[0m\u001b[0m\n\u001b[0;32m    855\u001b[0m             \u001b[1;31m# handle Categorical and sparse,\u001b[0m\u001b[1;33m\u001b[0m\u001b[1;33m\u001b[0m\u001b[1;33m\u001b[0m\u001b[0m\n\u001b[1;32m--> 856\u001b[1;33m             \u001b[0mresult\u001b[0m \u001b[1;33m=\u001b[0m \u001b[0mSeries\u001b[0m\u001b[1;33m(\u001b[0m\u001b[0mvalues\u001b[0m\u001b[1;33m)\u001b[0m\u001b[1;33m.\u001b[0m\u001b[0m_values\u001b[0m\u001b[1;33m.\u001b[0m\u001b[0mvalue_counts\u001b[0m\u001b[1;33m(\u001b[0m\u001b[0mdropna\u001b[0m\u001b[1;33m=\u001b[0m\u001b[0mdropna\u001b[0m\u001b[1;33m)\u001b[0m\u001b[1;33m\u001b[0m\u001b[1;33m\u001b[0m\u001b[0m\n\u001b[0m\u001b[0;32m    857\u001b[0m             \u001b[0mresult\u001b[0m\u001b[1;33m.\u001b[0m\u001b[0mname\u001b[0m \u001b[1;33m=\u001b[0m \u001b[0mname\u001b[0m\u001b[1;33m\u001b[0m\u001b[1;33m\u001b[0m\u001b[0m\n\u001b[0;32m    858\u001b[0m             \u001b[0mcounts\u001b[0m \u001b[1;33m=\u001b[0m \u001b[0mresult\u001b[0m\u001b[1;33m.\u001b[0m\u001b[0m_values\u001b[0m\u001b[1;33m\u001b[0m\u001b[1;33m\u001b[0m\u001b[0m\n",
      "\u001b[1;31mAttributeError\u001b[0m: 'GeometryArray' object has no attribute 'value_counts'"
     ]
    }
   ],
   "source": [
    "df2['geometry'].value_counts()"
   ]
  },
  {
   "cell_type": "code",
   "execution_count": 35,
   "id": "4ac019c2",
   "metadata": {},
   "outputs": [
    {
     "data": {
      "text/html": [
       "<div>\n",
       "<style scoped>\n",
       "    .dataframe tbody tr th:only-of-type {\n",
       "        vertical-align: middle;\n",
       "    }\n",
       "\n",
       "    .dataframe tbody tr th {\n",
       "        vertical-align: top;\n",
       "    }\n",
       "\n",
       "    .dataframe thead th {\n",
       "        text-align: right;\n",
       "    }\n",
       "</style>\n",
       "<table border=\"1\" class=\"dataframe\">\n",
       "  <thead>\n",
       "    <tr style=\"text-align: right;\">\n",
       "      <th></th>\n",
       "      <th>vendor_name</th>\n",
       "      <th>Trip_Pickup_DateTime</th>\n",
       "      <th>Trip_Dropoff_DateTime</th>\n",
       "      <th>Passenger_Count</th>\n",
       "      <th>Trip_Distance</th>\n",
       "      <th>Start_Lon</th>\n",
       "      <th>Start_Lat</th>\n",
       "      <th>Rate_Code</th>\n",
       "      <th>store_and_forward</th>\n",
       "      <th>End_Lon</th>\n",
       "      <th>End_Lat</th>\n",
       "      <th>Payment_Type</th>\n",
       "      <th>Fare_Amt</th>\n",
       "      <th>surcharge</th>\n",
       "      <th>mta_tax</th>\n",
       "      <th>Tip_Amt</th>\n",
       "      <th>Tolls_Amt</th>\n",
       "      <th>Total_Amt</th>\n",
       "    </tr>\n",
       "  </thead>\n",
       "  <tbody>\n",
       "    <tr>\n",
       "      <th>0</th>\n",
       "      <td>VTS</td>\n",
       "      <td>2009-01-04 02:52:00</td>\n",
       "      <td>2009-01-04 03:02:00</td>\n",
       "      <td>1</td>\n",
       "      <td>2.63</td>\n",
       "      <td>-73.991957</td>\n",
       "      <td>40.721567</td>\n",
       "      <td>NaN</td>\n",
       "      <td>NaN</td>\n",
       "      <td>-73.993803</td>\n",
       "      <td>40.695922</td>\n",
       "      <td>CASH</td>\n",
       "      <td>8.9</td>\n",
       "      <td>0.5</td>\n",
       "      <td>NaN</td>\n",
       "      <td>0.00</td>\n",
       "      <td>0.00</td>\n",
       "      <td>9.40</td>\n",
       "    </tr>\n",
       "    <tr>\n",
       "      <th>1</th>\n",
       "      <td>VTS</td>\n",
       "      <td>2009-01-04 03:31:00</td>\n",
       "      <td>2009-01-04 03:38:00</td>\n",
       "      <td>3</td>\n",
       "      <td>4.55</td>\n",
       "      <td>-73.982102</td>\n",
       "      <td>40.736290</td>\n",
       "      <td>NaN</td>\n",
       "      <td>NaN</td>\n",
       "      <td>-73.955850</td>\n",
       "      <td>40.768030</td>\n",
       "      <td>Credit</td>\n",
       "      <td>12.1</td>\n",
       "      <td>0.5</td>\n",
       "      <td>NaN</td>\n",
       "      <td>2.00</td>\n",
       "      <td>0.00</td>\n",
       "      <td>14.60</td>\n",
       "    </tr>\n",
       "    <tr>\n",
       "      <th>2</th>\n",
       "      <td>VTS</td>\n",
       "      <td>2009-01-03 15:43:00</td>\n",
       "      <td>2009-01-03 15:57:00</td>\n",
       "      <td>5</td>\n",
       "      <td>10.35</td>\n",
       "      <td>-74.002587</td>\n",
       "      <td>40.739748</td>\n",
       "      <td>NaN</td>\n",
       "      <td>NaN</td>\n",
       "      <td>-73.869983</td>\n",
       "      <td>40.770225</td>\n",
       "      <td>Credit</td>\n",
       "      <td>23.7</td>\n",
       "      <td>0.0</td>\n",
       "      <td>NaN</td>\n",
       "      <td>4.74</td>\n",
       "      <td>0.00</td>\n",
       "      <td>28.44</td>\n",
       "    </tr>\n",
       "    <tr>\n",
       "      <th>3</th>\n",
       "      <td>DDS</td>\n",
       "      <td>2009-01-01 20:52:58</td>\n",
       "      <td>2009-01-01 21:14:00</td>\n",
       "      <td>1</td>\n",
       "      <td>5.00</td>\n",
       "      <td>-73.974267</td>\n",
       "      <td>40.790955</td>\n",
       "      <td>NaN</td>\n",
       "      <td>NaN</td>\n",
       "      <td>-73.996558</td>\n",
       "      <td>40.731849</td>\n",
       "      <td>CREDIT</td>\n",
       "      <td>14.9</td>\n",
       "      <td>0.5</td>\n",
       "      <td>NaN</td>\n",
       "      <td>3.05</td>\n",
       "      <td>0.00</td>\n",
       "      <td>18.45</td>\n",
       "    </tr>\n",
       "    <tr>\n",
       "      <th>4</th>\n",
       "      <td>DDS</td>\n",
       "      <td>2009-01-24 16:18:23</td>\n",
       "      <td>2009-01-24 16:24:56</td>\n",
       "      <td>1</td>\n",
       "      <td>0.40</td>\n",
       "      <td>-74.001580</td>\n",
       "      <td>40.719382</td>\n",
       "      <td>NaN</td>\n",
       "      <td>NaN</td>\n",
       "      <td>-74.008378</td>\n",
       "      <td>40.720350</td>\n",
       "      <td>CASH</td>\n",
       "      <td>3.7</td>\n",
       "      <td>0.0</td>\n",
       "      <td>NaN</td>\n",
       "      <td>0.00</td>\n",
       "      <td>0.00</td>\n",
       "      <td>3.70</td>\n",
       "    </tr>\n",
       "    <tr>\n",
       "      <th>...</th>\n",
       "      <td>...</td>\n",
       "      <td>...</td>\n",
       "      <td>...</td>\n",
       "      <td>...</td>\n",
       "      <td>...</td>\n",
       "      <td>...</td>\n",
       "      <td>...</td>\n",
       "      <td>...</td>\n",
       "      <td>...</td>\n",
       "      <td>...</td>\n",
       "      <td>...</td>\n",
       "      <td>...</td>\n",
       "      <td>...</td>\n",
       "      <td>...</td>\n",
       "      <td>...</td>\n",
       "      <td>...</td>\n",
       "      <td>...</td>\n",
       "      <td>...</td>\n",
       "    </tr>\n",
       "    <tr>\n",
       "      <th>9995</th>\n",
       "      <td>VTS</td>\n",
       "      <td>2009-01-03 21:33:00</td>\n",
       "      <td>2009-01-03 21:39:00</td>\n",
       "      <td>1</td>\n",
       "      <td>1.10</td>\n",
       "      <td>-73.997167</td>\n",
       "      <td>40.737425</td>\n",
       "      <td>NaN</td>\n",
       "      <td>NaN</td>\n",
       "      <td>-73.990877</td>\n",
       "      <td>40.749973</td>\n",
       "      <td>CASH</td>\n",
       "      <td>5.3</td>\n",
       "      <td>0.5</td>\n",
       "      <td>NaN</td>\n",
       "      <td>0.00</td>\n",
       "      <td>0.00</td>\n",
       "      <td>5.80</td>\n",
       "    </tr>\n",
       "    <tr>\n",
       "      <th>9996</th>\n",
       "      <td>VTS</td>\n",
       "      <td>2009-01-03 19:04:00</td>\n",
       "      <td>2009-01-03 19:19:00</td>\n",
       "      <td>5</td>\n",
       "      <td>2.64</td>\n",
       "      <td>-73.962212</td>\n",
       "      <td>40.779117</td>\n",
       "      <td>NaN</td>\n",
       "      <td>NaN</td>\n",
       "      <td>-73.989327</td>\n",
       "      <td>40.756197</td>\n",
       "      <td>CASH</td>\n",
       "      <td>10.1</td>\n",
       "      <td>0.0</td>\n",
       "      <td>NaN</td>\n",
       "      <td>0.00</td>\n",
       "      <td>0.00</td>\n",
       "      <td>10.10</td>\n",
       "    </tr>\n",
       "    <tr>\n",
       "      <th>9997</th>\n",
       "      <td>VTS</td>\n",
       "      <td>2009-01-03 09:54:00</td>\n",
       "      <td>2009-01-03 10:17:00</td>\n",
       "      <td>2</td>\n",
       "      <td>9.06</td>\n",
       "      <td>-73.873022</td>\n",
       "      <td>40.774053</td>\n",
       "      <td>NaN</td>\n",
       "      <td>NaN</td>\n",
       "      <td>-73.971993</td>\n",
       "      <td>40.796870</td>\n",
       "      <td>CASH</td>\n",
       "      <td>24.1</td>\n",
       "      <td>0.0</td>\n",
       "      <td>NaN</td>\n",
       "      <td>0.00</td>\n",
       "      <td>4.15</td>\n",
       "      <td>28.25</td>\n",
       "    </tr>\n",
       "    <tr>\n",
       "      <th>9998</th>\n",
       "      <td>VTS</td>\n",
       "      <td>2009-01-07 19:56:00</td>\n",
       "      <td>2009-01-07 20:04:00</td>\n",
       "      <td>1</td>\n",
       "      <td>3.02</td>\n",
       "      <td>-73.984955</td>\n",
       "      <td>40.756653</td>\n",
       "      <td>NaN</td>\n",
       "      <td>NaN</td>\n",
       "      <td>-73.997372</td>\n",
       "      <td>40.721703</td>\n",
       "      <td>Credit</td>\n",
       "      <td>11.3</td>\n",
       "      <td>1.0</td>\n",
       "      <td>NaN</td>\n",
       "      <td>2.00</td>\n",
       "      <td>0.00</td>\n",
       "      <td>14.30</td>\n",
       "    </tr>\n",
       "    <tr>\n",
       "      <th>9999</th>\n",
       "      <td>VTS</td>\n",
       "      <td>2009-01-03 21:19:00</td>\n",
       "      <td>2009-01-03 21:29:00</td>\n",
       "      <td>2</td>\n",
       "      <td>2.29</td>\n",
       "      <td>-73.982615</td>\n",
       "      <td>40.782477</td>\n",
       "      <td>NaN</td>\n",
       "      <td>NaN</td>\n",
       "      <td>-73.953612</td>\n",
       "      <td>40.786927</td>\n",
       "      <td>CASH</td>\n",
       "      <td>8.5</td>\n",
       "      <td>0.5</td>\n",
       "      <td>NaN</td>\n",
       "      <td>0.00</td>\n",
       "      <td>0.00</td>\n",
       "      <td>9.00</td>\n",
       "    </tr>\n",
       "  </tbody>\n",
       "</table>\n",
       "<p>10000 rows × 18 columns</p>\n",
       "</div>"
      ],
      "text/plain": [
       "     vendor_name Trip_Pickup_DateTime Trip_Dropoff_DateTime  Passenger_Count  \\\n",
       "0            VTS  2009-01-04 02:52:00   2009-01-04 03:02:00                1   \n",
       "1            VTS  2009-01-04 03:31:00   2009-01-04 03:38:00                3   \n",
       "2            VTS  2009-01-03 15:43:00   2009-01-03 15:57:00                5   \n",
       "3            DDS  2009-01-01 20:52:58   2009-01-01 21:14:00                1   \n",
       "4            DDS  2009-01-24 16:18:23   2009-01-24 16:24:56                1   \n",
       "...          ...                  ...                   ...              ...   \n",
       "9995         VTS  2009-01-03 21:33:00   2009-01-03 21:39:00                1   \n",
       "9996         VTS  2009-01-03 19:04:00   2009-01-03 19:19:00                5   \n",
       "9997         VTS  2009-01-03 09:54:00   2009-01-03 10:17:00                2   \n",
       "9998         VTS  2009-01-07 19:56:00   2009-01-07 20:04:00                1   \n",
       "9999         VTS  2009-01-03 21:19:00   2009-01-03 21:29:00                2   \n",
       "\n",
       "      Trip_Distance  Start_Lon  Start_Lat  Rate_Code  store_and_forward  \\\n",
       "0              2.63 -73.991957  40.721567        NaN                NaN   \n",
       "1              4.55 -73.982102  40.736290        NaN                NaN   \n",
       "2             10.35 -74.002587  40.739748        NaN                NaN   \n",
       "3              5.00 -73.974267  40.790955        NaN                NaN   \n",
       "4              0.40 -74.001580  40.719382        NaN                NaN   \n",
       "...             ...        ...        ...        ...                ...   \n",
       "9995           1.10 -73.997167  40.737425        NaN                NaN   \n",
       "9996           2.64 -73.962212  40.779117        NaN                NaN   \n",
       "9997           9.06 -73.873022  40.774053        NaN                NaN   \n",
       "9998           3.02 -73.984955  40.756653        NaN                NaN   \n",
       "9999           2.29 -73.982615  40.782477        NaN                NaN   \n",
       "\n",
       "        End_Lon    End_Lat Payment_Type  Fare_Amt  surcharge  mta_tax  \\\n",
       "0    -73.993803  40.695922         CASH       8.9        0.5      NaN   \n",
       "1    -73.955850  40.768030       Credit      12.1        0.5      NaN   \n",
       "2    -73.869983  40.770225       Credit      23.7        0.0      NaN   \n",
       "3    -73.996558  40.731849       CREDIT      14.9        0.5      NaN   \n",
       "4    -74.008378  40.720350         CASH       3.7        0.0      NaN   \n",
       "...         ...        ...          ...       ...        ...      ...   \n",
       "9995 -73.990877  40.749973         CASH       5.3        0.5      NaN   \n",
       "9996 -73.989327  40.756197         CASH      10.1        0.0      NaN   \n",
       "9997 -73.971993  40.796870         CASH      24.1        0.0      NaN   \n",
       "9998 -73.997372  40.721703       Credit      11.3        1.0      NaN   \n",
       "9999 -73.953612  40.786927         CASH       8.5        0.5      NaN   \n",
       "\n",
       "      Tip_Amt  Tolls_Amt  Total_Amt  \n",
       "0        0.00       0.00       9.40  \n",
       "1        2.00       0.00      14.60  \n",
       "2        4.74       0.00      28.44  \n",
       "3        3.05       0.00      18.45  \n",
       "4        0.00       0.00       3.70  \n",
       "...       ...        ...        ...  \n",
       "9995     0.00       0.00       5.80  \n",
       "9996     0.00       0.00      10.10  \n",
       "9997     0.00       4.15      28.25  \n",
       "9998     2.00       0.00      14.30  \n",
       "9999     0.00       0.00       9.00  \n",
       "\n",
       "[10000 rows x 18 columns]"
      ]
     },
     "execution_count": 35,
     "metadata": {},
     "output_type": "execute_result"
    }
   ],
   "source": [
    "df2"
   ]
  },
  {
   "cell_type": "code",
   "execution_count": 41,
   "id": "a00adb66",
   "metadata": {},
   "outputs": [
    {
     "data": {
      "text/plain": [
       "<AxesSubplot:>"
      ]
     },
     "execution_count": 41,
     "metadata": {},
     "output_type": "execute_result"
    },
    {
     "data": {
      "image/png": "[encoded data removed]",
      "text/plain": [
       "<Figure size 432x288 with 1 Axes>"
      ]
     },
     "metadata": {
      "needs_background": "light"
     },
     "output_type": "display_data"
    }
   ],
   "source": [
    "geo_processing.plot()"
   ]
  },
  {
   "cell_type": "code",
   "execution_count": 43,
   "id": "095c6939",
   "metadata": {},
   "outputs": [
    {
     "data": {
      "text/plain": [
       "<AxesSubplot:>"
      ]
     },
     "execution_count": 43,
     "metadata": {},
     "output_type": "execute_result"
    },
    {
     "data": {
      "image/png": "[encoded data removed]",
      "text/plain": [
       "<Figure size 432x288 with 1 Axes>"
      ]
     },
     "metadata": {
      "needs_background": "light"
     },
     "output_type": "display_data"
    }
   ],
   "source": [
    "map.plot()"
   ]
  },
  {
   "cell_type": "code",
   "execution_count": null,
   "id": "0a33f93e",
   "metadata": {},
   "outputs": [],
   "source": [
    "start_time = time.time()\n",
    "\n",
    "please_god_work.to_csv('../../Data/yellow_tripdata_2009-01_GEO_PROCESSED.csv')\n",
    "\n",
    "print(\"--- %s seconds ---\" % (time.time() - start_time))"
   ]
  },
  {
   "cell_type": "code",
   "execution_count": 61,
   "id": "6de67551",
   "metadata": {},
   "outputs": [
    {
     "ename": "NameError",
     "evalue": "name 'data' is not defined",
     "output_type": "error",
     "traceback": [
      "\u001b[1;31m---------------------------------------------------------------------------\u001b[0m",
      "\u001b[1;31mNameError\u001b[0m                                 Traceback (most recent call last)",
      "\u001b[1;32mC:\\Users\\BROBRO~1\\AppData\\Local\\Temp/ipykernel_32636/225897188.py\u001b[0m in \u001b[0;36m<module>\u001b[1;34m\u001b[0m\n\u001b[1;32m----> 1\u001b[1;33m \u001b[1;32mdel\u001b[0m \u001b[0mdata\u001b[0m\u001b[1;33m\u001b[0m\u001b[1;33m\u001b[0m\u001b[0m\n\u001b[0m",
      "\u001b[1;31mNameError\u001b[0m: name 'data' is not defined"
     ]
    }
   ],
   "source": [
    "del data"
   ]
  },
  {
   "cell_type": "code",
   "execution_count": null,
   "id": "65f82628",
   "metadata": {},
   "outputs": [],
   "source": []
  }
 ],
 "metadata": {
  "kernelspec": {
   "display_name": "Python 3 (ipykernel)",
   "language": "python",
   "name": "python3"
  },
  "language_info": {
   "codemirror_mode": {
    "name": "ipython",
    "version": 3
   },
   "file_extension": ".py",
   "mimetype": "text/x-python",
   "name": "python",
   "nbconvert_exporter": "python",
   "pygments_lexer": "ipython3",
   "version": "3.8.5"
  }
 },
 "nbformat": 4,
 "nbformat_minor": 5
}
