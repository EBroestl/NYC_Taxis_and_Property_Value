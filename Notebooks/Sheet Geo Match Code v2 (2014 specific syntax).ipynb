{
 "cells": [
  {
   "cell_type": "code",
   "execution_count": 1,
   "id": "ff633cd3",
   "metadata": {},
   "outputs": [],
   "source": [
    "from shapely.geometry import Point\n",
    "import pandas as pd\n",
    "import geopandas as gpd\n",
    "import matplotlib.pyplot as plt\n",
    "import folium\n",
    "from folium.plugins import MarkerCluster\n",
    "from folium.plugins import FastMarkerCluster\n",
    "import xlrd\n",
    "import time\n",
    "from IPython.display import Audio"
   ]
  },
  {
   "cell_type": "code",
   "execution_count": 2,
   "id": "fed835a1",
   "metadata": {},
   "outputs": [],
   "source": [
    "#full runtime indicator start\n",
    "full_time=time.time()"
   ]
  },
  {
   "cell_type": "code",
   "execution_count": 3,
   "id": "d935c92e",
   "metadata": {},
   "outputs": [],
   "source": [
    "#finish indicator\n",
    "wow = '../../Data/Wow.mp3'\n",
    "finished=Audio(url = wow, autoplay = True) "
   ]
  },
  {
   "cell_type": "code",
   "execution_count": 4,
   "id": "8d9b03ba",
   "metadata": {},
   "outputs": [],
   "source": [
    "#notebook complete indicator\n",
    "notebook = '../../Data/Hugo Good Job.mp3'\n",
    "complete=Audio(url = notebook, autoplay = True)"
   ]
  },
  {
   "cell_type": "code",
   "execution_count": 5,
   "id": "bdee617c",
   "metadata": {},
   "outputs": [
    {
     "data": {
      "text/html": [
       "\n",
       "                <audio  controls=\"controls\" autoplay=\"autoplay\">\n",
       "                    <source src=\"../../Data/Hugo Good Job.mp3\" type=\"audio/mpeg\" />\n",
       "                    Your browser does not support the audio element.\n",
       "                </audio>\n",
       "              "
      ],
      "text/plain": [
       "<IPython.lib.display.Audio object>"
      ]
     },
     "execution_count": 5,
     "metadata": {},
     "output_type": "execute_result"
    }
   ],
   "source": [
    "map = gpd.read_file('../../Data/Taxi Zones Shape/taxi_zones.shp').to_crs('epsg:4326')\n",
    "map = map.drop(['Shape_Area', 'Shape_Leng', 'OBJECTID'], axis=1)\n",
    "\n",
    "\n",
    "complete"
   ]
  },
  {
   "cell_type": "code",
   "execution_count": 6,
   "id": "ca220d6b",
   "metadata": {},
   "outputs": [
    {
     "name": "stderr",
     "output_type": "stream",
     "text": [
      "C:\\Users\\Bro Bro\\.conda\\envs\\geospatial\\lib\\site-packages\\IPython\\core\\interactiveshell.py:3441: DtypeWarning: Columns (8) have mixed types.Specify dtype option on import or set low_memory=False.\n",
      "  exec(code_obj, self.user_global_ns, self.user_ns)\n"
     ]
    }
   ],
   "source": [
    "df=pd.read_csv('../../Data/Taxi Data/yellow_14/yellow_tripdata_2014-11.csv')"
   ]
  },
  {
   "cell_type": "markdown",
   "id": "ec4ca319",
   "metadata": {},
   "source": [
    "df.info()"
   ]
  },
  {
   "cell_type": "markdown",
   "id": "59e78d4d",
   "metadata": {},
   "source": [
    "df2=df.head(100)"
   ]
  },
  {
   "cell_type": "markdown",
   "id": "1df5ff2f",
   "metadata": {},
   "source": [
    "df2.columns"
   ]
  },
  {
   "cell_type": "code",
   "execution_count": 7,
   "id": "235b80e6",
   "metadata": {
    "scrolled": true
   },
   "outputs": [
    {
     "name": "stdout",
     "output_type": "stream",
     "text": [
      "--- 811.2050583362579 seconds ---\n"
     ]
    },
    {
     "data": {
      "text/html": [
       "\n",
       "                <audio  controls=\"controls\" autoplay=\"autoplay\">\n",
       "                    <source src=\"../../Data/Wow.mp3\" type=\"audio/mpeg\" />\n",
       "                    Your browser does not support the audio element.\n",
       "                </audio>\n",
       "              "
      ],
      "text/plain": [
       "<IPython.lib.display.Audio object>"
      ]
     },
     "execution_count": 7,
     "metadata": {},
     "output_type": "execute_result"
    }
   ],
   "source": [
    "start_time = time.time()\n",
    "\n",
    "df['dropoff_geometry'] = df.apply(lambda x: Point((float(x[' dropoff_longitude']), \n",
    "                                             float(x[' dropoff_latitude']))), \n",
    "                                             axis=1)\n",
    "\n",
    "print(\"--- %s seconds ---\" % (time.time() - start_time))\n",
    "finished"
   ]
  },
  {
   "cell_type": "code",
   "execution_count": 8,
   "id": "402b52c8",
   "metadata": {},
   "outputs": [
    {
     "name": "stdout",
     "output_type": "stream",
     "text": [
      "--- 807.5019402503967 seconds ---\n"
     ]
    },
    {
     "data": {
      "text/html": [
       "\n",
       "                <audio  controls=\"controls\" autoplay=\"autoplay\">\n",
       "                    <source src=\"../../Data/Wow.mp3\" type=\"audio/mpeg\" />\n",
       "                    Your browser does not support the audio element.\n",
       "                </audio>\n",
       "              "
      ],
      "text/plain": [
       "<IPython.lib.display.Audio object>"
      ]
     },
     "execution_count": 8,
     "metadata": {},
     "output_type": "execute_result"
    }
   ],
   "source": [
    "start_time = time.time()\n",
    "\n",
    "df['pickup_geometry'] = df.apply(lambda x: Point((float(x[' pickup_longitude']), \n",
    "                                             float(x[' pickup_latitude']))), \n",
    "                                             axis=1)\n",
    "\n",
    "print(\"--- %s seconds ---\" % (time.time() - start_time))\n",
    "finished"
   ]
  },
  {
   "cell_type": "code",
   "execution_count": 9,
   "id": "013ce29f",
   "metadata": {},
   "outputs": [
    {
     "data": {
      "text/html": [
       "<div>\n",
       "<style scoped>\n",
       "    .dataframe tbody tr th:only-of-type {\n",
       "        vertical-align: middle;\n",
       "    }\n",
       "\n",
       "    .dataframe tbody tr th {\n",
       "        vertical-align: top;\n",
       "    }\n",
       "\n",
       "    .dataframe thead th {\n",
       "        text-align: right;\n",
       "    }\n",
       "</style>\n",
       "<table border=\"1\" class=\"dataframe\">\n",
       "  <thead>\n",
       "    <tr style=\"text-align: right;\">\n",
       "      <th></th>\n",
       "      <th>vendor_id</th>\n",
       "      <th>pickup_datetime</th>\n",
       "      <th>dropoff_datetime</th>\n",
       "      <th>passenger_count</th>\n",
       "      <th>trip_distance</th>\n",
       "      <th>pickup_longitude</th>\n",
       "      <th>pickup_latitude</th>\n",
       "      <th>rate_code</th>\n",
       "      <th>store_and_fwd_flag</th>\n",
       "      <th>dropoff_longitude</th>\n",
       "      <th>dropoff_latitude</th>\n",
       "      <th>payment_type</th>\n",
       "      <th>fare_amount</th>\n",
       "      <th>surcharge</th>\n",
       "      <th>mta_tax</th>\n",
       "      <th>tip_amount</th>\n",
       "      <th>tolls_amount</th>\n",
       "      <th>total_amount</th>\n",
       "      <th>dropoff_geometry</th>\n",
       "      <th>pickup_geometry</th>\n",
       "    </tr>\n",
       "  </thead>\n",
       "  <tbody>\n",
       "    <tr>\n",
       "      <th>0</th>\n",
       "      <td>VTS</td>\n",
       "      <td>2014-11-01 00:47:00</td>\n",
       "      <td>2014-11-01 01:00:00</td>\n",
       "      <td>5</td>\n",
       "      <td>2.71</td>\n",
       "      <td>-73.960960</td>\n",
       "      <td>40.818780</td>\n",
       "      <td>1</td>\n",
       "      <td>NaN</td>\n",
       "      <td>-73.923620</td>\n",
       "      <td>40.808400</td>\n",
       "      <td>CRD</td>\n",
       "      <td>11.5</td>\n",
       "      <td>0.5</td>\n",
       "      <td>0.5</td>\n",
       "      <td>2.40</td>\n",
       "      <td>0.0</td>\n",
       "      <td>14.90</td>\n",
       "      <td>POINT (-73.92362 40.8084)</td>\n",
       "      <td>POINT (-73.96096 40.81878)</td>\n",
       "    </tr>\n",
       "    <tr>\n",
       "      <th>1</th>\n",
       "      <td>VTS</td>\n",
       "      <td>2014-11-01 00:28:00</td>\n",
       "      <td>2014-11-01 01:00:00</td>\n",
       "      <td>5</td>\n",
       "      <td>4.67</td>\n",
       "      <td>-73.990148</td>\n",
       "      <td>40.729315</td>\n",
       "      <td>1</td>\n",
       "      <td>NaN</td>\n",
       "      <td>-73.954933</td>\n",
       "      <td>40.769335</td>\n",
       "      <td>CRD</td>\n",
       "      <td>23.5</td>\n",
       "      <td>0.5</td>\n",
       "      <td>0.5</td>\n",
       "      <td>6.00</td>\n",
       "      <td>0.0</td>\n",
       "      <td>30.50</td>\n",
       "      <td>POINT (-73.95493299999998 40.769335)</td>\n",
       "      <td>POINT (-73.990148 40.729315)</td>\n",
       "    </tr>\n",
       "    <tr>\n",
       "      <th>2</th>\n",
       "      <td>VTS</td>\n",
       "      <td>2014-11-01 00:39:00</td>\n",
       "      <td>2014-11-01 01:00:00</td>\n",
       "      <td>2</td>\n",
       "      <td>4.52</td>\n",
       "      <td>-73.980122</td>\n",
       "      <td>40.742847</td>\n",
       "      <td>1</td>\n",
       "      <td>NaN</td>\n",
       "      <td>-73.977007</td>\n",
       "      <td>40.784257</td>\n",
       "      <td>CRD</td>\n",
       "      <td>17.0</td>\n",
       "      <td>0.5</td>\n",
       "      <td>0.5</td>\n",
       "      <td>4.38</td>\n",
       "      <td>0.0</td>\n",
       "      <td>22.38</td>\n",
       "      <td>POINT (-73.977007 40.784257)</td>\n",
       "      <td>POINT (-73.98012199999998 40.742847)</td>\n",
       "    </tr>\n",
       "  </tbody>\n",
       "</table>\n",
       "</div>"
      ],
      "text/plain": [
       "  vendor_id      pickup_datetime     dropoff_datetime   passenger_count  \\\n",
       "0       VTS  2014-11-01 00:47:00  2014-11-01 01:00:00                 5   \n",
       "1       VTS  2014-11-01 00:28:00  2014-11-01 01:00:00                 5   \n",
       "2       VTS  2014-11-01 00:39:00  2014-11-01 01:00:00                 2   \n",
       "\n",
       "    trip_distance   pickup_longitude   pickup_latitude   rate_code  \\\n",
       "0            2.71         -73.960960         40.818780           1   \n",
       "1            4.67         -73.990148         40.729315           1   \n",
       "2            4.52         -73.980122         40.742847           1   \n",
       "\n",
       "   store_and_fwd_flag   dropoff_longitude   dropoff_latitude  payment_type  \\\n",
       "0                 NaN          -73.923620          40.808400           CRD   \n",
       "1                 NaN          -73.954933          40.769335           CRD   \n",
       "2                 NaN          -73.977007          40.784257           CRD   \n",
       "\n",
       "    fare_amount   surcharge   mta_tax   tip_amount   tolls_amount  \\\n",
       "0          11.5         0.5       0.5         2.40            0.0   \n",
       "1          23.5         0.5       0.5         6.00            0.0   \n",
       "2          17.0         0.5       0.5         4.38            0.0   \n",
       "\n",
       "    total_amount                      dropoff_geometry  \\\n",
       "0          14.90             POINT (-73.92362 40.8084)   \n",
       "1          30.50  POINT (-73.95493299999998 40.769335)   \n",
       "2          22.38          POINT (-73.977007 40.784257)   \n",
       "\n",
       "                        pickup_geometry  \n",
       "0            POINT (-73.96096 40.81878)  \n",
       "1          POINT (-73.990148 40.729315)  \n",
       "2  POINT (-73.98012199999998 40.742847)  "
      ]
     },
     "execution_count": 9,
     "metadata": {},
     "output_type": "execute_result"
    }
   ],
   "source": [
    "df.head(3)"
   ]
  },
  {
   "cell_type": "code",
   "execution_count": 10,
   "id": "856b94cf",
   "metadata": {
    "scrolled": false
   },
   "outputs": [],
   "source": [
    "df2_start=df[[' passenger_count',' trip_distance',' fare_amount',' mta_tax',' tip_amount',' tolls_amount','pickup_geometry']]"
   ]
  },
  {
   "cell_type": "code",
   "execution_count": 11,
   "id": "4c35b8b5",
   "metadata": {},
   "outputs": [],
   "source": [
    "df2_end=df[['dropoff_geometry']]"
   ]
  },
  {
   "cell_type": "code",
   "execution_count": 12,
   "id": "1ff0d0d1",
   "metadata": {},
   "outputs": [
    {
     "name": "stdout",
     "output_type": "stream",
     "text": [
      "--- 106.86182284355164 seconds ---\n"
     ]
    },
    {
     "data": {
      "text/html": [
       "\n",
       "                <audio  controls=\"controls\" autoplay=\"autoplay\">\n",
       "                    <source src=\"../../Data/Wow.mp3\" type=\"audio/mpeg\" />\n",
       "                    Your browser does not support the audio element.\n",
       "                </audio>\n",
       "              "
      ],
      "text/plain": [
       "<IPython.lib.display.Audio object>"
      ]
     },
     "execution_count": 12,
     "metadata": {},
     "output_type": "execute_result"
    }
   ],
   "source": [
    "start_time = time.time()\n",
    "df2_start=gpd.GeoDataFrame(df2_start,\n",
    "                     crs=map.crs,\n",
    "                     geometry=df2_start['pickup_geometry'])\n",
    "print(\"--- %s seconds ---\" % (time.time() - start_time))\n",
    "finished"
   ]
  },
  {
   "cell_type": "code",
   "execution_count": 13,
   "id": "94536412",
   "metadata": {},
   "outputs": [
    {
     "name": "stdout",
     "output_type": "stream",
     "text": [
      "--- 106.98476386070251 seconds ---\n"
     ]
    },
    {
     "data": {
      "text/html": [
       "\n",
       "                <audio  controls=\"controls\" autoplay=\"autoplay\">\n",
       "                    <source src=\"../../Data/Wow.mp3\" type=\"audio/mpeg\" />\n",
       "                    Your browser does not support the audio element.\n",
       "                </audio>\n",
       "              "
      ],
      "text/plain": [
       "<IPython.lib.display.Audio object>"
      ]
     },
     "execution_count": 13,
     "metadata": {},
     "output_type": "execute_result"
    }
   ],
   "source": [
    "start_time = time.time()\n",
    "df2_end=gpd.GeoDataFrame(df2_end,\n",
    "                     crs=map.crs,\n",
    "                     geometry=df2_end['dropoff_geometry'])\n",
    "print(\"--- %s seconds ---\" % (time.time() - start_time))\n",
    "finished"
   ]
  },
  {
   "cell_type": "code",
   "execution_count": 14,
   "id": "64ab4ade",
   "metadata": {},
   "outputs": [
    {
     "name": "stdout",
     "output_type": "stream",
     "text": [
      "--- 1064.4458286762238 seconds ---\n"
     ]
    },
    {
     "data": {
      "text/html": [
       "\n",
       "                <audio  controls=\"controls\" autoplay=\"autoplay\">\n",
       "                    <source src=\"../../Data/Wow.mp3\" type=\"audio/mpeg\" />\n",
       "                    Your browser does not support the audio element.\n",
       "                </audio>\n",
       "              "
      ],
      "text/plain": [
       "<IPython.lib.display.Audio object>"
      ]
     },
     "execution_count": 14,
     "metadata": {},
     "output_type": "execute_result"
    }
   ],
   "source": [
    "start_time = time.time()\n",
    "\n",
    "geo_processing_start = gpd.sjoin(df2_start, map, op = 'within')\n",
    "\n",
    "print(\"--- %s seconds ---\" % (time.time() - start_time))\n",
    "finished"
   ]
  },
  {
   "cell_type": "code",
   "execution_count": 15,
   "id": "d5bbac3f",
   "metadata": {
    "scrolled": true
   },
   "outputs": [
    {
     "name": "stdout",
     "output_type": "stream",
     "text": [
      "--- 1067.7544889450073 seconds ---\n"
     ]
    },
    {
     "data": {
      "text/html": [
       "\n",
       "                <audio  controls=\"controls\" autoplay=\"autoplay\">\n",
       "                    <source src=\"../../Data/Wow.mp3\" type=\"audio/mpeg\" />\n",
       "                    Your browser does not support the audio element.\n",
       "                </audio>\n",
       "              "
      ],
      "text/plain": [
       "<IPython.lib.display.Audio object>"
      ]
     },
     "execution_count": 15,
     "metadata": {},
     "output_type": "execute_result"
    }
   ],
   "source": [
    "start_time = time.time()\n",
    "\n",
    "geo_processing_end = gpd.sjoin(df2_end, map, op = 'within')\n",
    "\n",
    "print(\"--- %s seconds ---\" % (time.time() - start_time))\n",
    "finished"
   ]
  },
  {
   "cell_type": "code",
   "execution_count": 16,
   "id": "ce922313",
   "metadata": {},
   "outputs": [
    {
     "data": {
      "text/html": [
       "<div>\n",
       "<style scoped>\n",
       "    .dataframe tbody tr th:only-of-type {\n",
       "        vertical-align: middle;\n",
       "    }\n",
       "\n",
       "    .dataframe tbody tr th {\n",
       "        vertical-align: top;\n",
       "    }\n",
       "\n",
       "    .dataframe thead th {\n",
       "        text-align: right;\n",
       "    }\n",
       "</style>\n",
       "<table border=\"1\" class=\"dataframe\">\n",
       "  <thead>\n",
       "    <tr style=\"text-align: right;\">\n",
       "      <th></th>\n",
       "      <th>passenger_count</th>\n",
       "      <th>trip_distance</th>\n",
       "      <th>fare_amount</th>\n",
       "      <th>mta_tax</th>\n",
       "      <th>tip_amount</th>\n",
       "      <th>tolls_amount</th>\n",
       "      <th>pickup_geometry</th>\n",
       "      <th>geometry</th>\n",
       "      <th>index_right</th>\n",
       "      <th>zone</th>\n",
       "      <th>LocationID</th>\n",
       "      <th>borough</th>\n",
       "    </tr>\n",
       "  </thead>\n",
       "  <tbody>\n",
       "    <tr>\n",
       "      <th>0</th>\n",
       "      <td>5</td>\n",
       "      <td>2.71</td>\n",
       "      <td>11.5</td>\n",
       "      <td>0.5</td>\n",
       "      <td>2.40</td>\n",
       "      <td>0.00</td>\n",
       "      <td>POINT (-73.96096 40.81878)</td>\n",
       "      <td>POINT (-73.96096 40.81878)</td>\n",
       "      <td>151</td>\n",
       "      <td>Manhattanville</td>\n",
       "      <td>152</td>\n",
       "      <td>Manhattan</td>\n",
       "    </tr>\n",
       "    <tr>\n",
       "      <th>353</th>\n",
       "      <td>1</td>\n",
       "      <td>3.10</td>\n",
       "      <td>14.5</td>\n",
       "      <td>0.5</td>\n",
       "      <td>0.00</td>\n",
       "      <td>0.00</td>\n",
       "      <td>POINT (-73.95410099999998 40.821604)</td>\n",
       "      <td>POINT (-73.95410 40.82160)</td>\n",
       "      <td>151</td>\n",
       "      <td>Manhattanville</td>\n",
       "      <td>152</td>\n",
       "      <td>Manhattan</td>\n",
       "    </tr>\n",
       "    <tr>\n",
       "      <th>1536</th>\n",
       "      <td>1</td>\n",
       "      <td>7.50</td>\n",
       "      <td>27.0</td>\n",
       "      <td>0.5</td>\n",
       "      <td>5.50</td>\n",
       "      <td>0.00</td>\n",
       "      <td>POINT (-73.95434199999998 40.821317)</td>\n",
       "      <td>POINT (-73.95434 40.82132)</td>\n",
       "      <td>151</td>\n",
       "      <td>Manhattanville</td>\n",
       "      <td>152</td>\n",
       "      <td>Manhattan</td>\n",
       "    </tr>\n",
       "    <tr>\n",
       "      <th>2462</th>\n",
       "      <td>1</td>\n",
       "      <td>18.10</td>\n",
       "      <td>52.0</td>\n",
       "      <td>0.5</td>\n",
       "      <td>5.00</td>\n",
       "      <td>5.33</td>\n",
       "      <td>POINT (-73.954261 40.816034)</td>\n",
       "      <td>POINT (-73.95426 40.81603)</td>\n",
       "      <td>151</td>\n",
       "      <td>Manhattanville</td>\n",
       "      <td>152</td>\n",
       "      <td>Manhattan</td>\n",
       "    </tr>\n",
       "    <tr>\n",
       "      <th>2544</th>\n",
       "      <td>2</td>\n",
       "      <td>5.90</td>\n",
       "      <td>28.0</td>\n",
       "      <td>0.5</td>\n",
       "      <td>8.55</td>\n",
       "      <td>0.00</td>\n",
       "      <td>POINT (-73.95432099999998 40.821409)</td>\n",
       "      <td>POINT (-73.95432 40.82141)</td>\n",
       "      <td>151</td>\n",
       "      <td>Manhattanville</td>\n",
       "      <td>152</td>\n",
       "      <td>Manhattan</td>\n",
       "    </tr>\n",
       "    <tr>\n",
       "      <th>...</th>\n",
       "      <td>...</td>\n",
       "      <td>...</td>\n",
       "      <td>...</td>\n",
       "      <td>...</td>\n",
       "      <td>...</td>\n",
       "      <td>...</td>\n",
       "      <td>...</td>\n",
       "      <td>...</td>\n",
       "      <td>...</td>\n",
       "      <td>...</td>\n",
       "      <td>...</td>\n",
       "      <td>...</td>\n",
       "    </tr>\n",
       "    <tr>\n",
       "      <th>9755358</th>\n",
       "      <td>1</td>\n",
       "      <td>1.84</td>\n",
       "      <td>7.5</td>\n",
       "      <td>0.5</td>\n",
       "      <td>1.60</td>\n",
       "      <td>0.00</td>\n",
       "      <td>POINT (-74.140895 40.632907)</td>\n",
       "      <td>POINT (-74.14090 40.63291)</td>\n",
       "      <td>186</td>\n",
       "      <td>Port Richmond</td>\n",
       "      <td>187</td>\n",
       "      <td>Staten Island</td>\n",
       "    </tr>\n",
       "    <tr>\n",
       "      <th>6669122</th>\n",
       "      <td>1</td>\n",
       "      <td>0.00</td>\n",
       "      <td>8.0</td>\n",
       "      <td>0.0</td>\n",
       "      <td>0.00</td>\n",
       "      <td>0.00</td>\n",
       "      <td>POINT (-73.899665 40.838192)</td>\n",
       "      <td>POINT (-73.89966 40.83819)</td>\n",
       "      <td>58</td>\n",
       "      <td>Crotona Park</td>\n",
       "      <td>59</td>\n",
       "      <td>Bronx</td>\n",
       "    </tr>\n",
       "    <tr>\n",
       "      <th>11267783</th>\n",
       "      <td>1</td>\n",
       "      <td>8.30</td>\n",
       "      <td>24.5</td>\n",
       "      <td>0.5</td>\n",
       "      <td>3.50</td>\n",
       "      <td>5.33</td>\n",
       "      <td>POINT (-73.895583 40.837013)</td>\n",
       "      <td>POINT (-73.89558 40.83701)</td>\n",
       "      <td>58</td>\n",
       "      <td>Crotona Park</td>\n",
       "      <td>59</td>\n",
       "      <td>Bronx</td>\n",
       "    </tr>\n",
       "    <tr>\n",
       "      <th>10183868</th>\n",
       "      <td>1</td>\n",
       "      <td>5.50</td>\n",
       "      <td>18.5</td>\n",
       "      <td>0.5</td>\n",
       "      <td>3.90</td>\n",
       "      <td>0.00</td>\n",
       "      <td>POINT (-74.139792 40.548129)</td>\n",
       "      <td>POINT (-74.13979 40.54813)</td>\n",
       "      <td>108</td>\n",
       "      <td>Great Kills</td>\n",
       "      <td>109</td>\n",
       "      <td>Staten Island</td>\n",
       "    </tr>\n",
       "    <tr>\n",
       "      <th>10465509</th>\n",
       "      <td>1</td>\n",
       "      <td>1.10</td>\n",
       "      <td>6.5</td>\n",
       "      <td>0.5</td>\n",
       "      <td>1.75</td>\n",
       "      <td>0.00</td>\n",
       "      <td>POINT (-74.15276299999998 40.557495)</td>\n",
       "      <td>POINT (-74.15276 40.55750)</td>\n",
       "      <td>108</td>\n",
       "      <td>Great Kills</td>\n",
       "      <td>109</td>\n",
       "      <td>Staten Island</td>\n",
       "    </tr>\n",
       "  </tbody>\n",
       "</table>\n",
       "<p>12976485 rows × 12 columns</p>\n",
       "</div>"
      ],
      "text/plain": [
       "           passenger_count   trip_distance   fare_amount   mta_tax  \\\n",
       "0                        5            2.71          11.5       0.5   \n",
       "353                      1            3.10          14.5       0.5   \n",
       "1536                     1            7.50          27.0       0.5   \n",
       "2462                     1           18.10          52.0       0.5   \n",
       "2544                     2            5.90          28.0       0.5   \n",
       "...                    ...             ...           ...       ...   \n",
       "9755358                  1            1.84           7.5       0.5   \n",
       "6669122                  1            0.00           8.0       0.0   \n",
       "11267783                 1            8.30          24.5       0.5   \n",
       "10183868                 1            5.50          18.5       0.5   \n",
       "10465509                 1            1.10           6.5       0.5   \n",
       "\n",
       "           tip_amount   tolls_amount                       pickup_geometry  \\\n",
       "0                2.40           0.00            POINT (-73.96096 40.81878)   \n",
       "353              0.00           0.00  POINT (-73.95410099999998 40.821604)   \n",
       "1536             5.50           0.00  POINT (-73.95434199999998 40.821317)   \n",
       "2462             5.00           5.33          POINT (-73.954261 40.816034)   \n",
       "2544             8.55           0.00  POINT (-73.95432099999998 40.821409)   \n",
       "...               ...            ...                                   ...   \n",
       "9755358          1.60           0.00          POINT (-74.140895 40.632907)   \n",
       "6669122          0.00           0.00          POINT (-73.899665 40.838192)   \n",
       "11267783         3.50           5.33          POINT (-73.895583 40.837013)   \n",
       "10183868         3.90           0.00          POINT (-74.139792 40.548129)   \n",
       "10465509         1.75           0.00  POINT (-74.15276299999998 40.557495)   \n",
       "\n",
       "                            geometry  index_right            zone  LocationID  \\\n",
       "0         POINT (-73.96096 40.81878)          151  Manhattanville         152   \n",
       "353       POINT (-73.95410 40.82160)          151  Manhattanville         152   \n",
       "1536      POINT (-73.95434 40.82132)          151  Manhattanville         152   \n",
       "2462      POINT (-73.95426 40.81603)          151  Manhattanville         152   \n",
       "2544      POINT (-73.95432 40.82141)          151  Manhattanville         152   \n",
       "...                              ...          ...             ...         ...   \n",
       "9755358   POINT (-74.14090 40.63291)          186   Port Richmond         187   \n",
       "6669122   POINT (-73.89966 40.83819)           58    Crotona Park          59   \n",
       "11267783  POINT (-73.89558 40.83701)           58    Crotona Park          59   \n",
       "10183868  POINT (-74.13979 40.54813)          108     Great Kills         109   \n",
       "10465509  POINT (-74.15276 40.55750)          108     Great Kills         109   \n",
       "\n",
       "                borough  \n",
       "0             Manhattan  \n",
       "353           Manhattan  \n",
       "1536          Manhattan  \n",
       "2462          Manhattan  \n",
       "2544          Manhattan  \n",
       "...                 ...  \n",
       "9755358   Staten Island  \n",
       "6669122           Bronx  \n",
       "11267783          Bronx  \n",
       "10183868  Staten Island  \n",
       "10465509  Staten Island  \n",
       "\n",
       "[12976485 rows x 12 columns]"
      ]
     },
     "execution_count": 16,
     "metadata": {},
     "output_type": "execute_result"
    }
   ],
   "source": [
    "geo_processing_start"
   ]
  },
  {
   "cell_type": "code",
   "execution_count": 17,
   "id": "85d74cbb",
   "metadata": {},
   "outputs": [],
   "source": [
    "group_start = geo_processing_start.groupby(['LocationID']).describe()"
   ]
  },
  {
   "cell_type": "code",
   "execution_count": 18,
   "id": "7590e530",
   "metadata": {},
   "outputs": [],
   "source": [
    "group_start.columns = ['_'.join(col) for col in group_start.columns.values]"
   ]
  },
  {
   "cell_type": "markdown",
   "id": "027bebf6",
   "metadata": {},
   "source": [
    "group_start.to_csv('../../Data/yellow_tripdata_2014-2-start-processed.csv')"
   ]
  },
  {
   "cell_type": "code",
   "execution_count": 19,
   "id": "a80185ce",
   "metadata": {},
   "outputs": [],
   "source": [
    "group_end = geo_processing_end.value_counts(['LocationID'])"
   ]
  },
  {
   "cell_type": "code",
   "execution_count": 20,
   "id": "8fba6ba2",
   "metadata": {},
   "outputs": [],
   "source": [
    "group_end = pd.DataFrame(group_end,columns=['dropoff_count'])"
   ]
  },
  {
   "cell_type": "markdown",
   "id": "34aeb7c8",
   "metadata": {},
   "source": [
    "group_end.to_csv('../../Data/yellow_tripdata_2014-2-end-processed.csv')"
   ]
  },
  {
   "cell_type": "code",
   "execution_count": 21,
   "id": "dc648f49",
   "metadata": {},
   "outputs": [],
   "source": [
    "merge=group_start.merge(group_end, how='left', on='LocationID')"
   ]
  },
  {
   "cell_type": "code",
   "execution_count": 22,
   "id": "57aa47e8",
   "metadata": {},
   "outputs": [
    {
     "data": {
      "text/html": [
       "\n",
       "                <audio  controls=\"controls\" autoplay=\"autoplay\">\n",
       "                    <source src=\"../../Data/Hugo Good Job.mp3\" type=\"audio/mpeg\" />\n",
       "                    Your browser does not support the audio element.\n",
       "                </audio>\n",
       "              "
      ],
      "text/plain": [
       "<IPython.lib.display.Audio object>"
      ]
     },
     "execution_count": 22,
     "metadata": {},
     "output_type": "execute_result"
    }
   ],
   "source": [
    "#REMEMBER TO RENAME CSV BEFORE START\n",
    "merge.to_csv('../../Data/yellow_tripdata_2014-11-processed.csv')\n",
    "complete"
   ]
  },
  {
   "cell_type": "code",
   "execution_count": 23,
   "id": "7682f5f4",
   "metadata": {},
   "outputs": [
    {
     "name": "stdout",
     "output_type": "stream",
     "text": [
      "--- 4009.822827577591 seconds ---\n"
     ]
    }
   ],
   "source": [
    "print(\"--- %s seconds ---\" % (time.time() - full_time))"
   ]
  },
  {
   "cell_type": "code",
   "execution_count": null,
   "id": "f851a99e",
   "metadata": {},
   "outputs": [],
   "source": []
  }
 ],
 "metadata": {
  "kernelspec": {
   "display_name": "Python 3 (ipykernel)",
   "language": "python",
   "name": "python3"
  },
  "language_info": {
   "codemirror_mode": {
    "name": "ipython",
    "version": 3
   },
   "file_extension": ".py",
   "mimetype": "text/x-python",
   "name": "python",
   "nbconvert_exporter": "python",
   "pygments_lexer": "ipython3",
   "version": "3.8.5"
  }
 },
 "nbformat": 4,
 "nbformat_minor": 5
}
