{
 "cells": [
  {
   "cell_type": "code",
   "execution_count": 1,
   "id": "ff633cd3",
   "metadata": {},
   "outputs": [],
   "source": [
    "from shapely.geometry import Point\n",
    "import pandas as pd\n",
    "import geopandas as gpd\n",
    "import matplotlib.pyplot as plt\n",
    "import folium\n",
    "from folium.plugins import MarkerCluster\n",
    "from folium.plugins import FastMarkerCluster\n",
    "import xlrd\n",
    "import time\n",
    "from IPython.display import Audio"
   ]
  },
  {
   "cell_type": "code",
   "execution_count": 2,
   "id": "92ab8cda",
   "metadata": {},
   "outputs": [],
   "source": [
    "#full runtime indicator start\n",
    "full_time=time.time()"
   ]
  },
  {
   "cell_type": "code",
   "execution_count": 3,
   "id": "d935c92e",
   "metadata": {},
   "outputs": [],
   "source": [
    "#finish indicator\n",
    "wow = '../../Data/Wow.mp3'\n",
    "finished=Audio(url = wow, autoplay = True) "
   ]
  },
  {
   "cell_type": "code",
   "execution_count": 4,
   "id": "8d9b03ba",
   "metadata": {},
   "outputs": [],
   "source": [
    "#notebook complete indicator\n",
    "notebook = '../../Data/Hugo Good Job.mp3'\n",
    "complete=Audio(url = notebook, autoplay = True)"
   ]
  },
  {
   "cell_type": "code",
   "execution_count": 5,
   "id": "bdee617c",
   "metadata": {},
   "outputs": [
    {
     "data": {
      "text/html": [
       "\n",
       "                <audio  controls=\"controls\" autoplay=\"autoplay\">\n",
       "                    <source src=\"../../Data/Hugo Good Job.mp3\" type=\"audio/mpeg\" />\n",
       "                    Your browser does not support the audio element.\n",
       "                </audio>\n",
       "              "
      ],
      "text/plain": [
       "<IPython.lib.display.Audio object>"
      ]
     },
     "execution_count": 5,
     "metadata": {},
     "output_type": "execute_result"
    }
   ],
   "source": [
    "map = gpd.read_file('../../Data/Taxi Zones Shape/taxi_zones.shp').to_crs('epsg:4326')\n",
    "map = map.drop(['Shape_Area', 'Shape_Leng', 'OBJECTID'], axis=1)\n",
    "\n",
    "\n",
    "complete"
   ]
  },
  {
   "cell_type": "code",
   "execution_count": 6,
   "id": "ca220d6b",
   "metadata": {},
   "outputs": [
    {
     "name": "stderr",
     "output_type": "stream",
     "text": [
      "C:\\Users\\Bro Bro\\.conda\\envs\\geospatial\\lib\\site-packages\\IPython\\core\\interactiveshell.py:3441: DtypeWarning: Columns (8) have mixed types.Specify dtype option on import or set low_memory=False.\n",
      "  exec(code_obj, self.user_global_ns, self.user_ns)\n"
     ]
    }
   ],
   "source": [
    "df=pd.read_csv('../../Data/Taxi Data/yellow_14/yellow_tripdata_2014-02.csv')"
   ]
  },
  {
   "cell_type": "markdown",
   "id": "ec4ca319",
   "metadata": {},
   "source": [
    "df.info()"
   ]
  },
  {
   "cell_type": "markdown",
   "id": "59e78d4d",
   "metadata": {},
   "source": [
    "df2=df.head(100)"
   ]
  },
  {
   "cell_type": "markdown",
   "id": "1df5ff2f",
   "metadata": {},
   "source": [
    "df2.columns"
   ]
  },
  {
   "cell_type": "code",
   "execution_count": 7,
   "id": "235b80e6",
   "metadata": {
    "scrolled": true
   },
   "outputs": [
    {
     "name": "stdout",
     "output_type": "stream",
     "text": [
      "--- 819.8717083930969 seconds ---\n"
     ]
    },
    {
     "data": {
      "text/html": [
       "\n",
       "                <audio  controls=\"controls\" autoplay=\"autoplay\">\n",
       "                    <source src=\"../../Data/Wow.mp3\" type=\"audio/mpeg\" />\n",
       "                    Your browser does not support the audio element.\n",
       "                </audio>\n",
       "              "
      ],
      "text/plain": [
       "<IPython.lib.display.Audio object>"
      ]
     },
     "execution_count": 7,
     "metadata": {},
     "output_type": "execute_result"
    }
   ],
   "source": [
    "start_time = time.time()\n",
    "\n",
    "df['dropoff_geometry'] = df.apply(lambda x: Point((float(x[' dropoff_longitude']), \n",
    "                                             float(x[' dropoff_latitude']))), \n",
    "                                             axis=1)\n",
    "\n",
    "print(\"--- %s seconds ---\" % (time.time() - start_time))\n",
    "finished"
   ]
  },
  {
   "cell_type": "code",
   "execution_count": 8,
   "id": "402b52c8",
   "metadata": {},
   "outputs": [
    {
     "name": "stdout",
     "output_type": "stream",
     "text": [
      "--- 833.6771290302277 seconds ---\n"
     ]
    },
    {
     "data": {
      "text/html": [
       "\n",
       "                <audio  controls=\"controls\" autoplay=\"autoplay\">\n",
       "                    <source src=\"../../Data/Wow.mp3\" type=\"audio/mpeg\" />\n",
       "                    Your browser does not support the audio element.\n",
       "                </audio>\n",
       "              "
      ],
      "text/plain": [
       "<IPython.lib.display.Audio object>"
      ]
     },
     "execution_count": 8,
     "metadata": {},
     "output_type": "execute_result"
    }
   ],
   "source": [
    "start_time = time.time()\n",
    "\n",
    "df['pickup_geometry'] = df.apply(lambda x: Point((float(x[' pickup_longitude']), \n",
    "                                             float(x[' pickup_latitude']))), \n",
    "                                             axis=1)\n",
    "\n",
    "print(\"--- %s seconds ---\" % (time.time() - start_time))\n",
    "finished"
   ]
  },
  {
   "cell_type": "code",
   "execution_count": 9,
   "id": "013ce29f",
   "metadata": {},
   "outputs": [
    {
     "data": {
      "text/html": [
       "<div>\n",
       "<style scoped>\n",
       "    .dataframe tbody tr th:only-of-type {\n",
       "        vertical-align: middle;\n",
       "    }\n",
       "\n",
       "    .dataframe tbody tr th {\n",
       "        vertical-align: top;\n",
       "    }\n",
       "\n",
       "    .dataframe thead th {\n",
       "        text-align: right;\n",
       "    }\n",
       "</style>\n",
       "<table border=\"1\" class=\"dataframe\">\n",
       "  <thead>\n",
       "    <tr style=\"text-align: right;\">\n",
       "      <th></th>\n",
       "      <th>vendor_id</th>\n",
       "      <th>pickup_datetime</th>\n",
       "      <th>dropoff_datetime</th>\n",
       "      <th>passenger_count</th>\n",
       "      <th>trip_distance</th>\n",
       "      <th>pickup_longitude</th>\n",
       "      <th>pickup_latitude</th>\n",
       "      <th>rate_code</th>\n",
       "      <th>store_and_fwd_flag</th>\n",
       "      <th>dropoff_longitude</th>\n",
       "      <th>dropoff_latitude</th>\n",
       "      <th>payment_type</th>\n",
       "      <th>fare_amount</th>\n",
       "      <th>surcharge</th>\n",
       "      <th>mta_tax</th>\n",
       "      <th>tip_amount</th>\n",
       "      <th>tolls_amount</th>\n",
       "      <th>total_amount</th>\n",
       "      <th>dropoff_geometry</th>\n",
       "      <th>pickup_geometry</th>\n",
       "    </tr>\n",
       "  </thead>\n",
       "  <tbody>\n",
       "    <tr>\n",
       "      <th>0</th>\n",
       "      <td>VTS</td>\n",
       "      <td>2014-02-09 14:51:00</td>\n",
       "      <td>2014-02-09 14:58:00</td>\n",
       "      <td>1</td>\n",
       "      <td>1.06</td>\n",
       "      <td>-73.982370</td>\n",
       "      <td>40.768287</td>\n",
       "      <td>1</td>\n",
       "      <td>NaN</td>\n",
       "      <td>-73.977575</td>\n",
       "      <td>40.758175</td>\n",
       "      <td>CSH</td>\n",
       "      <td>6.5</td>\n",
       "      <td>0.0</td>\n",
       "      <td>0.5</td>\n",
       "      <td>0.0</td>\n",
       "      <td>0.0</td>\n",
       "      <td>7.0</td>\n",
       "      <td>POINT (-73.977575 40.758175)</td>\n",
       "      <td>POINT (-73.98237 40.768287)</td>\n",
       "    </tr>\n",
       "    <tr>\n",
       "      <th>1</th>\n",
       "      <td>VTS</td>\n",
       "      <td>2014-02-06 14:27:00</td>\n",
       "      <td>2014-02-06 14:44:00</td>\n",
       "      <td>2</td>\n",
       "      <td>1.48</td>\n",
       "      <td>-73.983070</td>\n",
       "      <td>40.764430</td>\n",
       "      <td>1</td>\n",
       "      <td>NaN</td>\n",
       "      <td>-73.993750</td>\n",
       "      <td>40.750330</td>\n",
       "      <td>CRD</td>\n",
       "      <td>11.0</td>\n",
       "      <td>0.0</td>\n",
       "      <td>0.5</td>\n",
       "      <td>1.0</td>\n",
       "      <td>0.0</td>\n",
       "      <td>12.5</td>\n",
       "      <td>POINT (-73.99375000000001 40.75033)</td>\n",
       "      <td>POINT (-73.98307 40.76443)</td>\n",
       "    </tr>\n",
       "    <tr>\n",
       "      <th>2</th>\n",
       "      <td>VTS</td>\n",
       "      <td>2014-02-06 14:22:00</td>\n",
       "      <td>2014-02-06 14:45:00</td>\n",
       "      <td>1</td>\n",
       "      <td>2.84</td>\n",
       "      <td>-74.002667</td>\n",
       "      <td>40.723770</td>\n",
       "      <td>1</td>\n",
       "      <td>NaN</td>\n",
       "      <td>-73.982272</td>\n",
       "      <td>40.757965</td>\n",
       "      <td>CRD</td>\n",
       "      <td>15.5</td>\n",
       "      <td>0.0</td>\n",
       "      <td>0.5</td>\n",
       "      <td>3.1</td>\n",
       "      <td>0.0</td>\n",
       "      <td>19.1</td>\n",
       "      <td>POINT (-73.98227199999998 40.757965)</td>\n",
       "      <td>POINT (-74.002667 40.72377)</td>\n",
       "    </tr>\n",
       "  </tbody>\n",
       "</table>\n",
       "</div>"
      ],
      "text/plain": [
       "  vendor_id      pickup_datetime     dropoff_datetime   passenger_count  \\\n",
       "0       VTS  2014-02-09 14:51:00  2014-02-09 14:58:00                 1   \n",
       "1       VTS  2014-02-06 14:27:00  2014-02-06 14:44:00                 2   \n",
       "2       VTS  2014-02-06 14:22:00  2014-02-06 14:45:00                 1   \n",
       "\n",
       "    trip_distance   pickup_longitude   pickup_latitude   rate_code  \\\n",
       "0            1.06         -73.982370         40.768287           1   \n",
       "1            1.48         -73.983070         40.764430           1   \n",
       "2            2.84         -74.002667         40.723770           1   \n",
       "\n",
       "   store_and_fwd_flag   dropoff_longitude   dropoff_latitude  payment_type  \\\n",
       "0                 NaN          -73.977575          40.758175           CSH   \n",
       "1                 NaN          -73.993750          40.750330           CRD   \n",
       "2                 NaN          -73.982272          40.757965           CRD   \n",
       "\n",
       "    fare_amount   surcharge   mta_tax   tip_amount   tolls_amount  \\\n",
       "0           6.5         0.0       0.5          0.0            0.0   \n",
       "1          11.0         0.0       0.5          1.0            0.0   \n",
       "2          15.5         0.0       0.5          3.1            0.0   \n",
       "\n",
       "    total_amount                      dropoff_geometry  \\\n",
       "0            7.0          POINT (-73.977575 40.758175)   \n",
       "1           12.5   POINT (-73.99375000000001 40.75033)   \n",
       "2           19.1  POINT (-73.98227199999998 40.757965)   \n",
       "\n",
       "               pickup_geometry  \n",
       "0  POINT (-73.98237 40.768287)  \n",
       "1   POINT (-73.98307 40.76443)  \n",
       "2  POINT (-74.002667 40.72377)  "
      ]
     },
     "execution_count": 9,
     "metadata": {},
     "output_type": "execute_result"
    }
   ],
   "source": [
    "df.head(3)"
   ]
  },
  {
   "cell_type": "code",
   "execution_count": 10,
   "id": "856b94cf",
   "metadata": {
    "scrolled": false
   },
   "outputs": [],
   "source": [
    "df2_start=df[[' passenger_count',' trip_distance',' fare_amount',' mta_tax',' tip_amount',' tolls_amount','pickup_geometry']]"
   ]
  },
  {
   "cell_type": "code",
   "execution_count": 11,
   "id": "4c35b8b5",
   "metadata": {},
   "outputs": [],
   "source": [
    "df2_end=df[['dropoff_geometry']]"
   ]
  },
  {
   "cell_type": "code",
   "execution_count": 12,
   "id": "1ff0d0d1",
   "metadata": {},
   "outputs": [
    {
     "name": "stdout",
     "output_type": "stream",
     "text": [
      "--- 113.441153049469 seconds ---\n"
     ]
    },
    {
     "data": {
      "text/html": [
       "\n",
       "                <audio  controls=\"controls\" autoplay=\"autoplay\">\n",
       "                    <source src=\"../../Data/Wow.mp3\" type=\"audio/mpeg\" />\n",
       "                    Your browser does not support the audio element.\n",
       "                </audio>\n",
       "              "
      ],
      "text/plain": [
       "<IPython.lib.display.Audio object>"
      ]
     },
     "execution_count": 12,
     "metadata": {},
     "output_type": "execute_result"
    }
   ],
   "source": [
    "start_time = time.time()\n",
    "df2_start=gpd.GeoDataFrame(df2_start,\n",
    "                     crs=map.crs,\n",
    "                     geometry=df2_start['pickup_geometry'])\n",
    "print(\"--- %s seconds ---\" % (time.time() - start_time))\n",
    "finished"
   ]
  },
  {
   "cell_type": "code",
   "execution_count": 13,
   "id": "94536412",
   "metadata": {},
   "outputs": [
    {
     "name": "stdout",
     "output_type": "stream",
     "text": [
      "--- 112.69771599769592 seconds ---\n"
     ]
    },
    {
     "data": {
      "text/html": [
       "\n",
       "                <audio  controls=\"controls\" autoplay=\"autoplay\">\n",
       "                    <source src=\"../../Data/Wow.mp3\" type=\"audio/mpeg\" />\n",
       "                    Your browser does not support the audio element.\n",
       "                </audio>\n",
       "              "
      ],
      "text/plain": [
       "<IPython.lib.display.Audio object>"
      ]
     },
     "execution_count": 13,
     "metadata": {},
     "output_type": "execute_result"
    }
   ],
   "source": [
    "start_time = time.time()\n",
    "df2_end=gpd.GeoDataFrame(df2_end,\n",
    "                     crs=map.crs,\n",
    "                     geometry=df2_end['dropoff_geometry'])\n",
    "print(\"--- %s seconds ---\" % (time.time() - start_time))\n",
    "finished"
   ]
  },
  {
   "cell_type": "code",
   "execution_count": null,
   "id": "64ab4ade",
   "metadata": {},
   "outputs": [],
   "source": [
    "start_time = time.time()\n",
    "\n",
    "geo_processing_start = gpd.sjoin(df2_start, map, op = 'within')\n",
    "\n",
    "print(\"--- %s seconds ---\" % (time.time() - start_time))\n",
    "finished"
   ]
  },
  {
   "cell_type": "code",
   "execution_count": null,
   "id": "d5bbac3f",
   "metadata": {
    "scrolled": true
   },
   "outputs": [],
   "source": [
    "start_time = time.time()\n",
    "\n",
    "geo_processing_end = gpd.sjoin(df2_end, map, op = 'within')\n",
    "\n",
    "print(\"--- %s seconds ---\" % (time.time() - start_time))\n",
    "finished"
   ]
  },
  {
   "cell_type": "code",
   "execution_count": null,
   "id": "9899717f",
   "metadata": {},
   "outputs": [],
   "source": [
    "geo_processing_start"
   ]
  },
  {
   "cell_type": "code",
   "execution_count": null,
   "id": "85d74cbb",
   "metadata": {},
   "outputs": [],
   "source": [
    "group_start = geo_processing_start.groupby(['LocationID']).describe()"
   ]
  },
  {
   "cell_type": "code",
   "execution_count": null,
   "id": "7590e530",
   "metadata": {},
   "outputs": [],
   "source": [
    "group_start.columns = ['_'.join(col) for col in group_start.columns.values]"
   ]
  },
  {
   "cell_type": "markdown",
   "id": "027bebf6",
   "metadata": {},
   "source": [
    "group_start.to_csv('../../Data/yellow_tripdata_2014-2-start-processed.csv')"
   ]
  },
  {
   "cell_type": "code",
   "execution_count": null,
   "id": "a80185ce",
   "metadata": {},
   "outputs": [],
   "source": [
    "group_end = geo_processing_end.value_counts(['LocationID'])"
   ]
  },
  {
   "cell_type": "code",
   "execution_count": null,
   "id": "8fba6ba2",
   "metadata": {},
   "outputs": [],
   "source": [
    "group_end = pd.DataFrame(group_end,columns=['dropoff_count'])"
   ]
  },
  {
   "cell_type": "markdown",
   "id": "34aeb7c8",
   "metadata": {},
   "source": [
    "group_end.to_csv('../../Data/yellow_tripdata_2014-2-end-processed.csv')"
   ]
  },
  {
   "cell_type": "code",
   "execution_count": null,
   "id": "dc648f49",
   "metadata": {},
   "outputs": [],
   "source": [
    "merge=group_start.merge(group_end, how='left', on='LocationID')"
   ]
  },
  {
   "cell_type": "code",
   "execution_count": null,
   "id": "57aa47e8",
   "metadata": {},
   "outputs": [],
   "source": [
    "#REMEMBER TO RENAME CSV BEFORE START\n",
    "merge.to_csv('../../Data/yellow_tripdata_2014-02-processed.csv')\n",
    "complete"
   ]
  },
  {
   "cell_type": "code",
   "execution_count": null,
   "id": "7682f5f4",
   "metadata": {},
   "outputs": [],
   "source": [
    "print(\"--- %s seconds ---\" % (time.time() - full_time))"
   ]
  },
  {
   "cell_type": "code",
   "execution_count": null,
   "id": "e4c91762",
   "metadata": {},
   "outputs": [],
   "source": []
  }
 ],
 "metadata": {
  "kernelspec": {
   "display_name": "Python 3 (ipykernel)",
   "language": "python",
   "name": "python3"
  },
  "language_info": {
   "codemirror_mode": {
    "name": "ipython",
    "version": 3
   },
   "file_extension": ".py",
   "mimetype": "text/x-python",
   "name": "python",
   "nbconvert_exporter": "python",
   "pygments_lexer": "ipython3",
   "version": "3.8.5"
  }
 },
 "nbformat": 4,
 "nbformat_minor": 5
}
